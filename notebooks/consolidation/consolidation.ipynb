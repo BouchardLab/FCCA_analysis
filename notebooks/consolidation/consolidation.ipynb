{
 "cells": [
  {
   "cell_type": "code",
   "execution_count": 1,
   "metadata": {},
   "outputs": [],
   "source": [
    "%load_ext autoreload\n",
    "%autoreload 2"
   ]
  },
  {
   "cell_type": "code",
   "execution_count": 2,
   "metadata": {},
   "outputs": [],
   "source": [
    "import pickle\n",
    "import pandas as pd\n",
    "import glob\n",
    "import numpy as np\n",
    "from deepdiff import DeepDiff"
   ]
  },
  {
   "cell_type": "markdown",
   "metadata": {},
   "source": [
    "### Past decoding"
   ]
  },
  {
   "cell_type": "code",
   "execution_count": 5,
   "metadata": {},
   "outputs": [],
   "source": [
    "peanut_decoding_files = glob.glob('/mnt/Secondary/data/peanut_decoding01/peanut_decoding01_*.dat')"
   ]
  },
  {
   "cell_type": "code",
   "execution_count": 8,
   "metadata": {},
   "outputs": [],
   "source": [
    "result_list = []\n",
    "for file in peanut_decoding_files:\n",
    "    with open(file, 'rb') as f:\n",
    "        result = pickle.load(f)\n",
    "    result_list.extend(result)"
   ]
  },
  {
   "cell_type": "code",
   "execution_count": 9,
   "metadata": {},
   "outputs": [],
   "source": [
    "peanut_decoding_df = pd.DataFrame(result_list)"
   ]
  },
  {
   "cell_type": "code",
   "execution_count": 12,
   "metadata": {},
   "outputs": [],
   "source": [
    "with open('/home/akumar/nse/neural_control/data/peanut_decoding_df.dat', 'wb') as f:\n",
    "    f.write(pickle.dumps(peanut_decoding_df))"
   ]
  },
  {
   "cell_type": "code",
   "execution_count": 13,
   "metadata": {},
   "outputs": [],
   "source": [
    "sabes_decoding_files = glob.glob('/mnt/Secondary/data/sabes_decoding01/sabes_decoding01_*.dat')"
   ]
  },
  {
   "cell_type": "code",
   "execution_count": 18,
   "metadata": {},
   "outputs": [],
   "source": [
    "result_list = []\n",
    "for file in sabes_decoding_files:\n",
    "    with open(file, 'rb') as f:\n",
    "        result = pickle.load(f)\n",
    "    result_list.extend(result)"
   ]
  },
  {
   "cell_type": "code",
   "execution_count": 19,
   "metadata": {},
   "outputs": [],
   "source": [
    "sabes_decoding_df = pd.DataFrame(result_list)"
   ]
  },
  {
   "cell_type": "code",
   "execution_count": 21,
   "metadata": {},
   "outputs": [],
   "source": [
    "with open('/home/akumar/nse/neural_control/data/sabes_decoding_df.dat', 'wb') as f:\n",
    "    f.write(pickle.dumps(sabes_decoding_df))"
   ]
  },
  {
   "cell_type": "markdown",
   "metadata": {},
   "source": [
    "### Conslidating 4/27"
   ]
  },
  {
   "cell_type": "code",
   "execution_count": 5,
   "metadata": {},
   "outputs": [],
   "source": [
    "indyparametric_files = glob.glob('/mnt/Secondary/data/indy_dimreduc_parametric/indy_dimreduc_parametric_*.dat')"
   ]
  },
  {
   "cell_type": "code",
   "execution_count": 8,
   "metadata": {},
   "outputs": [],
   "source": [
    "result_list = []\n",
    "for file in indyparametric_files:\n",
    "    with open(file, 'rb') as f:\n",
    "        result = pickle.load(f)\n",
    "    result_list.extend(result)\n",
    "dimreduc_df = pd.DataFrame(result_list)"
   ]
  },
  {
   "cell_type": "code",
   "execution_count": 9,
   "metadata": {},
   "outputs": [],
   "source": [
    "with open('/home/akumar/nse/neural_control/data/indy_parametric_dimreduc_df.dat', 'wb') as f:\n",
    "    f.write(pickle.dumps(dimreduc_df))"
   ]
  },
  {
   "cell_type": "code",
   "execution_count": 15,
   "metadata": {},
   "outputs": [],
   "source": [
    "dimreduc_files = glob.glob('/mnt/Secondary/data/indy_trialized_dimreduc/indy_trialized_dimreduc_*.dat')"
   ]
  },
  {
   "cell_type": "code",
   "execution_count": 17,
   "metadata": {},
   "outputs": [],
   "source": [
    "result_list = []\n",
    "for file in dimreduc_files:\n",
    "    with open(file, 'rb') as f:\n",
    "        result = pickle.load(f)\n",
    "    result_list.extend(result)\n",
    "dimreduc_df = pd.DataFrame(result_list)"
   ]
  },
  {
   "cell_type": "code",
   "execution_count": 18,
   "metadata": {},
   "outputs": [],
   "source": [
    "with open('/home/akumar/nse/neural_control/data/indy_trialized_dimreduc_df.dat', 'wb') as f:\n",
    "    f.write(pickle.dumps(dimreduc_df))"
   ]
  },
  {
   "cell_type": "code",
   "execution_count": 3,
   "metadata": {},
   "outputs": [],
   "source": [
    "decoding_files = glob.glob('/mnt/Secondary/data/peanut_decoding_fcca/peanut_decoding_fcca_*.dat')"
   ]
  },
  {
   "cell_type": "code",
   "execution_count": 5,
   "metadata": {},
   "outputs": [],
   "source": [
    "result_list = []\n",
    "for file in decoding_files:\n",
    "    with open(file, 'rb') as f:\n",
    "        result = pickle.load(f)\n",
    "    result_list.extend(result)\n",
    "decoding_df = pd.DataFrame(result_list)"
   ]
  },
  {
   "cell_type": "code",
   "execution_count": 6,
   "metadata": {},
   "outputs": [],
   "source": [
    "with open('/home/akumar/nse/neural_control/data/peanut_fcca_decoding_df.dat', 'wb') as f:\n",
    "    f.write(pickle.dumps(decoding_df))"
   ]
  },
  {
   "cell_type": "code",
   "execution_count": 3,
   "metadata": {},
   "outputs": [],
   "source": [
    "decoding_files = glob.glob('/mnt/Secondary/data/indydimreducparam_decoding/indydimreducparam_decoding_*.dat')"
   ]
  },
  {
   "cell_type": "code",
   "execution_count": 4,
   "metadata": {},
   "outputs": [],
   "source": [
    "result_list = []\n",
    "\n",
    "\n",
    "result_list = []\n",
    "for file in decoding_files:\n",
    "    with open(file, 'rb') as f:\n",
    "        result = pickle.load(f)\n",
    "    result_list.extend(result)\n",
    "decoding_df = pd.DataFrame(result_list)"
   ]
  },
  {
   "cell_type": "code",
   "execution_count": 5,
   "metadata": {},
   "outputs": [],
   "source": [
    "import hickle"
   ]
  },
  {
   "cell_type": "code",
   "execution_count": 3,
   "metadata": {},
   "outputs": [],
   "source": [
    "argfiles = glob.glob('/mnt/Secondary/data/indydimreducparam_decoding/arg*.dat')"
   ]
  },
  {
   "cell_type": "code",
   "execution_count": 4,
   "metadata": {},
   "outputs": [],
   "source": [
    "loader_args = []\n",
    "for argfile in argfiles:\n",
    "    with open(argfile, 'rb') as f:\n",
    "        args = pickle.load(f)\n",
    "    \n",
    "    # Track down the arg file associated with the dimreduc result\n",
    "    dimreducpath = '/'.join(args['task_args']['dimreduc_file'].split('/')[:-1])\n",
    "    dimreducno = args['task_args']['dimreduc_file'].split('.dat')[0].split('_')[-1]\n",
    "    argfile = '%s/arg%s.dat' % (dimreducpath, dimreducno)    \n",
    "    \n",
    "    with open(argfile, 'rb') as f:\n",
    "        dimreduc_args = pickle.load(f)\n",
    "    \n",
    "    loader_args.append(dimreduc_args['loader_args'])"
   ]
  },
  {
   "cell_type": "code",
   "execution_count": 5,
   "metadata": {},
   "outputs": [],
   "source": [
    "unique_loader_args = []\n",
    "for loader_arg in loader_args:\n",
    "    if not unique_loader_args:\n",
    "        unique_loader_args.append(loader_arg)\n",
    "    else:\n",
    "        diffs = []\n",
    "        for ula in unique_loader_args:\n",
    "            diffs.append(DeepDiff(ula, loader_arg))\n",
    "        \n",
    "        diffs = np.array([len(d) for d in diffs])\n",
    "        if np.all(diffs > 0):\n",
    "            unique_loader_args.append(loader_arg)\n",
    "        "
   ]
  },
  {
   "cell_type": "code",
   "execution_count": 6,
   "metadata": {},
   "outputs": [
    {
     "data": {
      "text/plain": [
       "16"
      ]
     },
     "execution_count": 6,
     "metadata": {},
     "output_type": "execute_result"
    }
   ],
   "source": [
    "len(unique_loader_args)"
   ]
  },
  {
   "cell_type": "code",
   "execution_count": 7,
   "metadata": {},
   "outputs": [],
   "source": [
    "import pdb"
   ]
  },
  {
   "cell_type": "code",
   "execution_count": 8,
   "metadata": {},
   "outputs": [],
   "source": [
    "# Separately agregarate and save for each loader arg\n",
    "for i, ula in enumerate(unique_loader_args):\n",
    "    results = []\n",
    "    for loader_arg, argfile in zip(loader_args, argfiles):\n",
    "        if len(DeepDiff(loader_arg, ula)) == 0:\n",
    "            # Open up the results file\n",
    "            with open(argfile, 'rb') as f:\n",
    "                args = pickle.load(f)\n",
    "\n",
    "            results_file = args['results_file']\n",
    "            with open(results_file, 'rb') as f:\n",
    "                result = pickle.load(f)\n",
    "\n",
    "            results.extend(result)\n",
    "\n",
    "    df = pd.DataFrame(results)\n",
    "    with open('/home/akumar/nse/neural_control/data/indy_parametric_decoding/df%d.dat' % i, 'wb') as f:\n",
    "        f.write(pickle.dumps(df))"
   ]
  },
  {
   "cell_type": "code",
   "execution_count": 3,
   "metadata": {},
   "outputs": [],
   "source": [
    "parametric_decoding_dfs = glob.glob('/home/akumar/nse/neural_control/data/indy_parametric_decoding/df*.dat')"
   ]
  },
  {
   "cell_type": "code",
   "execution_count": 10,
   "metadata": {},
   "outputs": [],
   "source": [
    "with open(parametric_decoding_dfs[0], 'rb') as f:\n",
    "    df = pickle.load(f)\n",
    "\n",
    "for pdf in parametric_decoding_dfs[1:]:\n",
    "    with open(pdf, 'rb') as f:\n",
    "        df_ = pickle.load(f)\n",
    "    df = pd.concat([df, df_])"
   ]
  },
  {
   "cell_type": "code",
   "execution_count": 12,
   "metadata": {},
   "outputs": [
    {
     "data": {
      "text/plain": [
       "dim                                                               10\n",
       "fold_idx                                                           0\n",
       "train_idxs         [11800, 11801, 11802, 11803, 11804, 11805, 118...\n",
       "test_idxs          [0, 1, 2, 3, 4, 5, 6, 7, 8, 9, 10, 11, 12, 13,...\n",
       "dimreduc_method                                                  DCA\n",
       "dimreduc_args                                  {'T': 3, 'n_init': 5}\n",
       "coef               [[-0.02989129865821936, 0.009189640239225123, ...\n",
       "score                                                      67.644525\n",
       "decoder                                                           lr\n",
       "decoder_args       {'trainlag': 0, 'testlag': 0, 'decoding_window...\n",
       "decoder_obj                         LinearRegression(normalize=True)\n",
       "r2                 [0.14737225261022546, 0.23704996645774157, 0.0...\n",
       "Name: 0, dtype: object"
      ]
     },
     "execution_count": 12,
     "metadata": {},
     "output_type": "execute_result"
    }
   ],
   "source": [
    "df.iloc[0]"
   ]
  },
  {
   "cell_type": "code",
   "execution_count": 3,
   "metadata": {},
   "outputs": [],
   "source": [
    "decoding_files = glob.glob('/mnt/Secondary/data/indytrialized_decoding/indytrialized_decoding_*.dat')"
   ]
  },
  {
   "cell_type": "code",
   "execution_count": 4,
   "metadata": {},
   "outputs": [],
   "source": [
    "result_list = []\n",
    "for file in decoding_files:\n",
    "    with open(file, 'rb') as f:\n",
    "        result = pickle.load(f)\n",
    "    result_list.extend(result)\n",
    "decoding_df = pd.DataFrame(result_list)"
   ]
  },
  {
   "cell_type": "code",
   "execution_count": 5,
   "metadata": {},
   "outputs": [],
   "source": [
    "with open('/home/akumar/nse/neural_control/data/indytrialized_decoding_df.dat', 'wb') as f:\n",
    "    f.write(pickle.dumps(decoding_df))"
   ]
  }
 ],
 "metadata": {
  "interpreter": {
   "hash": "c52494c424e88c3f855a8aeb34b231af4706f7aa247f66fb47c890a5ab8814ab"
  },
  "kernelspec": {
   "display_name": "Python 3.7.10 64-bit ('dyn': conda)",
   "language": "python",
   "name": "python3"
  },
  "language_info": {
   "codemirror_mode": {
    "name": "ipython",
    "version": 3
   },
   "file_extension": ".py",
   "mimetype": "text/x-python",
   "name": "python",
   "nbconvert_exporter": "python",
   "pygments_lexer": "ipython3",
   "version": "3.7.10"
  },
  "orig_nbformat": 4
 },
 "nbformat": 4,
 "nbformat_minor": 2
}
