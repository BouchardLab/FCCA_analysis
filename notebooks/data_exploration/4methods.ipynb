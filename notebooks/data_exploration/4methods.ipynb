{
 "cells": [
  {
   "cell_type": "code",
   "execution_count": 1,
   "metadata": {},
   "outputs": [],
   "source": [
    "import numpy as np\n",
    "import pandas as pd\n",
    "from sklearn.decomposition import PCA\n",
    "import matplotlib\n",
    "from matplotlib import pyplot as plt\n",
    "from loaders import load_peanut\n",
    "from loaders import segment_peanut\n",
    "from loaders import location_bin_peanut\n",
    "import dca\n",
    "from dca.dca import DynamicalComponentsAnalysis\n",
    "import kca\n",
    "from kca import KalmanComponentsAnalysis\n",
    "from sklearn.linear_model import LinearRegression\n",
    "from scipy.signal import find_peaks\n"
   ]
  },
  {
   "cell_type": "code",
   "execution_count": 2,
   "metadata": {},
   "outputs": [],
   "source": [
    "def calc_loadings(U, d=1):\n",
    "    # Sum over components\n",
    "    U = np.sum(np.power(np.abs(U), 2), axis=-1)\n",
    "    # Reshape and then sum over neurons\n",
    "    U = np.reshape(U, (d, -1))\n",
    "    loadings = np.sum(U, axis=0)\n",
    "    loadings /= np.max(loadings)\n",
    "    return loadings\n",
    "    \n",
    "def getLoadingsonTransitions(X):\n",
    "    \"\"\"fit DCA/PCA/KCA to each of the trialized transitions\"\"\"\n",
    "    DCAmodel = DynamicalComponentsAnalysis(d=2, T=5)\n",
    "    PCAmodel = PCA(n_components=2)\n",
    "    KCAmodel = KalmanComponentsAnalysis(d=2, T=5)\n",
    "    DCAmodel.fit(X)\n",
    "    KCAmodel.fit(X)\n",
    "    extended = X[0]\n",
    "    for transit in X[1:]:\n",
    "        extended = np.vstack((extended,transit))\n",
    "    PCAmodel.fit(extended)\n",
    "    PCA_loading = calc_loadings(PCAmodel.components_.T) # np.log(calc_loadings(PCAmodel.components_.T))\n",
    "    DCA_loading = calc_loadings(DCAmodel.coef_) #np.log(calc_loadings(DCAmodel.coef_))\n",
    "    KCA_loading = calc_loadings(KCAmodel.coef_)\n",
    "    return PCA_loading, DCA_loading, KCA_loading"
   ]
  },
  {
   "cell_type": "code",
   "execution_count": 3,
   "metadata": {},
   "outputs": [
    {
     "data": {
      "text/plain": [
       "['unit_ids', 'spike_rates', 'behavior', 'behavior_linear', 'time']"
      ]
     },
     "execution_count": 3,
     "metadata": {},
     "output_type": "execute_result"
    }
   ],
   "source": [
    "list(load_peanut('data_dict_peanut_day14.obj', 2, spike_threshold=10, bin_width=25, speed_threshold=0).keys())"
   ]
  },
  {
   "cell_type": "code",
   "execution_count": 4,
   "metadata": {},
   "outputs": [],
   "source": [
    "supervised_df = pd.read_pickle(\"./peanut_segmented_supervised.dat\")"
   ]
  },
  {
   "cell_type": "code",
   "execution_count": 22,
   "metadata": {},
   "outputs": [
    {
     "data": {
      "text/plain": [
       "(54,)"
      ]
     },
     "execution_count": 22,
     "metadata": {},
     "output_type": "execute_result"
    }
   ],
   "source": [
    "#supervised_df.head()"
   ]
  },
  {
   "cell_type": "code",
   "execution_count": 30,
   "metadata": {},
   "outputs": [
    {
     "data": {
      "text/plain": [
       "<Figure size 432x288 with 0 Axes>"
      ]
     },
     "metadata": {},
     "output_type": "display_data"
    }
   ],
   "source": [
    "epochs = [2, 4, 6, 8, 10, 12, 14, 16]\n",
    "for epoch in epochs:\n",
    "\n",
    "    dat =  load_peanut('data_dict_peanut_day14.obj', epoch, spike_threshold=200 , bin_width=1, boxcox=None,\n",
    "                      speed_threshold=0)\n",
    "    transitions1, transitions2 = segment_peanut(dat, 'linearization_dict_peanut_day14.obj', epoch) \n",
    "    spike_rates = dat['spike_rates']  \n",
    "    #Fit DCA/PCA on both kinds of transitions\n",
    "    spike_rates_list_transition1 = [spike_rates[transit] for transit in transitions1]\n",
    "    PCA_loading_1, DCA_loading_1, KCA_loading_1 = getLoadingsonTransitions(spike_rates_list_transition1)\n",
    "    spike_rates_list_transition2 = [spike_rates[transit] for transit in transitions2]\n",
    "    PCA_loading_2, DCA_loading_2, KCA_loading_2 = getLoadingsonTransitions(spike_rates_list_transition2)\n",
    "    SS_loading_1 =  supervised_df.loc[(supervised_df['epoch'] == epoch) & \\\n",
    "                                      (supervised_df['fold_idx'] == 1) &\\\n",
    "                                      (supervised_df['transition_type'] == 1) ][\"loadings\"].iloc[0]\n",
    "    SS_loading_2 =  supervised_df.loc[(supervised_df['epoch'] == epoch) & \\\n",
    "                                      (supervised_df['fold_idx'] == 1) &\\\n",
    "                                      (supervised_df['transition_type'] == 2) ][\"loadings\"].iloc[0]\n",
    "    #print(\"Epoch {0}\".format(epoch))\n",
    "    #print(PCA_loading_1.shape, DCA_loading_1.shape, SS_loading_1.shape, KCA_loading_1.shape)\n",
    "    transitions, bins_ = location_bin_peanut('data_dict_peanut_day14.obj','linearization_dict_peanut_day14.obj',\\\n",
    "            epoch=epoch, spike_threshold=200 )\n",
    "\n",
    "    for transition, bins, dcaloading, pcaloading, kcaloading, ssloading, tran_idx \\\n",
    "        in zip(transitions, bins_, [DCA_loading_1, DCA_loading_2],[PCA_loading_1, PCA_loading_2],\\\n",
    "                                   [KCA_loading_1, KCA_loading_2],[SS_loading_1, SS_loading_2],[1,2]):\n",
    "        num_peaks = np.zeros(transition.shape[1])\n",
    "        for neuron_idx in range(transition.shape[1]):\n",
    "            peak_indices = find_peaks(transition[:,neuron_idx])[0]\n",
    "            reg = LinearRegression().fit(bins[1:, np.newaxis], transition[:,neuron_idx])\n",
    "            predicted_line = reg.intercept_ + np.multiply(bins[1:],  np.squeeze(reg.coef_))\n",
    "            above_fit_line_peak_idxs = peak_indices[transition[:,neuron_idx][peak_indices] > predicted_line[peak_indices]]\n",
    "            num_peaks[neuron_idx] = len(above_fit_line_peak_idxs)\n",
    "        plt.boxplot([kcaloading[num_peaks == 1],kcaloading[num_peaks != 1],\\\n",
    "                     pcaloading[num_peaks == 1],pcaloading[num_peaks != 1],\\\n",
    "                     ssloading[num_peaks == 1],ssloading[num_peaks != 1],\\\n",
    "                     dcaloading[num_peaks == 1],dcaloading[num_peaks != 1]],\\\n",
    "                     positions=range(1, 16,2))\n",
    "        plt.xticks([1, 3, 5, 7, 9, 11, 13, 15], ['KCA 1PF', 'KCA >1PF', 'PCA 1PF', 'PCA >1PF', 'SS 1PF', 'SS >1PF', 'DCA 1PF', 'DCA >1PF'])\n",
    "        plt.ylabel(\"Loadings\")\n",
    "        plt.title(\"Distribution of loadings\")\n",
    "        saved_name = \"DistributionOfLoadingsByPFNum/\"+ \"Epoch\" + str(epoch) + \"Transition\" + str(tran_idx) + \".png\"\n",
    "        plt.savefig(saved_name)\n",
    "        plt.clf()"
   ]
  }
 ],
 "metadata": {
  "kernelspec": {
   "display_name": "Python 3",
   "language": "python",
   "name": "python3"
  },
  "language_info": {
   "codemirror_mode": {
    "name": "ipython",
    "version": 3
   },
   "file_extension": ".py",
   "mimetype": "text/x-python",
   "name": "python",
   "nbconvert_exporter": "python",
   "pygments_lexer": "ipython3",
   "version": "3.8.5"
  }
 },
 "nbformat": 4,
 "nbformat_minor": 4
}
