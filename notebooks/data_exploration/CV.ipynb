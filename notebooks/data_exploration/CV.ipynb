{
 "cells": [
  {
   "cell_type": "code",
   "execution_count": 3,
   "metadata": {},
   "outputs": [],
   "source": [
    "%load_ext autoreload\n",
    "%autoreload 2"
   ]
  },
  {
   "cell_type": "code",
   "execution_count": 2,
   "metadata": {},
   "outputs": [],
   "source": [
    "import scipy\n",
    "import numpy as np\n",
    "import torch\n",
    "import matplotlib.pyplot as plt\n",
    "import pdb\n",
    "from neurosim.models.varma import gen_var1_connectivity\n",
    "from neurosim.models.ssr import StateSpaceRealization as SSR\n",
    "from neurosim.models.ssr import memoized"
   ]
  },
  {
   "cell_type": "code",
   "execution_count": 4,
   "metadata": {},
   "outputs": [],
   "source": [
    "from dca.dca import DynamicalComponentsAnalysis as DCA\n",
    "import collections\n",
    "from dca.dca import init_coef, ObjectiveWrapper, ortho_reg_fn\n",
    "from scipy.optimize import minimize\n",
    "from dca.cov_util import calc_pi_from_data"
   ]
  },
  {
   "cell_type": "code",
   "execution_count": 5,
   "metadata": {},
   "outputs": [],
   "source": [
    "from pseudopy.nonnormal import NonnormalAuto, NonnormalPoints"
   ]
  },
  {
   "cell_type": "code",
   "execution_count": 6,
   "metadata": {},
   "outputs": [],
   "source": [
    "from neurosim.models.subspaces import residue_calc\n",
    "from neurosim.models.subspaces import measure_angle"
   ]
  },
  {
   "cell_type": "code",
   "execution_count": 7,
   "metadata": {},
   "outputs": [],
   "source": [
    "import pickle\n",
    "import h5py"
   ]
  },
  {
   "cell_type": "code",
   "execution_count": 9,
   "metadata": {},
   "outputs": [],
   "source": [
    "f = h5py.File('/media/akumar/Data/nse/data/neuraldata/EC2_hg.h5', 'r')"
   ]
  },
  {
   "cell_type": "code",
   "execution_count": 27,
   "metadata": {},
   "outputs": [
    {
     "data": {
      "text/plain": [
       "<HDF5 dataset \"X\": shape (2576, 258, 86, 1), type \"<f4\">"
      ]
     },
     "execution_count": 27,
     "metadata": {},
     "output_type": "execute_result"
    }
   ],
   "source": [
    "f['X']"
   ]
  },
  {
   "cell_type": "code",
   "execution_count": 18,
   "metadata": {},
   "outputs": [
    {
     "data": {
      "text/plain": [
       "array([b'raa', b'shee', b'yoo', ..., b'kaa', b'waa', b'daa'], dtype='|S4')"
      ]
     },
     "execution_count": 18,
     "metadata": {},
     "output_type": "execute_result"
    }
   ],
   "source": [
    "f['y'][:]"
   ]
  },
  {
   "cell_type": "code",
   "execution_count": null,
   "metadata": {},
   "outputs": [],
   "source": [
    "# Count how many of each category there are"
   ]
  },
  {
   "cell_type": "code",
   "execution_count": 12,
   "metadata": {},
   "outputs": [],
   "source": [
    "# Use logistic regression to classify f['y'] (the particular syllable) using f['X']\n",
    "from sklearn.linear_model import LogisticRegression\n",
    "from sklearn.preprocessing import StandardScaler\n",
    "from sklearn.model_selection import StratifiedKFold"
   ]
  },
  {
   "cell_type": "code",
   "execution_count": null,
   "metadata": {},
   "outputs": [],
   "source": [
    "# No normalization for now\n",
    "# X = np.squeeze(f['X'])\n",
    "# scaler = StandardScaler()\n",
    "# Xstd = np.zeros(X.shape)\n",
    "# for i in range(X.shape[0]):\n",
    "#     for j in range(X.shape[2])\n",
    "#     Xstd[i, :, j] = scaler.fit_transform(X[i, :, j])"
   ]
  },
  {
   "cell_type": "code",
   "execution_count": 13,
   "metadata": {},
   "outputs": [],
   "source": [
    "classifier = LogisticRegression()"
   ]
  },
  {
   "cell_type": "code",
   "execution_count": 38,
   "metadata": {},
   "outputs": [],
   "source": [
    "X = np.squeeze(f['X'])\n",
    "y = np.array(f['y'])"
   ]
  },
  {
   "cell_type": "code",
   "execution_count": 41,
   "metadata": {},
   "outputs": [],
   "source": [
    "syllable_counts = {}\n",
    "n_folds = 10\n",
    "cv = StratifiedKFold(n_folds, shuffle=False, random_state=1234)\n",
    "\n",
    "# Initialize keys\n",
    "for elem in np.unique(y):\n",
    "    syllable_counts[elem] = np.zeros(n_folds)\n",
    "\n",
    "fold_idx = 0\n",
    "for train_idxs, test_idxs in cv.split(X, y):\n",
    "    yy = y[train_idxs]\n",
    "    \n",
    "    for elem in yy:\n",
    "        syllable_counts[elem][fold_idx] += 1\n",
    "        \n",
    "    fold_idx += 1"
   ]
  },
  {
   "cell_type": "code",
   "execution_count": 42,
   "metadata": {},
   "outputs": [
    {
     "data": {
      "text/plain": [
       "{b'baa': array([41., 41., 41., 40., 40., 40., 40., 40., 41., 41.]),\n",
       " b'bee': array([41., 41., 41., 41., 42., 42., 42., 42., 41., 41.]),\n",
       " b'boo': array([31., 31., 30., 30., 30., 30., 31., 31., 31., 31.]),\n",
       " b'daa': array([39., 40., 40., 40., 40., 40., 40., 39., 39., 39.]),\n",
       " b'dee': array([40., 40., 40., 39., 39., 39., 39., 40., 40., 40.]),\n",
       " b'doo': array([43., 43., 43., 44., 44., 43., 43., 43., 43., 43.]),\n",
       " b'faa': array([42., 41., 41., 41., 41., 41., 41., 42., 42., 42.]),\n",
       " b'fee': array([41., 41., 41., 41., 41., 40., 40., 40., 40., 40.]),\n",
       " b'foo': array([40., 40., 40., 39., 39., 39., 39., 40., 40., 40.]),\n",
       " b'gaa': array([40., 40., 40., 40., 39., 39., 39., 39., 40., 40.]),\n",
       " b'gee': array([39., 39., 39., 39., 38., 38., 38., 39., 39., 39.]),\n",
       " b'goo': array([39., 40., 40., 40., 40., 40., 40., 39., 39., 39.]),\n",
       " b'haa': array([44., 44., 44., 44., 44., 44., 44., 44., 44., 45.]),\n",
       " b'hee': array([45., 45., 45., 45., 45., 45., 45., 45., 45., 45.]),\n",
       " b'hoo': array([41., 42., 42., 42., 42., 41., 41., 41., 41., 41.]),\n",
       " b'kaa': array([44., 43., 43., 43., 43., 43., 43., 43., 43., 44.]),\n",
       " b'kee': array([40., 40., 41., 41., 41., 41., 41., 40., 40., 40.]),\n",
       " b'koo': array([46., 46., 46., 46., 45., 46., 46., 46., 46., 46.]),\n",
       " b'laa': array([40., 39., 39., 39., 39., 40., 40., 40., 40., 40.]),\n",
       " b'lee': array([41., 42., 42., 42., 42., 41., 41., 41., 41., 41.]),\n",
       " b'loo': array([42., 42., 42., 42., 42., 43., 43., 43., 42., 42.]),\n",
       " b'maa': array([42., 42., 43., 43., 43., 42., 42., 42., 42., 42.]),\n",
       " b'mee': array([43., 42., 42., 42., 42., 42., 42., 42., 43., 43.]),\n",
       " b'moo': array([33., 33., 33., 33., 34., 34., 34., 33., 33., 33.]),\n",
       " b'naa': array([39., 39., 40., 40., 40., 40., 40., 40., 39., 39.]),\n",
       " b'nee': array([38., 39., 39., 39., 39., 39., 39., 39., 38., 38.]),\n",
       " b'noo': array([47., 46., 46., 47., 47., 47., 47., 47., 47., 47.]),\n",
       " b'paa': array([42., 43., 43., 43., 42., 42., 42., 42., 42., 42.]),\n",
       " b'pee': array([41., 41., 42., 42., 42., 42., 41., 41., 41., 41.]),\n",
       " b'poo': array([35., 35., 35., 35., 35., 35., 35., 35., 36., 35.]),\n",
       " b'raa': array([43., 43., 43., 43., 43., 43., 43., 43., 44., 44.]),\n",
       " b'ree': array([42., 42., 41., 41., 41., 41., 41., 41., 42., 42.]),\n",
       " b'roo': array([41., 41., 41., 42., 42., 42., 42., 41., 41., 41.]),\n",
       " b'saa': array([39., 39., 38., 38., 38., 39., 39., 39., 39., 39.]),\n",
       " b'see': array([43., 43., 42., 42., 42., 42., 42., 42., 42., 43.]),\n",
       " b'shaa': array([42., 42., 42., 42., 42., 43., 43., 43., 42., 42.]),\n",
       " b'shee': array([45., 45., 45., 45., 45., 45., 45., 45., 45., 45.]),\n",
       " b'shoo': array([43., 43., 43., 44., 44., 43., 43., 43., 43., 43.]),\n",
       " b'soo': array([41., 41., 40., 40., 40., 40., 40., 41., 41., 41.]),\n",
       " b'taa': array([43., 42., 42., 42., 42., 42., 42., 42., 43., 43.]),\n",
       " b'tee': array([43., 43., 43., 42., 42., 42., 42., 42., 42., 42.]),\n",
       " b'thaa': array([42., 42., 42., 42., 42., 42., 42., 43., 43., 43.]),\n",
       " b'thee': array([9., 9., 9., 9., 9., 9., 9., 9., 9., 9.]),\n",
       " b'thoo': array([40., 40., 40., 40., 39., 39., 39., 39., 40., 40.]),\n",
       " b'too': array([42., 42., 42., 42., 43., 43., 43., 42., 42., 42.]),\n",
       " b'vaa': array([43., 43., 43., 43., 43., 43., 43., 43., 44., 44.]),\n",
       " b'vee': array([42., 42., 42., 42., 41., 41., 41., 41., 41., 41.]),\n",
       " b'voo': array([38., 39., 39., 39., 39., 39., 39., 39., 38., 38.]),\n",
       " b'waa': array([41., 41., 41., 41., 41., 42., 42., 42., 42., 41.]),\n",
       " b'wee': array([43., 42., 42., 42., 42., 42., 42., 42., 43., 43.]),\n",
       " b'woo': array([39., 39., 39., 38., 38., 38., 39., 39., 39., 39.]),\n",
       " b'yaa': array([41., 41., 41., 41., 42., 42., 42., 42., 41., 41.]),\n",
       " b'yee': array([42., 42., 42., 42., 43., 43., 43., 42., 42., 42.]),\n",
       " b'yoo': array([49., 49., 49., 50., 50., 50., 50., 50., 49., 49.]),\n",
       " b'zaa': array([39., 39., 40., 40., 40., 40., 40., 40., 39., 39.]),\n",
       " b'zee': array([41., 41., 41., 41., 42., 42., 42., 42., 41., 41.]),\n",
       " b'zoo': array([43., 43., 43., 43., 43., 43., 43., 44., 44., 43.])}"
      ]
     },
     "execution_count": 42,
     "metadata": {},
     "output_type": "execute_result"
    }
   ],
   "source": [
    "syllable_counts"
   ]
  },
  {
   "cell_type": "code",
   "execution_count": 50,
   "metadata": {},
   "outputs": [
    {
     "data": {
      "text/plain": [
       "2576"
      ]
     },
     "execution_count": 50,
     "metadata": {},
     "output_type": "execute_result"
    }
   ],
   "source": [
    "y.size"
   ]
  },
  {
   "cell_type": "code",
   "execution_count": 49,
   "metadata": {},
   "outputs": [
    {
     "data": {
      "text/plain": [
       "2566"
      ]
     },
     "execution_count": 49,
     "metadata": {},
     "output_type": "execute_result"
    }
   ],
   "source": [
    "np.where(y != b'thee')[0].size"
   ]
  },
  {
   "cell_type": "code",
   "execution_count": 51,
   "metadata": {},
   "outputs": [],
   "source": [
    "# Remove 'thee'\n",
    "theeless = np.where(y != b'thee')[0]\n",
    "X = X[theeless, ...]\n",
    "y = y[theeless]"
   ]
  },
  {
   "cell_type": "code",
   "execution_count": 52,
   "metadata": {},
   "outputs": [
    {
     "name": "stderr",
     "output_type": "stream",
     "text": [
      "/home/akumar/anaconda3/envs/dyn/lib/python3.7/site-packages/sklearn/model_selection/_split.py:296: FutureWarning: Setting a random_state has no effect since shuffle is False. This will raise an error in 0.24. You should leave random_state to its default (None), or set shuffle=True.\n",
      "  FutureWarning\n",
      "/home/akumar/anaconda3/envs/dyn/lib/python3.7/site-packages/sklearn/linear_model/_logistic.py:940: ConvergenceWarning: lbfgs failed to converge (status=1):\n",
      "STOP: TOTAL NO. of ITERATIONS REACHED LIMIT.\n",
      "\n",
      "Increase the number of iterations (max_iter) or scale the data as shown in:\n",
      "    https://scikit-learn.org/stable/modules/preprocessing.html\n",
      "Please also refer to the documentation for alternative solver options:\n",
      "    https://scikit-learn.org/stable/modules/linear_model.html#logistic-regression\n",
      "  extra_warning_msg=_LOGISTIC_SOLVER_CONVERGENCE_MSG)\n",
      "/home/akumar/anaconda3/envs/dyn/lib/python3.7/site-packages/sklearn/linear_model/_logistic.py:940: ConvergenceWarning: lbfgs failed to converge (status=1):\n",
      "STOP: TOTAL NO. of ITERATIONS REACHED LIMIT.\n",
      "\n",
      "Increase the number of iterations (max_iter) or scale the data as shown in:\n",
      "    https://scikit-learn.org/stable/modules/preprocessing.html\n",
      "Please also refer to the documentation for alternative solver options:\n",
      "    https://scikit-learn.org/stable/modules/linear_model.html#logistic-regression\n",
      "  extra_warning_msg=_LOGISTIC_SOLVER_CONVERGENCE_MSG)\n",
      "/home/akumar/anaconda3/envs/dyn/lib/python3.7/site-packages/sklearn/linear_model/_logistic.py:940: ConvergenceWarning: lbfgs failed to converge (status=1):\n",
      "STOP: TOTAL NO. of ITERATIONS REACHED LIMIT.\n",
      "\n",
      "Increase the number of iterations (max_iter) or scale the data as shown in:\n",
      "    https://scikit-learn.org/stable/modules/preprocessing.html\n",
      "Please also refer to the documentation for alternative solver options:\n",
      "    https://scikit-learn.org/stable/modules/linear_model.html#logistic-regression\n",
      "  extra_warning_msg=_LOGISTIC_SOLVER_CONVERGENCE_MSG)\n",
      "/home/akumar/anaconda3/envs/dyn/lib/python3.7/site-packages/sklearn/linear_model/_logistic.py:940: ConvergenceWarning: lbfgs failed to converge (status=1):\n",
      "STOP: TOTAL NO. of ITERATIONS REACHED LIMIT.\n",
      "\n",
      "Increase the number of iterations (max_iter) or scale the data as shown in:\n",
      "    https://scikit-learn.org/stable/modules/preprocessing.html\n",
      "Please also refer to the documentation for alternative solver options:\n",
      "    https://scikit-learn.org/stable/modules/linear_model.html#logistic-regression\n",
      "  extra_warning_msg=_LOGISTIC_SOLVER_CONVERGENCE_MSG)\n",
      "/home/akumar/anaconda3/envs/dyn/lib/python3.7/site-packages/sklearn/linear_model/_logistic.py:940: ConvergenceWarning: lbfgs failed to converge (status=1):\n",
      "STOP: TOTAL NO. of ITERATIONS REACHED LIMIT.\n",
      "\n",
      "Increase the number of iterations (max_iter) or scale the data as shown in:\n",
      "    https://scikit-learn.org/stable/modules/preprocessing.html\n",
      "Please also refer to the documentation for alternative solver options:\n",
      "    https://scikit-learn.org/stable/modules/linear_model.html#logistic-regression\n",
      "  extra_warning_msg=_LOGISTIC_SOLVER_CONVERGENCE_MSG)\n",
      "/home/akumar/anaconda3/envs/dyn/lib/python3.7/site-packages/sklearn/linear_model/_logistic.py:940: ConvergenceWarning: lbfgs failed to converge (status=1):\n",
      "STOP: TOTAL NO. of ITERATIONS REACHED LIMIT.\n",
      "\n",
      "Increase the number of iterations (max_iter) or scale the data as shown in:\n",
      "    https://scikit-learn.org/stable/modules/preprocessing.html\n",
      "Please also refer to the documentation for alternative solver options:\n",
      "    https://scikit-learn.org/stable/modules/linear_model.html#logistic-regression\n",
      "  extra_warning_msg=_LOGISTIC_SOLVER_CONVERGENCE_MSG)\n",
      "/home/akumar/anaconda3/envs/dyn/lib/python3.7/site-packages/sklearn/linear_model/_logistic.py:940: ConvergenceWarning: lbfgs failed to converge (status=1):\n",
      "STOP: TOTAL NO. of ITERATIONS REACHED LIMIT.\n",
      "\n",
      "Increase the number of iterations (max_iter) or scale the data as shown in:\n",
      "    https://scikit-learn.org/stable/modules/preprocessing.html\n",
      "Please also refer to the documentation for alternative solver options:\n",
      "    https://scikit-learn.org/stable/modules/linear_model.html#logistic-regression\n",
      "  extra_warning_msg=_LOGISTIC_SOLVER_CONVERGENCE_MSG)\n",
      "/home/akumar/anaconda3/envs/dyn/lib/python3.7/site-packages/sklearn/linear_model/_logistic.py:940: ConvergenceWarning: lbfgs failed to converge (status=1):\n",
      "STOP: TOTAL NO. of ITERATIONS REACHED LIMIT.\n",
      "\n",
      "Increase the number of iterations (max_iter) or scale the data as shown in:\n",
      "    https://scikit-learn.org/stable/modules/preprocessing.html\n",
      "Please also refer to the documentation for alternative solver options:\n",
      "    https://scikit-learn.org/stable/modules/linear_model.html#logistic-regression\n",
      "  extra_warning_msg=_LOGISTIC_SOLVER_CONVERGENCE_MSG)\n",
      "/home/akumar/anaconda3/envs/dyn/lib/python3.7/site-packages/sklearn/linear_model/_logistic.py:940: ConvergenceWarning: lbfgs failed to converge (status=1):\n",
      "STOP: TOTAL NO. of ITERATIONS REACHED LIMIT.\n",
      "\n",
      "Increase the number of iterations (max_iter) or scale the data as shown in:\n",
      "    https://scikit-learn.org/stable/modules/preprocessing.html\n",
      "Please also refer to the documentation for alternative solver options:\n",
      "    https://scikit-learn.org/stable/modules/linear_model.html#logistic-regression\n",
      "  extra_warning_msg=_LOGISTIC_SOLVER_CONVERGENCE_MSG)\n",
      "/home/akumar/anaconda3/envs/dyn/lib/python3.7/site-packages/sklearn/linear_model/_logistic.py:940: ConvergenceWarning: lbfgs failed to converge (status=1):\n",
      "STOP: TOTAL NO. of ITERATIONS REACHED LIMIT.\n",
      "\n",
      "Increase the number of iterations (max_iter) or scale the data as shown in:\n",
      "    https://scikit-learn.org/stable/modules/preprocessing.html\n",
      "Please also refer to the documentation for alternative solver options:\n",
      "    https://scikit-learn.org/stable/modules/linear_model.html#logistic-regression\n",
      "  extra_warning_msg=_LOGISTIC_SOLVER_CONVERGENCE_MSG)\n"
     ]
    }
   ],
   "source": [
    "cv = StratifiedKFold(10, shuffle=False, random_state=1234)\n",
    "scores = []\n",
    "for train_idxs, test_idxs in cv.split(X, y):\n",
    "    xx = np.reshape(X[train_idxs, ...], (train_idxs.size, -1))\n",
    "    yy = y[train_idxs]\n",
    "\n",
    "    \n",
    "    \n",
    "#     scaler = StandardScaler()\n",
    "#     xx = scaler.fit_transform(xx)\n",
    "    \n",
    "    classifier.fit(xx, yy)\n",
    "    scores.append(classifier.score(np.reshape(X[test_idxs, ...], (test_idxs.size, -1)), y[test_idxs]))"
   ]
  },
  {
   "cell_type": "code",
   "execution_count": 54,
   "metadata": {},
   "outputs": [
    {
     "data": {
      "text/plain": [
       "0.40727444066147866"
      ]
     },
     "execution_count": 54,
     "metadata": {},
     "output_type": "execute_result"
    }
   ],
   "source": [
    "np.mean(scores)"
   ]
  },
  {
   "cell_type": "code",
   "execution_count": 53,
   "metadata": {},
   "outputs": [
    {
     "data": {
      "text/plain": [
       "[0.40077821011673154,\n",
       " 0.4357976653696498,\n",
       " 0.36186770428015563,\n",
       " 0.3540856031128405,\n",
       " 0.42412451361867703,\n",
       " 0.40077821011673154,\n",
       " 0.44921875,\n",
       " 0.37109375,\n",
       " 0.3828125,\n",
       " 0.4921875]"
      ]
     },
     "execution_count": 53,
     "metadata": {},
     "output_type": "execute_result"
    }
   ],
   "source": [
    "scores"
   ]
  },
  {
   "cell_type": "code",
   "execution_count": 31,
   "metadata": {},
   "outputs": [
    {
     "data": {
      "text/plain": [
       "array([b'baa', b'bee', b'boo', b'daa', b'dee', b'doo', b'faa', b'fee',\n",
       "       b'foo', b'gaa', b'gee', b'goo', b'haa', b'hee', b'hoo', b'kaa',\n",
       "       b'kee', b'koo', b'laa', b'lee', b'loo', b'maa', b'mee', b'moo',\n",
       "       b'naa', b'nee', b'noo', b'paa', b'pee', b'poo', b'raa', b'ree',\n",
       "       b'roo', b'saa', b'see', b'shaa', b'shee', b'shoo', b'soo', b'taa',\n",
       "       b'tee', b'thaa', b'thee', b'thoo', b'too', b'vaa', b'vee', b'voo',\n",
       "       b'waa', b'wee', b'woo', b'yaa', b'yee', b'yoo', b'zaa', b'zee',\n",
       "       b'zoo'], dtype='|S4')"
      ]
     },
     "execution_count": 31,
     "metadata": {},
     "output_type": "execute_result"
    }
   ],
   "source": [
    "classifier.classes_"
   ]
  },
  {
   "cell_type": "code",
   "execution_count": 32,
   "metadata": {},
   "outputs": [
    {
     "data": {
      "text/plain": [
       "1.0"
      ]
     },
     "execution_count": 32,
     "metadata": {},
     "output_type": "execute_result"
    }
   ],
   "source": [
    "classifier.score(np.reshape(np.squeeze(f['X']), (2576, -1)), f['y'])"
   ]
  },
  {
   "cell_type": "code",
   "execution_count": 40,
   "metadata": {},
   "outputs": [
    {
     "name": "stdout",
     "output_type": "stream",
     "text": [
      "Hello!\n",
      "Hello!\n",
      "Hello!\n",
      "Hello!\n",
      "Hello!\n",
      "Hello!\n",
      "Hello!\n",
      "Hello!\n",
      "Hello!\n",
      "Hello!\n",
      "Hello!\n",
      "Hello!\n",
      "Hello!\n",
      "Hello!\n",
      "Hello!\n",
      "Hello!\n",
      "Hello!\n",
      "Hello!\n",
      "Hello!\n",
      "Hello!\n"
     ]
    }
   ],
   "source": [
    "size = 20\n",
    "\n",
    "optimized_pi_vs_dim = np.zeros((size))\n",
    "ordered_pi_vs_dim = np.zeros((size))\n",
    "#reverse_order_pi_vs_dim = np.zeros((size))\n",
    "\n",
    "rand_reps = 200\n",
    "random_pi_vs_dim = np.zeros((size, rand_reps))\n",
    "\n",
    "ssm = SSR(A=A, B=np.eye(A.shape[0]), C=np.eye(A.shape[0]), D=1e-16 * np.eye(A.shape[0]))\n",
    "    \n",
    "X = np.reshape(f['baa'][:, 0:100, :], (-1, 54))\n",
    "\n",
    "dca_model = DCA()\n",
    "for j in np.arange(size):\n",
    "    dca_model.fit(X, T=5, d=j + 1)\n",
    "    V = dca_model.coef_\n",
    "    optimized_pi_vs_dim[j] = dca_model.score()\n",
    "    print('Hello!')\n"
   ]
  },
  {
   "cell_type": "code",
   "execution_count": 42,
   "metadata": {},
   "outputs": [
    {
     "name": "stderr",
     "output_type": "stream",
     "text": [
      "/home/akumar/anaconda3/envs/dyn/lib/python3.7/site-packages/ipykernel_launcher.py:66: ComplexWarning: Casting complex values to real discards the imaginary part\n"
     ]
    }
   ],
   "source": [
    "# Calculate the normal ordered schur components\n",
    "X = np.reshape(f['baa'][:, 0:100, :], (-1, 54))\n",
    "A = np.squeeze(cons_coef)\n",
    "T, Z = schur(A, np.argsort(np.abs(np.linalg.eigvals(A)))[::-1])\n",
    "for j in np.arange(size):\n",
    "    V = Z[:, 0:j + 1]\n",
    "    if V.ndim == 1:\n",
    "        V = V[:, np.newaxis]\n",
    "\n",
    "    ordered_pi_vs_dim[j] = calc_pi_from_data(X, T=5, proj=V)"
   ]
  },
  {
   "cell_type": "code",
   "execution_count": 31,
   "metadata": {},
   "outputs": [],
   "source": [
    "from matplotlib.ticker import MaxNLocator"
   ]
  },
  {
   "cell_type": "code",
   "execution_count": 41,
   "metadata": {},
   "outputs": [
    {
     "name": "stdout",
     "output_type": "stream",
     "text": [
      "Hello!\n",
      "Hello!\n",
      "Hello!\n",
      "Hello!\n",
      "Hello!\n",
      "Hello!\n",
      "Hello!\n",
      "Hello!\n",
      "Hello!\n",
      "Hello!\n",
      "Hello!\n",
      "Hello!\n",
      "Hello!\n",
      "Hello!\n",
      "Hello!\n",
      "Hello!\n",
      "Hello!\n",
      "Hello!\n",
      "Hello!\n",
      "Hello!\n"
     ]
    }
   ],
   "source": [
    "size = 20\n",
    "\n",
    "optimized_pi_vs_dim2 = np.zeros((size))\n",
    "ordered_pi_vs_dim2 = np.zeros((size))\n",
    "#reverse_order_pi_vs_dim = np.zeros((size))\n",
    "\n",
    "rand_reps = 200\n",
    "random_pi_vs_dim = np.zeros((size, rand_reps))\n",
    "\n",
    "ssm = SSR(A=A, B=np.eye(A.shape[0]), C=np.eye(A.shape[0]), D=1e-16 * np.eye(A.shape[0]))\n",
    "    \n",
    "X = np.reshape(f['baa'][:, 100:, :], (-1, 54))\n",
    "\n",
    "dca_model = DCA()\n",
    "for j in np.arange(size):\n",
    "    dca_model.fit(X, T=5, d=j + 1)\n",
    "    V = dca_model.coef_\n",
    "    optimized_pi_vs_dim2[j] = dca_model.score()\n",
    "    print('Hello!')\n"
   ]
  },
  {
   "cell_type": "code",
   "execution_count": 43,
   "metadata": {},
   "outputs": [
    {
     "name": "stderr",
     "output_type": "stream",
     "text": [
      "/home/akumar/anaconda3/envs/dyn/lib/python3.7/site-packages/ipykernel_launcher.py:66: ComplexWarning: Casting complex values to real discards the imaginary part\n"
     ]
    }
   ],
   "source": [
    "# Calculate the normal ordered schur components\n",
    "A = np.squeeze(vowel_coef)\n",
    "X = np.reshape(f['baa'][:, 100:, :], (-1, 54))\n",
    "T, Z = schur(A, np.argsort(np.abs(np.linalg.eigvals(A)))[::-1])\n",
    "for j in np.arange(size):\n",
    "    V = Z[:, 0:j + 1]\n",
    "    if V.ndim == 1:\n",
    "        V = V[:, np.newaxis]\n",
    "\n",
    "    ordered_pi_vs_dim2[j] = calc_pi_from_data(X, T=5, proj=V)"
   ]
  },
  {
   "cell_type": "code",
   "execution_count": 37,
   "metadata": {},
   "outputs": [
    {
     "data": {
      "text/plain": [
       "array([ 2.18185723,  4.28343443,  6.56040759,  8.87925098, 11.06287938,\n",
       "       13.55453567, 15.67424419, 18.32494847, 20.74745817, 23.27709173,\n",
       "       25.74052011, 28.35258198, 30.83825064, 33.09657151, 35.45410104,\n",
       "       38.16852758, 40.74574836, 43.13429567, 45.63413983, 48.13343688])"
      ]
     },
     "execution_count": 37,
     "metadata": {},
     "output_type": "execute_result"
    }
   ],
   "source": [
    "ordered_pi_vs_dim2"
   ]
  },
  {
   "cell_type": "code",
   "execution_count": 45,
   "metadata": {},
   "outputs": [
    {
     "data": {
      "image/png": "[encoded data removed]",
      "text/plain": [
       "<Figure size 1080x432 with 2 Axes>"
      ]
     },
     "metadata": {
      "needs_background": "light"
     },
     "output_type": "display_data"
    }
   ],
   "source": [
    "fig, ax = plt.subplots(1, 2, figsize=(15, 6))\n",
    "ax[0].plot(optimized_pi_vs_dim, 'k')\n",
    "ax[0].plot(ordered_pi_vs_dim, 'r')\n",
    "\n",
    "ax[0].set_title('Consonant Phase', fontsize=16)\n",
    "ax[0].set_ylabel('PI (nats)', fontsize=16)\n",
    "ax[0].set_xlabel('Projection Dimension', fontsize=16)\n",
    "ax[0].xaxis.set_major_locator(MaxNLocator(integer=True))\n",
    "\n",
    "ax[0].legend(['Data Optimized', 'Canonical Schur ordering'], fontsize=14)\n",
    "\n",
    "ax[1].plot(optimized_pi_vs_dim2, 'k')\n",
    "ax[1].plot(ordered_pi_vs_dim2, 'r')\n",
    "\n",
    "ax[1].set_title('Vowel Phase', fontsize=16)\n",
    "ax[0].xaxis.set_major_locator(MaxNLocator(integer=True))\n",
    "\n",
    "fig.savefig('cv_schur.pdf', bbox_inches='tight', pad_inches=0)"
   ]
  },
  {
   "cell_type": "code",
   "execution_count": null,
   "metadata": {},
   "outputs": [],
   "source": [
    "# Plot the pseudospectra"
   ]
  },
  {
   "cell_type": "code",
   "execution_count": 53,
   "metadata": {},
   "outputs": [
    {
     "data": {
      "image/png": "[encoded data removed]",
      "text/plain": [
       "<Figure size 576x288 with 1 Axes>"
      ]
     },
     "metadata": {
      "needs_background": "light"
     },
     "output_type": "display_data"
    }
   ],
   "source": [
    "# Take a look the pseudo spectrum\n",
    "fig, ax = plt.subplots(figsize=(8, 4))\n",
    "A = np.squeeze(cons_coef)\n",
    "pseudo = NonnormalAuto(A, 1e-5, 1)\n",
    "pseudo.plot([10**k for k in range(-4, 0)], spectrum=np.linalg.eigvals(A))\n",
    "ax.set_xlim([-1.2, 1.2])\n",
    "ax.set_ylim([-0.25, 0.25])\n",
    "plt.savefig('cv_cons_pseudo.pdf', bbox_inches='tight', pad_inches=0)"
   ]
  },
  {
   "cell_type": "code",
   "execution_count": 55,
   "metadata": {},
   "outputs": [
    {
     "data": {
      "image/png": "[encoded data removed]",
      "text/plain": [
       "<Figure size 576x288 with 1 Axes>"
      ]
     },
     "metadata": {
      "needs_background": "light"
     },
     "output_type": "display_data"
    }
   ],
   "source": [
    "# Take a look the pseudo spectrum\n",
    "fig, ax = plt.subplots(figsize=(8, 4))\n",
    "A = np.squeeze(vowel_coef)\n",
    "pseudo = NonnormalAuto(A, 1e-5, 1)\n",
    "pseudo.plot([10**k for k in range(-4, 0)], spectrum=np.linalg.eigvals(A))\n",
    "ax.set_xlim([-1.2, 1.2])\n",
    "ax.set_ylim([-0.25, 0.25])\n",
    "plt.savefig('cv_vowel_pseudo.pdf', bbox_inches='tight', pad_inches=0)"
   ]
  },
  {
   "cell_type": "code",
   "execution_count": null,
   "metadata": {},
   "outputs": [],
   "source": []
  }
 ],
 "metadata": {
  "kernelspec": {
   "display_name": "Python 3",
   "language": "python",
   "name": "python3"
  },
  "language_info": {
   "codemirror_mode": {
    "name": "ipython",
    "version": 3
   },
   "file_extension": ".py",
   "mimetype": "text/x-python",
   "name": "python",
   "nbconvert_exporter": "python",
   "pygments_lexer": "ipython3",
   "version": "3.7.8"
  }
 },
 "nbformat": 4,
 "nbformat_minor": 4
}
