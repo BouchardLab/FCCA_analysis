{
 "cells": [
  {
   "cell_type": "code",
   "execution_count": 1,
   "metadata": {},
   "outputs": [],
   "source": [
    "%load_ext autoreload\n",
    "%autoreload 2"
   ]
  },
  {
   "cell_type": "code",
   "execution_count": 2,
   "metadata": {},
   "outputs": [
    {
     "name": "stderr",
     "output_type": "stream",
     "text": [
      "/home/akumar/anaconda3/envs/ncontrol/lib/python3.9/site-packages/tqdm/auto.py:22: TqdmWarning: IProgress not found. Please update jupyter and ipywidgets. See https://ipywidgets.readthedocs.io/en/stable/user_install.html\n",
      "  from .autonotebook import tqdm as notebook_tqdm\n"
     ]
    }
   ],
   "source": [
    "import numpy as np\n",
    "import scipy\n",
    "import pickle\n",
    "import pandas as pd\n",
    "import matplotlib.pyplot as plt\n",
    "from sklearn.decomposition import PCA\n",
    "from sklearn.model_selection import KFold\n",
    "from glob import glob\n",
    "import sys\n",
    "import torch\n",
    "from tqdm import tqdm\n",
    "import pdb"
   ]
  },
  {
   "cell_type": "code",
   "execution_count": 3,
   "metadata": {},
   "outputs": [],
   "source": [
    "from dca_research.cov_util import calc_mmse_from_cross_cov_mats\n",
    "from dca_research.lqg import LQGComponentsAnalysis as LQGCA"
   ]
  },
  {
   "cell_type": "code",
   "execution_count": 4,
   "metadata": {},
   "outputs": [],
   "source": [
    "sys.path.append('/home/akumar/nse/neural_control')"
   ]
  },
  {
   "cell_type": "code",
   "execution_count": 5,
   "metadata": {},
   "outputs": [],
   "source": [
    "from loaders import load_sabes\n",
    "from utils import apply_df_filters"
   ]
  },
  {
   "cell_type": "markdown",
   "metadata": {},
   "source": [
    "### LQG spectrum"
   ]
  },
  {
   "cell_type": "code",
   "execution_count": 6,
   "metadata": {},
   "outputs": [],
   "source": [
    "# Return the full LQG spectrum rather than just the trace\n",
    "def get_LQG_spectrum(ccm_fwd, ccm_rev, V):\n",
    "    project_mmse=False\n",
    "    mmse_fwd = calc_mmse_from_cross_cov_mats(ccm_fwd, V, project_mmse=project_mmse)    \n",
    "\n",
    "    # Key change 06/28/22: In the reverse time direction, the readout is taken to be y = C Pi x_a = C x. \n",
    "    # This is implemented here by scaling Vlag by ccm_fwd[0]\n",
    "    Vrev = torch.matmul(ccm_fwd[0], V)\n",
    "    mmse_rev = calc_mmse_from_cross_cov_mats(ccm_rev, Vrev, project_mmse=project_mmse)\n",
    "\n",
    "    return np.linalg.eigvals(mmse_fwd @ mmse_rev)"
   ]
  },
  {
   "cell_type": "code",
   "execution_count": 3,
   "metadata": {},
   "outputs": [],
   "source": [
    "# Across projection dimensions, calculate the LQG spectrum, rather than just taking the trace.\n",
    "# Fit a state space model to the dynamics, caclculte the LQG controller parameters, and then show evolution of various LQG related loss\n",
    "# functions as one truncates the filter order"
   ]
  },
  {
   "cell_type": "code",
   "execution_count": 7,
   "metadata": {},
   "outputs": [],
   "source": [
    "fls_ = glob('/mnt/Secondary/data/sabes/*.mat')\n",
    "\n",
    "good_loco_files = ['loco_20170210_03.mat',\n",
    "'loco_20170213_02.mat',\n",
    "'loco_20170215_02.mat',\n",
    "'loco_20170227_04.mat',\n",
    "'loco_20170228_02.mat',\n",
    "'loco_20170301_05.mat',\n",
    "'loco_20170302_02.mat']\n",
    "\n",
    "# Filter by the loco files we want to use\n",
    "fls = []\n",
    "for f in fls_:\n",
    "    if 'indy' in f:\n",
    "        fls.append(f)\n",
    "    elif f.split('/')[-1] in good_loco_files:\n",
    "        fls.append(f)"
   ]
  },
  {
   "cell_type": "code",
   "execution_count": 72,
   "metadata": {},
   "outputs": [
    {
     "name": "stderr",
     "output_type": "stream",
     "text": [
      "100%|██████████| 35/35 [04:11<00:00,  7.18s/it]\n"
     ]
    }
   ],
   "source": [
    "spec_full = []\n",
    "for fl in tqdm(fls):\n",
    "    dat = load_sabes(fl)\n",
    "\n",
    "    X = np.squeeze(dat['spike_rates'])\n",
    "\n",
    "    lqgmodel = LQGCA(T=4)\n",
    "    lqgmodel.estimate_data_statistics(X)\n",
    "\n",
    "    s = get_LQG_spectrum(lqgmodel.cross_covs.float(), lqgmodel.cross_covs_rev.float(), torch.eye(X.shape[1]).float())\n",
    "    spec_full.append(s)"
   ]
  },
  {
   "cell_type": "code",
   "execution_count": 73,
   "metadata": {},
   "outputs": [
    {
     "data": {
      "text/plain": [
       "[0.8527977522029433,\n",
       " 0.9048511135962701,\n",
       " 0.9273077427655801,\n",
       " 0.8408111981897546,\n",
       " 0.9337591270490878,\n",
       " 0.9509454314241704,\n",
       " 0.8184287227801422,\n",
       " 0.8138201720732495,\n",
       " 0.8316819096954775,\n",
       " 0.8202723627505095,\n",
       " 0.8201636642706199,\n",
       " 0.8367185119196032,\n",
       " 0.8415643176893248,\n",
       " 0.8630679281134355,\n",
       " 0.8520217664314039,\n",
       " 0.8459631558122306,\n",
       " 0.8467134915865384,\n",
       " 0.8376592889532343,\n",
       " 0.8455633119095204,\n",
       " 0.8477876036317198,\n",
       " 0.8861344211785368,\n",
       " 0.8305467709090358,\n",
       " 0.862694573780847,\n",
       " 0.8839998747173109,\n",
       " 0.8677368779336253,\n",
       " 0.8594887222068898,\n",
       " 0.8789774576822916,\n",
       " 0.887050683947577,\n",
       " 0.938709615803451,\n",
       " 0.953268624685861,\n",
       " 0.9398571224663201,\n",
       " 0.9450412901107874,\n",
       " 0.940306689857778,\n",
       " 0.9120771789550781,\n",
       " 0.9495771789550781]"
      ]
     },
     "execution_count": 73,
     "metadata": {},
     "output_type": "execute_result"
    }
   ],
   "source": [
    "[np.sum(s)/s.size for s in spec_full]"
   ]
  },
  {
   "cell_type": "code",
   "execution_count": 29,
   "metadata": {},
   "outputs": [],
   "source": [
    "lqgspec = [np.sort(s)[::-1][0:90] for s in spec]"
   ]
  },
  {
   "cell_type": "code",
   "execution_count": 30,
   "metadata": {},
   "outputs": [],
   "source": [
    "lqgspec = np.array(lqgspec)"
   ]
  },
  {
   "cell_type": "code",
   "execution_count": 31,
   "metadata": {},
   "outputs": [
    {
     "data": {
      "text/plain": [
       "(35, 90)"
      ]
     },
     "execution_count": 31,
     "metadata": {},
     "output_type": "execute_result"
    }
   ],
   "source": [
    "lqgspec.shape"
   ]
  },
  {
   "cell_type": "code",
   "execution_count": 43,
   "metadata": {},
   "outputs": [
    {
     "data": {
      "text/plain": [
       "[<matplotlib.lines.Line2D at 0x7fd1d4365f10>]"
      ]
     },
     "execution_count": 43,
     "metadata": {},
     "output_type": "execute_result"
    },
    {
     "data": {
      "image/png": "[encoded data removed]",
      "text/plain": [
       "<Figure size 640x480 with 1 Axes>"
      ]
     },
     "metadata": {},
     "output_type": "display_data"
    }
   ],
   "source": [
    "plt.plot(lqgspec[7, :])"
   ]
  },
  {
   "cell_type": "code",
   "execution_count": 32,
   "metadata": {},
   "outputs": [
    {
     "data": {
      "text/plain": [
       "[<matplotlib.lines.Line2D at 0x7fd1ec1b4460>]"
      ]
     },
     "execution_count": 32,
     "metadata": {},
     "output_type": "execute_result"
    },
    {
     "data": {
      "image/png": "[encoded data removed]",
      "text/plain": [
       "<Figure size 640x480 with 1 Axes>"
      ]
     },
     "metadata": {},
     "output_type": "display_data"
    }
   ],
   "source": [
    "plt.plot(np.mean(lqgspec, axis=0))"
   ]
  },
  {
   "cell_type": "code",
   "execution_count": null,
   "metadata": {},
   "outputs": [],
   "source": [
    "# This is a bit surprising. What does the spectrum look like at d = 30?"
   ]
  },
  {
   "cell_type": "code",
   "execution_count": 46,
   "metadata": {},
   "outputs": [
    {
     "name": "stderr",
     "output_type": "stream",
     "text": [
      "/home/akumar/anaconda3/envs/ncontrol/lib/python3.9/site-packages/sklearn/base.py:329: UserWarning: Trying to unpickle estimator LinearRegression from version 0.24.2 when using version 1.1.3. This might lead to breaking code or invalid results. Use at your own risk. For more info please refer to:\n",
      "https://scikit-learn.org/stable/model_persistence.html#security-maintainability-limitations\n",
      "  warnings.warn(\n",
      "/home/akumar/anaconda3/envs/ncontrol/lib/python3.9/site-packages/sklearn/base.py:329: UserWarning: Trying to unpickle estimator LinearRegression from version 0.24.2 when using version 1.1.3. This might lead to breaking code or invalid results. Use at your own risk. For more info please refer to:\n",
      "https://scikit-learn.org/stable/model_persistence.html#security-maintainability-limitations\n",
      "  warnings.warn(\n"
     ]
    }
   ],
   "source": [
    "with open('/mnt/Secondary/data/postprocessed/indy_decoding_df2.dat', 'rb') as f:\n",
    "    indy_df = pickle.load(f)\n",
    "indy_df = pd.DataFrame(indy_df)\n",
    "\n",
    "with open('/mnt/Secondary/data/postprocessed/loco_decoding_df.dat', 'rb') as f:\n",
    "    loco_df = pickle.load(f)\n",
    "loco_df = pd.DataFrame(loco_df)\n",
    "loco_df = apply_df_filters(loco_df,\n",
    "                        loader_args={'bin_width': 50, 'filter_fn': 'none', 'filter_kwargs': {}, 'boxcox': 0.5, 'spike_threshold': 100, 'region': 'M1'},\n",
    "                        decoder_args={'trainlag': 4, 'testlag': 4, 'decoding_window': 5})\n",
    "good_loco_files = ['loco_20170210_03.mat',\n",
    "'loco_20170213_02.mat',\n",
    "'loco_20170215_02.mat',\n",
    "'loco_20170227_04.mat',\n",
    "'loco_20170228_02.mat',\n",
    "'loco_20170301_05.mat',\n",
    "'loco_20170302_02.mat']\n",
    "\n",
    "loco_df = apply_df_filters(loco_df, data_file=good_loco_files)        \n",
    "sabes_df = pd.concat([loco_df, indy_df])"
   ]
  },
  {
   "cell_type": "code",
   "execution_count": 50,
   "metadata": {},
   "outputs": [
    {
     "name": "stderr",
     "output_type": "stream",
     "text": [
      "100%|██████████| 35/35 [04:20<00:00,  7.45s/it]\n"
     ]
    }
   ],
   "source": [
    "spec = []\n",
    "for fl in tqdm(fls):\n",
    "    dat = load_sabes(fl)\n",
    "\n",
    "    X = np.squeeze(dat['spike_rates'])\n",
    "\n",
    "    lqgmodel = LQGCA(T=4)\n",
    "    lqgmodel.estimate_data_statistics(X)\n",
    "\n",
    "    df = apply_df_filters(sabes_df, data_file=fl.split('/')[-1], fold_idx=0, dim=30, dimreduc_method='LQGCA')\n",
    "    assert(df.shape[0] == 1)\n",
    "\n",
    "    V = torch.tensor(df.iloc[0]['coef']).float()\n",
    "\n",
    "    s = get_LQG_spectrum(lqgmodel.cross_covs.float(), lqgmodel.cross_covs_rev.float(), V)\n",
    "    print(np.trace(s))\n",
    "    spec.append(s)\n"
   ]
  },
  {
   "cell_type": "code",
   "execution_count": 61,
   "metadata": {},
   "outputs": [],
   "source": [
    "drspec = np.array([np.sort(s)[::-1][0:90] for s in spec])"
   ]
  },
  {
   "cell_type": "code",
   "execution_count": 71,
   "metadata": {},
   "outputs": [
    {
     "data": {
      "text/plain": [
       "[0.9302895715994428,\n",
       " 0.9498072798534106,\n",
       " 0.9583637632172683,\n",
       " 0.93353629912306,\n",
       " 0.9566147644395773,\n",
       " 0.9685624899323454,\n",
       " 0.9215596896498951,\n",
       " 0.9208069421294937,\n",
       " 0.927000556193607,\n",
       " 0.9229795483575352,\n",
       " 0.9142729337098169,\n",
       " 0.9274315800227172,\n",
       " 0.9283711788428091,\n",
       " 0.9398074902986225,\n",
       " 0.9306289210464015,\n",
       " 0.9327647242052802,\n",
       " 0.9281823378342848,\n",
       " 0.9279202547940341,\n",
       " 0.9250709474548813,\n",
       " 0.9272517491053868,\n",
       " 0.9409841493118641,\n",
       " 0.9190071165099625,\n",
       " 0.9311123802548363,\n",
       " 0.9401775828579015,\n",
       " 0.9293467613958544,\n",
       " 0.9319731118022532,\n",
       " 0.9443334462691326,\n",
       " 0.9419615372367527,\n",
       " 0.9675638761451776,\n",
       " 0.9733711722847465,\n",
       " 0.9730437271238312,\n",
       " 0.9746777378233139,\n",
       " 0.9746793462426623,\n",
       " 0.9702131652832031,\n",
       " 0.9802337646484375]"
      ]
     },
     "execution_count": 71,
     "metadata": {},
     "output_type": "execute_result"
    }
   ],
   "source": [
    "[np.sum(s)/s.size for s in spec]"
   ]
  },
  {
   "cell_type": "code",
   "execution_count": null,
   "metadata": {},
   "outputs": [],
   "source": [
    "# This is suprisingly high dimensional"
   ]
  },
  {
   "cell_type": "code",
   "execution_count": null,
   "metadata": {},
   "outputs": [],
   "source": [
    "# What about down to d=10?"
   ]
  },
  {
   "cell_type": "markdown",
   "metadata": {},
   "source": [
    "### Scores"
   ]
  },
  {
   "cell_type": "code",
   "execution_count": 8,
   "metadata": {},
   "outputs": [
    {
     "name": "stderr",
     "output_type": "stream",
     "text": [
      "/home/akumar/anaconda3/envs/ncontrol/lib/python3.9/site-packages/sklearn/base.py:329: UserWarning: Trying to unpickle estimator LinearRegression from version 0.24.2 when using version 1.1.3. This might lead to breaking code or invalid results. Use at your own risk. For more info please refer to:\n",
      "https://scikit-learn.org/stable/model_persistence.html#security-maintainability-limitations\n",
      "  warnings.warn(\n",
      "/home/akumar/anaconda3/envs/ncontrol/lib/python3.9/site-packages/sklearn/base.py:329: UserWarning: Trying to unpickle estimator LinearRegression from version 0.24.2 when using version 1.1.3. This might lead to breaking code or invalid results. Use at your own risk. For more info please refer to:\n",
      "https://scikit-learn.org/stable/model_persistence.html#security-maintainability-limitations\n",
      "  warnings.warn(\n"
     ]
    }
   ],
   "source": [
    "with open('/mnt/Secondary/data/postprocessed/indy_decoding_df2.dat', 'rb') as f:\n",
    "    indy_df = pickle.load(f)\n",
    "indy_df = pd.DataFrame(indy_df)\n",
    "\n",
    "with open('/mnt/Secondary/data/postprocessed/loco_decoding_df.dat', 'rb') as f:\n",
    "    loco_df = pickle.load(f)\n",
    "loco_df = pd.DataFrame(loco_df)\n",
    "loco_df = apply_df_filters(loco_df,\n",
    "                        loader_args={'bin_width': 50, 'filter_fn': 'none', 'filter_kwargs': {}, 'boxcox': 0.5, 'spike_threshold': 100, 'region': 'M1'},\n",
    "                        decoder_args={'trainlag': 4, 'testlag': 4, 'decoding_window': 5})\n",
    "good_loco_files = ['loco_20170210_03.mat',\n",
    "'loco_20170213_02.mat',\n",
    "'loco_20170215_02.mat',\n",
    "'loco_20170227_04.mat',\n",
    "'loco_20170228_02.mat',\n",
    "'loco_20170301_05.mat',\n",
    "'loco_20170302_02.mat']\n",
    "\n",
    "loco_df = apply_df_filters(loco_df, data_file=good_loco_files)        \n",
    "sabes_df = pd.concat([loco_df, indy_df])"
   ]
  },
  {
   "cell_type": "code",
   "execution_count": 12,
   "metadata": {},
   "outputs": [],
   "source": [
    "from sklearn.model_selection import KFold\n",
    "from sklearn.decomposition import PCA"
   ]
  },
  {
   "cell_type": "code",
   "execution_count": 10,
   "metadata": {},
   "outputs": [],
   "source": [
    "from dca_research.lqg import LQGComponentsAnalysis as LQGCA"
   ]
  },
  {
   "cell_type": "code",
   "execution_count": 18,
   "metadata": {},
   "outputs": [],
   "source": [
    "# What is the fraction of the asymptotic LQR cost attained?\n",
    "dimvals = np.unique(sabes_df['dim'].values)\n",
    "data_files = np.unique(sabes_df['data_file'].values)\n",
    "\n",
    "fcca_scores = np.zeros((dimvals.size, data_files.size, 5))\n",
    "pca_scores = np.zeros((dimvals.size, data_files.size, 5))\n",
    "\n",
    "for i, data_file in enumerate(data_files):\n",
    "    dat = load_sabes('/mnt/Secondary/data/sabes/%s' % data_file)\n",
    "    X = np.squeeze(dat['spike_rates'])\n",
    "    for f, (train_idxs, test_idxs) in enumerate(KFold(n_splits=5).split(X)):\n",
    "        xtrain = X[train_idxs]\n",
    "        pcamodel = PCA().fit(xtrain)\n",
    "\n",
    "        for j, d in enumerate(dimvals):\n",
    "            df = apply_df_filters(sabes_df, data_file=data_file, dimreduc_method='LQGCA', fold_idx=f, dim=d)\n",
    "            assert(df.shape[0] == 1)\n",
    "            lqgmodel = LQGCA(T=3)\n",
    "            lqgscore = lqgmodel.score(X=xtrain, coef=df.iloc[0]['coef'])\n",
    "            fcca_scores[j, i, f] = lqgscore            \n",
    "            pca_scores[j, i, f] = np.sum(pcamodel.explained_variance_ratio_[0:d])"
   ]
  },
  {
   "cell_type": "code",
   "execution_count": null,
   "metadata": {},
   "outputs": [],
   "source": [
    "# Normalize by the ambient scores\n",
    "fcca_ambient = np.zeros((data_files.size, 5))\n",
    "for i, data_file in enumerate(data_files):\n",
    "    dat = load_sabes('/mnt/Secondary/data/sabes/%s' % data_file)\n",
    "    X = np.squeeze(dat['spike_rates'])\n",
    "    for f, (train_idxs, test_idxs) in enumerate(KFold(n_splits=5).split(X)):\n",
    "        xtrain = X[train_idxs]\n",
    "\n",
    "        lqgmodel = LQGCA(T=3)\n",
    "        lqgscore = lqgmodel.score(X=xtrain, coef=df.iloc[0]['coef'])\n",
    "\n",
    "        "
   ]
  },
  {
   "cell_type": "code",
   "execution_count": null,
   "metadata": {},
   "outputs": [],
   "source": [
    "# Plot"
   ]
  },
  {
   "cell_type": "markdown",
   "metadata": {},
   "source": [
    "### Sequential subspace angles"
   ]
  },
  {
   "cell_type": "markdown",
   "metadata": {},
   "source": []
  }
 ],
 "metadata": {
  "interpreter": {
   "hash": "c52494c424e88c3f855a8aeb34b231af4706f7aa247f66fb47c890a5ab8814ab"
  },
  "kernelspec": {
   "display_name": "Python 3.7.10 64-bit ('dyn': conda)",
   "language": "python",
   "name": "python3"
  },
  "language_info": {
   "codemirror_mode": {
    "name": "ipython",
    "version": 3
   },
   "file_extension": ".py",
   "mimetype": "text/x-python",
   "name": "python",
   "nbconvert_exporter": "python",
   "pygments_lexer": "ipython3",
   "version": "3.9.13"
  },
  "orig_nbformat": 4
 },
 "nbformat": 4,
 "nbformat_minor": 2
}
