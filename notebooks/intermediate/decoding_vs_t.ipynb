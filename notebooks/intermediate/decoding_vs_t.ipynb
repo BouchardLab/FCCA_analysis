{
 "cells": [
  {
   "cell_type": "code",
   "execution_count": 2,
   "metadata": {},
   "outputs": [],
   "source": [
    "%load_ext autoreload\n",
    "%autoreload 2"
   ]
  },
  {
   "cell_type": "code",
   "execution_count": 3,
   "metadata": {},
   "outputs": [],
   "source": [
    "import pdb\n",
    "import numpy as np\n",
    "import matplotlib.pyplot as plt\n",
    "import scipy \n",
    "import time\n",
    "import glob\n",
    "import pickle\n",
    "import pandas as pd\n",
    "from tqdm import tqdm\n",
    "from sklearn.linear_model import LinearRegression"
   ]
  },
  {
   "cell_type": "code",
   "execution_count": 4,
   "metadata": {},
   "outputs": [],
   "source": [
    "import itertools\n",
    "from sklearn.model_selection import KFold"
   ]
  },
  {
   "cell_type": "code",
   "execution_count": 5,
   "metadata": {},
   "outputs": [],
   "source": [
    "sys.path.append('/home/akumar/nse/neural_control')\n",
    "from utils import apply_df_filters, calc_loadings"
   ]
  },
  {
   "cell_type": "markdown",
   "metadata": {},
   "source": [
    "### Initial Sabes decoding"
   ]
  },
  {
   "cell_type": "code",
   "execution_count": 6,
   "metadata": {},
   "outputs": [
    {
     "name": "stderr",
     "output_type": "stream",
     "text": [
      "/home/akumar/anaconda3/envs/dyn/lib/python3.7/site-packages/sklearn/base.py:334: UserWarning: Trying to unpickle estimator LinearRegression from version 0.24.2 when using version 0.23.1. This might lead to breaking code or invalid results. Use at your own risk.\n",
      "  UserWarning)\n"
     ]
    }
   ],
   "source": [
    "with open('/home/akumar/nse/neural_control/data/sabes_decoding_df.dat', 'rb') as f:\n",
    "    sabes_df = pickle.load(f)"
   ]
  },
  {
   "cell_type": "code",
   "execution_count": 6,
   "metadata": {},
   "outputs": [
    {
     "data": {
      "text/plain": [
       "Index(['dim', 'fold_idx', 'train_idxs', 'test_idxs', 'dimreduc_method',\n",
       "       'dimreduc_args', 'coef', 'score', 'bin_width', 'filter_fn',\n",
       "       'filter_kwargs', 'boxcox', 'spike_threshold', 'dim_vals', 'n_folds',\n",
       "       'data_file', 'decoder', 'decoder_args', 'decoder_obj', 'r2'],\n",
       "      dtype='object')"
      ]
     },
     "execution_count": 6,
     "metadata": {},
     "output_type": "execute_result"
    }
   ],
   "source": [
    "# Approach (1): Calculate decoder on segmented version of the time series\n",
    "# Approach (2): Use whole series decoder and measure its performance on different segmentations of the time series"
   ]
  },
  {
   "cell_type": "code",
   "execution_count": 1,
   "metadata": {},
   "outputs": [],
   "source": [
    "# Looking at Approach 2"
   ]
  },
  {
   "cell_type": "code",
   "execution_count": null,
   "metadata": {},
   "outputs": [],
   "source": [
    "data_files = np.unique(sabes_df['data_file'].values)\n",
    "folds = np.arange(5)\n",
    "dimreduc_methods = dimreduc_methods = ['PCA', 'LQGCAtrace']\n",
    "KCA_dimreduc_args =  [{'T':3, 'causal_weights':(1, 0), 'n_init':5}, {'T':3, 'causal_weights':(0, 1), 'n_init':5}, {'T':3, 'causal_weights':(1, 1), 'n_init':5}]\n",
    "LQGCA_dimreduc_args = [{'T':3, 'loss_type':'trace', 'n_init':5}, {'T':3, 'loss_type':'fro', 'n_init':5}, {'T':3, 'loss_type':'logdet', 'n_init':5},\n",
    "                       {'T':3, 'loss_type':'additive', 'n_init':5}]\n",
    "\n",
    "dimvals = np.unique(sabes_df['dim'].values)\n",
    "\n",
    "# Pick one\n",
    "decoder_arg = sabes_df.iloc[0]['decoder_args']\n",
    "df = apply_df_filters(sabes_df, decoder_args=decoder_arg)\n",
    "\n",
    "scores = np.zeros((data_files.size, len(dimreduc_methods), folds.size, dimvals.size))\n",
    "\n",
    "for i, data_file in enumerate(data_files):\n",
    "    for j, dr_method in enumerate(dimreduc_methods):\n",
    "        for f, fold in enumerate(folds):\n",
    "            for d, dimval in enumerate(dimvals):            \n",
    "                if 'KCA' in dr_method:\n",
    "                    df_ = apply_df_filters(df, data_file=data_file, dimreduc_method='KCA', fold_idx=fold, dim=dimval)\n",
    "                    # Further filter by dimreduc_args\n",
    "                    if dr_method == 'KCAfwd':\n",
    "                        df_ = apply_df_filters(df_, dimreduc_args=KCA_dimreduc_args[0])\n",
    "                    elif dr_method == 'KCArev':\n",
    "                        df_ = apply_df_filters(df_, dimreduc_args=KCA_dimreduc_args[1])\n",
    "                    elif dr_method == 'KCAeven':\n",
    "                        df_ = apply_df_filters(df_, dimreduc_args=KCA_dimreduc_args[2])\n",
    "                elif 'LQGCA' in dr_method:\n",
    "                    df_ = apply_df_filters(df, data_file=data_file, dimreduc_method='LQGCA', fold_idx=fold, dim=dimval)\n",
    "                    # Further filter by dimreduc_args\n",
    "                    if dr_method == 'LQGCAtrace':\n",
    "                        df_ = apply_df_filters(df_, dimreduc_args=LQGCA_dimreduc_args[0])\n",
    "                    elif dr_method == 'LQGCAfro':\n",
    "                        df_ = apply_df_filters(df_, dimreduc_args=LQGCA_dimreduc_args[1])\n",
    "                else:\n",
    "                    df_ = apply_df_filters(df, data_file=data_file, dimreduc_method=dr_method, fold_idx=fold, dim=dimval)\n"
   ]
  }
 ],
 "metadata": {
  "interpreter": {
   "hash": "c52494c424e88c3f855a8aeb34b231af4706f7aa247f66fb47c890a5ab8814ab"
  },
  "kernelspec": {
   "display_name": "Python 3.7.10 64-bit ('dyn': conda)",
   "language": "python",
   "name": "python3"
  },
  "language_info": {
   "codemirror_mode": {
    "name": "ipython",
    "version": 3
   },
   "file_extension": ".py",
   "mimetype": "text/x-python",
   "name": "python",
   "nbconvert_exporter": "python",
   "pygments_lexer": "ipython3",
   "version": "3.7.6"
  },
  "orig_nbformat": 4
 },
 "nbformat": 4,
 "nbformat_minor": 2
}
