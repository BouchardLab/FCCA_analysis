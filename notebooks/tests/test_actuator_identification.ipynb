{
 "cells": [
  {
   "cell_type": "code",
   "execution_count": 5,
   "metadata": {},
   "outputs": [],
   "source": [
    "%load_ext autoreload\n",
    "%autoreload 2"
   ]
  },
  {
   "cell_type": "code",
   "execution_count": 13,
   "metadata": {},
   "outputs": [],
   "source": [
    "import numpy as np\n",
    "import scipy \n",
    "from neurosim.models.ssr import StateSpaceRealization as SSR\n",
    "import sys\n",
    "import pdb"
   ]
  },
  {
   "cell_type": "code",
   "execution_count": 7,
   "metadata": {},
   "outputs": [],
   "source": [
    "sys.path.append('../..')"
   ]
  },
  {
   "cell_type": "code",
   "execution_count": 8,
   "metadata": {},
   "outputs": [],
   "source": [
    "from subspaces import SubspaceIdentification, factorize\n",
    "from em import StableStateSpaceML"
   ]
  },
  {
   "cell_type": "code",
   "execution_count": 9,
   "metadata": {},
   "outputs": [],
   "source": [
    "from dca_research.lqg import LQGComponentsAnalysis as LQGCA\n",
    "from dca_research.kca import KalmanComponentsAnalysis as KCA"
   ]
  },
  {
   "cell_type": "code",
   "execution_count": null,
   "metadata": {},
   "outputs": [],
   "source": [
    "# Demonstrate what closing the loop with this analysis looks like\n",
    "# (0) Can one obtain the minimum phase model from a small state dimension?\n",
    "# (1) Sweep through the state dimensions and fit SSID/StableML (and when feasible, VAR models). Use the fitted models to produce correlation sequences relevant\n",
    "# for the control problem. Assess consistency with solution derived from the ground truth correltaions\n",
    "# (2) Compare the LQGCA solutions compared with the ordinary optimal feedback control problem\n",
    "# (3) Does underestimating the state dimension cause problems? "
   ]
  },
  {
   "cell_type": "code",
   "execution_count": 27,
   "metadata": {},
   "outputs": [],
   "source": [
    "# Specific observables:\n",
    "# (1) Transmission zeros\n",
    "# (4) Actuator mismatch"
   ]
  },
  {
   "cell_type": "code",
   "execution_count": 10,
   "metadata": {},
   "outputs": [],
   "source": [
    "# (1) Finding transmission zeros\n",
    "def transmission_zeros(A, B, C, D):\n",
    "    # Form matrices for generalized eigenvalue problem\n",
    "    try:\n",
    "        BB = np.block([[np.eye(A.shape[0]), np.zeros(B.shape)], [np.zeros(C.shape), np.zeros(D.shape)]])\n",
    "    except:\n",
    "        pdb.set_trace()\n",
    "    AA = np.block([[A, B], [C , D]])\n",
    "    eig, _ = scipy.linalg.eig(AA,b=BB)\n",
    "    return eig"
   ]
  },
  {
   "cell_type": "code",
   "execution_count": 11,
   "metadata": {},
   "outputs": [],
   "source": [
    "def autocorrelation1(A, C, Q, R, S, T):\n",
    "\n",
    "    autocorr = np.zeros((T, C.shape[0], C.shape[0]))\n",
    "\n",
    "    P = scipy.linalg.solve_discrete_lyapunov(A, Q)\n",
    "\n",
    "    autocorr[0, ...] = C @ P @ C.T + R\n",
    "\n",
    "    # Construct Cbar from A, P, C, and S\n",
    "    Cbar = C @ P @ A.T + S.T\n",
    "\n",
    "    for i in range(1, T):\n",
    "        autocorr[i, ...] = C @ np.linalg.matrix_power(A, i - 1) @ Cbar.T\n",
    "    return autocorr \n"
   ]
  },
  {
   "cell_type": "code",
   "execution_count": 12,
   "metadata": {},
   "outputs": [],
   "source": [
    "def autocorrelation2(A, C, Cbar, Q, R, T):\n",
    "\n",
    "    autocorr = np.zeros((T, C.shape[0], C.shape[0]))\n",
    "\n",
    "    P = scipy.linalg.solve_discrete_lyapunov(A, Q)\n",
    "\n",
    "    autocorr[0, ...] = C @ P @ C.T + R\n",
    "\n",
    "    for i in range(1, T):\n",
    "        autocorr[i, ...] = C @ np.linalg.matrix_power(A, i - 1) @ Cbar.T\n",
    "    return autocorr "
   ]
  },
  {
   "cell_type": "code",
   "execution_count": 27,
   "metadata": {},
   "outputs": [
    {
     "name": "stdout",
     "output_type": "stream",
     "text": [
      "Fitting SSID\n",
      "Fitting SSML\n",
      "E step: 9.753644\n",
      "M step: 0.598059\n",
      "Fitting SSID\n",
      "Fitting SSML\n",
      "E step: 11.911794\n",
      "M step: 0.462713\n"
     ]
    }
   ],
   "source": [
    "model_reps = 5\n",
    "trajectory_reps = 1\n",
    "state_dim = 40\n",
    "obs_dim = 40\n",
    "\n",
    "results_list = []\n",
    "\n",
    "for i in range(model_reps):\n",
    "\n",
    "    A = np.random.normal(scale=1/(1.7 * np.sqrt(state_dim)), size=(state_dim, state_dim))\n",
    "    while max(np.abs(np.linalg.eigvals(A))) > 0.99:\n",
    "        A = np.random.normal(scale=1/(1.7 * np.sqrt(state_dim)), size=(state_dim, state_dim))\n",
    "\n",
    "    #C = scipy.stats.ortho_group.rvs(state_dim)[:, 0:obs_dim].T\n",
    "    ssr = SSR(A=A, B = np.eye(A.shape[0]), C = np.eye(A.shape[0]))\n",
    "\n",
    "    # Fit LQGCA and KCA (time reversed) to the true autocorrelations\n",
    "    lqgca = LQGCA(T=3, d=2)\n",
    "    lqgca.cross_covs = ssr.autocorrelation(5)\n",
    "    # Fit 10 tries\n",
    "    true_lqgca_coefs = []\n",
    "    for _ in range(10):\n",
    "        v, _ = lqgca._fit_projection()\n",
    "        true_lqgca_coefs.append(v)\n",
    "    # Reverse time KCA loadings\n",
    "    kcamodel = KCA(T=3, d=2, causal_weights=(0, 1))\n",
    "    kcamodel.cross_covs = ssr.autocorrelation(5)\n",
    "    true_kcacoefs = []\n",
    "    for _ in range(10):\n",
    "        v, _ = kcamodel._fit_projection()\n",
    "        true_kcacoefs.append(v)\n",
    "\n",
    "    for j in range(trajectory_reps):\n",
    "        y = ssr.trajectory(int(1e4))\n",
    "        # First, fit SSID and state space models where we tune the model order from too low, right, to too high\n",
    "        for model_order in [20, 25, 30, 35, 40]:\n",
    "            print('Fitting SSID')\n",
    "            ssid = SubspaceIdentification()\n",
    "            ssid.identify(y, order=model_order)\n",
    "            A, C, Cbar, L0, Q, R, S = ssid.identify(y, order=model_order)        \n",
    "            Sigma0 = scipy.linalg.solve_discrete_lyapunov(A, Q)\n",
    "\n",
    "            # Calculate system zeros - experiment with the factorize function and also sqrt factorizing R and Q\n",
    "            B1, D1 = factorize(A, C, Cbar, L0)\n",
    "            eB, uB = scipy.linalg.eig(Q)\n",
    "            eD, uD = scipy.linalg.eig(R)\n",
    "\n",
    "            # Rectify spectrum\n",
    "            eB[np.abs(eB) < 1e-8] = 0\n",
    "            eD[np.abs(eD) < 1e-8] = 0\n",
    "\n",
    "            B2 = uB @ np.diag(np.sqrt(eB))\n",
    "            D2 = uD @ np.diag(np.sqrt(eD))\n",
    "\n",
    "            z1 = transmission_zeros(A, B1, C, D1)\n",
    "            # z2 = transmission_zeros(A, B2, C, D2)\n",
    "\n",
    "            ssid_cross_covs = autocorrelation2(A, C, Cbar, Q, R, 5)\n",
    "\n",
    "            # LQGCA loadings\n",
    "            lqgca = LQGCA(T=3, d=2)\n",
    "            lqgca.cross_covs = ssid_cross_covs\n",
    "            # Fit 10 tries\n",
    "            lqgca_coefs = []\n",
    "            for _ in range(10):\n",
    "                v, _ = lqgca._fit_projection()\n",
    "                lqgca_coefs.append(v)\n",
    "            # Reverse time KCA loadings\n",
    "            kcamodel = KCA(T=3, d=2, causal_weights=(0, 1))\n",
    "            kcamodel.cross_covs = ssid_cross_covs\n",
    "            kcacoefs = []\n",
    "            for _ in range(10):\n",
    "                v, _ = kcamodel._fit_projection()\n",
    "                kcacoefs.append(v)\n",
    "\n",
    "\n",
    "            result = {}\n",
    "            result['model_rep'] = 1\n",
    "            result['trajectory_rep'] = 1\n",
    "            result['model_order'] = model_order\n",
    "            result['true_lqgca'] = true_lqgca_coefs\n",
    "            result['true_kca'] = true_kcacoefs\n",
    "            result['z1'] = z1\n",
    "            result['lqgca_ssid'] = lqgca_coefs\n",
    "            result['kca_ssid'] = kcacoefs\n",
    "\n",
    "\n",
    "            print('Fitting SSML')\n",
    "            ssm = StableStateSpaceML(max_iter=5, init_strategy='manual')\n",
    "            try:\n",
    "                ssm.fit(y, state_dim=model_order, Ainit=A, Cinit=C, Qinit=Q, Rinit=R,\n",
    "                        x0 = np.zeros(A.shape[0]), Sigma0 = Sigma0)\n",
    "            except:\n",
    "                result['lgqca_ssl'] = np.nan\n",
    "                result['kca_ssl'] = np.nan\n",
    "                results_list.append(result)\n",
    "                continue\n",
    "\n",
    "            ccm_ml = autocorrelation1(ssm.A, ssm.C, np.eye(ssm.A.shape[0]), ssm.R, np.zeros((ssm.A.shape[0], ssm.C.shape[0])), 5)\n",
    "\n",
    "            # LQGCA loadings\n",
    "            lqgca = LQGCA(T=3, d=2)\n",
    "            lqgca.cross_covs = ccm_ml\n",
    "            # Fit 10 tries\n",
    "            lqgca_coefs = []\n",
    "            for _ in range(10):\n",
    "                v, _ = lqgca._fit_projection()\n",
    "                lqgca_coefs.append(v)\n",
    "            # Reverse time KCA loadings\n",
    "            kcamodel = KCA(T=3, d=2, causal_weights=(0, 1))\n",
    "            kcamodel.cross_covs = ccm_ml\n",
    "            kcacoefs = []\n",
    "            for _ in range(10):\n",
    "                v, _ = kcamodel._fit_projection()\n",
    "                kcacoefs.append(v)\n",
    "\n",
    "            result['lqgca_ssl'] = lqgca_coefs\n",
    "            result['kca_ssl'] = kcacoefs\n",
    "\n",
    "            results_list.append(result)\n"
   ]
  },
  {
   "cell_type": "code",
   "execution_count": 16,
   "metadata": {},
   "outputs": [],
   "source": [
    "# Tasks for tomorrow\n",
    "# Produce plots for this guy, its VAR equivalent, and similarly the VAR equivalent for the other guy\n",
    "# However, start with runningb ARMA state space on a VAR fit\n",
    "# To do control theoretic analysis on non-square models, may need to \"ignore\" the D matrix\n",
    "# Produce conceptual figure about the role of predictor spaces\n",
    "# Time permitting, outline polar decomposition stuff (unlikely)"
   ]
  },
  {
   "cell_type": "code",
   "execution_count": 14,
   "metadata": {},
   "outputs": [],
   "source": [
    "from pyuoi.linear_model.var import VAR\n",
    "from neurosim.models.var import VAR as VARss, form_companion"
   ]
  },
  {
   "cell_type": "code",
   "execution_count": 15,
   "metadata": {},
   "outputs": [
    {
     "name": "stderr",
     "output_type": "stream",
     "text": [
      "40it [00:00, 64.99it/s]\n",
      "0it [00:00, ?it/s]"
     ]
    },
    {
     "name": "stdout",
     "output_type": "stream",
     "text": [
      "Training is over.\n"
     ]
    },
    {
     "name": "stderr",
     "output_type": "stream",
     "text": [
      "1it [00:05,  5.58s/it]"
     ]
    },
    {
     "name": "stdout",
     "output_type": "stream",
     "text": [
      "Training is over.\n"
     ]
    },
    {
     "name": "stderr",
     "output_type": "stream",
     "text": [
      "2it [00:10,  5.02s/it]"
     ]
    },
    {
     "name": "stdout",
     "output_type": "stream",
     "text": [
      "Training is over.\n"
     ]
    },
    {
     "name": "stderr",
     "output_type": "stream",
     "text": [
      "2it [00:14,  7.35s/it]\n"
     ]
    },
    {
     "ename": "KeyboardInterrupt",
     "evalue": "",
     "output_type": "error",
     "traceback": [
      "\u001b[0;31m---------------------------------------------------------------------------\u001b[0m",
      "\u001b[0;31mKeyboardInterrupt\u001b[0m                         Traceback (most recent call last)",
      "\u001b[0;32m<ipython-input-15-624f9d3cbd51>\u001b[0m in \u001b[0;36m<module>\u001b[0;34m\u001b[0m\n\u001b[1;32m     56\u001b[0m             \u001b[0mvarmodel2\u001b[0m \u001b[0;34m=\u001b[0m \u001b[0mVAR\u001b[0m\u001b[0;34m(\u001b[0m\u001b[0morder\u001b[0m\u001b[0;34m=\u001b[0m\u001b[0mvar_order\u001b[0m\u001b[0;34m,\u001b[0m \u001b[0mestimator\u001b[0m\u001b[0;34m=\u001b[0m\u001b[0;34m'uoi'\u001b[0m\u001b[0;34m,\u001b[0m \u001b[0mpenalty\u001b[0m\u001b[0;34m=\u001b[0m\u001b[0;34m'scad'\u001b[0m\u001b[0;34m,\u001b[0m \u001b[0mfit_type\u001b[0m\u001b[0;34m=\u001b[0m\u001b[0;34m'union_only'\u001b[0m\u001b[0;34m)\u001b[0m\u001b[0;34m\u001b[0m\u001b[0;34m\u001b[0m\u001b[0m\n\u001b[1;32m     57\u001b[0m \u001b[0;34m\u001b[0m\u001b[0m\n\u001b[0;32m---> 58\u001b[0;31m             \u001b[0mvarmodel2\u001b[0m\u001b[0;34m.\u001b[0m\u001b[0mfit\u001b[0m\u001b[0;34m(\u001b[0m\u001b[0my\u001b[0m\u001b[0;34m)\u001b[0m\u001b[0;34m\u001b[0m\u001b[0;34m\u001b[0m\u001b[0m\n\u001b[0m\u001b[1;32m     59\u001b[0m             \u001b[0mvar_ssm\u001b[0m \u001b[0;34m=\u001b[0m \u001b[0mVARss\u001b[0m\u001b[0;34m(\u001b[0m\u001b[0mvarmodel2\u001b[0m\u001b[0;34m.\u001b[0m\u001b[0mcoef_\u001b[0m\u001b[0;34m)\u001b[0m\u001b[0;34m\u001b[0m\u001b[0;34m\u001b[0m\u001b[0m\n\u001b[1;32m     60\u001b[0m \u001b[0;34m\u001b[0m\u001b[0m\n",
      "\u001b[0;32m~/nse/pyuoi/pyuoi/linear_model/var.py\u001b[0m in \u001b[0;36mfit\u001b[0;34m(self, y, distributed_save, savepath, resume)\u001b[0m\n\u001b[1;32m    220\u001b[0m                         \u001b[0mself\u001b[0m\u001b[0;34m.\u001b[0m\u001b[0mestimator\u001b[0m\u001b[0;34m.\u001b[0m\u001b[0mfit\u001b[0m\u001b[0;34m(\u001b[0m\u001b[0mxx\u001b[0m\u001b[0;34m,\u001b[0m \u001b[0myy\u001b[0m\u001b[0;34m,\u001b[0m \u001b[0msavepaths\u001b[0m\u001b[0;34m[\u001b[0m\u001b[0midx\u001b[0m\u001b[0;34m]\u001b[0m\u001b[0;34m)\u001b[0m\u001b[0;34m\u001b[0m\u001b[0;34m\u001b[0m\u001b[0m\n\u001b[1;32m    221\u001b[0m                     \u001b[0;32melse\u001b[0m\u001b[0;34m:\u001b[0m\u001b[0;34m\u001b[0m\u001b[0;34m\u001b[0m\u001b[0m\n\u001b[0;32m--> 222\u001b[0;31m                         \u001b[0mself\u001b[0m\u001b[0;34m.\u001b[0m\u001b[0mestimator\u001b[0m\u001b[0;34m.\u001b[0m\u001b[0mfit\u001b[0m\u001b[0;34m(\u001b[0m\u001b[0mxx\u001b[0m\u001b[0;34m,\u001b[0m \u001b[0myy\u001b[0m\u001b[0;34m)\u001b[0m\u001b[0;34m\u001b[0m\u001b[0;34m\u001b[0m\u001b[0m\n\u001b[0m\u001b[1;32m    223\u001b[0m \u001b[0;34m\u001b[0m\u001b[0m\n\u001b[1;32m    224\u001b[0m                     \u001b[0;32mif\u001b[0m \u001b[0mself\u001b[0m\u001b[0;34m.\u001b[0m\u001b[0mself_regress\u001b[0m\u001b[0;34m:\u001b[0m\u001b[0;34m\u001b[0m\u001b[0;34m\u001b[0m\u001b[0m\n",
      "\u001b[0;32m~/nse/pyuoi/pyuoi/linear_model/var.py\u001b[0m in \u001b[0;36mfit\u001b[0;34m(self, X, y, savepath)\u001b[0m\n\u001b[1;32m    323\u001b[0m \u001b[0;34m\u001b[0m\u001b[0m\n\u001b[1;32m    324\u001b[0m     \u001b[0;32mdef\u001b[0m \u001b[0mfit\u001b[0m\u001b[0;34m(\u001b[0m\u001b[0mself\u001b[0m\u001b[0;34m,\u001b[0m \u001b[0mX\u001b[0m\u001b[0;34m,\u001b[0m \u001b[0my\u001b[0m\u001b[0;34m,\u001b[0m \u001b[0msavepath\u001b[0m\u001b[0;34m=\u001b[0m\u001b[0;32mNone\u001b[0m\u001b[0;34m)\u001b[0m\u001b[0;34m:\u001b[0m\u001b[0;34m\u001b[0m\u001b[0;34m\u001b[0m\u001b[0m\n\u001b[0;32m--> 325\u001b[0;31m         \u001b[0msuper\u001b[0m\u001b[0;34m(\u001b[0m\u001b[0mUoIVAR_Estimator\u001b[0m\u001b[0;34m,\u001b[0m \u001b[0mself\u001b[0m\u001b[0;34m)\u001b[0m\u001b[0;34m.\u001b[0m\u001b[0mfit\u001b[0m\u001b[0;34m(\u001b[0m\u001b[0mX\u001b[0m\u001b[0;34m,\u001b[0m \u001b[0my\u001b[0m\u001b[0;34m)\u001b[0m\u001b[0;34m\u001b[0m\u001b[0;34m\u001b[0m\u001b[0m\n\u001b[0m\u001b[1;32m    326\u001b[0m \u001b[0;34m\u001b[0m\u001b[0m\n\u001b[1;32m    327\u001b[0m         \u001b[0;32mif\u001b[0m \u001b[0msavepath\u001b[0m \u001b[0;32mis\u001b[0m \u001b[0;32mnot\u001b[0m \u001b[0;32mNone\u001b[0m\u001b[0;34m:\u001b[0m\u001b[0;34m\u001b[0m\u001b[0;34m\u001b[0m\u001b[0m\n",
      "\u001b[0;32m~/nse/pyuoi/pyuoi/linear_model/base.py\u001b[0m in \u001b[0;36mfit\u001b[0;34m(self, X, y, stratify, verbose)\u001b[0m\n\u001b[1;32m    225\u001b[0m         \u001b[0;32melse\u001b[0m\u001b[0;34m:\u001b[0m\u001b[0;34m\u001b[0m\u001b[0;34m\u001b[0m\u001b[0m\n\u001b[1;32m    226\u001b[0m             \u001b[0mself\u001b[0m\u001b[0;34m.\u001b[0m\u001b[0mselection\u001b[0m\u001b[0;34m(\u001b[0m\u001b[0mX\u001b[0m\u001b[0;34m,\u001b[0m \u001b[0my\u001b[0m\u001b[0;34m,\u001b[0m \u001b[0mstratify\u001b[0m\u001b[0;34m)\u001b[0m\u001b[0;34m\u001b[0m\u001b[0;34m\u001b[0m\u001b[0m\n\u001b[0;32m--> 227\u001b[0;31m             \u001b[0mself\u001b[0m\u001b[0;34m.\u001b[0m\u001b[0mestimation\u001b[0m\u001b[0;34m(\u001b[0m\u001b[0mX\u001b[0m\u001b[0;34m,\u001b[0m \u001b[0my\u001b[0m\u001b[0;34m,\u001b[0m \u001b[0mstratify\u001b[0m\u001b[0;34m)\u001b[0m\u001b[0;34m\u001b[0m\u001b[0;34m\u001b[0m\u001b[0m\n\u001b[0m\u001b[1;32m    228\u001b[0m             \u001b[0mself\u001b[0m\u001b[0;34m.\u001b[0m\u001b[0m_post_fit\u001b[0m\u001b[0;34m(\u001b[0m\u001b[0mX\u001b[0m\u001b[0;34m,\u001b[0m \u001b[0my\u001b[0m\u001b[0;34m)\u001b[0m\u001b[0;34m\u001b[0m\u001b[0;34m\u001b[0m\u001b[0m\n\u001b[1;32m    229\u001b[0m \u001b[0;34m\u001b[0m\u001b[0m\n",
      "\u001b[0;32m~/nse/pyuoi/pyuoi/linear_model/base.py\u001b[0m in \u001b[0;36mestimation\u001b[0;34m(self, X, y, stratify)\u001b[0m\n\u001b[1;32m    406\u001b[0m                 \u001b[0;31m# compute the estimate and store the fitted coefficients\u001b[0m\u001b[0;34m\u001b[0m\u001b[0;34m\u001b[0m\u001b[0;34m\u001b[0m\u001b[0m\n\u001b[1;32m    407\u001b[0m                 \u001b[0;32mif\u001b[0m \u001b[0mself\u001b[0m\u001b[0;34m.\u001b[0m\u001b[0mshared_support\u001b[0m\u001b[0;34m:\u001b[0m\u001b[0;34m\u001b[0m\u001b[0;34m\u001b[0m\u001b[0m\n\u001b[0;32m--> 408\u001b[0;31m                     \u001b[0mself\u001b[0m\u001b[0;34m.\u001b[0m\u001b[0m_estimation_lm\u001b[0m\u001b[0;34m.\u001b[0m\u001b[0mfit\u001b[0m\u001b[0;34m(\u001b[0m\u001b[0mX_rep\u001b[0m\u001b[0;34m,\u001b[0m \u001b[0my_rep\u001b[0m\u001b[0;34m,\u001b[0m \u001b[0mcoef_mask\u001b[0m\u001b[0;34m=\u001b[0m\u001b[0msupport\u001b[0m\u001b[0;34m)\u001b[0m\u001b[0;34m\u001b[0m\u001b[0;34m\u001b[0m\u001b[0m\n\u001b[0m\u001b[1;32m    409\u001b[0m                     \u001b[0mestimates\u001b[0m\u001b[0;34m[\u001b[0m\u001b[0mii\u001b[0m\u001b[0;34m,\u001b[0m \u001b[0mnp\u001b[0m\u001b[0;34m.\u001b[0m\u001b[0mtile\u001b[0m\u001b[0;34m(\u001b[0m\u001b[0msupport\u001b[0m\u001b[0;34m,\u001b[0m \u001b[0mself\u001b[0m\u001b[0;34m.\u001b[0m\u001b[0moutput_dim\u001b[0m\u001b[0;34m)\u001b[0m\u001b[0;34m]\u001b[0m \u001b[0;34m=\u001b[0m\u001b[0;31m \u001b[0m\u001b[0;31m\\\u001b[0m\u001b[0;34m\u001b[0m\u001b[0;34m\u001b[0m\u001b[0m\n\u001b[1;32m    410\u001b[0m                         \u001b[0mself\u001b[0m\u001b[0;34m.\u001b[0m\u001b[0m_estimation_lm\u001b[0m\u001b[0;34m.\u001b[0m\u001b[0mcoef_\u001b[0m\u001b[0;34m.\u001b[0m\u001b[0mravel\u001b[0m\u001b[0;34m(\u001b[0m\u001b[0;34m)\u001b[0m\u001b[0;34m\u001b[0m\u001b[0;34m\u001b[0m\u001b[0m\n",
      "\u001b[0;32m~/nse/pyuoi/pyuoi/linear_model/var.py\u001b[0m in \u001b[0;36mfit\u001b[0;34m(self, X, y, coef_mask)\u001b[0m\n\u001b[1;32m    425\u001b[0m             \u001b[0mX\u001b[0m \u001b[0;34m=\u001b[0m \u001b[0mX\u001b[0m\u001b[0;34m[\u001b[0m\u001b[0;34m:\u001b[0m\u001b[0;34m,\u001b[0m \u001b[0mcoef_mask\u001b[0m\u001b[0;34m]\u001b[0m\u001b[0;34m\u001b[0m\u001b[0;34m\u001b[0m\u001b[0m\n\u001b[1;32m    426\u001b[0m \u001b[0;34m\u001b[0m\u001b[0m\n\u001b[0;32m--> 427\u001b[0;31m         \u001b[0msuper\u001b[0m\u001b[0;34m(\u001b[0m\u001b[0mVAR_OLS_Wrapper\u001b[0m\u001b[0;34m,\u001b[0m \u001b[0mself\u001b[0m\u001b[0;34m)\u001b[0m\u001b[0;34m.\u001b[0m\u001b[0mfit\u001b[0m\u001b[0;34m(\u001b[0m\u001b[0mX\u001b[0m\u001b[0;34m,\u001b[0m \u001b[0my\u001b[0m\u001b[0;34m)\u001b[0m\u001b[0;34m\u001b[0m\u001b[0;34m\u001b[0m\u001b[0m\n\u001b[0m\u001b[1;32m    428\u001b[0m \u001b[0;34m\u001b[0m\u001b[0m\n\u001b[1;32m    429\u001b[0m         \u001b[0;32mif\u001b[0m \u001b[0mself\u001b[0m\u001b[0;34m.\u001b[0m\u001b[0mstandalone\u001b[0m\u001b[0;34m:\u001b[0m\u001b[0;34m\u001b[0m\u001b[0;34m\u001b[0m\u001b[0m\n",
      "\u001b[0;32m~/anaconda3/envs/dyn/lib/python3.7/site-packages/sklearn/linear_model/_base.py\u001b[0m in \u001b[0;36mfit\u001b[0;34m(self, X, y, sample_weight)\u001b[0m\n\u001b[1;32m    513\u001b[0m             \u001b[0mX\u001b[0m\u001b[0;34m,\u001b[0m \u001b[0my\u001b[0m\u001b[0;34m,\u001b[0m \u001b[0mfit_intercept\u001b[0m\u001b[0;34m=\u001b[0m\u001b[0mself\u001b[0m\u001b[0;34m.\u001b[0m\u001b[0mfit_intercept\u001b[0m\u001b[0;34m,\u001b[0m \u001b[0mnormalize\u001b[0m\u001b[0;34m=\u001b[0m\u001b[0mself\u001b[0m\u001b[0;34m.\u001b[0m\u001b[0mnormalize\u001b[0m\u001b[0;34m,\u001b[0m\u001b[0;34m\u001b[0m\u001b[0;34m\u001b[0m\u001b[0m\n\u001b[1;32m    514\u001b[0m             \u001b[0mcopy\u001b[0m\u001b[0;34m=\u001b[0m\u001b[0mself\u001b[0m\u001b[0;34m.\u001b[0m\u001b[0mcopy_X\u001b[0m\u001b[0;34m,\u001b[0m \u001b[0msample_weight\u001b[0m\u001b[0;34m=\u001b[0m\u001b[0msample_weight\u001b[0m\u001b[0;34m,\u001b[0m\u001b[0;34m\u001b[0m\u001b[0;34m\u001b[0m\u001b[0m\n\u001b[0;32m--> 515\u001b[0;31m             return_mean=True)\n\u001b[0m\u001b[1;32m    516\u001b[0m \u001b[0;34m\u001b[0m\u001b[0m\n\u001b[1;32m    517\u001b[0m         \u001b[0;32mif\u001b[0m \u001b[0msample_weight\u001b[0m \u001b[0;32mis\u001b[0m \u001b[0;32mnot\u001b[0m \u001b[0;32mNone\u001b[0m\u001b[0;34m:\u001b[0m\u001b[0;34m\u001b[0m\u001b[0;34m\u001b[0m\u001b[0m\n",
      "\u001b[0;32m~/anaconda3/envs/dyn/lib/python3.7/site-packages/sklearn/linear_model/_base.py\u001b[0m in \u001b[0;36m_preprocess_data\u001b[0;34m(X, y, fit_intercept, normalize, copy, sample_weight, return_mean, check_input)\u001b[0m\n\u001b[1;32m    127\u001b[0m     \u001b[0;32mif\u001b[0m \u001b[0mcheck_input\u001b[0m\u001b[0;34m:\u001b[0m\u001b[0;34m\u001b[0m\u001b[0;34m\u001b[0m\u001b[0m\n\u001b[1;32m    128\u001b[0m         X = check_array(X, copy=copy, accept_sparse=['csr', 'csc'],\n\u001b[0;32m--> 129\u001b[0;31m                         dtype=FLOAT_DTYPES)\n\u001b[0m\u001b[1;32m    130\u001b[0m     \u001b[0;32melif\u001b[0m \u001b[0mcopy\u001b[0m\u001b[0;34m:\u001b[0m\u001b[0;34m\u001b[0m\u001b[0;34m\u001b[0m\u001b[0m\n\u001b[1;32m    131\u001b[0m         \u001b[0;32mif\u001b[0m \u001b[0msp\u001b[0m\u001b[0;34m.\u001b[0m\u001b[0missparse\u001b[0m\u001b[0;34m(\u001b[0m\u001b[0mX\u001b[0m\u001b[0;34m)\u001b[0m\u001b[0;34m:\u001b[0m\u001b[0;34m\u001b[0m\u001b[0;34m\u001b[0m\u001b[0m\n",
      "\u001b[0;32m~/anaconda3/envs/dyn/lib/python3.7/site-packages/sklearn/utils/validation.py\u001b[0m in \u001b[0;36minner_f\u001b[0;34m(*args, **kwargs)\u001b[0m\n\u001b[1;32m     71\u001b[0m                           FutureWarning)\n\u001b[1;32m     72\u001b[0m         \u001b[0mkwargs\u001b[0m\u001b[0;34m.\u001b[0m\u001b[0mupdate\u001b[0m\u001b[0;34m(\u001b[0m\u001b[0;34m{\u001b[0m\u001b[0mk\u001b[0m\u001b[0;34m:\u001b[0m \u001b[0marg\u001b[0m \u001b[0;32mfor\u001b[0m \u001b[0mk\u001b[0m\u001b[0;34m,\u001b[0m \u001b[0marg\u001b[0m \u001b[0;32min\u001b[0m \u001b[0mzip\u001b[0m\u001b[0;34m(\u001b[0m\u001b[0msig\u001b[0m\u001b[0;34m.\u001b[0m\u001b[0mparameters\u001b[0m\u001b[0;34m,\u001b[0m \u001b[0margs\u001b[0m\u001b[0;34m)\u001b[0m\u001b[0;34m}\u001b[0m\u001b[0;34m)\u001b[0m\u001b[0;34m\u001b[0m\u001b[0;34m\u001b[0m\u001b[0m\n\u001b[0;32m---> 73\u001b[0;31m         \u001b[0;32mreturn\u001b[0m \u001b[0mf\u001b[0m\u001b[0;34m(\u001b[0m\u001b[0;34m**\u001b[0m\u001b[0mkwargs\u001b[0m\u001b[0;34m)\u001b[0m\u001b[0;34m\u001b[0m\u001b[0;34m\u001b[0m\u001b[0m\n\u001b[0m\u001b[1;32m     74\u001b[0m     \u001b[0;32mreturn\u001b[0m \u001b[0minner_f\u001b[0m\u001b[0;34m\u001b[0m\u001b[0;34m\u001b[0m\u001b[0m\n\u001b[1;32m     75\u001b[0m \u001b[0;34m\u001b[0m\u001b[0m\n",
      "\u001b[0;32m~/anaconda3/envs/dyn/lib/python3.7/site-packages/sklearn/utils/validation.py\u001b[0m in \u001b[0;36mcheck_array\u001b[0;34m(array, accept_sparse, accept_large_sparse, dtype, order, copy, force_all_finite, ensure_2d, allow_nd, ensure_min_samples, ensure_min_features, estimator)\u001b[0m\n\u001b[1;32m    644\u001b[0m         \u001b[0;32mif\u001b[0m \u001b[0mforce_all_finite\u001b[0m\u001b[0;34m:\u001b[0m\u001b[0;34m\u001b[0m\u001b[0;34m\u001b[0m\u001b[0m\n\u001b[1;32m    645\u001b[0m             _assert_all_finite(array,\n\u001b[0;32m--> 646\u001b[0;31m                                allow_nan=force_all_finite == 'allow-nan')\n\u001b[0m\u001b[1;32m    647\u001b[0m \u001b[0;34m\u001b[0m\u001b[0m\n\u001b[1;32m    648\u001b[0m     \u001b[0;32mif\u001b[0m \u001b[0mensure_min_samples\u001b[0m \u001b[0;34m>\u001b[0m \u001b[0;36m0\u001b[0m\u001b[0;34m:\u001b[0m\u001b[0;34m\u001b[0m\u001b[0;34m\u001b[0m\u001b[0m\n",
      "\u001b[0;32m~/anaconda3/envs/dyn/lib/python3.7/site-packages/sklearn/utils/validation.py\u001b[0m in \u001b[0;36m_assert_all_finite\u001b[0;34m(X, allow_nan, msg_dtype)\u001b[0m\n\u001b[1;32m     88\u001b[0m     \u001b[0;31m# safely to reduce dtype induced overflows.\u001b[0m\u001b[0;34m\u001b[0m\u001b[0;34m\u001b[0m\u001b[0;34m\u001b[0m\u001b[0m\n\u001b[1;32m     89\u001b[0m     \u001b[0mis_float\u001b[0m \u001b[0;34m=\u001b[0m \u001b[0mX\u001b[0m\u001b[0;34m.\u001b[0m\u001b[0mdtype\u001b[0m\u001b[0;34m.\u001b[0m\u001b[0mkind\u001b[0m \u001b[0;32min\u001b[0m \u001b[0;34m'fc'\u001b[0m\u001b[0;34m\u001b[0m\u001b[0;34m\u001b[0m\u001b[0m\n\u001b[0;32m---> 90\u001b[0;31m     \u001b[0;32mif\u001b[0m \u001b[0mis_float\u001b[0m \u001b[0;32mand\u001b[0m \u001b[0;34m(\u001b[0m\u001b[0mnp\u001b[0m\u001b[0;34m.\u001b[0m\u001b[0misfinite\u001b[0m\u001b[0;34m(\u001b[0m\u001b[0m_safe_accumulator_op\u001b[0m\u001b[0;34m(\u001b[0m\u001b[0mnp\u001b[0m\u001b[0;34m.\u001b[0m\u001b[0msum\u001b[0m\u001b[0;34m,\u001b[0m \u001b[0mX\u001b[0m\u001b[0;34m)\u001b[0m\u001b[0;34m)\u001b[0m\u001b[0;34m)\u001b[0m\u001b[0;34m:\u001b[0m\u001b[0;34m\u001b[0m\u001b[0;34m\u001b[0m\u001b[0m\n\u001b[0m\u001b[1;32m     91\u001b[0m         \u001b[0;32mpass\u001b[0m\u001b[0;34m\u001b[0m\u001b[0;34m\u001b[0m\u001b[0m\n\u001b[1;32m     92\u001b[0m     \u001b[0;32melif\u001b[0m \u001b[0mis_float\u001b[0m\u001b[0;34m:\u001b[0m\u001b[0;34m\u001b[0m\u001b[0;34m\u001b[0m\u001b[0m\n",
      "\u001b[0;32m~/anaconda3/envs/dyn/lib/python3.7/site-packages/sklearn/utils/extmath.py\u001b[0m in \u001b[0;36m_safe_accumulator_op\u001b[0;34m(op, x, *args, **kwargs)\u001b[0m\n\u001b[1;32m    709\u001b[0m         \u001b[0mresult\u001b[0m \u001b[0;34m=\u001b[0m \u001b[0mop\u001b[0m\u001b[0;34m(\u001b[0m\u001b[0mx\u001b[0m\u001b[0;34m,\u001b[0m \u001b[0;34m*\u001b[0m\u001b[0margs\u001b[0m\u001b[0;34m,\u001b[0m \u001b[0;34m**\u001b[0m\u001b[0mkwargs\u001b[0m\u001b[0;34m,\u001b[0m \u001b[0mdtype\u001b[0m\u001b[0;34m=\u001b[0m\u001b[0mnp\u001b[0m\u001b[0;34m.\u001b[0m\u001b[0mfloat64\u001b[0m\u001b[0;34m)\u001b[0m\u001b[0;34m\u001b[0m\u001b[0;34m\u001b[0m\u001b[0m\n\u001b[1;32m    710\u001b[0m     \u001b[0;32melse\u001b[0m\u001b[0;34m:\u001b[0m\u001b[0;34m\u001b[0m\u001b[0;34m\u001b[0m\u001b[0m\n\u001b[0;32m--> 711\u001b[0;31m         \u001b[0mresult\u001b[0m \u001b[0;34m=\u001b[0m \u001b[0mop\u001b[0m\u001b[0;34m(\u001b[0m\u001b[0mx\u001b[0m\u001b[0;34m,\u001b[0m \u001b[0;34m*\u001b[0m\u001b[0margs\u001b[0m\u001b[0;34m,\u001b[0m \u001b[0;34m**\u001b[0m\u001b[0mkwargs\u001b[0m\u001b[0;34m)\u001b[0m\u001b[0;34m\u001b[0m\u001b[0;34m\u001b[0m\u001b[0m\n\u001b[0m\u001b[1;32m    712\u001b[0m     \u001b[0;32mreturn\u001b[0m \u001b[0mresult\u001b[0m\u001b[0;34m\u001b[0m\u001b[0;34m\u001b[0m\u001b[0m\n\u001b[1;32m    713\u001b[0m \u001b[0;34m\u001b[0m\u001b[0m\n",
      "\u001b[0;32m<__array_function__ internals>\u001b[0m in \u001b[0;36msum\u001b[0;34m(*args, **kwargs)\u001b[0m\n",
      "\u001b[0;32m~/anaconda3/envs/dyn/lib/python3.7/site-packages/numpy/core/fromnumeric.py\u001b[0m in \u001b[0;36msum\u001b[0;34m(a, axis, dtype, out, keepdims, initial, where)\u001b[0m\n\u001b[1;32m   2227\u001b[0m \u001b[0;34m\u001b[0m\u001b[0m\n\u001b[1;32m   2228\u001b[0m     return _wrapreduction(a, np.add, 'sum', axis, dtype, out, keepdims=keepdims,\n\u001b[0;32m-> 2229\u001b[0;31m                           initial=initial, where=where)\n\u001b[0m\u001b[1;32m   2230\u001b[0m \u001b[0;34m\u001b[0m\u001b[0m\n\u001b[1;32m   2231\u001b[0m \u001b[0;34m\u001b[0m\u001b[0m\n",
      "\u001b[0;32m~/anaconda3/envs/dyn/lib/python3.7/site-packages/numpy/core/fromnumeric.py\u001b[0m in \u001b[0;36m_wrapreduction\u001b[0;34m(obj, ufunc, method, axis, dtype, out, **kwargs)\u001b[0m\n\u001b[1;32m     88\u001b[0m                 \u001b[0;32mreturn\u001b[0m \u001b[0mreduction\u001b[0m\u001b[0;34m(\u001b[0m\u001b[0maxis\u001b[0m\u001b[0;34m=\u001b[0m\u001b[0maxis\u001b[0m\u001b[0;34m,\u001b[0m \u001b[0mout\u001b[0m\u001b[0;34m=\u001b[0m\u001b[0mout\u001b[0m\u001b[0;34m,\u001b[0m \u001b[0;34m**\u001b[0m\u001b[0mpasskwargs\u001b[0m\u001b[0;34m)\u001b[0m\u001b[0;34m\u001b[0m\u001b[0;34m\u001b[0m\u001b[0m\n\u001b[1;32m     89\u001b[0m \u001b[0;34m\u001b[0m\u001b[0m\n\u001b[0;32m---> 90\u001b[0;31m     \u001b[0;32mreturn\u001b[0m \u001b[0mufunc\u001b[0m\u001b[0;34m.\u001b[0m\u001b[0mreduce\u001b[0m\u001b[0;34m(\u001b[0m\u001b[0mobj\u001b[0m\u001b[0;34m,\u001b[0m \u001b[0maxis\u001b[0m\u001b[0;34m,\u001b[0m \u001b[0mdtype\u001b[0m\u001b[0;34m,\u001b[0m \u001b[0mout\u001b[0m\u001b[0;34m,\u001b[0m \u001b[0;34m**\u001b[0m\u001b[0mpasskwargs\u001b[0m\u001b[0;34m)\u001b[0m\u001b[0;34m\u001b[0m\u001b[0;34m\u001b[0m\u001b[0m\n\u001b[0m\u001b[1;32m     91\u001b[0m \u001b[0;34m\u001b[0m\u001b[0m\n\u001b[1;32m     92\u001b[0m \u001b[0;34m\u001b[0m\u001b[0m\n",
      "\u001b[0;31mKeyboardInterrupt\u001b[0m: "
     ]
    }
   ],
   "source": [
    "model_reps = 5\n",
    "trajectory_reps = 1\n",
    "state_dim = 40\n",
    "obs_dim = 40\n",
    "\n",
    "results_list = []\n",
    "\n",
    "for i in range(model_reps):\n",
    "\n",
    "    A = np.random.normal(scale=1/(1.7 * np.sqrt(state_dim)), size=(state_dim, state_dim))\n",
    "    while max(np.abs(np.linalg.eigvals(A))) > 0.99:\n",
    "        A = np.random.normal(scale=1/(1.7 * np.sqrt(state_dim)), size=(state_dim, state_dim))\n",
    "\n",
    "    #C = scipy.stats.ortho_group.rvs(state_dim)[:, 0:obs_dim].T\n",
    "    ssr = SSR(A=A, B = np.eye(A.shape[0]), C = np.eye(A.shape[0]))\n",
    "\n",
    "    # Fit LQGCA and KCA (time reversed) to the true autocorrelations\n",
    "    lqgca = LQGCA(T=3, d=2)\n",
    "    lqgca.cross_covs = ssr.autocorrelation(5)\n",
    "    # Fit 10 tries\n",
    "    true_lqgca_coefs = []\n",
    "    for _ in range(10):\n",
    "        v, _ = lqgca._fit_projection()\n",
    "        true_lqgca_coefs.append(v)\n",
    "    # Reverse time KCA loadings\n",
    "    kcamodel = KCA(T=3, d=2, causal_weights=(0, 1))\n",
    "    kcamodel.cross_covs = ssr.autocorrelation(5)\n",
    "    true_kcacoefs = []\n",
    "    for _ in range(10):\n",
    "        v, _ = kcamodel._fit_projection()\n",
    "        true_kcacoefs.append(v)\n",
    "\n",
    "    for j in range(trajectory_reps):\n",
    "        y = ssr.trajectory(int(1e4))\n",
    "        # First, fit SSID and state space models where we tune the model order from too low, right, to too high\n",
    "        for var_order in [1, 2, 3, 4]:\n",
    "            varmodel1 =  VAR(order=var_order, estimator='ols')\n",
    "            varmodel1.fit(y)\n",
    "            var_ssm = VARss(varmodel1.coef_)\n",
    "\n",
    "            lqgca = LQGCA(T=3, d=2)\n",
    "            lqgca.cross_covs = var_ssm.autocorrelation(5)\n",
    "            # Fit 10 tries\n",
    "            lqgca_coefs_ols = []\n",
    "            for _ in range(10):\n",
    "                v, _ = lqgca._fit_projection()\n",
    "                lqgca_coefs_ols.append(v)\n",
    "            # Reverse time KCA loadings\n",
    "            kcamodel = KCA(T=3, d=2, causal_weights=(0, 1))\n",
    "            kcamodel.cross_covs = var_ssm.autocorrelation(5)\n",
    "            kcacoefs_ols = []\n",
    "            for _ in range(10):\n",
    "                v, _ = kcamodel._fit_projection()\n",
    "                kcacoefs_ols.append(v)\n",
    "\n",
    "            varmodel2 = VAR(order=var_order, estimator='uoi', penalty='scad', fit_type='union_only')\n",
    "\n",
    "            varmodel2.fit(y)\n",
    "            var_ssm = VARss(varmodel2.coef_)\n",
    "\n",
    "            lqgca = LQGCA(T=3, d=2)\n",
    "            lqgca.cross_covs = var_ssm.autocorrelation(5)\n",
    "            # Fit 10 tries\n",
    "            lqgca_coefs_uoi = []\n",
    "            for _ in range(10):\n",
    "                v, _ = lqgca._fit_projection()\n",
    "                lqgca_coefs_uoi.append(v)\n",
    "            # Reverse time KCA loadings\n",
    "            kcamodel = KCA(T=3, d=2, causal_weights=(0, 1))\n",
    "            kcamodel.cross_covs = var_ssm.autocorrelation(5)\n",
    "            kcacoefs_uoi = []\n",
    "            for _ in range(10):\n",
    "                v, _ = kcamodel._fit_projection()\n",
    "                kcacoefs_uoi.append(v)\n",
    "\n",
    "            result = {}\n",
    "            result['model_rep'] = 1\n",
    "            result['trajectory_rep'] = 1\n",
    "            result['var_order'] = var_order\n",
    "            result['true_lqgca'] = true_lqgca_coefs\n",
    "            result['true_kca'] = true_kcacoefs\n",
    "            result['lqgca_ols'] = lqgca_coefs_ols\n",
    "            result['kca_ols'] = kcacoefs_ols\n",
    "            result['lqgca_uoi'] = lqgca_coefs_uoi\n",
    "            result['kca_uoi'] = kcacoefs_uoi\n",
    "\n",
    "            results_list.append(result)\n"
   ]
  },
  {
   "cell_type": "code",
   "execution_count": null,
   "metadata": {},
   "outputs": [],
   "source": []
  }
 ],
 "metadata": {
  "interpreter": {
   "hash": "c52494c424e88c3f855a8aeb34b231af4706f7aa247f66fb47c890a5ab8814ab"
  },
  "kernelspec": {
   "display_name": "Python 3.7.6 64-bit ('dyn': conda)",
   "language": "python",
   "name": "python3"
  },
  "language_info": {
   "codemirror_mode": {
    "name": "ipython",
    "version": 3
   },
   "file_extension": ".py",
   "mimetype": "text/x-python",
   "name": "python",
   "nbconvert_exporter": "python",
   "pygments_lexer": "ipython3",
   "version": "3.7.6"
  },
  "orig_nbformat": 4
 },
 "nbformat": 4,
 "nbformat_minor": 2
}
