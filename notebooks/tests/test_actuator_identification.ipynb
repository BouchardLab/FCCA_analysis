{
 "cells": [
  {
   "cell_type": "code",
   "execution_count": 1,
   "metadata": {},
   "outputs": [],
   "source": [
    "%load_ext autoreload\n",
    "%autoreload 2"
   ]
  },
  {
   "cell_type": "code",
   "execution_count": 7,
   "metadata": {},
   "outputs": [],
   "source": [
    "import numpy as np\n",
    "import scipy \n",
    "from neurosim.models.ssr import StateSpaceRealization as SSR\n",
    "import sys"
   ]
  },
  {
   "cell_type": "code",
   "execution_count": 8,
   "metadata": {},
   "outputs": [],
   "source": [
    "sys.path.append('../..')"
   ]
  },
  {
   "cell_type": "code",
   "execution_count": 36,
   "metadata": {},
   "outputs": [],
   "source": [
    "from subspaces import SubspaceIdentification, factorize\n",
    "from em import StableStateSpaceML"
   ]
  },
  {
   "cell_type": "code",
   "execution_count": 41,
   "metadata": {},
   "outputs": [],
   "source": [
    "from dca_research.lqg import LQGComponentsAnalysis as LQGCA\n",
    "from dca_research.kca import KalmanComponentsAnalysis as KCA"
   ]
  },
  {
   "cell_type": "code",
   "execution_count": null,
   "metadata": {},
   "outputs": [],
   "source": [
    "# Demonstrate what closing the loop with this analysis looks like\n",
    "# (0) Can one obtain the minimum phase model from a small state dimension?\n",
    "# (1) Sweep through the state dimensions and fit SSID/StableML (and when feasible, VAR models). Use the fitted models to produce correlation sequences relevant\n",
    "# for the control problem. Assess consistency with solution derived from the ground truth correltaions\n",
    "# (2) Compare the LQGCA solutions compared with the ordinary optimal feedback control problem\n",
    "# (3) Does underestimating the state dimension cause problems? "
   ]
  },
  {
   "cell_type": "code",
   "execution_count": 5,
   "metadata": {},
   "outputs": [],
   "source": [
    "state_dim = 40\n",
    "obs_dim = 40\n",
    "A = np.random.normal(scale=1/(1.7 * np.sqrt(state_dim)), size=(state_dim, state_dim))\n",
    "while max(np.abs(np.linalg.eigvals(A))) > 0.99:\n",
    "    A = np.random.normal(scale=1/(1.7 * np.sqrt(state_dim)), size=(state_dim, state_dim))\n",
    "\n",
    "#C = scipy.stats.ortho_group.rvs(state_dim)[:, 0:obs_dim].T\n",
    "ssr = SSR(A=A)"
   ]
  },
  {
   "cell_type": "code",
   "execution_count": 6,
   "metadata": {},
   "outputs": [],
   "source": [
    "y = ssr.trajectory(10000)"
   ]
  },
  {
   "cell_type": "code",
   "execution_count": 10,
   "metadata": {},
   "outputs": [],
   "source": [
    "ssid = SubspaceIdentification()\n",
    "A, C, Cbar, L0, Q, R, S = ssid.identify(y, order=20)"
   ]
  },
  {
   "cell_type": "code",
   "execution_count": 21,
   "metadata": {},
   "outputs": [],
   "source": [
    "B, D = factorize(A, C, Cbar, L0)"
   ]
  },
  {
   "cell_type": "code",
   "execution_count": 22,
   "metadata": {},
   "outputs": [],
   "source": [
    "K = B @ np.linalg.inv(D)"
   ]
  },
  {
   "cell_type": "code",
   "execution_count": 26,
   "metadata": {},
   "outputs": [],
   "source": [
    "# This was done in innovations form, so there likely aren't any huge prolems, but what if we start from the traidtional state space form? Does the model necessarily\n",
    "# give rise to system zeros? Can one obtain the innovations form from the low rank model?"
   ]
  },
  {
   "cell_type": "code",
   "execution_count": 27,
   "metadata": {},
   "outputs": [],
   "source": [
    "# Specific observables:\n",
    "# (1) Transmission zeros\n",
    "# (4) Actuator mismatch"
   ]
  },
  {
   "cell_type": "code",
   "execution_count": 28,
   "metadata": {},
   "outputs": [],
   "source": [
    "# (1) Finding transmission zeros\n",
    "def transmission_zeros(A, B, C, D):\n",
    "    # Form matrices for generalized eigenvalue problem\n",
    "    BB = np.block([[np.eye(A.shape[0]), np.zeros(B.shape)], [np.zeros(C.shape), np.zeros(D.shape)]])\n",
    "    AA = np.block([[A, B], [-C ,-D]])\n",
    "    eig, _ = scipy.linalg.eig(AA,b=BB)\n",
    "    return eig"
   ]
  },
  {
   "cell_type": "code",
   "execution_count": 39,
   "metadata": {},
   "outputs": [
    {
     "data": {
      "text/plain": [
       "True"
      ]
     },
     "execution_count": 39,
     "metadata": {},
     "output_type": "execute_result"
    }
   ],
   "source": [
    "np.allclose(uB @ np.diag(eB) @ np.linalg.inv(uB), A)"
   ]
  },
  {
   "cell_type": "code",
   "execution_count": 38,
   "metadata": {},
   "outputs": [],
   "source": [
    "eB, uB = scipy.linalg.eig(A)"
   ]
  },
  {
   "cell_type": "code",
   "execution_count": 44,
   "metadata": {},
   "outputs": [
    {
     "name": "stdout",
     "output_type": "stream",
     "text": [
      "Fitting SSID\n",
      "Fitting SSML\n"
     ]
    },
    {
     "ename": "KeyboardInterrupt",
     "evalue": "",
     "output_type": "error",
     "traceback": [
      "\u001b[0;31m---------------------------------------------------------------------------\u001b[0m",
      "\u001b[0;31mKeyboardInterrupt\u001b[0m                         Traceback (most recent call last)",
      "\u001b[0;32m<ipython-input-44-a69b409a202a>\u001b[0m in \u001b[0;36m<module>\u001b[0;34m\u001b[0m\n\u001b[1;32m     43\u001b[0m             \u001b[0mssm\u001b[0m \u001b[0;34m=\u001b[0m \u001b[0mStableStateSpaceML\u001b[0m\u001b[0;34m(\u001b[0m\u001b[0mmax_iter\u001b[0m\u001b[0;34m=\u001b[0m\u001b[0;36m50\u001b[0m\u001b[0;34m,\u001b[0m \u001b[0minit_strategy\u001b[0m\u001b[0;34m=\u001b[0m\u001b[0;34m'manual'\u001b[0m\u001b[0;34m)\u001b[0m\u001b[0;34m\u001b[0m\u001b[0;34m\u001b[0m\u001b[0m\n\u001b[1;32m     44\u001b[0m             ssm.fit(y, state_dim=model_order, Ainit=A, Cinit=C, Qinit=Q, Rinit=R,\n\u001b[0;32m---> 45\u001b[0;31m                     x0 = np.zeros(A.shape[0]), Sigma0 = Sigma0)\n\u001b[0m\u001b[1;32m     46\u001b[0m             \u001b[0mMLcoef\u001b[0m \u001b[0;34m=\u001b[0m \u001b[0;34m(\u001b[0m\u001b[0mssm\u001b[0m\u001b[0;34m.\u001b[0m\u001b[0mA\u001b[0m\u001b[0;34m,\u001b[0m \u001b[0mssm\u001b[0m\u001b[0;34m.\u001b[0m\u001b[0mC\u001b[0m\u001b[0;34m,\u001b[0m \u001b[0mssm\u001b[0m\u001b[0;34m.\u001b[0m\u001b[0mR\u001b[0m\u001b[0;34m,\u001b[0m \u001b[0mssm\u001b[0m\u001b[0;34m.\u001b[0m\u001b[0mx0\u001b[0m\u001b[0;34m,\u001b[0m \u001b[0mssm\u001b[0m\u001b[0;34m.\u001b[0m\u001b[0mSigma0\u001b[0m\u001b[0;34m)\u001b[0m\u001b[0;34m\u001b[0m\u001b[0;34m\u001b[0m\u001b[0m\n\u001b[1;32m     47\u001b[0m \u001b[0;34m\u001b[0m\u001b[0m\n",
      "\u001b[0;32m~/nse/neural_control/em.py\u001b[0m in \u001b[0;36mfit\u001b[0;34m(self, y, state_dim, **init_kwargs)\u001b[0m\n\u001b[1;32m    217\u001b[0m         \u001b[0;32mwhile\u001b[0m \u001b[0miter\u001b[0m \u001b[0;34m<\u001b[0m \u001b[0mself\u001b[0m\u001b[0;34m.\u001b[0m\u001b[0mmax_iter\u001b[0m \u001b[0;32mand\u001b[0m \u001b[0mtol\u001b[0m \u001b[0;34m>\u001b[0m \u001b[0mself\u001b[0m\u001b[0;34m.\u001b[0m\u001b[0mtol\u001b[0m\u001b[0;34m:\u001b[0m\u001b[0;34m\u001b[0m\u001b[0;34m\u001b[0m\u001b[0m\n\u001b[1;32m    218\u001b[0m             \u001b[0mt0\u001b[0m \u001b[0;34m=\u001b[0m \u001b[0mtime\u001b[0m\u001b[0;34m.\u001b[0m\u001b[0mtime\u001b[0m\u001b[0;34m(\u001b[0m\u001b[0;34m)\u001b[0m\u001b[0;34m\u001b[0m\u001b[0;34m\u001b[0m\u001b[0m\n\u001b[0;32m--> 219\u001b[0;31m             \u001b[0mM_args\u001b[0m\u001b[0;34m,\u001b[0m \u001b[0mlogll\u001b[0m \u001b[0;34m=\u001b[0m \u001b[0mself\u001b[0m\u001b[0;34m.\u001b[0m\u001b[0mE\u001b[0m\u001b[0;34m(\u001b[0m\u001b[0my\u001b[0m\u001b[0;34m)\u001b[0m\u001b[0;34m\u001b[0m\u001b[0;34m\u001b[0m\u001b[0m\n\u001b[0m\u001b[1;32m    220\u001b[0m             \u001b[0mprint\u001b[0m\u001b[0;34m(\u001b[0m\u001b[0;34m'E step: %f'\u001b[0m \u001b[0;34m%\u001b[0m \u001b[0;34m(\u001b[0m\u001b[0mtime\u001b[0m\u001b[0;34m.\u001b[0m\u001b[0mtime\u001b[0m\u001b[0;34m(\u001b[0m\u001b[0;34m)\u001b[0m \u001b[0;34m-\u001b[0m \u001b[0mt0\u001b[0m\u001b[0;34m)\u001b[0m\u001b[0;34m)\u001b[0m\u001b[0;34m\u001b[0m\u001b[0;34m\u001b[0m\u001b[0m\n\u001b[1;32m    221\u001b[0m             \u001b[0mt0\u001b[0m \u001b[0;34m=\u001b[0m \u001b[0mtime\u001b[0m\u001b[0;34m.\u001b[0m\u001b[0mtime\u001b[0m\u001b[0;34m(\u001b[0m\u001b[0;34m)\u001b[0m\u001b[0;34m\u001b[0m\u001b[0;34m\u001b[0m\u001b[0m\n",
      "\u001b[0;32m~/nse/neural_control/em.py\u001b[0m in \u001b[0;36mE\u001b[0;34m(self, y)\u001b[0m\n\u001b[1;32m    275\u001b[0m \u001b[0;34m\u001b[0m\u001b[0m\n\u001b[1;32m    276\u001b[0m     \u001b[0;32mdef\u001b[0m \u001b[0mE\u001b[0m\u001b[0;34m(\u001b[0m\u001b[0mself\u001b[0m\u001b[0;34m,\u001b[0m \u001b[0my\u001b[0m\u001b[0;34m)\u001b[0m\u001b[0;34m:\u001b[0m\u001b[0;34m\u001b[0m\u001b[0;34m\u001b[0m\u001b[0m\n\u001b[0;32m--> 277\u001b[0;31m         \u001b[0m_\u001b[0m\u001b[0;34m,\u001b[0m \u001b[0m_\u001b[0m\u001b[0;34m,\u001b[0m \u001b[0mmusmooth\u001b[0m\u001b[0;34m,\u001b[0m \u001b[0m_\u001b[0m\u001b[0;34m,\u001b[0m \u001b[0m_\u001b[0m\u001b[0;34m,\u001b[0m \u001b[0mPsmooth\u001b[0m\u001b[0;34m,\u001b[0m \u001b[0mPt1t_smooth\u001b[0m\u001b[0;34m,\u001b[0m \u001b[0m_\u001b[0m\u001b[0;34m,\u001b[0m \u001b[0mlogll\u001b[0m \u001b[0;34m=\u001b[0m \u001b[0msuper\u001b[0m\u001b[0;34m(\u001b[0m\u001b[0mStableStateSpaceML\u001b[0m\u001b[0;34m,\u001b[0m \u001b[0mself\u001b[0m\u001b[0;34m)\u001b[0m\u001b[0;34m.\u001b[0m\u001b[0mE\u001b[0m\u001b[0;34m(\u001b[0m\u001b[0my\u001b[0m\u001b[0;34m)\u001b[0m\u001b[0;34m\u001b[0m\u001b[0;34m\u001b[0m\u001b[0m\n\u001b[0m\u001b[1;32m    278\u001b[0m \u001b[0;34m\u001b[0m\u001b[0m\n\u001b[1;32m    279\u001b[0m         \u001b[0;32mreturn\u001b[0m \u001b[0;34m(\u001b[0m\u001b[0mmusmooth\u001b[0m\u001b[0;34m,\u001b[0m \u001b[0mPsmooth\u001b[0m\u001b[0;34m,\u001b[0m \u001b[0mPt1t_smooth\u001b[0m\u001b[0;34m)\u001b[0m\u001b[0;34m,\u001b[0m \u001b[0mlogll\u001b[0m\u001b[0;34m\u001b[0m\u001b[0;34m\u001b[0m\u001b[0m\n",
      "\u001b[0;32m~/nse/neural_control/em.py\u001b[0m in \u001b[0;36mE\u001b[0;34m(self, y)\u001b[0m\n\u001b[1;32m    242\u001b[0m         \u001b[0me1\u001b[0m \u001b[0;34m=\u001b[0m \u001b[0;34m[\u001b[0m\u001b[0;34m]\u001b[0m\u001b[0;34m\u001b[0m\u001b[0;34m\u001b[0m\u001b[0m\n\u001b[1;32m    243\u001b[0m         \u001b[0;32mfor\u001b[0m \u001b[0mi\u001b[0m \u001b[0;32min\u001b[0m \u001b[0mrange\u001b[0m\u001b[0;34m(\u001b[0m\u001b[0mPpred\u001b[0m\u001b[0;34m.\u001b[0m\u001b[0mshape\u001b[0m\u001b[0;34m[\u001b[0m\u001b[0;36m0\u001b[0m\u001b[0;34m]\u001b[0m\u001b[0;34m)\u001b[0m\u001b[0;34m:\u001b[0m\u001b[0;34m\u001b[0m\u001b[0;34m\u001b[0m\u001b[0m\n\u001b[0;32m--> 244\u001b[0;31m             \u001b[0meig\u001b[0m \u001b[0;34m=\u001b[0m \u001b[0mnp\u001b[0m\u001b[0;34m.\u001b[0m\u001b[0mlinalg\u001b[0m\u001b[0;34m.\u001b[0m\u001b[0meigvals\u001b[0m\u001b[0;34m(\u001b[0m\u001b[0mPpred\u001b[0m\u001b[0;34m[\u001b[0m\u001b[0mi\u001b[0m\u001b[0;34m]\u001b[0m\u001b[0;34m)\u001b[0m\u001b[0;34m\u001b[0m\u001b[0;34m\u001b[0m\u001b[0m\n\u001b[0m\u001b[1;32m    245\u001b[0m             \u001b[0me1\u001b[0m\u001b[0;34m.\u001b[0m\u001b[0mappend\u001b[0m\u001b[0;34m(\u001b[0m\u001b[0mnp\u001b[0m\u001b[0;34m.\u001b[0m\u001b[0mmin\u001b[0m\u001b[0;34m(\u001b[0m\u001b[0meig\u001b[0m\u001b[0;34m)\u001b[0m\u001b[0;34m)\u001b[0m\u001b[0;34m\u001b[0m\u001b[0;34m\u001b[0m\u001b[0m\n\u001b[1;32m    246\u001b[0m         \u001b[0me2\u001b[0m \u001b[0;34m=\u001b[0m \u001b[0;34m[\u001b[0m\u001b[0;34m]\u001b[0m\u001b[0;34m\u001b[0m\u001b[0;34m\u001b[0m\u001b[0m\n",
      "\u001b[0;32m<__array_function__ internals>\u001b[0m in \u001b[0;36meigvals\u001b[0;34m(*args, **kwargs)\u001b[0m\n",
      "\u001b[0;32m~/anaconda3/envs/dyn/lib/python3.7/site-packages/numpy/linalg/linalg.py\u001b[0m in \u001b[0;36meigvals\u001b[0;34m(a)\u001b[0m\n\u001b[1;32m   1055\u001b[0m \u001b[0;34m\u001b[0m\u001b[0m\n\u001b[1;32m   1056\u001b[0m     \u001b[0;32mif\u001b[0m \u001b[0;32mnot\u001b[0m \u001b[0misComplexType\u001b[0m\u001b[0;34m(\u001b[0m\u001b[0mt\u001b[0m\u001b[0;34m)\u001b[0m\u001b[0;34m:\u001b[0m\u001b[0;34m\u001b[0m\u001b[0;34m\u001b[0m\u001b[0m\n\u001b[0;32m-> 1057\u001b[0;31m         \u001b[0;32mif\u001b[0m \u001b[0mall\u001b[0m\u001b[0;34m(\u001b[0m\u001b[0mw\u001b[0m\u001b[0;34m.\u001b[0m\u001b[0mimag\u001b[0m \u001b[0;34m==\u001b[0m \u001b[0;36m0\u001b[0m\u001b[0;34m)\u001b[0m\u001b[0;34m:\u001b[0m\u001b[0;34m\u001b[0m\u001b[0;34m\u001b[0m\u001b[0m\n\u001b[0m\u001b[1;32m   1058\u001b[0m             \u001b[0mw\u001b[0m \u001b[0;34m=\u001b[0m \u001b[0mw\u001b[0m\u001b[0;34m.\u001b[0m\u001b[0mreal\u001b[0m\u001b[0;34m\u001b[0m\u001b[0;34m\u001b[0m\u001b[0m\n\u001b[1;32m   1059\u001b[0m             \u001b[0mresult_t\u001b[0m \u001b[0;34m=\u001b[0m \u001b[0m_realType\u001b[0m\u001b[0;34m(\u001b[0m\u001b[0mresult_t\u001b[0m\u001b[0;34m)\u001b[0m\u001b[0;34m\u001b[0m\u001b[0;34m\u001b[0m\u001b[0m\n",
      "\u001b[0;32m<__array_function__ internals>\u001b[0m in \u001b[0;36mall\u001b[0;34m(*args, **kwargs)\u001b[0m\n",
      "\u001b[0;32m~/anaconda3/envs/dyn/lib/python3.7/site-packages/numpy/core/fromnumeric.py\u001b[0m in \u001b[0;36mall\u001b[0;34m(a, axis, out, keepdims)\u001b[0m\n\u001b[1;32m   2396\u001b[0m \u001b[0;34m\u001b[0m\u001b[0m\n\u001b[1;32m   2397\u001b[0m     \"\"\"\n\u001b[0;32m-> 2398\u001b[0;31m     \u001b[0;32mreturn\u001b[0m \u001b[0m_wrapreduction\u001b[0m\u001b[0;34m(\u001b[0m\u001b[0ma\u001b[0m\u001b[0;34m,\u001b[0m \u001b[0mnp\u001b[0m\u001b[0;34m.\u001b[0m\u001b[0mlogical_and\u001b[0m\u001b[0;34m,\u001b[0m \u001b[0;34m'all'\u001b[0m\u001b[0;34m,\u001b[0m \u001b[0maxis\u001b[0m\u001b[0;34m,\u001b[0m \u001b[0;32mNone\u001b[0m\u001b[0;34m,\u001b[0m \u001b[0mout\u001b[0m\u001b[0;34m,\u001b[0m \u001b[0mkeepdims\u001b[0m\u001b[0;34m=\u001b[0m\u001b[0mkeepdims\u001b[0m\u001b[0;34m)\u001b[0m\u001b[0;34m\u001b[0m\u001b[0;34m\u001b[0m\u001b[0m\n\u001b[0m\u001b[1;32m   2399\u001b[0m \u001b[0;34m\u001b[0m\u001b[0m\n\u001b[1;32m   2400\u001b[0m \u001b[0;34m\u001b[0m\u001b[0m\n",
      "\u001b[0;32m~/anaconda3/envs/dyn/lib/python3.7/site-packages/numpy/core/fromnumeric.py\u001b[0m in \u001b[0;36m_wrapreduction\u001b[0;34m(obj, ufunc, method, axis, dtype, out, **kwargs)\u001b[0m\n\u001b[1;32m     75\u001b[0m                   if v is not np._NoValue}\n\u001b[1;32m     76\u001b[0m \u001b[0;34m\u001b[0m\u001b[0m\n\u001b[0;32m---> 77\u001b[0;31m     \u001b[0;32mif\u001b[0m \u001b[0mtype\u001b[0m\u001b[0;34m(\u001b[0m\u001b[0mobj\u001b[0m\u001b[0;34m)\u001b[0m \u001b[0;32mis\u001b[0m \u001b[0;32mnot\u001b[0m \u001b[0mmu\u001b[0m\u001b[0;34m.\u001b[0m\u001b[0mndarray\u001b[0m\u001b[0;34m:\u001b[0m\u001b[0;34m\u001b[0m\u001b[0;34m\u001b[0m\u001b[0m\n\u001b[0m\u001b[1;32m     78\u001b[0m         \u001b[0;32mtry\u001b[0m\u001b[0;34m:\u001b[0m\u001b[0;34m\u001b[0m\u001b[0;34m\u001b[0m\u001b[0m\n\u001b[1;32m     79\u001b[0m             \u001b[0mreduction\u001b[0m \u001b[0;34m=\u001b[0m \u001b[0mgetattr\u001b[0m\u001b[0;34m(\u001b[0m\u001b[0mobj\u001b[0m\u001b[0;34m,\u001b[0m \u001b[0mmethod\u001b[0m\u001b[0;34m)\u001b[0m\u001b[0;34m\u001b[0m\u001b[0;34m\u001b[0m\u001b[0m\n",
      "\u001b[0;31mKeyboardInterrupt\u001b[0m: "
     ]
    }
   ],
   "source": [
    "model_reps = 5\n",
    "trajectory_reps = 1\n",
    "state_dim = 40\n",
    "obs_dim = 40\n",
    "\n",
    "results_list = []\n",
    "\n",
    "for i in range(model_reps):\n",
    "\n",
    "    A = np.random.normal(scale=1/(1.7 * np.sqrt(state_dim)), size=(state_dim, state_dim))\n",
    "    while max(np.abs(np.linalg.eigvals(A))) > 0.99:\n",
    "        A = np.random.normal(scale=1/(1.7 * np.sqrt(state_dim)), size=(state_dim, state_dim))\n",
    "\n",
    "    #C = scipy.stats.ortho_group.rvs(state_dim)[:, 0:obs_dim].T\n",
    "    ssr = SSR(A=A)\n",
    "\n",
    "    # Fit LQGCA and KCA (time reversed) to the true autocorrelations\n",
    "    lqgca = LQGCA(T=3, d=2)\n",
    "    lqgca.cross_covs = ssr.autocorrelation(5)\n",
    "    # Fit 10 tries\n",
    "    true_lqgca_coefs = []\n",
    "    for _ in range(10):\n",
    "        v, _ = lqgca._fit_projection()\n",
    "        true_lqgca_coefs.append(v)\n",
    "    # Reverse time KCA loadings\n",
    "    kcamodel = KCA(T=3, d=2, causal_weights=(0, 1))\n",
    "    kcamodel.cross_covs = ssr.autocorrelation(5)\n",
    "    true_kcacoefs = []\n",
    "    for _ in range(10):\n",
    "        v, _ = kcamodel._fit_projection()\n",
    "        true_kcacoefs.append(v)\n",
    "\n",
    "    for j in range(trajectory_reps):\n",
    "        y = ssr.trajectory(int(1e4))\n",
    "        # First, fit SSID and state space models where we tune the model order from too low, right, to too high\n",
    "        for model_order in [20, 25, 30, 35, 40]:\n",
    "            print('Fitting SSID')\n",
    "            ssid = SubspaceIdentification()\n",
    "            ssid.identify(y, order=model_order)\n",
    "            A, C, Cbar, L0, Q, R, S = ssid.identify(y, order=model_order)        \n",
    "            Sigma0 = scipy.linalg.solve_discrete_lyapunov(A, Q)\n",
    "            print('Fitting SSML')\n",
    "            ssm = StableStateSpaceML(max_iter=50, init_strategy='manual')\n",
    "            ssm.fit(y, state_dim=model_order, Ainit=A, Cinit=C, Qinit=Q, Rinit=R,\n",
    "                    x0 = np.zeros(A.shape[0]), Sigma0 = Sigma0)\n",
    "            MLcoef = (ssm.A, ssm.C, ssm.R, ssm.x0, ssm.Sigma0)\n",
    "            # Calculate system zeros - experiment with the factorize function and also sqrt factorizing R and Q\n",
    "            B1, D1 = factorize(A, C, Cbar, L0)\n",
    "            eB, uB = scipy.linalg.eig(Q)\n",
    "            eD, uD = scipy.linalg.eig(R)\n",
    "\n",
    "            # Rectify spectrum\n",
    "            eB[np.abs(eB) < 1e-8] = 0\n",
    "            eD[np.abs(eD) < 1e-8] = 0\n",
    "\n",
    "            B2 = uB @ np.diag(np.sqrt(eB))\n",
    "            D2 = uD @ np.diag(np.sqrt(eD))\n",
    "            z1 = transmission_zeros(A, B1, C, D1)\n",
    "            z2 = transmission_zeros(A, B2, C, D2)\n",
    "\n",
    "            eD, uD = scipy.linalg.eig(ssm.R)\n",
    "            eD[np.abs(eD) < 1e-8] = 0\n",
    "\n",
    "            D3 = uD @ np.diag(np.sqrt(eD))\n",
    "            z3 = transmission_zeros(ssm.A, np.eye(ssm.A.shape[0]), ssm.C, D3)\n",
    "            print('Fitting LQGCA/KCA')\n",
    "\n",
    "            # LQGCA loadings\n",
    "            lqgca = LQGCA(T=3, d=2)\n",
    "            lqgca.estimate_data_statistics(y)\n",
    "            # Fit 10 tries\n",
    "            lqgca_coefs = []\n",
    "            for _ in range(10):\n",
    "                v, _ = lqgca._fit_projection()\n",
    "                lqgca_coefs.append(v)\n",
    "            # Reverse time KCA loadings\n",
    "            kcamodel = KCA(T=3, d=2, causal_weights=(0, 1))\n",
    "            kcamodel.estimate_data_statistics(y)\n",
    "            kcacoefs = []\n",
    "            for _ in range(10):\n",
    "                v, _ = kcamodel._fit_projection()\n",
    "                kcacoefs.append(v)\n",
    "\n",
    "            # Compile results\n",
    "            result = {}\n",
    "            result['model_rep'] = 1\n",
    "            result['trajectory_rep'] = 1\n",
    "            result['model_order'] = model_order\n",
    "            result['true_lqgca'] = true_lqgca_coefs\n",
    "            result['true_kca'] = true_kcacoefs\n",
    "            result['z1'] = z1\n",
    "            result['z2'] = z2\n",
    "            result['z3'] = z3\n",
    "            result['lqgca'] = lqgca_coefs\n",
    "            result['kca'] = kcacoefs\n",
    "            results_list.append(result)\n"
   ]
  },
  {
   "cell_type": "code",
   "execution_count": 34,
   "metadata": {},
   "outputs": [],
   "source": [
    "# Do a comparable thing with VAR models"
   ]
  }
 ],
 "metadata": {
  "interpreter": {
   "hash": "c52494c424e88c3f855a8aeb34b231af4706f7aa247f66fb47c890a5ab8814ab"
  },
  "kernelspec": {
   "display_name": "Python 3.7.6 64-bit ('dyn': conda)",
   "language": "python",
   "name": "python3"
  },
  "language_info": {
   "codemirror_mode": {
    "name": "ipython",
    "version": 3
   },
   "file_extension": ".py",
   "mimetype": "text/x-python",
   "name": "python",
   "nbconvert_exporter": "python",
   "pygments_lexer": "ipython3",
   "version": "3.7.6"
  },
  "orig_nbformat": 4
 },
 "nbformat": 4,
 "nbformat_minor": 2
}
