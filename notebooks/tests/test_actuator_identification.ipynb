{
 "cells": [
  {
   "cell_type": "code",
   "execution_count": 1,
   "metadata": {},
   "outputs": [],
   "source": [
    "%load_ext autoreload\n",
    "%autoreload 2"
   ]
  },
  {
   "cell_type": "code",
   "execution_count": 2,
   "metadata": {},
   "outputs": [],
   "source": [
    "import numpy as np\n",
    "import scipy \n",
    "from neurosim.models.ssr import StateSpaceRealization as SSR\n",
    "import sys"
   ]
  },
  {
   "cell_type": "code",
   "execution_count": 3,
   "metadata": {},
   "outputs": [],
   "source": [
    "sys.path.append('../..')"
   ]
  },
  {
   "cell_type": "code",
   "execution_count": 4,
   "metadata": {},
   "outputs": [],
   "source": [
    "from subspaces import SubspaceIdentification, factorize\n",
    "from em import StableStateSpaceML"
   ]
  },
  {
   "cell_type": "code",
   "execution_count": 5,
   "metadata": {},
   "outputs": [],
   "source": [
    "from dca_research.lqg import LQGComponentsAnalysis as LQGCA\n",
    "from dca_research.kca import KalmanComponentsAnalysis as KCA"
   ]
  },
  {
   "cell_type": "code",
   "execution_count": null,
   "metadata": {},
   "outputs": [],
   "source": [
    "# Demonstrate what closing the loop with this analysis looks like\n",
    "# (0) Can one obtain the minimum phase model from a small state dimension?\n",
    "# (1) Sweep through the state dimensions and fit SSID/StableML (and when feasible, VAR models). Use the fitted models to produce correlation sequences relevant\n",
    "# for the control problem. Assess consistency with solution derived from the ground truth correltaions\n",
    "# (2) Compare the LQGCA solutions compared with the ordinary optimal feedback control problem\n",
    "# (3) Does underestimating the state dimension cause problems? "
   ]
  },
  {
   "cell_type": "code",
   "execution_count": 6,
   "metadata": {},
   "outputs": [
    {
     "ename": "TypeError",
     "evalue": "__init__() missing 2 required positional arguments: 'B' and 'C'",
     "output_type": "error",
     "traceback": [
      "\u001b[0;31m---------------------------------------------------------------------------\u001b[0m",
      "\u001b[0;31mTypeError\u001b[0m                                 Traceback (most recent call last)",
      "\u001b[0;32m/tmp/ipykernel_28103/2820570265.py\u001b[0m in \u001b[0;36m<module>\u001b[0;34m\u001b[0m\n\u001b[1;32m      6\u001b[0m \u001b[0;34m\u001b[0m\u001b[0m\n\u001b[1;32m      7\u001b[0m \u001b[0;31m#C = scipy.stats.ortho_group.rvs(state_dim)[:, 0:obs_dim].T\u001b[0m\u001b[0;34m\u001b[0m\u001b[0;34m\u001b[0m\u001b[0;34m\u001b[0m\u001b[0m\n\u001b[0;32m----> 8\u001b[0;31m \u001b[0mssr\u001b[0m \u001b[0;34m=\u001b[0m \u001b[0mSSR\u001b[0m\u001b[0;34m(\u001b[0m\u001b[0mA\u001b[0m\u001b[0;34m=\u001b[0m\u001b[0mA\u001b[0m\u001b[0;34m)\u001b[0m\u001b[0;34m\u001b[0m\u001b[0;34m\u001b[0m\u001b[0m\n\u001b[0m",
      "\u001b[0;31mTypeError\u001b[0m: __init__() missing 2 required positional arguments: 'B' and 'C'"
     ]
    }
   ],
   "source": [
    "state_dim = 40\n",
    "obs_dim = 40\n",
    "A = np.random.normal(scale=1/(1.7 * np.sqrt(state_dim)), size=(state_dim, state_dim))\n",
    "while max(np.abs(np.linalg.eigvals(A))) > 0.99:\n",
    "    A = np.random.normal(scale=1/(1.7 * np.sqrt(state_dim)), size=(state_dim, state_dim))\n",
    "\n",
    "#C = scipy.stats.ortho_group.rvs(state_dim)[:, 0:obs_dim].T\n",
    "ssr = SSR(A=A)"
   ]
  },
  {
   "cell_type": "code",
   "execution_count": 6,
   "metadata": {},
   "outputs": [],
   "source": [
    "y = ssr.trajectory(10000)"
   ]
  },
  {
   "cell_type": "code",
   "execution_count": 10,
   "metadata": {},
   "outputs": [],
   "source": [
    "ssid = SubspaceIdentification()\n",
    "A, C, Cbar, L0, Q, R, S = ssid.identify(y, order=20)"
   ]
  },
  {
   "cell_type": "code",
   "execution_count": 21,
   "metadata": {},
   "outputs": [],
   "source": [
    "B, D = factorize(A, C, Cbar, L0)"
   ]
  },
  {
   "cell_type": "code",
   "execution_count": 22,
   "metadata": {},
   "outputs": [],
   "source": [
    "K = B @ np.linalg.inv(D)"
   ]
  },
  {
   "cell_type": "code",
   "execution_count": 26,
   "metadata": {},
   "outputs": [],
   "source": [
    "# This was done in innovations form, so there likely aren't any huge prolems, but what if we start from the traidtional state space form? Does the model necessarily\n",
    "# give rise to system zeros? Can one obtain the innovations form from the low rank model?"
   ]
  },
  {
   "cell_type": "code",
   "execution_count": 27,
   "metadata": {},
   "outputs": [],
   "source": [
    "# Specific observables:\n",
    "# (1) Transmission zeros\n",
    "# (4) Actuator mismatch"
   ]
  },
  {
   "cell_type": "code",
   "execution_count": 7,
   "metadata": {},
   "outputs": [],
   "source": [
    "# (1) Finding transmission zeros\n",
    "def transmission_zeros(A, B, C, D):\n",
    "    # Form matrices for generalized eigenvalue problem\n",
    "    try:\n",
    "        BB = np.block([[np.eye(A.shape[0]), np.zeros(B.shape)], [np.zeros(C.shape), np.zeros(D.shape)]])\n",
    "    except:\n",
    "        pdb.set_trace()\n",
    "    AA = np.block([[A, B], [C , D]])\n",
    "    eig, _ = scipy.linalg.eig(AA,b=BB)\n",
    "    return eig"
   ]
  },
  {
   "cell_type": "code",
   "execution_count": 8,
   "metadata": {},
   "outputs": [],
   "source": [
    "def autocorrelation1(A, C, Q, R, S, T):\n",
    "\n",
    "    autocorr = np.zeros((T, C.shape[0], C.shape[0]))\n",
    "\n",
    "    P = scipy.linalg.solve_discrete_lyapunov(A, Q)\n",
    "\n",
    "    autocorr[0, ...] = C @ P @ C.T + R\n",
    "\n",
    "    # Construct Cbar from A, P, C, and S\n",
    "    Cbar = C @ P @ A.T + S.T\n",
    "\n",
    "    for i in range(1, T):\n",
    "        autocorr[i, ...] = C @ np.linalg.matrix_power(A, i - 1) @ Cbar.T\n",
    "    return autocorr \n"
   ]
  },
  {
   "cell_type": "code",
   "execution_count": 9,
   "metadata": {},
   "outputs": [],
   "source": [
    "def autocorrelation2(A, C, Cbar, Q, R, T):\n",
    "\n",
    "    autocorr = np.zeros((T, C.shape[0], C.shape[0]))\n",
    "\n",
    "    P = scipy.linalg.solve_discrete_lyapunov(A, Q)\n",
    "\n",
    "    autocorr[0, ...] = C @ P @ C.T + R\n",
    "\n",
    "    for i in range(1, T):\n",
    "        autocorr[i, ...] = C @ np.linalg.matrix_power(A, i - 1) @ Cbar.T\n",
    "    return autocorr "
   ]
  },
  {
   "cell_type": "code",
   "execution_count": 10,
   "metadata": {},
   "outputs": [],
   "source": [
    "import pdb"
   ]
  },
  {
   "cell_type": "code",
   "execution_count": 27,
   "metadata": {},
   "outputs": [
    {
     "name": "stdout",
     "output_type": "stream",
     "text": [
      "Fitting SSID\n",
      "Fitting SSML\n",
      "E step: 9.753644\n",
      "M step: 0.598059\n",
      "Fitting SSID\n",
      "Fitting SSML\n",
      "E step: 11.911794\n",
      "M step: 0.462713\n"
     ]
    }
   ],
   "source": [
    "model_reps = 5\n",
    "trajectory_reps = 1\n",
    "state_dim = 40\n",
    "obs_dim = 40\n",
    "\n",
    "results_list = []\n",
    "\n",
    "for i in range(model_reps):\n",
    "\n",
    "    A = np.random.normal(scale=1/(1.7 * np.sqrt(state_dim)), size=(state_dim, state_dim))\n",
    "    while max(np.abs(np.linalg.eigvals(A))) > 0.99:\n",
    "        A = np.random.normal(scale=1/(1.7 * np.sqrt(state_dim)), size=(state_dim, state_dim))\n",
    "\n",
    "    #C = scipy.stats.ortho_group.rvs(state_dim)[:, 0:obs_dim].T\n",
    "    ssr = SSR(A=A, B = np.eye(A.shape[0]), C = np.eye(A.shape[0]))\n",
    "\n",
    "    # Fit LQGCA and KCA (time reversed) to the true autocorrelations\n",
    "    lqgca = LQGCA(T=3, d=2)\n",
    "    lqgca.cross_covs = ssr.autocorrelation(5)\n",
    "    # Fit 10 tries\n",
    "    true_lqgca_coefs = []\n",
    "    for _ in range(10):\n",
    "        v, _ = lqgca._fit_projection()\n",
    "        true_lqgca_coefs.append(v)\n",
    "    # Reverse time KCA loadings\n",
    "    kcamodel = KCA(T=3, d=2, causal_weights=(0, 1))\n",
    "    kcamodel.cross_covs = ssr.autocorrelation(5)\n",
    "    true_kcacoefs = []\n",
    "    for _ in range(10):\n",
    "        v, _ = kcamodel._fit_projection()\n",
    "        true_kcacoefs.append(v)\n",
    "\n",
    "    for j in range(trajectory_reps):\n",
    "        y = ssr.trajectory(int(1e4))\n",
    "        # First, fit SSID and state space models where we tune the model order from too low, right, to too high\n",
    "        for model_order in [20, 25, 30, 35, 40]:\n",
    "            print('Fitting SSID')\n",
    "            ssid = SubspaceIdentification()\n",
    "            ssid.identify(y, order=model_order)\n",
    "            A, C, Cbar, L0, Q, R, S = ssid.identify(y, order=model_order)        \n",
    "            Sigma0 = scipy.linalg.solve_discrete_lyapunov(A, Q)\n",
    "\n",
    "            # Calculate system zeros - experiment with the factorize function and also sqrt factorizing R and Q\n",
    "            B1, D1 = factorize(A, C, Cbar, L0)\n",
    "            eB, uB = scipy.linalg.eig(Q)\n",
    "            eD, uD = scipy.linalg.eig(R)\n",
    "\n",
    "            # Rectify spectrum\n",
    "            eB[np.abs(eB) < 1e-8] = 0\n",
    "            eD[np.abs(eD) < 1e-8] = 0\n",
    "\n",
    "            B2 = uB @ np.diag(np.sqrt(eB))\n",
    "            D2 = uD @ np.diag(np.sqrt(eD))\n",
    "\n",
    "            z1 = transmission_zeros(A, B1, C, D1)\n",
    "            # z2 = transmission_zeros(A, B2, C, D2)\n",
    "\n",
    "            ssid_cross_covs = autocorrelation2(A, C, Cbar, Q, R, 5)\n",
    "\n",
    "            # LQGCA loadings\n",
    "            lqgca = LQGCA(T=3, d=2)\n",
    "            lqgca.cross_covs = ssid_cross_covs\n",
    "            # Fit 10 tries\n",
    "            lqgca_coefs = []\n",
    "            for _ in range(10):\n",
    "                v, _ = lqgca._fit_projection()\n",
    "                lqgca_coefs.append(v)\n",
    "            # Reverse time KCA loadings\n",
    "            kcamodel = KCA(T=3, d=2, causal_weights=(0, 1))\n",
    "            kcamodel.cross_covs = ssid_cross_covs\n",
    "            kcacoefs = []\n",
    "            for _ in range(10):\n",
    "                v, _ = kcamodel._fit_projection()\n",
    "                kcacoefs.append(v)\n",
    "\n",
    "\n",
    "            result = {}\n",
    "            result['model_rep'] = 1\n",
    "            result['trajectory_rep'] = 1\n",
    "            result['model_order'] = model_order\n",
    "            result['true_lqgca'] = true_lqgca_coefs\n",
    "            result['true_kca'] = true_kcacoefs\n",
    "            result['z1'] = z1\n",
    "            result['lqgca_ssid'] = lqgca_coefs\n",
    "            result['kca_ssid'] = kcacoefs\n",
    "\n",
    "\n",
    "            print('Fitting SSML')\n",
    "            ssm = StableStateSpaceML(max_iter=5, init_strategy='manual')\n",
    "            try:\n",
    "                ssm.fit(y, state_dim=model_order, Ainit=A, Cinit=C, Qinit=Q, Rinit=R,\n",
    "                        x0 = np.zeros(A.shape[0]), Sigma0 = Sigma0)\n",
    "            except:\n",
    "                result['lgqca_ssl'] = np.nan\n",
    "                result['kca_ssl'] = np.nan\n",
    "                results_list.append(result)\n",
    "                continue\n",
    "\n",
    "            ccm_ml = autocorrelation1(ssm.A, ssm.C, np.eye(ssm.A.shape[0]), ssm.R, np.zeros((ssm.A.shape[0], ssm.C.shape[0])), 5)\n",
    "\n",
    "            # LQGCA loadings\n",
    "            lqgca = LQGCA(T=3, d=2)\n",
    "            lqgca.cross_covs = ccm_ml\n",
    "            # Fit 10 tries\n",
    "            lqgca_coefs = []\n",
    "            for _ in range(10):\n",
    "                v, _ = lqgca._fit_projection()\n",
    "                lqgca_coefs.append(v)\n",
    "            # Reverse time KCA loadings\n",
    "            kcamodel = KCA(T=3, d=2, causal_weights=(0, 1))\n",
    "            kcamodel.cross_covs = ccm_ml\n",
    "            kcacoefs = []\n",
    "            for _ in range(10):\n",
    "                v, _ = kcamodel._fit_projection()\n",
    "                kcacoefs.append(v)\n",
    "\n",
    "            result['lqgca_ssl'] = lqgca_coefs\n",
    "            result['kca_ssl'] = kcacoefs\n",
    "\n",
    "            results_list.append(result)\n"
   ]
  },
  {
   "cell_type": "code",
   "execution_count": 16,
   "metadata": {},
   "outputs": [],
   "source": [
    "# Tasks for tomorrow\n",
    "# Produce plots for this guy, its VAR equivalent, and similarly the VAR equivalent for the other guy\n",
    "# However, start with running ARMA state space on a VAR fit\n",
    "# To do control theoretic analysis on non-square models, may need to \"ignore\" the D matrix\n",
    "# Produce conceptual figure about the role of predictor spaces\n",
    "# Time permitting, outline polar decomposition stuff (unlikely)"
   ]
  }
 ],
 "metadata": {
  "interpreter": {
   "hash": "c52494c424e88c3f855a8aeb34b231af4706f7aa247f66fb47c890a5ab8814ab"
  },
  "kernelspec": {
   "display_name": "Python 3.7.6 64-bit ('dyn': conda)",
   "language": "python",
   "name": "python3"
  },
  "language_info": {
   "codemirror_mode": {
    "name": "ipython",
    "version": 3
   },
   "file_extension": ".py",
   "mimetype": "text/x-python",
   "name": "python",
   "nbconvert_exporter": "python",
   "pygments_lexer": "ipython3",
   "version": "3.7.10"
  },
  "orig_nbformat": 4
 },
 "nbformat": 4,
 "nbformat_minor": 2
}
