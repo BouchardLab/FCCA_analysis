{
 "cells": [
  {
   "cell_type": "code",
   "execution_count": 1,
   "metadata": {},
   "outputs": [],
   "source": [
    "%load_ext autoreload\n",
    "%autoreload 2"
   ]
  },
  {
   "cell_type": "code",
   "execution_count": 28,
   "metadata": {},
   "outputs": [],
   "source": [
    "import numpy as np\n",
    "import sys \n",
    "import pdb \n",
    "import scipy\n",
    "from neurosim.models.ssr import StateSpaceRealization as SSR\n",
    "from neurosim.models.ssr import gen_random_model\n",
    "from sklearn.linear_model import LinearRegression\n",
    "from sklearn.decomposition import TruncatedSVD\n",
    "from glob import glob\n",
    "from dca.cov_util import calc_pi_from_data, calc_pi_from_cross_cov_mats, calc_cov_from_cross_cov_mats, form_lag_matrix"
   ]
  },
  {
   "cell_type": "code",
   "execution_count": 4,
   "metadata": {},
   "outputs": [],
   "source": [
    "sys.path.append('../..')"
   ]
  },
  {
   "cell_type": "code",
   "execution_count": 5,
   "metadata": {},
   "outputs": [],
   "source": [
    "from loaders import load_sabes\n",
    "from subspaces import CrossSubspaceIdentification, SubspaceIdentification, estimate_autocorrelation, BRSSID"
   ]
  },
  {
   "cell_type": "markdown",
   "metadata": {},
   "source": [
    "### Scratch"
   ]
  },
  {
   "cell_type": "code",
   "execution_count": 15,
   "metadata": {},
   "outputs": [],
   "source": [
    "indy_files = glob('/home/akumar/nse/neural_control/data/indy*')"
   ]
  },
  {
   "cell_type": "code",
   "execution_count": 16,
   "metadata": {},
   "outputs": [
    {
     "name": "stdout",
     "output_type": "stream",
     "text": [
      "Processing spikes\n"
     ]
    },
    {
     "name": "stderr",
     "output_type": "stream",
     "text": [
      "100%|██████████| 1/1 [00:13<00:00, 13.62s/it]\n"
     ]
    }
   ],
   "source": [
    "dat = load_sabes(indy_files[0])"
   ]
  },
  {
   "cell_type": "code",
   "execution_count": 18,
   "metadata": {},
   "outputs": [],
   "source": [
    "y = np.squeeze(dat['spike_rates'])\n",
    "pi = calc_pi_from_data(y, T=3)"
   ]
  },
  {
   "cell_type": "code",
   "execution_count": 28,
   "metadata": {},
   "outputs": [],
   "source": [
    "ccmy = estimate_autocorrelation(y, 8)"
   ]
  },
  {
   "cell_type": "code",
   "execution_count": 46,
   "metadata": {},
   "outputs": [
    {
     "data": {
      "text/plain": [
       "23.234529534801936"
      ]
     },
     "execution_count": 46,
     "metadata": {},
     "output_type": "execute_result"
    }
   ],
   "source": [
    "calc_pi_from_cross_cov_mats(ccmy)"
   ]
  },
  {
   "cell_type": "code",
   "execution_count": 29,
   "metadata": {},
   "outputs": [],
   "source": [
    "ssid = SubspaceIdentification()"
   ]
  },
  {
   "cell_type": "code",
   "execution_count": 30,
   "metadata": {},
   "outputs": [],
   "source": [
    "# First verify that the PI is recovered from the canonical correlation coefficients"
   ]
  },
  {
   "cell_type": "code",
   "execution_count": 47,
   "metadata": {},
   "outputs": [],
   "source": [
    "ht = ssid.form_hankel_toeplitz(ccmy, T=3)"
   ]
  },
  {
   "cell_type": "code",
   "execution_count": 49,
   "metadata": {},
   "outputs": [],
   "source": [
    "cc = ht[1]"
   ]
  },
  {
   "cell_type": "code",
   "execution_count": 51,
   "metadata": {},
   "outputs": [
    {
     "data": {
      "text/plain": [
       "23.234529534801784"
      ]
     },
     "execution_count": 51,
     "metadata": {},
     "output_type": "execute_result"
    }
   ],
   "source": [
    "-0.5 * sum([np.log(1 - c**2) for c in cc])"
   ]
  },
  {
   "cell_type": "code",
   "execution_count": 27,
   "metadata": {},
   "outputs": [],
   "source": [
    "# Next verify that the canonical correlation coefficients returned by psid yield the mutual informaton between neural data and behavior"
   ]
  },
  {
   "cell_type": "code",
   "execution_count": 53,
   "metadata": {},
   "outputs": [],
   "source": [
    "def mutual_information(covjoint, covx, covy):\n",
    "    return 0.5 * (np.linalg.slogdet(covx)[1] + np.linalg.slogdet(covy)[1] - np.linalg.slogdet(covjoint)[1])\n"
   ]
  },
  {
   "cell_type": "code",
   "execution_count": 54,
   "metadata": {},
   "outputs": [],
   "source": [
    "z = np.squeeze(dat['behavior'])\n",
    "ccmz = estimate_autocorrelation(z, 8)\n",
    "ccm = estimate_autocorrelation(np.hstack([y, z]), 8)"
   ]
  },
  {
   "cell_type": "code",
   "execution_count": 67,
   "metadata": {},
   "outputs": [
    {
     "data": {
      "text/plain": [
       "1.2246191502837576"
      ]
     },
     "execution_count": 67,
     "metadata": {},
     "output_type": "execute_result"
    }
   ],
   "source": [
    "mutual_information(calc_cov_from_cross_cov_mats(ccm[0:3]), calc_cov_from_cross_cov_mats(ccmy[0:3]), calc_cov_from_cross_cov_mats(ccmz[0:3]))"
   ]
  },
  {
   "cell_type": "code",
   "execution_count": 57,
   "metadata": {},
   "outputs": [],
   "source": [
    "bsid = PSIDSubspaceIdentification()"
   ]
  },
  {
   "cell_type": "code",
   "execution_count": 65,
   "metadata": {},
   "outputs": [],
   "source": [
    "bht = bsid.form_hankel_toeplitz(ccm, 2, y.shape[1])"
   ]
  },
  {
   "cell_type": "code",
   "execution_count": 68,
   "metadata": {},
   "outputs": [
    {
     "data": {
      "text/plain": [
       "1.297904220247693"
      ]
     },
     "execution_count": 68,
     "metadata": {},
     "output_type": "execute_result"
    }
   ],
   "source": [
    "-0.5 * sum([np.log(1 - c**2) for c in bht[1]])"
   ]
  },
  {
   "cell_type": "code",
   "execution_count": 64,
   "metadata": {},
   "outputs": [],
   "source": [
    "# Can also test on synthetic data"
   ]
  },
  {
   "cell_type": "code",
   "execution_count": 69,
   "metadata": {},
   "outputs": [],
   "source": [
    "from ppmi.gaussian import gaussian_model"
   ]
  },
  {
   "cell_type": "code",
   "execution_count": 77,
   "metadata": {},
   "outputs": [],
   "source": [
    "y, z, _, _, _, _, _ = gaussian_model()"
   ]
  },
  {
   "cell_type": "code",
   "execution_count": 94,
   "metadata": {},
   "outputs": [],
   "source": [
    "ccmy = estimate_autocorrelation(y, 8)\n",
    "ccmz = estimate_autocorrelation(z, 8)\n",
    "ccm = estimate_autocorrelation(np.hstack([y, z]), 8)"
   ]
  },
  {
   "cell_type": "code",
   "execution_count": 95,
   "metadata": {},
   "outputs": [
    {
     "data": {
      "text/plain": [
       "21.162377448897853"
      ]
     },
     "execution_count": 95,
     "metadata": {},
     "output_type": "execute_result"
    }
   ],
   "source": [
    "mutual_information(calc_cov_from_cross_cov_mats(ccm[0:3]), calc_cov_from_cross_cov_mats(ccmy[0:3]), calc_cov_from_cross_cov_mats(ccmz[0:3]))"
   ]
  },
  {
   "cell_type": "code",
   "execution_count": 91,
   "metadata": {},
   "outputs": [],
   "source": [
    "bht = bsid.form_hankel_toeplitz(np.transpose(ccm, (0, 2, 1)), 3, z.shape[1])"
   ]
  },
  {
   "cell_type": "code",
   "execution_count": 92,
   "metadata": {},
   "outputs": [
    {
     "data": {
      "text/plain": [
       "(40,)"
      ]
     },
     "execution_count": 92,
     "metadata": {},
     "output_type": "execute_result"
    }
   ],
   "source": [
    "bht[1].shape"
   ]
  },
  {
   "cell_type": "code",
   "execution_count": 93,
   "metadata": {},
   "outputs": [
    {
     "data": {
      "text/plain": [
       "12.369749093748798"
      ]
     },
     "execution_count": 93,
     "metadata": {},
     "output_type": "execute_result"
    }
   ],
   "source": [
    "-0.5 * sum([np.log(1 - c**2) for c in bht[1]])"
   ]
  },
  {
   "cell_type": "markdown",
   "metadata": {},
   "source": [
    "### Testing on sabes lab data "
   ]
  },
  {
   "cell_type": "code",
   "execution_count": 14,
   "metadata": {},
   "outputs": [],
   "source": [
    "from loaders import load_sabes"
   ]
  },
  {
   "cell_type": "code",
   "execution_count": 16,
   "metadata": {},
   "outputs": [
    {
     "name": "stdout",
     "output_type": "stream",
     "text": [
      "Processing spikes\n"
     ]
    },
    {
     "name": "stderr",
     "output_type": "stream",
     "text": [
      "100%|██████████| 1/1 [00:08<00:00,  8.24s/it]\n"
     ]
    }
   ],
   "source": [
    "dat = load_sabes('/home/akumar/nse/neural_control/data/indy_20160624_03.mat')\n",
    "#dat = load_sabes('/mnt/Secondary/data/sabes/indy_20160624_03.mat')"
   ]
  },
  {
   "cell_type": "code",
   "execution_count": 17,
   "metadata": {},
   "outputs": [],
   "source": [
    "y = np.squeeze(dat['spike_rates'])\n",
    "z = np.squeeze(dat['behavior'])"
   ]
  },
  {
   "cell_type": "code",
   "execution_count": 23,
   "metadata": {},
   "outputs": [],
   "source": [
    "# How good is basic subspace identification\n",
    "T = 5\n",
    "ydim = y.shape[1]\n",
    "zdim = z.shape[1]\n",
    "\n",
    "yt = form_lag_matrix(y, 2*T)\n",
    "zt = form_lag_matrix(z, 2*T)\n",
    "\n",
    "# \"Past\" of y and \"Future\" of z\n",
    "ypast = yt[:, :T*ydim]\n",
    "zfut = zt[:, -T*zdim:]"
   ]
  },
  {
   "cell_type": "code",
   "execution_count": 25,
   "metadata": {},
   "outputs": [],
   "source": [
    "linmodel = LinearRegression().fit(ypast, zfut)"
   ]
  },
  {
   "cell_type": "code",
   "execution_count": 27,
   "metadata": {},
   "outputs": [
    {
     "data": {
      "text/plain": [
       "0.4463327317412852"
      ]
     },
     "execution_count": 27,
     "metadata": {},
     "output_type": "execute_result"
    }
   ],
   "source": [
    "linmodel.score(ypast, zfut)"
   ]
  },
  {
   "cell_type": "code",
   "execution_count": 30,
   "metadata": {},
   "outputs": [],
   "source": [
    "# Behaviorally relevant state\n",
    "Z = scipy.linalg.lstsq(ypast, zfut)[0].T @ ypast.T\n",
    "\n",
    "svd = TruncatedSVD(n_components=Z.shape[0] - 1)\n",
    "svd.fit(Z.T)\n",
    "\n",
    "U = svd.components_.T\n",
    "Gamma_t = U @ np.diag(np.sqrt(svd.singular_values_))\n",
    "Xt = np.linalg.pinv(Gamma_t) @ Z"
   ]
  },
  {
   "cell_type": "code",
   "execution_count": 34,
   "metadata": {},
   "outputs": [
    {
     "data": {
      "text/plain": [
       "(9, 9989)"
      ]
     },
     "execution_count": 34,
     "metadata": {},
     "output_type": "execute_result"
    }
   ],
   "source": [
    "Xt.shape"
   ]
  },
  {
   "cell_type": "code",
   "execution_count": 46,
   "metadata": {},
   "outputs": [
    {
     "data": {
      "text/plain": [
       "(10, 9989)"
      ]
     },
     "execution_count": 46,
     "metadata": {},
     "output_type": "execute_result"
    }
   ],
   "source": []
  },
  {
   "cell_type": "code",
   "execution_count": 45,
   "metadata": {},
   "outputs": [
    {
     "data": {
      "text/plain": [
       "0.2724127559060829"
      ]
     },
     "execution_count": 45,
     "metadata": {},
     "output_type": "execute_result"
    }
   ],
   "source": [
    "linmodel = LinearRegression().fit(Xt.T, z[]])\n",
    "linmodel.score(Xt.T, z[:-9])"
   ]
  },
  {
   "cell_type": "code",
   "execution_count": 48,
   "metadata": {},
   "outputs": [],
   "source": [
    "from subspaces import brssid"
   ]
  },
  {
   "cell_type": "code",
   "execution_count": 49,
   "metadata": {},
   "outputs": [
    {
     "data": {
      "text/plain": [
       "(0.3856758697459933,\n",
       " array([[ 1.10888572e-02,  1.87695522e-02, -4.52275281e-02,\n",
       "         -4.49973443e-03, -6.69901021e-02, -1.05202299e-01],\n",
       "        [-1.11765504e-02, -1.06505708e-02, -3.46171902e-04,\n",
       "          1.78712328e-02, -2.46493286e-02, -8.88320316e-02],\n",
       "        [ 6.99177799e-03, -6.71297370e-02,  4.55281591e-01,\n",
       "         -3.29268667e-02, -1.13228261e-01,  4.71852872e-01],\n",
       "        [-1.02273248e-02,  7.89429273e-03,  3.33586207e-02,\n",
       "          4.61172847e-03, -6.12541809e-02,  1.04995682e-01],\n",
       "        [-1.81443997e-03,  2.20271576e-02, -5.39270127e-02,\n",
       "         -1.19622246e-01, -8.45296312e-02, -2.34750074e-01],\n",
       "        [-9.03421747e-03, -5.75864409e-02,  1.79035044e-01,\n",
       "         -1.53862898e-02, -4.69384625e-01,  1.04014644e+00],\n",
       "        [-6.71747751e-03,  3.72016325e-02, -6.40972739e-03,\n",
       "         -2.95132102e-02,  5.95741302e-02, -6.81051348e-02],\n",
       "        [ 1.02635306e-01, -1.44866209e-01,  1.91831482e-01,\n",
       "          5.20779439e-02,  1.54055935e-03, -2.51729609e-02],\n",
       "        [-2.72511852e-01,  3.68998492e-02,  1.55769971e-01,\n",
       "          9.00272054e-02,  1.47156076e-01,  5.07450796e-01],\n",
       "        [-1.09457037e-02, -4.00322854e-02, -4.29232237e-01,\n",
       "          1.52586594e-01, -2.09683024e-01,  6.50638475e-02],\n",
       "        [ 7.05751964e-03,  8.64071506e-02, -8.11077037e-03,\n",
       "          6.77989370e-02, -4.48199902e-01, -3.58118276e-01],\n",
       "        [-8.46320642e-02,  1.24272595e-01, -2.55870507e-01,\n",
       "         -2.89839381e-01,  2.17865016e-01, -4.16194646e-03],\n",
       "        [ 2.48919664e-03,  1.37875314e-02, -3.32086647e-02,\n",
       "         -2.65198921e-01,  3.03162930e-02,  2.97802514e-01],\n",
       "        [ 4.28816332e-02, -2.66117832e-02,  3.88293251e-02,\n",
       "          4.18533947e-02,  5.60643026e-02,  2.62356002e-01],\n",
       "        [ 7.59622399e-03,  9.84481920e-03, -1.69767806e-02,\n",
       "         -9.52513966e-04, -5.71144095e-02, -2.37139754e-02],\n",
       "        [-9.89149232e-02,  9.37376526e-02, -4.06884509e-02,\n",
       "         -2.83354349e-01,  3.91469957e-01,  1.30870761e-01],\n",
       "        [ 8.56075993e-03,  2.41209564e-02, -1.02785881e-01,\n",
       "         -1.28548604e-01,  4.24929893e-01, -2.69368283e-01],\n",
       "        [ 2.79419800e-02, -2.87901401e-02, -2.69094062e-02,\n",
       "          5.96362905e-02,  5.85442497e-02, -8.61001492e-02],\n",
       "        [ 9.38368287e-02,  1.13564410e-01, -3.09536027e-01,\n",
       "          2.70697226e-01, -4.28203686e-01, -3.57729717e-01],\n",
       "        [-2.92383390e-02,  6.15151325e-02, -1.45469530e-01,\n",
       "          5.72631848e-02, -2.13614855e-02,  1.48145348e-01],\n",
       "        [-2.68867728e-02,  8.09619893e-02, -2.95160679e-01,\n",
       "         -9.06000047e-02, -1.69852829e-01,  4.08846928e-01],\n",
       "        [-1.24884675e-02, -2.87753942e-03,  5.35605127e-02,\n",
       "          2.02871460e-02,  1.17924239e-02, -3.85247959e-02],\n",
       "        [-2.97012257e-02,  1.29794353e-02,  6.61055463e-02,\n",
       "          4.09392581e-02, -1.96442238e-01,  1.91211184e-01],\n",
       "        [-7.15858001e-02, -1.52130228e-02, -5.80500492e-02,\n",
       "          1.33968716e-01,  2.98188368e-01,  3.69699308e-01],\n",
       "        [ 5.35062628e-02,  2.33534882e-01, -4.80155968e-01,\n",
       "         -2.93319617e-01,  1.42837808e-01,  4.72734091e-01],\n",
       "        [ 6.55246111e-03, -5.84010494e-02, -5.07442163e-03,\n",
       "         -9.04492952e-02, -2.51190515e-01, -4.43912413e-02],\n",
       "        [-5.78237580e-02,  8.82597577e-02, -9.65368510e-02,\n",
       "         -2.27407742e-01,  1.12810649e-01, -2.52306312e-01],\n",
       "        [-2.23745377e-02,  1.45354834e-02, -9.63467322e-02,\n",
       "         -4.07018615e-02,  3.60216818e-01, -3.50513134e-01],\n",
       "        [ 1.36711574e-02,  6.25302399e-02,  5.05043147e-02,\n",
       "         -6.18714968e-02, -1.85798047e-01, -5.61044371e-01],\n",
       "        [ 4.77776868e-02, -2.33127313e-01, -7.44016536e-02,\n",
       "          5.07258880e-02, -1.02883388e-01, -2.71769063e-01],\n",
       "        [ 5.99583184e-03, -3.77083521e-02, -1.19756952e-01,\n",
       "          2.37506524e-01,  3.20480722e-02, -2.67724220e-01],\n",
       "        [ 3.49052883e-02, -4.11909769e-02,  3.83106466e-02,\n",
       "         -5.48287734e-02, -1.72573492e-01, -2.97332181e-02],\n",
       "        [ 7.68095044e-02,  2.02794827e-02, -3.11765126e-02,\n",
       "         -1.10751195e-02,  1.13152616e-02, -1.58492359e-01],\n",
       "        [ 4.86953859e-02,  1.98309518e-01, -3.06741155e-01,\n",
       "          1.23412248e-01, -6.95262812e-01,  7.19338636e-01],\n",
       "        [-1.37604934e-01, -1.05511040e-01,  2.03055035e-01,\n",
       "         -1.62629892e-01, -9.18686098e-02,  4.06128390e-01],\n",
       "        [ 6.85106883e-02, -1.15490685e-01,  5.66181493e-02,\n",
       "          6.42465065e-02, -1.77363874e-01,  2.70397427e-01],\n",
       "        [-4.91947311e-02,  1.80264421e-02,  1.31125464e-01,\n",
       "          1.97425116e-02, -7.69619773e-02,  2.69482329e-01],\n",
       "        [-1.11401627e-01, -5.76797717e-02,  2.77821488e-01,\n",
       "         -1.32724968e-01, -7.24008895e-01, -3.94313363e-01],\n",
       "        [ 1.49632858e-03,  2.11156922e-02, -1.10979039e-02,\n",
       "          2.95784300e-03,  4.86714014e-02, -5.23725113e-02],\n",
       "        [ 3.69528786e-02,  1.18682919e-02, -7.59525173e-02,\n",
       "         -9.46323747e-02,  3.25045156e-03, -4.28864237e-02],\n",
       "        [-1.02514658e-03, -4.27759706e-02, -3.24054399e-03,\n",
       "          5.05326882e-02, -2.42054523e-01, -4.47669069e-02],\n",
       "        [-7.63004428e-02,  1.92316886e-02, -3.90689017e-03,\n",
       "          2.55736374e-02,  6.69372322e-02, -1.45032276e-01],\n",
       "        [-1.00477809e-03,  2.21235878e-02, -1.03760646e-02,\n",
       "          4.82237318e-02,  1.50345154e-01,  9.95841673e-02],\n",
       "        [ 1.10016325e-02,  3.03607838e-02, -2.24222305e-02,\n",
       "         -2.37023273e-02,  8.08478563e-02, -2.34395593e-01],\n",
       "        [ 1.06261718e-02,  9.57645619e-03,  7.59851191e-02,\n",
       "          2.96034651e-02, -2.23425606e-01,  1.87356661e-01],\n",
       "        [-5.92037766e-03,  1.58271584e-01,  8.57762738e-02,\n",
       "         -7.07577575e-03, -1.03654570e-01, -6.00720265e-01],\n",
       "        [ 3.04836141e-02, -2.56384994e-02,  2.84186178e-01,\n",
       "         -1.82089510e-02, -3.12612146e-01,  9.28107731e-01],\n",
       "        [-6.44035711e-02, -7.42502912e-02,  6.55834245e-02,\n",
       "          2.49466892e-02, -1.24238315e-01,  6.43507143e-02],\n",
       "        [-6.78375245e-03,  9.03998600e-03,  6.12824871e-02,\n",
       "          3.21319167e-02, -2.12650368e-02,  1.66608897e-01],\n",
       "        [-1.03726319e-03, -8.17901667e-03, -4.51485896e-03,\n",
       "          5.57342014e-03,  1.91747676e-03, -4.95672864e-02],\n",
       "        [ 1.43755944e-02,  1.15231642e-01,  3.02258541e-01,\n",
       "          1.03007064e-02,  1.03815523e-01, -2.22556651e-01],\n",
       "        [-3.94941568e-03,  1.41189093e-01, -4.04332170e-02,\n",
       "          1.05843280e-01,  1.61943835e-02, -4.72006810e-01],\n",
       "        [-1.00828104e-02, -1.53694540e-02, -8.48436988e-02,\n",
       "         -4.32349310e-02, -2.44567963e-02, -8.21402458e-02],\n",
       "        [-9.55224739e-02,  5.04710685e-02,  2.33169011e-01,\n",
       "          1.13125682e-01, -6.71092684e-02,  3.89806893e-01],\n",
       "        [ 2.20477314e-02,  4.55080414e-02, -3.74122158e-01,\n",
       "         -2.01204380e-01,  6.70547979e-01, -5.18104126e-01],\n",
       "        [-3.31933273e-02, -3.98267082e-02,  3.91100988e-02,\n",
       "          3.03456878e-01,  4.62565393e-03, -2.96132077e-01],\n",
       "        [-5.97336724e-02,  2.19642554e-01, -5.47078895e-01,\n",
       "          8.67198826e-03, -1.68732858e-01,  9.26682319e-02],\n",
       "        [ 3.28863815e-02,  6.08616681e-02, -1.16737192e-03,\n",
       "         -3.09359933e-02,  1.43622031e-02,  1.62094328e-01],\n",
       "        [-2.43533920e-02,  3.72390733e-03,  4.85971004e-02,\n",
       "          6.13029117e-02, -5.03308477e-02,  4.64220223e-02],\n",
       "        [-7.96294523e-02,  6.03892491e-02,  1.73556643e-01,\n",
       "          4.15541810e-02, -9.21230605e-04,  1.23454760e-01],\n",
       "        [ 2.17133900e-02,  6.13245720e-02, -9.27163858e-03,\n",
       "         -4.33218212e-02, -1.53588282e-01,  1.22937783e-01],\n",
       "        [-3.03361734e-02,  1.71523825e-02,  6.42755433e-02,\n",
       "          6.84429712e-02, -3.14406010e-01, -3.24341411e-01],\n",
       "        [-1.65437372e-02,  1.21841697e-02, -1.28672776e-02,\n",
       "          8.61154557e-02, -1.12390491e-01,  9.64174148e-02],\n",
       "        [-8.12987446e-02,  9.95548197e-02, -2.21704723e-01,\n",
       "          1.82391044e-02,  7.39923465e-01, -3.91255576e-01],\n",
       "        [ 5.39747948e-02,  2.41067207e-02, -3.14060788e-01,\n",
       "         -1.75931906e-01, -6.78383676e-02,  3.09537359e-01],\n",
       "        [ 3.38616569e-02,  1.57152552e-01, -8.10458018e-01,\n",
       "         -1.78223892e-01, -5.20113474e-01, -1.99918113e+00],\n",
       "        [-1.09179589e-02,  8.13241811e-03, -1.91779052e-02,\n",
       "         -2.49754376e-02, -1.28044053e-01,  4.41215036e-02],\n",
       "        [ 3.92697698e-02,  1.22190288e-02, -5.95441135e-02,\n",
       "         -7.05842489e-02, -6.97494913e-03,  3.77898883e-02],\n",
       "        [ 1.29075866e-02,  1.53970432e-02, -6.80129315e-02,\n",
       "         -1.61184621e-02,  1.68301723e-01, -1.26438171e-01],\n",
       "        [ 4.99052521e-02, -2.48602938e-02,  1.68351449e-02,\n",
       "          2.55138017e-02, -1.96586115e-01,  5.33706586e-02],\n",
       "        [ 4.94381265e-02,  3.86472000e-02, -1.93273894e-01,\n",
       "         -3.59192348e-02, -2.28090842e-01, -5.12428667e-01],\n",
       "        [-4.53884037e-02,  8.54174310e-03, -1.49748732e-01,\n",
       "         -4.64682060e-02, -7.82593023e-02, -4.74346920e-01],\n",
       "        [ 3.97122382e-02, -3.47931841e-03,  4.73987272e-02,\n",
       "          6.92984809e-02,  2.21197282e-02, -3.24936773e-01],\n",
       "        [-1.56390024e-01,  6.25809983e-02,  3.93353020e-01,\n",
       "          1.71423726e-01, -8.69184022e-02,  1.24117483e+00],\n",
       "        [ 2.60676359e-02,  3.14053686e-02, -2.12309582e-01,\n",
       "         -3.21501533e-01, -1.47030631e-02, -2.46097609e-01],\n",
       "        [ 9.67729460e-04,  3.95096812e-02, -3.32300840e-02,\n",
       "          6.84410125e-03,  3.39752817e-02, -8.23583861e-02],\n",
       "        [ 2.01527571e-02,  4.81678441e-02, -5.91017425e-02,\n",
       "         -2.08214983e-02,  1.01792924e-01, -1.77134177e-01],\n",
       "        [-4.88890111e-02, -1.50018710e-01, -1.18078782e+00,\n",
       "         -3.79045158e-01,  2.20088461e-01, -2.15836951e+00],\n",
       "        [ 4.46205430e-03, -3.49191302e-02,  7.26050059e-03,\n",
       "          5.29663300e-02, -1.41227780e-02, -1.93683490e-01],\n",
       "        [-9.22422891e-03, -3.92932974e-02, -1.63001657e-03,\n",
       "          6.11701787e-04,  5.40776323e-02,  2.20932798e-01],\n",
       "        [-5.81293414e-02, -5.69295058e-02, -1.15403859e-01,\n",
       "          9.16385554e-02, -2.03035084e-01, -1.06785331e-01],\n",
       "        [-6.97894937e-02,  1.06137299e-01, -7.94879446e-02,\n",
       "         -1.99191641e-01,  1.26138782e-01, -3.76635576e-01],\n",
       "        [-8.32054767e-03,  1.36758310e-02,  2.99061823e-02,\n",
       "         -2.46777111e-02,  4.80439971e-02, -2.88832383e-02],\n",
       "        [-8.62808459e-03,  9.37803691e-03, -1.10237011e-03,\n",
       "          4.32873435e-04,  3.68063626e-02,  4.04924396e-02],\n",
       "        [-7.80226729e-02,  4.89924278e-02,  2.62388213e-01,\n",
       "         -8.05866924e-02, -1.07308193e-01,  7.58683915e-01],\n",
       "        [-5.60517320e-03,  1.49533783e-03, -3.93731114e-03,\n",
       "          5.29933509e-02,  1.92650887e-02, -7.92853450e-02],\n",
       "        [-7.64637134e-02,  1.23581874e-01,  7.29937475e-02,\n",
       "         -5.40251945e-02,  1.87957950e-01,  7.39494625e-01],\n",
       "        [ 2.13157469e-02, -4.11233506e-02, -6.01167631e-02,\n",
       "          3.76262997e-02,  1.58753324e-01,  1.99002408e-01],\n",
       "        [ 3.72035218e-01, -4.87503368e-02,  1.65303751e-02,\n",
       "          1.82291738e-01, -6.55210965e-01,  5.23962407e-01],\n",
       "        [-9.56908007e-02,  2.02567119e-04,  3.55036150e-02,\n",
       "          4.12131803e-04, -2.63527555e-01,  2.25695223e-02],\n",
       "        [-3.80084179e-02, -1.36190603e-01,  4.63638959e-03,\n",
       "          3.03419696e-01, -1.34649116e-01,  5.75269274e-02],\n",
       "        [ 6.18681202e-02,  2.64327556e-02, -1.47301141e-01,\n",
       "          5.12501371e-03, -1.30519463e-01,  2.64997637e-03],\n",
       "        [ 1.19911387e-01, -1.20815121e-01, -2.46867274e-02,\n",
       "          1.45211975e-01, -5.20333078e-01,  2.20432886e-01],\n",
       "        [-4.66734675e-03, -6.18266697e-03, -5.81741148e-02,\n",
       "          2.09734363e-02, -1.37831977e-01,  2.82570247e-02],\n",
       "        [-1.41623253e-01, -1.14183425e-01,  6.31574510e-02,\n",
       "          1.23655746e-01, -6.35919621e-01,  2.92189358e-02],\n",
       "        [-4.55992320e-02,  4.79511422e-02,  1.76452877e-01,\n",
       "          1.49461580e-02,  2.07824186e-01,  1.94414460e-01],\n",
       "        [-6.07761720e-02,  1.20402928e-01,  7.12838515e-01,\n",
       "         -1.50641934e-01, -1.45681890e-01,  2.28961430e-01],\n",
       "        [-3.23921743e-02,  3.81658018e-02, -7.21097906e-02,\n",
       "         -7.85247184e-02, -1.36900903e-01, -5.13909284e-01],\n",
       "        [-1.96237734e-02,  1.76989367e-02, -2.00465033e-02,\n",
       "          2.16741533e-02, -9.54289829e-02,  1.00649044e-01],\n",
       "        [-1.39375688e-01, -2.09161152e-01,  2.01795823e-01,\n",
       "          2.70909625e-01, -6.17456426e-01,  3.61734385e-01],\n",
       "        [ 3.03424497e-02,  3.11022529e-02, -2.27617678e-01,\n",
       "         -1.60985347e-01,  3.71560779e-01, -5.88450815e-02],\n",
       "        [ 4.41167446e-03,  3.29547526e-02, -4.11970969e-02,\n",
       "          4.40610919e-02, -1.54566386e-01,  8.58355588e-04],\n",
       "        [ 1.88507944e-01, -3.45887897e-03, -4.16621441e-01,\n",
       "         -8.93953325e-02,  4.29344368e-02, -9.21989869e-01],\n",
       "        [ 1.54450878e-01,  7.52662785e-02,  3.73997064e-01,\n",
       "          1.26706059e-02, -7.84637761e-03, -7.06170383e-01],\n",
       "        [-1.89063871e-02,  1.31402438e-02, -2.84502270e-02,\n",
       "          5.36988372e-02, -1.38014914e-02, -6.79183874e-02],\n",
       "        [-1.46326370e-02, -1.28151319e-02, -1.12209015e-01,\n",
       "         -1.07494016e-01, -3.14662283e-02, -4.11110514e-01],\n",
       "        [-5.11434995e-02,  4.19774097e-02, -4.97574270e-02,\n",
       "          1.16622939e-01, -1.61066590e-01,  2.70301507e-02],\n",
       "        [-1.78346157e-02,  5.77784924e-03, -4.40987365e-02,\n",
       "         -1.54597296e-02, -2.76679027e-02, -1.53303901e-02],\n",
       "        [-2.18775309e-02,  2.70220183e-03, -3.41037100e-02,\n",
       "         -2.13097981e-02,  3.81392169e-02, -8.06311420e-02],\n",
       "        [-1.65980106e-01,  3.73141239e-02,  2.77639397e-01,\n",
       "          1.33643245e-01, -3.45200019e-02,  3.73287279e-01],\n",
       "        [-5.56795916e-02, -2.06947137e-02,  9.60203067e-02,\n",
       "         -3.95229302e-02, -1.40125740e-01,  2.80757424e-01],\n",
       "        [-1.27982627e-01, -1.04317031e-02,  8.18880332e-03,\n",
       "          1.29646457e-01,  9.20814794e-02,  7.82232984e-02],\n",
       "        [-4.92251018e-03, -4.02524464e-03,  4.02711667e-03,\n",
       "          2.21086975e-02, -1.37878302e-01, -2.49270953e-02],\n",
       "        [-4.55287434e-02, -1.48929343e-02, -6.31035751e-02,\n",
       "          1.07181360e-01, -1.72591878e-01,  2.50955920e-03],\n",
       "        [-3.78268015e-02, -5.07067605e-02,  1.44200507e-01,\n",
       "          1.00414499e-01, -2.80155735e-01,  9.71573267e-02],\n",
       "        [ 7.20061627e-02,  7.86659413e-02, -5.81513370e-01,\n",
       "         -2.54794537e-01,  3.88883718e-01, -8.52248475e-01],\n",
       "        [-8.70636534e-03, -3.05427516e-03, -8.61989892e-02,\n",
       "          6.95461569e-02, -2.05088179e-01,  2.42407199e-01],\n",
       "        [-2.57372201e-02, -1.68493049e-02,  2.46564030e-02,\n",
       "          7.06333694e-02, -3.06880091e-01,  1.02173760e-01],\n",
       "        [-1.65882499e-02, -3.53324661e-02,  1.23330570e-01,\n",
       "          1.14448688e-01, -1.06009861e-01,  4.71473964e-01],\n",
       "        [-2.16295025e-02,  1.83185725e-02, -2.79244730e-02,\n",
       "          5.36587696e-02, -9.62108023e-02, -7.24727667e-02],\n",
       "        [-2.77006698e-01, -2.17267169e-01, -1.04913123e+00,\n",
       "         -1.66081177e-01, -8.19703284e-01, -1.59687628e+00],\n",
       "        [ 8.11658975e-06,  5.15827637e-03,  3.25200286e-02,\n",
       "          1.75767669e-01, -2.63078714e-01,  8.29217245e-02],\n",
       "        [-4.05321041e-03,  1.48906996e-02,  3.25917881e-02,\n",
       "         -9.26882040e-03,  3.75777020e-02,  1.33868132e-02],\n",
       "        [ 1.65490519e-01, -3.71980863e-02,  7.81709650e-01,\n",
       "          3.12129052e-01, -2.47088847e-01, -7.41294179e-01],\n",
       "        [-3.35737068e-03,  1.62936955e-02, -1.34164198e-02,\n",
       "          9.05147327e-03, -6.79670471e-02,  1.36726189e-01],\n",
       "        [ 1.46933816e-01, -9.31787113e-03, -1.29931755e-01,\n",
       "         -8.48746327e-02,  2.19579327e-01,  2.54269216e-01],\n",
       "        [-3.06829126e-02, -9.81226142e-04,  2.75448940e-02,\n",
       "         -2.46022533e-02,  1.35122525e-01,  1.65502748e-01],\n",
       "        [ 1.21578661e-02, -1.57665920e-01, -6.44693610e-02,\n",
       "         -1.37768105e-01,  7.44662444e-02,  3.95770111e-02],\n",
       "        [-1.89709602e-02, -2.29786708e-03,  3.19613321e-02,\n",
       "         -1.16271096e-01, -5.19481049e-01, -4.14900631e-01],\n",
       "        [-9.36978310e-02,  1.19608605e-04,  2.60471125e-02,\n",
       "         -2.43437889e-02,  1.47880374e-01,  1.79860477e-01],\n",
       "        [-1.57561237e-02, -9.86800657e-02, -1.61396118e-01,\n",
       "         -2.15263499e-01, -1.17988875e-01, -4.88667623e-01],\n",
       "        [-4.71059225e-02,  7.06350778e-02,  2.65661005e-02,\n",
       "          3.44922529e-02,  1.44017991e-01,  2.56011021e-01],\n",
       "        [-3.06351542e-03,  6.07154328e-04, -8.22724457e-02,\n",
       "          7.14356277e-03,  1.14292276e-02,  1.11995472e-01],\n",
       "        [ 5.97748102e-02,  1.36742299e-01, -4.97709719e-01,\n",
       "          2.07656448e-01, -7.78185171e-01, -3.57194284e-01],\n",
       "        [-6.01027677e-02,  9.93306681e-03,  1.04512160e-01,\n",
       "         -1.47171817e-02,  6.85620078e-02,  1.48114899e-01],\n",
       "        [ 9.46899693e-03, -3.36760305e-02, -1.24715335e-03,\n",
       "          1.83745842e-02, -1.59619312e-01,  1.61367890e-01],\n",
       "        [ 5.92378365e-04,  2.40761661e-02,  2.78959938e-02,\n",
       "         -1.23541032e-02,  2.02041302e-02,  8.64764150e-02],\n",
       "        [ 5.45944856e-02,  8.04202462e-02, -1.62643111e-01,\n",
       "          6.14781056e-02,  4.24415731e-01, -2.61182114e-02],\n",
       "        [ 4.90514861e-02,  1.21928703e-01,  4.29218177e-01,\n",
       "         -5.72966624e-01,  3.21892910e-01, -7.93798175e-02],\n",
       "        [-3.00043973e-05,  4.15490794e-02,  1.16311560e-01,\n",
       "          3.83486929e-02,  2.25966063e-01,  1.70981941e-01],\n",
       "        [-1.43581485e-01,  2.70546938e-01,  6.71608137e-01,\n",
       "          3.50311443e-02,  8.41263440e-03,  4.57849146e-01],\n",
       "        [ 6.10492578e-03,  3.53599012e-02,  4.01130708e-02,\n",
       "          3.69752286e-02, -1.28821890e-03, -2.99816273e-02],\n",
       "        [ 1.57298899e-02,  7.27287034e-03, -6.74447740e-02,\n",
       "         -5.32560003e-03, -1.02441394e-01, -4.21958293e-01],\n",
       "        [-2.01227949e-02, -2.00428134e-02,  4.40041343e-02,\n",
       "         -1.77885673e-03,  5.53571869e-02, -1.30549927e-01],\n",
       "        [-4.36463508e-03,  9.26421172e-02, -3.47275954e-02,\n",
       "          1.20756330e-02, -2.64325532e-02,  1.13224762e-02],\n",
       "        [-2.76516866e-02, -4.06691912e-02, -6.99308604e-02,\n",
       "          1.82068724e-01, -4.17356691e-01,  1.24907050e-01],\n",
       "        [-9.55667482e-03,  1.59429242e-02,  1.46789062e-03,\n",
       "          2.27564555e-02,  1.19674734e-01,  2.22624752e-02],\n",
       "        [ 5.75441314e-02,  1.29195899e-01, -3.54882162e-01,\n",
       "          5.75330779e-02, -2.14426060e-01,  3.34540509e-02],\n",
       "        [ 4.47118816e-02,  1.36360979e-02, -1.48536916e-01,\n",
       "          4.89159153e-03, -2.88181216e-01, -4.42802962e-01]]))"
      ]
     },
     "execution_count": 49,
     "metadata": {},
     "output_type": "execute_result"
    }
   ],
   "source": [
    "brssid(y, z, 6, 5)"
   ]
  },
  {
   "cell_type": "code",
   "execution_count": 26,
   "metadata": {},
   "outputs": [],
   "source": [
    "# Test the KF decoding frm the bsid"
   ]
  },
  {
   "cell_type": "code",
   "execution_count": null,
   "metadata": {},
   "outputs": [],
   "source": [
    "# Test on synthetic data"
   ]
  },
  {
   "cell_type": "code",
   "execution_count": 6,
   "metadata": {},
   "outputs": [],
   "source": [
    "A, B, C = gen_random_model(size=6)"
   ]
  },
  {
   "cell_type": "code",
   "execution_count": 7,
   "metadata": {},
   "outputs": [],
   "source": [
    "C = scipy.stats.ortho_group.rvs(dim=20)[:, 0:6]\n"
   ]
  },
  {
   "cell_type": "code",
   "execution_count": 8,
   "metadata": {},
   "outputs": [],
   "source": [
    "ssr = SSR(A, B, C)"
   ]
  },
  {
   "cell_type": "code",
   "execution_count": 9,
   "metadata": {},
   "outputs": [],
   "source": [
    "X, x = ssr.trajectory(T=int(1e5), return_state=True)"
   ]
  },
  {
   "cell_type": "code",
   "execution_count": 10,
   "metadata": {},
   "outputs": [],
   "source": [
    "y = x[:, 0:18]\n",
    "z = x[:, 18:]"
   ]
  },
  {
   "cell_type": "code",
   "execution_count": 11,
   "metadata": {},
   "outputs": [],
   "source": [
    "bsid2 = BRSSID()"
   ]
  },
  {
   "cell_type": "code",
   "execution_count": 12,
   "metadata": {},
   "outputs": [],
   "source": [
    "Ass,  _, _, r2 = bsid2.identify(y, z, order=6, T=5)"
   ]
  },
  {
   "cell_type": "code",
   "execution_count": 13,
   "metadata": {},
   "outputs": [
    {
     "data": {
      "text/plain": [
       "0.09618722855310002"
      ]
     },
     "execution_count": 13,
     "metadata": {},
     "output_type": "execute_result"
    }
   ],
   "source": [
    "r2"
   ]
  },
  {
   "cell_type": "code",
   "execution_count": 100,
   "metadata": {},
   "outputs": [
    {
     "data": {
      "text/plain": [
       "array([-0.62863086+0.j        , -0.50425209+0.3089909j ,\n",
       "       -0.50425209-0.3089909j ,  0.15608834+0.51544694j,\n",
       "        0.15608834-0.51544694j,  0.26256323+0.j        ])"
      ]
     },
     "execution_count": 100,
     "metadata": {},
     "output_type": "execute_result"
    }
   ],
   "source": [
    "np.linalg.eigvals(Ass)"
   ]
  },
  {
   "cell_type": "code",
   "execution_count": 99,
   "metadata": {},
   "outputs": [
    {
     "data": {
      "text/plain": [
       "array([-0.51242636+0.27857446j, -0.51242636-0.27857446j,\n",
       "        0.13910177+0.51559358j,  0.13910177-0.51559358j,\n",
       "        0.17536933+0.01531477j,  0.17536933-0.01531477j])"
      ]
     },
     "execution_count": 99,
     "metadata": {},
     "output_type": "execute_result"
    }
   ],
   "source": [
    "np.linalg.eigvals(A)"
   ]
  },
  {
   "cell_type": "code",
   "execution_count": 98,
   "metadata": {},
   "outputs": [
    {
     "data": {
      "text/plain": [
       "2.4086981303915054"
      ]
     },
     "execution_count": 98,
     "metadata": {},
     "output_type": "execute_result"
    }
   ],
   "source": [
    "np.linalg.norm(A - Ass)"
   ]
  },
  {
   "cell_type": "code",
   "execution_count": 54,
   "metadata": {},
   "outputs": [
    {
     "data": {
      "text/plain": [
       "array([ 5,  6,  7,  8,  9, 10, 11, 12, 13, 14, 15, 16, 17, 18, 19, 20, 21,\n",
       "       22, 23, 24, 25, 26, 27, 28, 29, 30, 31, 32, 33, 34, 35, 36, 37, 38,\n",
       "       39, 40, 41, 42, 43, 44, 45, 46, 47, 48, 49, 50, 51, 52, 53, 54, 55,\n",
       "       56, 57, 58, 59, 60, 61, 62, 63, 64, 65, 66, 67, 68, 69, 70, 71, 72,\n",
       "       73, 74, 75, 76, 77, 78, 79, 80, 81, 82, 83, 84, 85, 86, 87, 88, 89,\n",
       "       90, 91, 92, 93, 94, 95])"
      ]
     },
     "execution_count": 54,
     "metadata": {},
     "output_type": "execute_result"
    }
   ],
   "source": [
    "np.arange(100)[5:-5 + 1]"
   ]
  },
  {
   "cell_type": "code",
   "execution_count": 53,
   "metadata": {},
   "outputs": [
    {
     "data": {
      "text/plain": [
       "(100001, 2)"
      ]
     },
     "execution_count": 53,
     "metadata": {},
     "output_type": "execute_result"
    }
   ],
   "source": [
    "xt.shape\n",
    "z.shape"
   ]
  },
  {
   "cell_type": "code",
   "execution_count": 49,
   "metadata": {},
   "outputs": [],
   "source": [
    "from sklearn.linear_model import LinearRegression"
   ]
  },
  {
   "cell_type": "code",
   "execution_count": 61,
   "metadata": {},
   "outputs": [],
   "source": [
    "linmodel = LinearRegression().fit(z[4:-5], xt.T)"
   ]
  },
  {
   "cell_type": "code",
   "execution_count": 62,
   "metadata": {},
   "outputs": [
    {
     "data": {
      "text/plain": [
       "0.2831890412843523"
      ]
     },
     "execution_count": 62,
     "metadata": {},
     "output_type": "execute_result"
    }
   ],
   "source": [
    "linmodel.score(z[4:-5], xt.T)"
   ]
  },
  {
   "cell_type": "code",
   "execution_count": 64,
   "metadata": {},
   "outputs": [],
   "source": [
    "linmodel.coef_ = C[-2:, :]"
   ]
  },
  {
   "cell_type": "code",
   "execution_count": null,
   "metadata": {},
   "outputs": [],
   "source": [
    "linmodel.score(z, )"
   ]
  },
  {
   "cell_type": "code",
   "execution_count": 101,
   "metadata": {},
   "outputs": [],
   "source": [
    "U = scipy.stats.unitary_group.rvs(10)"
   ]
  },
  {
   "cell_type": "code",
   "execution_count": null,
   "metadata": {},
   "outputs": [],
   "source": [
    "delta = np.linspace(0, 0.5, 20)\n",
    "nn = np.zeros(delta.size)\n",
    "\n",
    "for i, alpha_ in enumerate(alpha):\n",
    "    P = "
   ]
  }
 ],
 "metadata": {
  "interpreter": {
   "hash": "c52494c424e88c3f855a8aeb34b231af4706f7aa247f66fb47c890a5ab8814ab"
  },
  "kernelspec": {
   "display_name": "Python 3.7.6 64-bit ('dyn': conda)",
   "language": "python",
   "name": "python3"
  },
  "language_info": {
   "codemirror_mode": {
    "name": "ipython",
    "version": 3
   },
   "file_extension": ".py",
   "mimetype": "text/x-python",
   "name": "python",
   "nbconvert_exporter": "python",
   "pygments_lexer": "ipython3",
   "version": "3.7.10"
  },
  "orig_nbformat": 4
 },
 "nbformat": 4,
 "nbformat_minor": 2
}
