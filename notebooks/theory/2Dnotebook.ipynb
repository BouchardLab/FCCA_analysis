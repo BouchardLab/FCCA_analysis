{
 "cells": [
  {
   "cell_type": "code",
   "execution_count": 1,
   "metadata": {},
   "outputs": [],
   "source": [
    "%load_ext autoreload\n",
    "%autoreload 2"
   ]
  },
  {
   "cell_type": "code",
   "execution_count": 3,
   "metadata": {},
   "outputs": [],
   "source": [
    "import numpy as np\n",
    "import scipy \n",
    "import matplotlib.pyplot as plt"
   ]
  },
  {
   "cell_type": "code",
   "execution_count": 1,
   "metadata": {},
   "outputs": [],
   "source": [
    "# Goals of notebook: Generate A matrices with varying polar decomposition --> Plot the trajectories --> Calculate the LQG cost"
   ]
  },
  {
   "cell_type": "code",
   "execution_count": 49,
   "metadata": {},
   "outputs": [],
   "source": [
    "def genA(theta, epsilon, delta):\n",
    "\n",
    "    U = np.array([[np.cos(theta), -np.sin(theta)], [np.sin(theta), np.cos(theta)]])\n",
    "    P = np.diag([1 - epsilon - delta, 1 - epsilon + delta]) \n",
    "\n",
    "    A = U @ P\n",
    "\n",
    "    # Caley transformation to a continuous time dynamics matrix\n",
    "    Ac = -1*(np.eye(2) - A) @ np.linalg.inv(np.eye(2) + A)\n",
    "\n",
    "    return A, Ac   \n"
   ]
  },
  {
   "cell_type": "code",
   "execution_count": 55,
   "metadata": {},
   "outputs": [],
   "source": [
    "A, Ac = genA(np.pi/4, 0.1, 0.3)"
   ]
  },
  {
   "cell_type": "code",
   "execution_count": 56,
   "metadata": {},
   "outputs": [
    {
     "data": {
      "text/plain": [
       "array([0.84852814, 0.84852814])"
      ]
     },
     "execution_count": 56,
     "metadata": {},
     "output_type": "execute_result"
    }
   ],
   "source": [
    "np.abs(np.linalg.eigvals(A))"
   ]
  },
  {
   "cell_type": "code",
   "execution_count": 57,
   "metadata": {},
   "outputs": [
    {
     "data": {
      "text/plain": [
       "array([-0.09355812+0.37506687j, -0.09355812-0.37506687j])"
      ]
     },
     "execution_count": 57,
     "metadata": {},
     "output_type": "execute_result"
    }
   ],
   "source": [
    "np.linalg.eigvals(Ac)"
   ]
  },
  {
   "cell_type": "code",
   "execution_count": 20,
   "metadata": {},
   "outputs": [],
   "source": [
    "def LQG_score(A):\n",
    "    P = scipy.linalg.solve_continuous_are(A, np.eye(A.shape[0]), np.eye(A.shape[0]), np.eye(A.shape[0]))\n",
    "    Q = scipy.linalg.solve_continuous_are(A.T, np.eye(A.shape[0]), np.eye(A.shape[0]), np.eye(A.shape[0]))\n",
    "\n",
    "    return np.trace(P @ Q)"
   ]
  },
  {
   "cell_type": "code",
   "execution_count": 30,
   "metadata": {},
   "outputs": [],
   "source": [
    "A, Ac = genA(theta[3], 0.1, 0.1)"
   ]
  },
  {
   "cell_type": "code",
   "execution_count": 33,
   "metadata": {},
   "outputs": [
    {
     "data": {
      "text/plain": [
       "array([0.05579422, 0.05579422])"
      ]
     },
     "execution_count": 33,
     "metadata": {},
     "output_type": "execute_result"
    }
   ],
   "source": [
    "np.real(np.linalg.eigvals(Ac))"
   ]
  },
  {
   "cell_type": "code",
   "execution_count": 60,
   "metadata": {},
   "outputs": [
    {
     "data": {
      "text/plain": [
       "[<matplotlib.lines.Line2D at 0x7f0b6e1f8d90>]"
      ]
     },
     "execution_count": 60,
     "metadata": {},
     "output_type": "execute_result"
    },
    {
     "data": {
      "image/png": "[encoded data removed]",
      "text/plain": [
       "<Figure size 400x400 with 1 Axes>"
      ]
     },
     "metadata": {},
     "output_type": "display_data"
    }
   ],
   "source": [
    "# Plot the spectrum of Ac as theta varies for a few value sof delta\n",
    "theta = np.linspace(0, np.pi/3, 25)\n",
    "delta = np.linspace(0, 0.2, 25)\n",
    "\n",
    "fig, ax = plt.subplots(1, 1, figsize=(4, 4))\n",
    "\n",
    "iml = np.zeros((theta.size, len(delta)))\n",
    "ssnorm = np.zeros((theta.size, len(delta)))\n",
    "lqgscore = np.zeros((theta.size, len(delta)))\n",
    "pcascore = np.zeros((theta.size, len(delta)))\n",
    "\n",
    "for i in range(theta.size):\n",
    "    for j in range(len(delta)):\n",
    "        A, Ac = genA(theta[i], 0.1, delta[j])\n",
    "        # try:\n",
    "        #     assert(np.max(np.real(np.linalg.eigvals(Ac))) < 0)\n",
    "        # except:\n",
    "        #     print(delta[j])\n",
    "        iml[i, j] = np.imag(np.linalg.eigvals(Ac)[0])\n",
    "        ssnorm[i, j] = np.linalg.norm(Ac - 0.5 * (Ac - Ac.T))/np.linalg.norm(Ac)\n",
    "        lqgscore[i, j] = LQG_score(Ac)\n",
    "        pcascore[i, j] = np.linalg.slogdet(scipy.linalg.solve_continuous_lyapunov(Ac, np.eye(Ac.shape[0])))[1]"
   ]
  },
  {
   "cell_type": "code",
   "execution_count": 76,
   "metadata": {},
   "outputs": [],
   "source": [
    "import matplotlib.patches as mpatches"
   ]
  },
  {
   "cell_type": "code",
   "execution_count": 84,
   "metadata": {},
   "outputs": [],
   "source": [
    "fig, ax = plt.subplots(1, 1, figsize=(4, 4))\n",
    "ax2 = ax.twinx()\n",
    "\n",
    "ax.plot(ssnorm[5, :], lqgscore[5, 0] - lqgscore[5, :], color='r', linewidth=3, alpha=0.5)   \n",
    "ax2.plot(ssnorm[5, :], pcascore[5, :] - pcascore[5, 0], color='k', linewidth=3, alpha=0.5)\n",
    "red_patch = mpatches.Patch(color='red', label='FBC', alpha=0.5)\n",
    "black_patch = mpatches.Patch(color='black', label='FFC', alpha=0.5)\n",
    "ax.legend(handles = [red_patch, black_patch], loc = 'center left')\n",
    "ax.set_xticks([])\n",
    "ax.set_ylabel('Feedback Controllability', color='red', fontsize=14)\n",
    "ax2.set_ylabel('Feedforward Controllability', fontsize=14)\n",
    "ax.set_yticks([])\n",
    "ax2.set_yticks([])\n",
    "ax.set_xlabel(r'$||A - A_{ss}||/||A||$' + ' (a.u.)', fontsize=14)\n",
    "fig.savefig('rotational_dependence.pdf', bbox_inches='tight', pad_inches=0)\n"
   ]
  },
  {
   "cell_type": "code",
   "execution_count": null,
   "metadata": {},
   "outputs": [],
   "source": []
  }
 ],
 "metadata": {
  "kernelspec": {
   "display_name": "Python 3.9.13 ('ncontrol')",
   "language": "python",
   "name": "python3"
  },
  "language_info": {
   "codemirror_mode": {
    "name": "ipython",
    "version": 3
   },
   "file_extension": ".py",
   "mimetype": "text/x-python",
   "name": "python",
   "nbconvert_exporter": "python",
   "pygments_lexer": "ipython3",
   "version": "3.9.13"
  },
  "orig_nbformat": 4,
  "vscode": {
   "interpreter": {
    "hash": "dc5b051b27ecb234d606e4819a89eae546370af4d9423bbd6e2863fa2f880f9a"
   }
  }
 },
 "nbformat": 4,
 "nbformat_minor": 2
}
