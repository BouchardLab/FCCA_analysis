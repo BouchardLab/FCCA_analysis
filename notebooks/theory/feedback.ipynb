{
 "cells": [
  {
   "cell_type": "code",
   "execution_count": 2,
   "id": "b7e903d8",
   "metadata": {},
   "outputs": [],
   "source": [
    "%load_ext autoreload\n",
    "%autoreload 2"
   ]
  },
  {
   "cell_type": "code",
   "execution_count": 254,
   "id": "0e709721",
   "metadata": {},
   "outputs": [],
   "source": [
    "import numpy as np\n",
    "import scipy \n",
    "from neurosim.models.ssr import StateSpaceRealization as SSR, gen_random_model\n",
    "from dca_research.kca import calc_mmse_from_cross_cov_mats\n",
    "import matplotlib.pyplot as plt"
   ]
  },
  {
   "cell_type": "code",
   "execution_count": 4,
   "id": "3ba30a17",
   "metadata": {},
   "outputs": [],
   "source": [
    "import sys\n",
    "from tqdm import tqdm\n",
    "import torch"
   ]
  },
  {
   "cell_type": "code",
   "execution_count": 5,
   "id": "1ee85809",
   "metadata": {},
   "outputs": [],
   "source": [
    "sys.path.append('../..')\n",
    "from utils import calc_loadings"
   ]
  },
  {
   "cell_type": "markdown",
   "id": "82fcee24",
   "metadata": {},
   "source": [
    "### Goal: Implement formula for gradient of exponential of the Hamiltonian matrix"
   ]
  },
  {
   "cell_type": "code",
   "execution_count": 5,
   "id": "276b7b5e",
   "metadata": {},
   "outputs": [],
   "source": [
    "# First step, verify that the formula in terms of blocks of the matrix exponential matches the solution from scipy\n",
    "# Then, implement in pytorch and compare gradient to explicit formula. \n",
    "# Then, see whether the gradient vanishes for eigenvectors of A"
   ]
  },
  {
   "cell_type": "code",
   "execution_count": 6,
   "id": "7a0f4836",
   "metadata": {},
   "outputs": [],
   "source": [
    "def riccati_solve_torch(A, B, Q, C, P, t):\n",
    "\n",
    "    H = torch.cat([torch.cat([-A.T, torch.chain_matmul(C.t(), torch.inverse(P), C)], dim=1), torch.cat([torch.chain_matmul(B, Q, B.t()), A], dim=1)], dim=0)\n",
    "    Phi = torch.matrix_exp(H * t)\n",
    "\n",
    "    n = A.shape[0]\n",
    "    # Partition\n",
    "    Phi11 = Phi[0:n, 0:n]\n",
    "    Phi12 = Phi[0:n, n:]\n",
    "    Phi21 = Phi[n:, 0:n]\n",
    "    Phi22 = Phi[n:, n:]\n",
    "\n",
    "    Sigma = torch.matmul(Phi21 + Phi22, torch.inverse(Phi11 + Phi12))\n",
    "    return Sigma"
   ]
  },
  {
   "cell_type": "code",
   "execution_count": 96,
   "id": "5e0593ba",
   "metadata": {},
   "outputs": [],
   "source": [
    "A, B, C = gen_random_model(20, 2, 20, True)\n",
    "# P and Q can also be set to the identity for simplicity\n",
    "P = np.eye(C.shape[0])\n",
    "Q = np.eye(B.shape[1])"
   ]
  },
  {
   "cell_type": "code",
   "execution_count": 20,
   "id": "283fdc9c",
   "metadata": {},
   "outputs": [],
   "source": [
    "At = torch.tensor(A)\n",
    "Bt = torch.tensor(B)\n",
    "Ct = torch.tensor(C, requires_grad=True)\n",
    "Pt = torch.tensor(P)\n",
    "Qt = torch.tensor(Q)"
   ]
  },
  {
   "cell_type": "code",
   "execution_count": 21,
   "id": "e9f72511",
   "metadata": {},
   "outputs": [],
   "source": [
    "St = riccati_solve_torch(At, Bt, Qt, Ct, Pt, 20)"
   ]
  },
  {
   "cell_type": "code",
   "execution_count": 16,
   "id": "5c85d75d",
   "metadata": {},
   "outputs": [
    {
     "data": {
      "text/plain": [
       "tensor([ 2.8637e-01+0.0000e+00j,  2.4201e-01+0.0000e+00j,\n",
       "         6.5059e-03+0.0000e+00j,  5.3278e-03+0.0000e+00j,\n",
       "         2.0675e-04+0.0000e+00j,  1.0879e-04+0.0000e+00j,\n",
       "         2.5782e-06+0.0000e+00j,  1.0697e-06+0.0000e+00j,\n",
       "         5.0332e-08+0.0000e+00j,  1.4891e-08+2.4104e-09j,\n",
       "         1.4891e-08-2.4104e-09j, -2.9159e-10+8.4879e-09j,\n",
       "        -2.9159e-10-8.4879e-09j,  5.7782e-09+0.0000e+00j,\n",
       "        -7.1883e-09+0.0000e+00j, -4.6420e-09+3.8113e-09j,\n",
       "        -4.6420e-09-3.8113e-09j,  1.8775e-10+7.8625e-10j,\n",
       "         1.8775e-10-7.8625e-10j, -2.5079e-09+0.0000e+00j],\n",
       "       dtype=torch.complex128)"
      ]
     },
     "execution_count": 16,
     "metadata": {},
     "output_type": "execute_result"
    }
   ],
   "source": [
    "torch.linalg.eigvals(St)"
   ]
  },
  {
   "cell_type": "code",
   "execution_count": 19,
   "id": "5d3bd1d7",
   "metadata": {},
   "outputs": [
    {
     "data": {
      "text/plain": [
       "array([ 2.86374934e-01,  2.42013261e-01,  6.50585532e-03,  5.32780943e-03,\n",
       "        2.06717893e-04,  1.08777074e-04,  2.57029947e-06,  1.06513128e-06,\n",
       "        4.26309777e-08,  1.63997503e-08,  6.18588015e-10,  1.38343146e-10,\n",
       "        2.42175674e-12,  1.08104000e-12,  2.38413897e-14,  6.11796199e-15,\n",
       "        2.93579288e-16, -1.73360130e-16, -5.72109684e-17, -6.74857990e-20])"
      ]
     },
     "execution_count": 19,
     "metadata": {},
     "output_type": "execute_result"
    }
   ],
   "source": [
    "np.linalg.eigvals(scipy.linalg.solve_continuous_are(A.T, C.T, B @ Q @ B.T, P))"
   ]
  },
  {
   "cell_type": "code",
   "execution_count": 22,
   "id": "20dd2067",
   "metadata": {},
   "outputs": [],
   "source": [
    "loss = torch.trace(St)"
   ]
  },
  {
   "cell_type": "code",
   "execution_count": 23,
   "id": "27b6a0e1",
   "metadata": {},
   "outputs": [],
   "source": [
    "loss.backward()"
   ]
  },
  {
   "cell_type": "code",
   "execution_count": 24,
   "id": "9b6a25d6",
   "metadata": {},
   "outputs": [
    {
     "data": {
      "text/plain": [
       "tensor([[  8.4888,  -3.8430,   6.9102, -11.8985,  10.7013, -18.7788, -22.5299,\n",
       "         -28.2243,  19.4963,   8.4663,  -1.1047,  12.4422, -17.5302, -14.5567,\n",
       "         -11.7259,  13.0519, -38.0177, -16.7474,  -0.6369,  10.6166],\n",
       "        [ 18.3191,  10.4250, -17.8094,   2.9947, -15.7714, -23.7243,  -2.8834,\n",
       "         -31.2822, -45.9174,   2.2860,   0.8855,   0.6905,  29.1203, -33.8856,\n",
       "          17.0007,  40.3078,  17.2733, -26.9402,  15.5793,  13.0783]],\n",
       "       dtype=torch.float64)"
      ]
     },
     "execution_count": 24,
     "metadata": {},
     "output_type": "execute_result"
    }
   ],
   "source": [
    "Ct.grad"
   ]
  },
  {
   "cell_type": "code",
   "execution_count": 25,
   "id": "edf9f1c8",
   "metadata": {},
   "outputs": [],
   "source": [
    "# We should first test against the matrix exponential"
   ]
  },
  {
   "cell_type": "code",
   "execution_count": null,
   "id": "4beaad5e",
   "metadata": {},
   "outputs": [],
   "source": [
    "At = torch.tensor(A)\n",
    "Bt = torch.tensor(B)\n",
    "Ct = torch.tensor(C, requires_grad=True)\n",
    "Pt = torch.tensor(P)\n",
    "Qt = torch.tensor(Q)"
   ]
  },
  {
   "cell_type": "code",
   "execution_count": null,
   "id": "af8fc4e3",
   "metadata": {},
   "outputs": [],
   "source": [
    "H = torch.cat([torch.cat([-A.T, torch.chain_matmul(C.t(), torch.inverse(P), C)], dim=1), torch.cat([torch.chain_matmul(B, Q, B.t()), A], dim=1)], dim=0)\n",
    "Phi = torch.matrix_exp(H * t)\n",
    "loss = torch.trace(Phi)"
   ]
  },
  {
   "cell_type": "code",
   "execution_count": null,
   "id": "2f0cd708",
   "metadata": {},
   "outputs": [],
   "source": [
    "# First, need dH/dC, thb\n",
    "# en plug into exponential formula"
   ]
  },
  {
   "cell_type": "code",
   "execution_count": 1,
   "id": "f54d9313",
   "metadata": {},
   "outputs": [],
   "source": [
    "# Are the Riccati solutions inverses of each other as Jockhertee claims?"
   ]
  },
  {
   "cell_type": "code",
   "execution_count": 101,
   "id": "677bf0a3",
   "metadata": {},
   "outputs": [],
   "source": [
    "P1 = scipy.linalg.solve_continuous_are(A.T, C.T, B @ B.T, np.eye(C.shape[0]))\n",
    "P2 = scipy.linalg.solve_continuous_are(A, B, C.T @ C, np.eye(B.shape[1]))"
   ]
  },
  {
   "cell_type": "code",
   "execution_count": 12,
   "id": "a0014072",
   "metadata": {},
   "outputs": [],
   "source": [
    "import pdb"
   ]
  },
  {
   "cell_type": "code",
   "execution_count": 44,
   "id": "7e5856e5",
   "metadata": {},
   "outputs": [],
   "source": [
    "# Solve are using schur decomposition\n",
    "def solve_are(A, B, Q, R, stable=True):\n",
    "\n",
    "\n",
    "    # Hamiltonian matrix\n",
    "    H = np.block([[A, -B @ np.linalg.inv(R) @ B.T], [-Q, -A.T]])\n",
    "    BB = np.eye(H.shape[0])\n",
    "\n",
    "    if stable:\n",
    "        AA, BB, alpha, beta, Q, Z = scipy.linalg.ordqz(H, BB, sort='lhp')\n",
    "    else:\n",
    "        AA, BB, alpha, beta, Q, Z = scipy.linalg.ordqz(H, BB, sort='rhp')\n",
    "\n",
    "    Z = Z[:, 0:A.shape[0]]\n",
    "    Z1 = Z[0:A.shape[0], :]\n",
    "    Z2 = Z[A.shape[0]:, :]\n",
    "\n",
    "    return Z2 @ np.linalg.inv(Z1)\n",
    "    "
   ]
  },
  {
   "cell_type": "code",
   "execution_count": 172,
   "id": "ed347379",
   "metadata": {},
   "outputs": [],
   "source": [
    "def solve_dare(A, B, Q, R, stable=True):\n",
    "\n",
    "    # Matrix pencil\n",
    "    AA = np.block([[A, np.zeros(A.shape)], [-Q, np.eye(A.shape[0])]])\n",
    "    BB = np.block([[np.eye(B.shape[0]), B @ np.linalg.inv(R) @ B.T], [np.zeros(A.shape), A.T]])\n",
    "\n",
    "    if stable:\n",
    "        AA, BB, alpha, beta, Q, Z = scipy.linalg.ordqz(AA, BB, sort='iuc')\n",
    "    else:\n",
    "        AA, BB, alpha, beta, Q, Z = scipy.linalg.ordqz(AA, BB, sort='ouc')\n",
    "\n",
    "    Z = Z[:, 0:A.shape[0]]\n",
    "    Z1 = Z[0:A.shape[0], :]\n",
    "    Z2 = Z[A.shape[0]:, :]\n",
    "\n",
    "    return Z2 @ np.linalg.inv(Z1)\n",
    "\n"
   ]
  },
  {
   "cell_type": "code",
   "execution_count": 116,
   "id": "27791769",
   "metadata": {},
   "outputs": [],
   "source": [
    "# Solve using the matrix sign function. The advantage of this is that one gets all 4 matrices of interest in one go\n",
    "\n",
    "# See: Positive and negative solutions of dual Riccati equations by matrix sign function iteration\n",
    "def sgn(H):\n",
    "    Z = H\n",
    "    for i in range(500):\n",
    "        Z = 1/2 * (Z + np.linalg.inv(Z))\n",
    "    return Z\n",
    "\n",
    "def solve_are_sgn(A, B, C):\n",
    "\n",
    "    # Hamiltonian matrix associated with the LQR problem. The transpose is\n",
    "    # associated with the filtering problem\n",
    "    H = np.block([[A, -B @ B.T], [-C.T @ C, -A.T]])\n",
    "    Z = sgn(H)\n",
    "    Z11 = Z[0:A.shape[0], 0:A.shape[0]]\n",
    "    Z12 = Z[0:A.shape[0], A.shape[0]:]\n",
    "    Z21 = Z[A.shape[0]:, 0:A.shape[0]]\n",
    "    Z22 = Z[A.shape[0]:, A.shape[0]:]\n",
    "\n",
    "    Pp = -1 * scipy.linalg.pinv(np.block([[Z12], [Z22 + np.eye(A.shape[0])]])) @ np.block([[Z11 + np.eye(A.shape[0])], [Z21]])\n",
    "    Pm = -1 * scipy.linalg.pinv(np.block([[Z12], [Z22 - np.eye(A.shape[0])]])) @ np.block([[Z11 - np.eye(A.shape[0])], [Z21]])\n",
    "\n",
    "    # Take the transpose of the Hamiltonian matrix and proceed as before\n",
    "    Z = sgn(H).T\n",
    "    Z11 = Z[0:A.shape[0], 0:A.shape[0]]\n",
    "    Z12 = Z[0:A.shape[0], A.shape[0]:]\n",
    "    Z21 = Z[A.shape[0]:, 0:A.shape[0]]\n",
    "    Z22 = Z[A.shape[0]:, A.shape[0]:]\n",
    "\n",
    "    Qp = -1 * scipy.linalg.pinv(np.block([[Z12], [Z22 + np.eye(A.shape[0])]])) @ np.block([[Z11 + np.eye(A.shape[0])], [Z21]])\n",
    "    Qm = -1 * scipy.linalg.pinv(np.block([[Z12], [Z22 - np.eye(A.shape[0])]])) @ np.block([[Z11 - np.eye(A.shape[0])], [Z21]])\n",
    "\n",
    "    return Pp, Pm, Qp, Qm\n"
   ]
  },
  {
   "cell_type": "code",
   "execution_count": 105,
   "id": "9525faf9",
   "metadata": {},
   "outputs": [],
   "source": [
    "Pp, Pm, Qp, Qm = solve_are_sgn(A, B, C)"
   ]
  },
  {
   "cell_type": "code",
   "execution_count": 107,
   "id": "e39dcb68",
   "metadata": {},
   "outputs": [
    {
     "data": {
      "text/plain": [
       "True"
      ]
     },
     "execution_count": 107,
     "metadata": {},
     "output_type": "execute_result"
    }
   ],
   "source": [
    "np.allclose(P1, Qp)"
   ]
  },
  {
   "cell_type": "code",
   "execution_count": 108,
   "id": "5e9c105b",
   "metadata": {},
   "outputs": [
    {
     "data": {
      "text/plain": [
       "1.5789733726932968e+16"
      ]
     },
     "execution_count": 108,
     "metadata": {},
     "output_type": "execute_result"
    }
   ],
   "source": [
    "np.linalg.cond(Pp)"
   ]
  },
  {
   "cell_type": "code",
   "execution_count": 109,
   "id": "3f34772a",
   "metadata": {},
   "outputs": [
    {
     "data": {
      "text/plain": [
       "2.4137913499767225"
      ]
     },
     "execution_count": 109,
     "metadata": {},
     "output_type": "execute_result"
    }
   ],
   "source": [
    "np.linalg.cond(Pm)"
   ]
  },
  {
   "cell_type": "code",
   "execution_count": 113,
   "id": "af9cf309",
   "metadata": {},
   "outputs": [
    {
     "data": {
      "text/plain": [
       "True"
      ]
     },
     "execution_count": 113,
     "metadata": {},
     "output_type": "execute_result"
    }
   ],
   "source": [
    "np.allclose(np.linalg.inv(Pm), -1 * Qp)"
   ]
  },
  {
   "cell_type": "code",
   "execution_count": 114,
   "id": "85f24e70",
   "metadata": {},
   "outputs": [
    {
     "data": {
      "text/plain": [
       "False"
      ]
     },
     "execution_count": 114,
     "metadata": {},
     "output_type": "execute_result"
    }
   ],
   "source": [
    "np.allclose(np.linalg.inv(Qm), -1 * Pp)"
   ]
  },
  {
   "cell_type": "code",
   "execution_count": 115,
   "id": "1c97eaf4",
   "metadata": {},
   "outputs": [],
   "source": [
    "# One gets the right answer when the condition numbers are reasonable..."
   ]
  },
  {
   "cell_type": "code",
   "execution_count": 248,
   "id": "20326787",
   "metadata": {},
   "outputs": [],
   "source": [
    "# Discrete time testing\n",
    "A, B, C = gen_random_model(20)\n",
    "A = 1/2 * (A + A.T)\n",
    "#A = np.diag(np.random.uniform(0, 1, size=(20,)))"
   ]
  },
  {
   "cell_type": "code",
   "execution_count": 239,
   "id": "fa632aff",
   "metadata": {},
   "outputs": [
    {
     "data": {
      "text/plain": [
       "array([-0.81726449, -0.64745509, -0.52170145, -0.42822448, -0.38401076,\n",
       "       -0.32162278,  0.74599143,  0.6755151 ,  0.60637773,  0.53613787,\n",
       "       -0.15385582, -0.09038145, -0.05293723,  0.03307939,  0.13363644,\n",
       "        0.43073073,  0.19308675,  0.31883503,  0.34010362,  0.34728985])"
      ]
     },
     "execution_count": 239,
     "metadata": {},
     "output_type": "execute_result"
    }
   ],
   "source": [
    "np.linalg.eigvals(A)"
   ]
  },
  {
   "cell_type": "code",
   "execution_count": 220,
   "id": "147a6a89",
   "metadata": {},
   "outputs": [],
   "source": [
    "P1 = scipy.linalg.solve_discrete_are(A, B, C.T @ C, np.eye(B.shape[1]))\n",
    "# Dual solution\n",
    "P2 = scipy.linalg.solve_discrete_are(A.T, C.T, B @ B.T, np.eye(C.shape[0]))"
   ]
  },
  {
   "cell_type": "code",
   "execution_count": 249,
   "id": "c59540cd",
   "metadata": {},
   "outputs": [],
   "source": [
    "Q1 = solve_dare(A, B, C.T @ C, np.eye(B.shape[1]))\n",
    "Q1m = solve_dare(A, B, C.T @ C, np.eye(B.shape[1]), False)\n",
    "\n",
    "Q2 = solve_dare(A.T, C.T, B @ B.T, np.eye(C.shape[0]))\n",
    "Q2m = solve_dare(A.T, C.T, B @ B.T, np.eye(C.shape[0]), False)"
   ]
  },
  {
   "cell_type": "code",
   "execution_count": 244,
   "id": "62ea5089",
   "metadata": {},
   "outputs": [
    {
     "data": {
      "text/plain": [
       "23.96079954242218"
      ]
     },
     "execution_count": 244,
     "metadata": {},
     "output_type": "execute_result"
    }
   ],
   "source": [
    "np.trace(Q1)"
   ]
  },
  {
   "cell_type": "code",
   "execution_count": 250,
   "id": "bc1be8aa",
   "metadata": {},
   "outputs": [
    {
     "data": {
      "text/plain": [
       "array([[ 1.00000000e+00, -7.28672907e-19,  2.85582777e-19,\n",
       "         2.07835593e-18,  3.30855785e-18,  1.15044810e-18,\n",
       "        -1.76984303e-19,  7.96621250e-19,  4.27226569e-18,\n",
       "        -7.32195994e-20, -2.76888781e-18, -1.11229585e-18,\n",
       "        -1.62630326e-19,  6.93889390e-18, -3.79470760e-19,\n",
       "         6.50521303e-19, -2.71050543e-19,  4.66206934e-18,\n",
       "        -1.18313562e-17,  0.00000000e+00],\n",
       "       [-1.19596865e-19,  1.00000000e+00, -1.84662694e-18,\n",
       "         4.58713837e-18, -5.30180699e-18, -1.20060910e-17,\n",
       "         4.02776303e-19,  2.52014070e-18,  3.26424481e-19,\n",
       "        -3.18476876e-18, -1.93057936e-18,  3.53306939e-19,\n",
       "         1.78893358e-18,  9.10729825e-18,  2.22261445e-18,\n",
       "        -5.42101086e-19,  2.00577402e-18,  4.33680869e-19,\n",
       "        -1.69067776e-17,  3.46944695e-18],\n",
       "       [ 1.56082944e-17,  5.27078295e-19,  1.00000000e+00,\n",
       "        -2.17699562e-18, -1.11974447e-18, -3.53527319e-18,\n",
       "         9.81620720e-18,  2.05426797e-18,  2.71747945e-18,\n",
       "         4.17497864e-19, -8.01861987e-18, -3.28310719e-18,\n",
       "        -5.42101086e-19, -2.36085023e-17, -5.33969570e-18,\n",
       "        -2.22261445e-18,  4.33680869e-19,  2.43945489e-18,\n",
       "        -1.24751012e-17,  0.00000000e+00],\n",
       "       [ 1.84705206e-18, -3.22565084e-18,  1.70555231e-18,\n",
       "         1.00000000e+00,  9.03371453e-19,  1.66659655e-18,\n",
       "         4.44168075e-19,  1.25731332e-18, -5.42935810e-18,\n",
       "        -5.36269073e-19, -2.29454472e-18, -3.94332050e-18,\n",
       "         1.35525272e-18,  5.55653613e-18,  4.33680869e-18,\n",
       "        -3.46944695e-18, -6.45100293e-18, -5.42101086e-20,\n",
       "        -5.75982404e-20, -3.46944695e-18],\n",
       "       [-4.54328323e-18,  1.05201478e-18, -1.71711191e-18,\n",
       "        -3.40221904e-19,  1.00000000e+00, -4.11873406e-18,\n",
       "        -2.33294604e-19, -2.09604678e-18,  9.41307430e-18,\n",
       "        -7.59241120e-18, -5.85540369e-18,  2.99786720e-18,\n",
       "         9.75781955e-19,  5.42101086e-18, -8.40256684e-19,\n",
       "        -8.67361738e-19, -1.46367293e-18, -3.25260652e-19,\n",
       "         1.55854062e-19,  3.46944695e-18],\n",
       "       [-6.17986967e-19,  7.83572686e-18, -2.69844768e-17,\n",
       "         2.16953763e-19, -2.58532578e-18,  1.00000000e+00,\n",
       "         5.27822229e-19,  1.76838706e-18,  3.12220675e-18,\n",
       "        -9.90711134e-19, -5.03798783e-19,  1.30856212e-18,\n",
       "        -2.89346455e-18, -5.42101086e-20,  1.55854062e-18,\n",
       "        -2.71050543e-20,  2.43945489e-19,  2.18195687e-18,\n",
       "         2.21075599e-19, -2.60208521e-18],\n",
       "       [-4.25916147e-18,  2.41672608e-20,  1.27867079e-18,\n",
       "        -1.03345791e-18, -2.00554135e-18,  3.84699321e-20,\n",
       "         1.00000000e+00,  1.47159915e-19, -8.06413847e-19,\n",
       "         6.24143379e-19,  3.08442052e-18, -5.47650676e-19,\n",
       "         1.30104261e-18, -8.34835673e-18, -2.03287907e-18,\n",
       "        -1.08420217e-19, -4.87890978e-19,  1.04083409e-17,\n",
       "        -4.43845264e-19, -5.20417043e-18],\n",
       "       [ 5.49069209e-19,  1.77375337e-20,  1.34927228e-19,\n",
       "         5.83374548e-19, -3.41254501e-18, -8.66279415e-18,\n",
       "        -1.96064000e-19,  1.00000000e+00, -1.55823355e-17,\n",
       "         1.03759724e-18,  4.83163720e-18, -1.65640897e-18,\n",
       "         7.48099499e-18, -7.48099499e-18, -1.41488384e-17,\n",
       "         1.08420217e-19,  5.42101086e-18, -4.33680869e-19,\n",
       "         2.49366500e-18, -2.08166817e-17],\n",
       "       [ 4.02108650e-18, -2.68121560e-19,  3.02367327e-20,\n",
       "         2.53612423e-18,  4.77007478e-18,  5.79268074e-18,\n",
       "         8.72862894e-19, -1.14011121e-17,  1.00000000e+00,\n",
       "        -7.19423636e-18,  5.56468466e-18,  3.31473128e-18,\n",
       "         1.68051337e-18, -5.63785130e-18, -3.11708125e-18,\n",
       "        -6.50521303e-18,  4.44522891e-18,  1.51788304e-18,\n",
       "         7.11507676e-19,  0.00000000e+00],\n",
       "       [ 4.48850511e-18,  3.91721380e-18,  7.46387723e-19,\n",
       "        -1.19771330e-18, -6.53690142e-18,  1.41150378e-18,\n",
       "        -1.52344780e-18, -6.67476845e-19, -5.48413276e-18,\n",
       "         1.00000000e+00, -1.07684252e-18, -6.91347590e-18,\n",
       "        -3.52365706e-19,  8.80914265e-20,  2.30731775e-18,\n",
       "         2.71050543e-19,  1.40404181e-17,  4.68917440e-18,\n",
       "         1.74997007e-18,  8.67361738e-19],\n",
       "       [-1.46059068e-18,  1.78447995e-18, -5.32986466e-18,\n",
       "        -1.40636542e-18,  5.65231420e-18,  4.75004012e-19,\n",
       "         2.79948925e-18, -8.26916696e-19,  1.62692181e-17,\n",
       "        -1.21319852e-18,  1.00000000e+00,  1.02881229e-18,\n",
       "         1.13841228e-18, -9.75781955e-19,  1.62630326e-18,\n",
       "         1.59919820e-17,  3.84891771e-18,  3.25260652e-19,\n",
       "        -1.01237378e-17,  0.00000000e+00],\n",
       "       [ 5.60562493e-18,  2.93661583e-18, -2.77077647e-17,\n",
       "        -1.25636519e-20,  3.52417561e-18,  5.53765875e-18,\n",
       "         9.54612032e-19, -1.23234731e-17,  3.40741575e-18,\n",
       "         5.44462006e-18, -3.18129593e-18,  1.00000000e+00,\n",
       "        -5.42101086e-19, -2.92734587e-18, -8.13151629e-20,\n",
       "         3.25260652e-19, -5.42101086e-20,  2.16840434e-19,\n",
       "        -5.19739416e-18, -3.46944695e-18],\n",
       "       [ 3.88121153e-18,  2.45161985e-18, -7.62942000e-19,\n",
       "         1.38393214e-18, -1.26524804e-17,  7.79368366e-18,\n",
       "         3.74995114e-19, -1.46029173e-18, -4.37313050e-18,\n",
       "         4.11120353e-19, -3.27019537e-18, -2.05009852e-18,\n",
       "         1.00000000e+00, -3.79470760e-18,  1.40946282e-18,\n",
       "         1.51788304e-18,  3.79470760e-19, -5.42101086e-19,\n",
       "        -3.90990408e-18,  3.46944695e-18],\n",
       "       [ 8.59409404e-18,  9.69949280e-19,  4.23608055e-17,\n",
       "         1.80159805e-17,  6.38185812e-18,  3.83935386e-18,\n",
       "        -5.49460860e-18,  6.99060770e-18, -6.57138783e-18,\n",
       "        -2.11604906e-19,  5.75550258e-19, -8.77581739e-18,\n",
       "        -9.59518923e-18,  1.00000000e+00, -9.89334482e-19,\n",
       "        -6.50521303e-19,  1.43656788e-18,  5.96311195e-19,\n",
       "         3.25938278e-18, -1.73472348e-18],\n",
       "       [-1.14257723e-17,  4.66584091e-18, -4.02314751e-18,\n",
       "         3.86801935e-18, -1.70647873e-17,  1.78652814e-18,\n",
       "         1.56519718e-18,  1.09745838e-17, -9.57613973e-18,\n",
       "        -3.78860469e-18, -2.12561265e-19, -2.25994331e-18,\n",
       "        -1.40946282e-18, -8.13151629e-20,  1.00000000e+00,\n",
       "        -6.50521303e-19, -7.07441918e-18, -3.03576608e-18,\n",
       "         4.89923857e-18,  1.73472348e-18],\n",
       "       [-2.59965429e-17, -4.81601519e-18, -5.88753144e-18,\n",
       "        -6.22831822e-18, -6.33968368e-18,  1.06810570e-18,\n",
       "        -7.17943349e-18,  6.03695176e-19, -1.95192260e-17,\n",
       "        -6.17139949e-19, -1.02246495e-17,  2.97617852e-17,\n",
       "        -1.50704102e-17,  6.50521303e-19,  1.89735380e-19,\n",
       "         1.00000000e+00,  5.09575021e-18,  1.02999206e-17,\n",
       "         1.24412199e-17, -6.93889390e-18],\n",
       "       [-1.56517873e-19, -7.12027157e-18,  3.79117105e-19,\n",
       "         7.69284260e-18, -1.09039988e-18, -3.00614466e-19,\n",
       "         1.82830831e-19,  2.03123003e-18,  1.10001378e-17,\n",
       "         1.10844317e-17, -2.73137085e-18, -1.62415475e-18,\n",
       "         1.62630326e-19, -1.97866896e-18,  4.49943902e-18,\n",
       "        -3.25260652e-18,  1.00000000e+00, -3.79470760e-18,\n",
       "         1.79232172e-18,  6.93889390e-18],\n",
       "       [-6.17486835e-18,  2.07745878e-18, -5.97720834e-18,\n",
       "        -5.37279470e-19, -6.48649298e-19,  3.58362020e-18,\n",
       "         9.70855801e-19, -3.79985080e-19,  9.18983441e-18,\n",
       "        -1.12290708e-18,  2.80222844e-18,  3.25058008e-18,\n",
       "         2.16840434e-19,  6.23416249e-18,  1.33085817e-17,\n",
       "         3.57786717e-18,  5.42101086e-20,  1.00000000e+00,\n",
       "        -2.92056960e-18,  0.00000000e+00],\n",
       "       [-6.64307915e-18, -7.53924335e-18, -1.50550208e-17,\n",
       "        -2.89913140e-18, -2.46307535e-18,  1.53482772e-18,\n",
       "         2.88564438e-20, -3.32234386e-18,  4.31416476e-18,\n",
       "        -1.85002943e-17,  2.55701873e-17, -7.53454933e-18,\n",
       "        -5.99021700e-18, -4.05220562e-18,  6.39171062e-18,\n",
       "         1.40675232e-17, -1.38235777e-18, -1.07945879e-17,\n",
       "         1.00000000e+00,  1.73472348e-18],\n",
       "       [ 1.21396413e-17, -5.47126614e-18, -4.97325397e-18,\n",
       "         3.66931756e-20, -3.87115764e-18, -2.53281961e-18,\n",
       "        -4.76842147e-18,  7.95793256e-18, -7.66128560e-18,\n",
       "        -8.67736783e-19,  5.06360987e-18, -4.04310495e-18,\n",
       "         0.00000000e+00,  5.20417043e-18, -2.60208521e-18,\n",
       "         0.00000000e+00,  6.93889390e-18, -6.93889390e-18,\n",
       "        -8.67361738e-19,  1.00000000e+00]])"
      ]
     },
     "execution_count": 250,
     "metadata": {},
     "output_type": "execute_result"
    }
   ],
   "source": [
    "Q1 @ np.linalg.inv(Q1)"
   ]
  },
  {
   "cell_type": "code",
   "execution_count": 246,
   "id": "eb9e94ba",
   "metadata": {},
   "outputs": [
    {
     "data": {
      "text/plain": [
       "-23.96079954242218"
      ]
     },
     "execution_count": 246,
     "metadata": {},
     "output_type": "execute_result"
    }
   ],
   "source": [
    "np.trace(np.linalg.inv(Q1m))"
   ]
  },
  {
   "cell_type": "code",
   "execution_count": 231,
   "id": "5da6016a",
   "metadata": {},
   "outputs": [
    {
     "data": {
      "text/plain": [
       "True"
      ]
     },
     "execution_count": 231,
     "metadata": {},
     "output_type": "execute_result"
    }
   ],
   "source": [
    "np.allclose(np.linalg.inv(Q1m), -1*P2)"
   ]
  },
  {
   "cell_type": "code",
   "execution_count": 319,
   "id": "9125f0b0",
   "metadata": {},
   "outputs": [],
   "source": [
    "A, B, C = gen_random_model(20)"
   ]
  },
  {
   "cell_type": "code",
   "execution_count": 320,
   "id": "1236e5c5",
   "metadata": {},
   "outputs": [],
   "source": [
    "ssr = SSR(A, B, C)"
   ]
  },
  {
   "cell_type": "code",
   "execution_count": 330,
   "id": "81f7eabe",
   "metadata": {},
   "outputs": [],
   "source": [
    "ccm = ssr.autocorrelation(5)"
   ]
  },
  {
   "cell_type": "code",
   "execution_count": 322,
   "id": "e13c5d82",
   "metadata": {},
   "outputs": [],
   "source": [
    "from dca.cov_util import calc_cov_from_cross_cov_mats"
   ]
  },
  {
   "cell_type": "code",
   "execution_count": 335,
   "id": "f7d5c1ca",
   "metadata": {},
   "outputs": [
    {
     "data": {
      "text/plain": [
       "tensor(20.)"
      ]
     },
     "execution_count": 335,
     "metadata": {},
     "output_type": "execute_result"
    }
   ],
   "source": [
    "calc_mmse_from_cross_cov_mats(torch.tensor(ccm).float(), proj=torch.eye(ccm.shape[1]).float())"
   ]
  },
  {
   "cell_type": "code",
   "execution_count": 336,
   "id": "a7fd5aae",
   "metadata": {},
   "outputs": [],
   "source": [
    "ssr.solve_min_phase()"
   ]
  },
  {
   "cell_type": "code",
   "execution_count": 290,
   "id": "e76baa05",
   "metadata": {},
   "outputs": [],
   "source": [
    "X = np.block([[covf.numpy(), covpf.numpy().T], [covpf.numpy(), covp.numpy()]])"
   ]
  },
  {
   "cell_type": "code",
   "execution_count": 276,
   "id": "a603b91d",
   "metadata": {},
   "outputs": [
    {
     "data": {
      "text/plain": [
       "array([2.32110202, 1.58520366])"
      ]
     },
     "execution_count": 276,
     "metadata": {},
     "output_type": "execute_result"
    }
   ],
   "source": [
    "np.linalg.eigvals(covf.numpy())"
   ]
  },
  {
   "cell_type": "code",
   "execution_count": 277,
   "id": "7eb186f4",
   "metadata": {},
   "outputs": [
    {
     "data": {
      "text/plain": [
       "array([4.7620994 , 4.73554397, 3.95362946, 3.90252817, 3.21494589,\n",
       "       3.16970859, 2.69407875, 2.64382498, 1.85947067, 2.39583849,\n",
       "       2.34771529, 2.32758591, 2.32135343, 2.06495108, 2.2485509 ,\n",
       "       2.20993624, 2.14318295, 2.1417027 , 1.72135523, 1.50840663,\n",
       "       1.3169601 , 1.16886422, 1.14774686, 1.14580719, 1.12512732,\n",
       "       1.13924207, 1.13645881, 1.13444905, 1.09242932, 1.08197266,\n",
       "       1.05989906, 1.0527829 , 1.03637703, 1.03723791, 1.04083439,\n",
       "       1.04137276, 1.04781372, 1.04802378])"
      ]
     },
     "execution_count": 277,
     "metadata": {},
     "output_type": "execute_result"
    }
   ],
   "source": [
    "np.linalg.eigvals(covp.numpy())"
   ]
  },
  {
   "cell_type": "code",
   "execution_count": 279,
   "id": "552767f5",
   "metadata": {},
   "outputs": [
    {
     "data": {
      "text/plain": [
       "tensor(-1.8538, dtype=torch.float64)"
      ]
     },
     "execution_count": 279,
     "metadata": {},
     "output_type": "execute_result"
    }
   ],
   "source": [
    "torch.trace(covf - torch.chain_matmul(covpf.t(), torch.inverse(covp), covpf))"
   ]
  },
  {
   "cell_type": "code",
   "execution_count": 287,
   "id": "8e0628d9",
   "metadata": {},
   "outputs": [
    {
     "data": {
      "text/plain": [
       "4.5949488271275865"
      ]
     },
     "execution_count": 287,
     "metadata": {},
     "output_type": "execute_result"
    }
   ],
   "source": [
    "np.linalg.cond(covp.numpy())"
   ]
  },
  {
   "cell_type": "code",
   "execution_count": 286,
   "id": "d9058629",
   "metadata": {},
   "outputs": [
    {
     "data": {
      "text/plain": [
       "tensor([[ 3.0336, -0.5099],\n",
       "        [-0.5099,  2.7265]], dtype=torch.float64)"
      ]
     },
     "execution_count": 286,
     "metadata": {},
     "output_type": "execute_result"
    }
   ],
   "source": [
    "covpf.t() @ torch.inverse(covp) @ covpf"
   ]
  },
  {
   "cell_type": "code",
   "execution_count": 281,
   "id": "0b6256e5",
   "metadata": {},
   "outputs": [
    {
     "data": {
      "text/plain": [
       "tensor(-1.8538, dtype=torch.float64)"
      ]
     },
     "execution_count": 281,
     "metadata": {},
     "output_type": "execute_result"
    }
   ],
   "source": [
    "torch.trace(covf - covpf.t() @ torch.inverse(covp) @ covpf)"
   ]
  },
  {
   "cell_type": "code",
   "execution_count": 284,
   "id": "5324e87b",
   "metadata": {},
   "outputs": [
    {
     "data": {
      "text/plain": [
       "-1.8537728993631153"
      ]
     },
     "execution_count": 284,
     "metadata": {},
     "output_type": "execute_result"
    }
   ],
   "source": [
    "np.trace(covf.numpy() - covpf.numpy().T @ np.linalg.inv(covp.numpy()) @ covpf.numpy())"
   ]
  },
  {
   "cell_type": "code",
   "execution_count": 299,
   "id": "5b72775e",
   "metadata": {},
   "outputs": [],
   "source": [
    "# Does forward Riccati equation converge to MMSE\n",
    "ccm = ssr.autocorrelation(20)\n",
    "cov = calc_cov_from_cross_cov_mats(ccm)"
   ]
  },
  {
   "cell_type": "code",
   "execution_count": 311,
   "id": "9b0b7ba0",
   "metadata": {},
   "outputs": [
    {
     "data": {
      "text/plain": [
       "(20, 2, 2)"
      ]
     },
     "execution_count": 311,
     "metadata": {},
     "output_type": "execute_result"
    }
   ],
   "source": [
    "np.concatenate([c[np.newaxis, :] for c in ccm]).shape"
   ]
  },
  {
   "cell_type": "code",
   "execution_count": 304,
   "id": "c54ca01f",
   "metadata": {},
   "outputs": [],
   "source": [
    "# MMSE forward\n",
    "def mmse_forward(ccm, proj=None):\n",
    "\n",
    "    if proj is not None:\n",
    "        ccm_proj\n",
    "\n",
    "    T = ccm.shape[0] - 1\n",
    "    N = ccm.shape[-1]\n",
    "    cov = calc_cov_from_cross_cov_mats(ccm)\n",
    "    cov_proj = calc_cov_from_cross_cov_mats(np.concatenate([(proj.T @ c @ proj)[np.newaxis, :] for c in ccm])\n",
    "\n",
    "    covf = cov[-N:, -N:]\n",
    "    covp = cov[:T*N, :T*N]\n",
    "    covpf = cov[:T*N, -N:]\n",
    "    covfp = cov[-N:, :T*N]\n",
    "\n",
    "    return covf - covfp @ np.linalg.inv(covp) @ covpf\n",
    "\n",
    "\n",
    "def mmse_reverse(ccm):\n",
    "    pass    "
   ]
  },
  {
   "cell_type": "code",
   "execution_count": 305,
   "id": "28e154c1",
   "metadata": {},
   "outputs": [
    {
     "data": {
      "text/plain": [
       "array([[ 1.88057021, -0.38751228],\n",
       "       [-0.38751228,  1.63696645]])"
      ]
     },
     "execution_count": 305,
     "metadata": {},
     "output_type": "execute_result"
    }
   ],
   "source": [
    "mmse_forward(ccm)"
   ]
  },
  {
   "cell_type": "code",
   "execution_count": 307,
   "id": "2674a599",
   "metadata": {},
   "outputs": [],
   "source": [
    "ssr.solve_min_phase()"
   ]
  },
  {
   "cell_type": "code",
   "execution_count": null,
   "id": "991a31ed",
   "metadata": {},
   "outputs": [],
   "source": []
  }
 ],
 "metadata": {
  "kernelspec": {
   "display_name": "Python 3",
   "language": "python",
   "name": "python3"
  },
  "language_info": {
   "codemirror_mode": {
    "name": "ipython",
    "version": 3
   },
   "file_extension": ".py",
   "mimetype": "text/x-python",
   "name": "python",
   "nbconvert_exporter": "python",
   "pygments_lexer": "ipython3",
   "version": "3.7.10"
  }
 },
 "nbformat": 4,
 "nbformat_minor": 5
}
