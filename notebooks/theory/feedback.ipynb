{
 "cells": [
  {
   "cell_type": "code",
   "execution_count": 1,
   "id": "b7e903d8",
   "metadata": {},
   "outputs": [],
   "source": [
    "%load_ext autoreload\n",
    "%autoreload 2"
   ]
  },
  {
   "cell_type": "code",
   "execution_count": 2,
   "id": "0e709721",
   "metadata": {},
   "outputs": [],
   "source": [
    "import numpy as np\n",
    "import scipy \n",
    "from neurosim.models.ssr import StateSpaceRealization as SSR\n",
    "import matplotlib.pyplot as plt"
   ]
  },
  {
   "cell_type": "code",
   "execution_count": 3,
   "id": "3ba30a17",
   "metadata": {},
   "outputs": [],
   "source": [
    "import sys\n",
    "from tqdm import tqdm\n",
    "import torch"
   ]
  },
  {
   "cell_type": "code",
   "execution_count": 4,
   "id": "1ee85809",
   "metadata": {},
   "outputs": [],
   "source": [
    "sys.path.append('../..')\n",
    "from utils import calc_loadings"
   ]
  },
  {
   "cell_type": "markdown",
   "id": "82fcee24",
   "metadata": {},
   "source": [
    "### Goal: Prove that autonomous PI bounds the IB solution"
   ]
  },
  {
   "cell_type": "code",
   "execution_count": 5,
   "id": "1bb84dc7",
   "metadata": {},
   "outputs": [],
   "source": [
    "# Can argue this is true via data processing inequality"
   ]
  },
  {
   "cell_type": "markdown",
   "id": "c41840b0",
   "metadata": {},
   "source": [
    "### Goal: Demonstrate that the introduction of skip connections in the Schur basis gives rise to PCA/DCA differences"
   ]
  },
  {
   "cell_type": "code",
   "execution_count": 6,
   "id": "a3899e25",
   "metadata": {},
   "outputs": [],
   "source": [
    "import networkx as nx\n",
    "from networkx.generators.classic import balanced_tree, full_rary_tree"
   ]
  },
  {
   "cell_type": "code",
   "execution_count": 7,
   "id": "49fe8a02",
   "metadata": {},
   "outputs": [],
   "source": [
    "from dca.dca import DynamicalComponentsAnalysis as DCA\n",
    "from dca_research.kca import KalmanComponentsAnalysis as KCA"
   ]
  },
  {
   "cell_type": "code",
   "execution_count": 8,
   "id": "5afa31c9",
   "metadata": {},
   "outputs": [],
   "source": [
    "from neurosim.graph.cavity import (build_cavity_system, CavitySystem, get_Btilde,\n",
    "                                   Node, randomize_tree, SpectralDensity, block_index)\n",
    "from neurosim.graph.random import oriented_regular_random_graph\n",
    "from neurosim.utils.schur_decomposition import schur\n",
    "from neurosim.models.ssr import StateSpaceRealization as SSR"
   ]
  },
  {
   "cell_type": "markdown",
   "id": "94b79a3c",
   "metadata": {},
   "source": [
    "#### Trees with no weight dispersion"
   ]
  },
  {
   "cell_type": "code",
   "execution_count": 43,
   "id": "63176513",
   "metadata": {},
   "outputs": [],
   "source": [
    "n = 500\n",
    "br = 2\n",
    "m = 0.5\n",
    "sigma = 0.0001\n",
    "A = randomize_tree(full_rary_tree(br, n, create_using=nx.DiGraph), 0, 0.8, lambda : np.random.normal(m, sigma))\n",
    "#lambda : np.random.normal(m, sigma)\n",
    "#the full_rary_tree has porblems....only has around 200 edges, BUT, also that might just be how a Feedforward tree is, t\n",
    "#the nodes with no edges are the LEAFs!!\n",
    "#print(A)"
   ]
  },
  {
   "cell_type": "code",
   "execution_count": 44,
   "id": "488d2252",
   "metadata": {},
   "outputs": [],
   "source": [
    "ssr = SSR(A=A, B=np.eye(A.shape[0]), C=np.eye(A.shape[0]))"
   ]
  },
  {
   "cell_type": "code",
   "execution_count": 45,
   "id": "cb985bae",
   "metadata": {},
   "outputs": [],
   "source": [
    "eig, U = np.linalg.eig(ssr.cov)\n",
    "eigorder = np.argsort(np.abs(eig))[::-1]\n",
    "U = U[:, eigorder]"
   ]
  },
  {
   "cell_type": "code",
   "execution_count": 46,
   "id": "7fabf7b1",
   "metadata": {},
   "outputs": [
    {
     "data": {
      "text/plain": [
       "[<matplotlib.lines.Line2D at 0x7f1d02854d10>]"
      ]
     },
     "execution_count": 46,
     "metadata": {},
     "output_type": "execute_result"
    },
    {
     "data": {
      "image/png": "[encoded data removed]",
      "text/plain": [
       "<Figure size 432x288 with 1 Axes>"
      ]
     },
     "metadata": {
      "needs_background": "light"
     },
     "output_type": "display_data"
    }
   ],
   "source": [
    "plt.plot(np.abs(U[:, 0]))"
   ]
  },
  {
   "cell_type": "code",
   "execution_count": 47,
   "id": "463f9a6e",
   "metadata": {},
   "outputs": [],
   "source": [
    "dcamodel = DCA(T=3, d=1)\n",
    "dcamodel.cross_covs = torch.tensor(ssr.autocorrelation(10))\n",
    "dcamodel.fit_projection()"
   ]
  },
  {
   "cell_type": "code",
   "execution_count": 48,
   "id": "a7aef602",
   "metadata": {},
   "outputs": [
    {
     "data": {
      "text/plain": [
       "[<matplotlib.lines.Line2D at 0x7f1d0282be10>]"
      ]
     },
     "execution_count": 48,
     "metadata": {},
     "output_type": "execute_result"
    },
    {
     "data": {
      "image/png": "[encoded data removed]",
      "text/plain": [
       "<Figure size 432x288 with 1 Axes>"
      ]
     },
     "metadata": {
      "needs_background": "light"
     },
     "output_type": "display_data"
    }
   ],
   "source": [
    "plt.plot(np.abs(np.squeeze(dcamodel.coef_)))"
   ]
  },
  {
   "cell_type": "code",
   "execution_count": null,
   "id": "e207c90c",
   "metadata": {},
   "outputs": [],
   "source": [
    "# Linear chain"
   ]
  },
  {
   "cell_type": "code",
   "execution_count": 97,
   "id": "43a535cc",
   "metadata": {},
   "outputs": [],
   "source": [
    "n = 500\n",
    "br = 10\n",
    "m = 0.5\n",
    "sigma = 0.0001\n",
    "A = randomize_tree(full_rary_tree(br, n, create_using=nx.DiGraph), 0, 0.8, lambda : np.random.normal(m, sigma))\n",
    "#lambda : np.random.normal(m, sigma)\n",
    "#the full_rary_tree has porblems....only has around 200 edges, BUT, also that might just be how a Feedforward tree is, t\n",
    "#the nodes with no edges are the LEAFs!!\n",
    "#print(A)"
   ]
  },
  {
   "cell_type": "code",
   "execution_count": 98,
   "id": "1f9db98a",
   "metadata": {},
   "outputs": [],
   "source": [
    "ssr = SSR(A=A, B=np.eye(A.shape[0]), C=np.eye(A.shape[0]))"
   ]
  },
  {
   "cell_type": "code",
   "execution_count": 99,
   "id": "9c48691d",
   "metadata": {},
   "outputs": [],
   "source": [
    "eig, U = np.linalg.eig(ssr.cov)\n",
    "eigorder = np.argsort(np.abs(eig))[::-1]\n",
    "U = U[:, eigorder]"
   ]
  },
  {
   "cell_type": "code",
   "execution_count": 100,
   "id": "bfcd16c1",
   "metadata": {},
   "outputs": [
    {
     "data": {
      "text/plain": [
       "[<matplotlib.lines.Line2D at 0x7f1d020def90>]"
      ]
     },
     "execution_count": 100,
     "metadata": {},
     "output_type": "execute_result"
    },
    {
     "data": {
      "image/png": "[encoded data removed]",
      "text/plain": [
       "<Figure size 432x288 with 1 Axes>"
      ]
     },
     "metadata": {
      "needs_background": "light"
     },
     "output_type": "display_data"
    }
   ],
   "source": [
    "plt.plot(np.abs(U[:, 0]))"
   ]
  },
  {
   "cell_type": "code",
   "execution_count": 101,
   "id": "860d50d3",
   "metadata": {},
   "outputs": [],
   "source": [
    "dcamodel = DCA(T=3, d=1)\n",
    "dcamodel.cross_covs = torch.tensor(ssr.autocorrelation(10))\n",
    "dcamodel.fit_projection()"
   ]
  },
  {
   "cell_type": "code",
   "execution_count": 102,
   "id": "d66c15d7",
   "metadata": {},
   "outputs": [
    {
     "data": {
      "text/plain": [
       "[<matplotlib.lines.Line2D at 0x7f1d020c5fd0>]"
      ]
     },
     "execution_count": 102,
     "metadata": {},
     "output_type": "execute_result"
    },
    {
     "data": {
      "image/png": "[encoded data removed]",
      "text/plain": [
       "<Figure size 432x288 with 1 Axes>"
      ]
     },
     "metadata": {
      "needs_background": "light"
     },
     "output_type": "display_data"
    }
   ],
   "source": [
    "plt.plot(np.abs(np.squeeze(dcamodel.coef_)))"
   ]
  },
  {
   "cell_type": "code",
   "execution_count": 103,
   "id": "354b114d",
   "metadata": {},
   "outputs": [],
   "source": [
    "# Adding skip connections"
   ]
  },
  {
   "cell_type": "code",
   "execution_count": 112,
   "id": "92737004",
   "metadata": {},
   "outputs": [],
   "source": [
    "n = 500\n",
    "br = 3\n",
    "m = 0.5\n",
    "sigma = 0.0001\n",
    "A = randomize_tree(full_rary_tree(br, n, create_using=nx.DiGraph), 0, 0.8, lambda : np.random.normal(m, sigma))"
   ]
  },
  {
   "cell_type": "code",
   "execution_count": 114,
   "id": "20fff098",
   "metadata": {},
   "outputs": [
    {
     "data": {
      "text/plain": [
       "array([[0.8       , 0.49997839, 0.499806  , 0.50010995, 0.        ,\n",
       "        0.        , 0.        , 0.        , 0.        , 0.        ],\n",
       "       [0.        , 0.8       , 0.        , 0.        , 0.50004082,\n",
       "        0.50004309, 0.50002799, 0.        , 0.        , 0.        ],\n",
       "       [0.        , 0.        , 0.8       , 0.        , 0.        ,\n",
       "        0.        , 0.        , 0.49983939, 0.49982289, 0.50012392],\n",
       "       [0.        , 0.        , 0.        , 0.8       , 0.        ,\n",
       "        0.        , 0.        , 0.        , 0.        , 0.        ],\n",
       "       [0.        , 0.        , 0.        , 0.        , 0.8       ,\n",
       "        0.        , 0.        , 0.        , 0.        , 0.        ],\n",
       "       [0.        , 0.        , 0.        , 0.        , 0.        ,\n",
       "        0.8       , 0.        , 0.        , 0.        , 0.        ],\n",
       "       [0.        , 0.        , 0.        , 0.        , 0.        ,\n",
       "        0.        , 0.8       , 0.        , 0.        , 0.        ],\n",
       "       [0.        , 0.        , 0.        , 0.        , 0.        ,\n",
       "        0.        , 0.        , 0.8       , 0.        , 0.        ],\n",
       "       [0.        , 0.        , 0.        , 0.        , 0.        ,\n",
       "        0.        , 0.        , 0.        , 0.8       , 0.        ],\n",
       "       [0.        , 0.        , 0.        , 0.        , 0.        ,\n",
       "        0.        , 0.        , 0.        , 0.        , 0.8       ]])"
      ]
     },
     "execution_count": 114,
     "metadata": {},
     "output_type": "execute_result"
    }
   ],
   "source": [
    "A[0:10, 0:10]"
   ]
  },
  {
   "cell_type": "code",
   "execution_count": 105,
   "id": "2ca49685",
   "metadata": {},
   "outputs": [],
   "source": [
    "Z, T = scipy.linalg.schur(A)"
   ]
  },
  {
   "cell_type": "markdown",
   "id": "eaea3322",
   "metadata": {},
   "source": [
    "#### Concrete question: What is the effect on the Schur basis of introducing a feedback loop in the connectivity?  "
   ]
  },
  {
   "cell_type": "code",
   "execution_count": 145,
   "id": "bba84f1e",
   "metadata": {},
   "outputs": [],
   "source": [
    "n = 7\n",
    "br = 2\n",
    "m = 0.5\n",
    "sigma = 0.0001\n",
    "A = randomize_tree(full_rary_tree(br, n, create_using=nx.DiGraph), 0, 0.8, lambda : np.random.normal(m, sigma))"
   ]
  },
  {
   "cell_type": "code",
   "execution_count": 146,
   "id": "8334b478",
   "metadata": {},
   "outputs": [],
   "source": [
    "A[2, -2] = 0.5\n",
    "A[2, -1] = 0.5"
   ]
  },
  {
   "cell_type": "code",
   "execution_count": 147,
   "id": "c4d9974e",
   "metadata": {},
   "outputs": [
    {
     "data": {
      "text/plain": [
       "array([[0.8       , 0.5000954 , 0.49997649, 0.        , 0.        ,\n",
       "        0.        , 0.        ],\n",
       "       [0.        , 0.8       , 0.        , 0.49998094, 0.49996643,\n",
       "        0.        , 0.        ],\n",
       "       [0.        , 0.        , 0.8       , 0.        , 0.        ,\n",
       "        0.5       , 0.5       ],\n",
       "       [0.        , 0.        , 0.        , 0.8       , 0.        ,\n",
       "        0.        , 0.        ],\n",
       "       [0.        , 0.        , 0.        , 0.        , 0.8       ,\n",
       "        0.        , 0.        ],\n",
       "       [0.        , 0.        , 0.        , 0.        , 0.        ,\n",
       "        0.8       , 0.        ],\n",
       "       [0.        , 0.        , 0.        , 0.        , 0.        ,\n",
       "        0.        , 0.8       ]])"
      ]
     },
     "execution_count": 147,
     "metadata": {},
     "output_type": "execute_result"
    }
   ],
   "source": [
    "A"
   ]
  },
  {
   "cell_type": "markdown",
   "id": "77261dcd",
   "metadata": {},
   "source": [
    "#### Opposite extreme: the off-diagonal components are random normal"
   ]
  },
  {
   "cell_type": "code",
   "execution_count": 52,
   "id": "d6e10cdf",
   "metadata": {},
   "outputs": [],
   "source": [
    "A = np.diag(0.8 * np.ones(500))\n",
    "for i in range(1, A.shape[0]):\n",
    "    for j in range(i):\n",
    "        A[i, j] = np.random.normal(scale=0.25)"
   ]
  },
  {
   "cell_type": "code",
   "execution_count": 54,
   "id": "bb845e95",
   "metadata": {},
   "outputs": [],
   "source": [
    "ssr = SSR(A=A, B=np.eye(A.shape[0]), C=np.eye(A.shape[0]))\n",
    "eig, U = np.linalg.eig(ssr.cov)\n",
    "eigorder = np.argsort(np.abs(eig))[::-1]\n",
    "U = U[:, eigorder]"
   ]
  },
  {
   "cell_type": "code",
   "execution_count": null,
   "id": "45092da8",
   "metadata": {},
   "outputs": [],
   "source": [
    "dcamodel = DCA(T=3, d=1)\n",
    "dcamodel.cross_covs = torch.tensor(ssr.autocorrelation(10))\n",
    "dcamodel.fit_projection()"
   ]
  },
  {
   "cell_type": "code",
   "execution_count": 55,
   "id": "50f64895",
   "metadata": {},
   "outputs": [
    {
     "data": {
      "text/plain": [
       "[<matplotlib.lines.Line2D at 0x7f1d027bc550>]"
      ]
     },
     "execution_count": 55,
     "metadata": {},
     "output_type": "execute_result"
    },
    {
     "data": {
      "image/png": "[encoded data removed]",
      "text/plain": [
       "<Figure size 432x288 with 1 Axes>"
      ]
     },
     "metadata": {
      "needs_background": "light"
     },
     "output_type": "display_data"
    }
   ],
   "source": [
    "plt.plot(np.abs(U[:, 0]))"
   ]
  },
  {
   "cell_type": "code",
   "execution_count": 56,
   "id": "d9b6f981",
   "metadata": {},
   "outputs": [],
   "source": [
    "dcamodel = DCA(T=3, d=1)\n",
    "dcamodel.cross_covs = torch.tensor(ssr.autocorrelation(10))\n",
    "dcamodel.fit_projection()"
   ]
  },
  {
   "cell_type": "code",
   "execution_count": 57,
   "id": "6fdb60c3",
   "metadata": {},
   "outputs": [
    {
     "data": {
      "text/plain": [
       "[<matplotlib.lines.Line2D at 0x7f1d02736210>]"
      ]
     },
     "execution_count": 57,
     "metadata": {},
     "output_type": "execute_result"
    },
    {
     "data": {
      "image/png": "[encoded data removed]",
      "text/plain": [
       "<Figure size 432x288 with 1 Axes>"
      ]
     },
     "metadata": {
      "needs_background": "light"
     },
     "output_type": "display_data"
    }
   ],
   "source": [
    "plt.plot(np.abs(np.squeeze(dcamodel.coef_)))"
   ]
  },
  {
   "cell_type": "markdown",
   "id": "409e7497",
   "metadata": {},
   "source": [
    "#### What is minimum phase on a tree?"
   ]
  },
  {
   "cell_type": "code",
   "execution_count": 182,
   "id": "d2a76785",
   "metadata": {},
   "outputs": [],
   "source": [
    "n = 50\n",
    "br = 2\n",
    "m = 0.5\n",
    "sigma = 0.0001\n",
    "A = randomize_tree(full_rary_tree(br, n, create_using=nx.DiGraph), 0, 0.8, lambda : np.random.normal(m, sigma))\n",
    "A = 0.5 * (A + A.T)\n",
    "C = np.zeros((1, A.shape[0]))\n",
    "C[0, 1] = 1\n",
    "ssr = SSR(A=A, B=np.eye(A.shape[0]), C=C)"
   ]
  },
  {
   "cell_type": "code",
   "execution_count": 183,
   "id": "47136053",
   "metadata": {},
   "outputs": [],
   "source": [
    "eig, U = np.linalg.eig(ssr.P)\n",
    "eigorder = np.argsort(np.abs(eig))[::-1]\n",
    "U = U[:, eigorder]"
   ]
  },
  {
   "cell_type": "code",
   "execution_count": 184,
   "id": "997b4e2e",
   "metadata": {},
   "outputs": [],
   "source": [
    "ssr.solve_min_phase()\n",
    "ssr.solve_max_phase()"
   ]
  },
  {
   "cell_type": "code",
   "execution_count": 185,
   "id": "93bd1703",
   "metadata": {},
   "outputs": [
    {
     "data": {
      "text/plain": [
       "array([[ 56.05889131],\n",
       "       [  3.90586678],\n",
       "       [143.22207119],\n",
       "       [-19.36733464],\n",
       "       [-19.28449374],\n",
       "       [213.4958477 ],\n",
       "       [ 97.89104779],\n",
       "       [-22.66745605],\n",
       "       [-22.64614636],\n",
       "       [-22.5872461 ],\n",
       "       [-22.54883972],\n",
       "       [277.22460102],\n",
       "       [120.70063158],\n",
       "       [ 54.41494703],\n",
       "       [ 54.43062011],\n",
       "       [-15.98555447],\n",
       "       [-15.98724712],\n",
       "       [-15.96375129],\n",
       "       [-15.96157643],\n",
       "       [-15.93822037],\n",
       "       [-15.92462286],\n",
       "       [-15.89658606],\n",
       "       [-15.89964632],\n",
       "       [163.37306427],\n",
       "       [317.16482944],\n",
       "       [ 47.13086863],\n",
       "       [ 47.15696624],\n",
       "       [ 21.14770242],\n",
       "       [ 21.15028577],\n",
       "       [ 21.15411054],\n",
       "       [ 21.15498823],\n",
       "       [ -6.97018776],\n",
       "       [ -6.97125165],\n",
       "       [ -6.97178599],\n",
       "       [ -6.97112729],\n",
       "       [ -6.95884749],\n",
       "       [ -6.957577  ],\n",
       "       [ -6.9572433 ],\n",
       "       [ -6.9556879 ],\n",
       "       [ -6.94918385],\n",
       "       [ -6.9510831 ],\n",
       "       [ -6.94210765],\n",
       "       [ -6.94198451],\n",
       "       [ -6.93173691],\n",
       "       [ -6.92925957],\n",
       "       [ -6.92884558],\n",
       "       [ -6.93220085],\n",
       "       [ 65.48922298],\n",
       "       [ 65.50753226],\n",
       "       [255.60317304]])"
      ]
     },
     "execution_count": 185,
     "metadata": {},
     "output_type": "execute_result"
    }
   ],
   "source": [
    "ssr.Bmin"
   ]
  },
  {
   "cell_type": "code",
   "execution_count": 186,
   "id": "7a9fea71",
   "metadata": {},
   "outputs": [
    {
     "data": {
      "text/plain": [
       "array([[-3.62805981],\n",
       "       [-6.3258937 ],\n",
       "       [-4.94959014],\n",
       "       [-7.80369432],\n",
       "       [-7.79935264],\n",
       "       [-4.97579556],\n",
       "       [-4.6288888 ],\n",
       "       [-7.26002595],\n",
       "       [-7.26569854],\n",
       "       [-7.26131067],\n",
       "       [-7.25919449],\n",
       "       [-4.18992415],\n",
       "       [-3.20833705],\n",
       "       [-3.10369231],\n",
       "       [-3.1045822 ],\n",
       "       [-5.08250722],\n",
       "       [-5.08304508],\n",
       "       [-5.08810307],\n",
       "       [-5.08719592],\n",
       "       [-5.08700012],\n",
       "       [-5.08208363],\n",
       "       [-5.08378124],\n",
       "       [-5.08440614],\n",
       "       [-2.31743905],\n",
       "       [-3.4006085 ],\n",
       "       [-1.35596495],\n",
       "       [-1.35671579],\n",
       "       [-1.33121397],\n",
       "       [-1.33137659],\n",
       "       [-1.33162104],\n",
       "       [-1.33167629],\n",
       "       [-2.2452696 ],\n",
       "       [-2.2456123 ],\n",
       "       [-2.24578422],\n",
       "       [-2.24557204],\n",
       "       [-2.24795587],\n",
       "       [-2.24754546],\n",
       "       [-2.24729664],\n",
       "       [-2.24679422],\n",
       "       [-2.24727801],\n",
       "       [-2.2478922 ],\n",
       "       [-2.24460931],\n",
       "       [-2.24456949],\n",
       "       [-2.24670194],\n",
       "       [-2.24589899],\n",
       "       [-2.24553161],\n",
       "       [-2.24661901],\n",
       "       [-0.88957403],\n",
       "       [-0.88982274],\n",
       "       [-2.47811912]])"
      ]
     },
     "execution_count": 186,
     "metadata": {},
     "output_type": "execute_result"
    }
   ],
   "source": [
    "ssr.Bmax"
   ]
  },
  {
   "cell_type": "code",
   "execution_count": 187,
   "id": "9f443c11",
   "metadata": {},
   "outputs": [
    {
     "data": {
      "text/plain": [
       "[<matplotlib.lines.Line2D at 0x7f1d01ac4950>]"
      ]
     },
     "execution_count": 187,
     "metadata": {},
     "output_type": "execute_result"
    },
    {
     "data": {
      "image/png": "[encoded data removed]",
      "text/plain": [
       "<Figure size 432x288 with 1 Axes>"
      ]
     },
     "metadata": {
      "needs_background": "light"
     },
     "output_type": "display_data"
    }
   ],
   "source": [
    "plt.plot(ssr.Bmin/np.max(ssr.Bmin))\n",
    "plt.plot(np.abs(ssr.Bmax)/np.max(ssr.Bmax))\n",
    "#plt.plot(np.abs(U[:, 0])/np.max(np.abs(U[:, 0])))"
   ]
  },
  {
   "cell_type": "code",
   "execution_count": null,
   "id": "73cf32a9",
   "metadata": {},
   "outputs": [],
   "source": [
    "# 2 concrete questions:\n",
    "\n",
    "# (1a) Increase non-normality, see correlation between DCA and PCA loadings decrease\n",
    "# (1b) Does increasing the number of paths a process can take \n",
    "\n",
    "# (2) Higher order dimlets and correlation with loadings\n",
    "\n",
    "# (3) Express cepstrum in terms of the Linear Prediction Coefficients. Do the LPCs simplify for a tree?"
   ]
  },
  {
   "cell_type": "code",
   "execution_count": 10,
   "id": "85b9d6eb",
   "metadata": {},
   "outputs": [],
   "source": [
    "from tqdm import tqdm\n",
    "import pdb"
   ]
  },
  {
   "cell_type": "code",
   "execution_count": 207,
   "id": "fe89cfa0",
   "metadata": {},
   "outputs": [
    {
     "name": "stderr",
     "output_type": "stream",
     "text": [
      "50it [50:13, 60.26s/it]\n"
     ]
    }
   ],
   "source": [
    "nn_scale = np.linspace(0, 0.25, 50)\n",
    "reps = 20\n",
    "spearmanr = np.zeros((nn_scale.size, reps))\n",
    "for ii, scale in tqdm(enumerate(nn_scale)):\n",
    "    for jj in range(reps):\n",
    "        A = np.diag(np.linspace(0.01, 0.8, 500))\n",
    "        for i in range(1, A.shape[0]):\n",
    "            for j in range(i):\n",
    "                A[i, j] = np.random.normal(scale=scale)\n",
    "                \n",
    "        ssr = SSR(A=A, B=np.eye(A.shape[0]), C=np.eye(A.shape[0]))\n",
    "        eig, U = np.linalg.eig(ssr.cov)\n",
    "        eigorder = np.argsort(np.abs(eig))[::-1]\n",
    "        U = U[:, eigorder]\n",
    "\n",
    "        pca_loadings = calc_loadings(U[:, 0:2])\n",
    "        \n",
    "        dcamodel = DCA(T=3, d=2)\n",
    "        dcamodel.cross_covs = torch.tensor(ssr.autocorrelation(10))\n",
    "        dcamodel.fit_projection(n_init=10) \n",
    "        \n",
    "        dca_loadings = calc_loadings(dcamodel.coef_)\n",
    "        \n",
    "        spearmanr[ii, jj] = scipy.stats.spearmanr(pca_loadings, dca_loadings)[0]\n",
    "    \n",
    "    "
   ]
  },
  {
   "cell_type": "code",
   "execution_count": 209,
   "id": "9ec484f4",
   "metadata": {},
   "outputs": [
    {
     "data": {
      "text/plain": [
       "[<matplotlib.lines.Line2D at 0x7f1d01da4150>]"
      ]
     },
     "execution_count": 209,
     "metadata": {},
     "output_type": "execute_result"
    },
    {
     "data": {
      "image/png": "[encoded data removed]",
      "text/plain": [
       "<Figure size 432x288 with 1 Axes>"
      ]
     },
     "metadata": {
      "needs_background": "light"
     },
     "output_type": "display_data"
    }
   ],
   "source": [
    "plt.plot(np.mean(spearmanr, axis=1))"
   ]
  },
  {
   "cell_type": "code",
   "execution_count": 213,
   "id": "4a752d14",
   "metadata": {},
   "outputs": [
    {
     "data": {
      "text/plain": [
       "1"
      ]
     },
     "execution_count": 213,
     "metadata": {},
     "output_type": "execute_result"
    }
   ],
   "source": [
    "scipy.stats.bernoulli.rvs(0.5)"
   ]
  },
  {
   "cell_type": "code",
   "execution_count": 216,
   "id": "367438ba",
   "metadata": {},
   "outputs": [
    {
     "name": "stderr",
     "output_type": "stream",
     "text": [
      "50it [04:32,  5.46s/it]\n"
     ]
    }
   ],
   "source": [
    "# What is an alternative structure that gives cleaner results?\n",
    "off_diag_sparsity = np.linspace(0, 1, 50)\n",
    "\n",
    "reps = 1\n",
    "spearmanr = np.zeros((nn_scale.size, reps))\n",
    "for ii, ods in tqdm(enumerate(off_diag_sparsity)):\n",
    "    for jj in range(reps):\n",
    "        A = np.diag(np.linspace(0.01, 0.8, 500))\n",
    "        for i in range(1, A.shape[0]):\n",
    "            for j in range(i):\n",
    "                A[i, j] = np.random.normal(scale=0.25) * scipy.stats.bernoulli.rvs(ods)\n",
    "                \n",
    "        ssr = SSR(A=A, B=np.eye(A.shape[0]), C=np.eye(A.shape[0]))\n",
    "        eig, U = np.linalg.eig(ssr.cov)\n",
    "        eigorder = np.argsort(np.abs(eig))[::-1]\n",
    "        U = U[:, eigorder]\n",
    "\n",
    "        pca_loadings = calc_loadings(U[:, 0:2])\n",
    "        \n",
    "        dcamodel = DCA(T=3, d=2)\n",
    "        dcamodel.cross_covs = torch.tensor(ssr.autocorrelation(10))\n",
    "        dcamodel.fit_projection(n_init=10) \n",
    "        \n",
    "        dca_loadings = calc_loadings(dcamodel.coef_)\n",
    "        \n",
    "        spearmanr[ii, jj] = scipy.stats.spearmanr(pca_loadings, dca_loadings)[0]\n",
    "        \n",
    "        "
   ]
  },
  {
   "cell_type": "code",
   "execution_count": 218,
   "id": "dfe186ac",
   "metadata": {},
   "outputs": [
    {
     "data": {
      "text/plain": [
       "[<matplotlib.lines.Line2D at 0x7f1ce7eb9e90>]"
      ]
     },
     "execution_count": 218,
     "metadata": {},
     "output_type": "execute_result"
    },
    {
     "data": {
      "image/png": "[encoded data removed]",
      "text/plain": [
       "<Figure size 432x288 with 1 Axes>"
      ]
     },
     "metadata": {
      "needs_background": "light"
     },
     "output_type": "display_data"
    }
   ],
   "source": [
    "plt.plot(spearmanr[:, 0])"
   ]
  },
  {
   "cell_type": "code",
   "execution_count": 219,
   "id": "0cd68bb4",
   "metadata": {},
   "outputs": [],
   "source": [
    "# Use a ring network that initially begins as symmetric, and then make the connections directed"
   ]
  },
  {
   "cell_type": "code",
   "execution_count": 237,
   "id": "95bcf69a",
   "metadata": {},
   "outputs": [
    {
     "name": "stderr",
     "output_type": "stream",
     "text": [
      "7it [00:06,  1.42it/s]"
     ]
    },
    {
     "name": "stdout",
     "output_type": "stream",
     "text": [
      "Unstable, trying again\n",
      "Unstable, trying again\n",
      "Unstable, trying again\n",
      "Unstable, trying again\n",
      "Unstable, trying again\n",
      "Unstable, trying again\n",
      "Unstable, trying again\n",
      "Unstable, trying again\n",
      "Unstable, trying again\n",
      "Unstable, trying again\n",
      "Unstable, trying again\n",
      "Unstable, trying again\n",
      "Unstable, trying again\n",
      "Unstable, trying again\n",
      "Unstable, trying again\n",
      "Unstable, trying again\n",
      "Unstable, trying again\n",
      "Unstable, trying again\n",
      "Unstable, trying again\n",
      "Unstable, trying again\n",
      "Unstable, trying again\n",
      "Unstable, trying again\n",
      "Unstable, trying again\n",
      "Unstable, trying again\n",
      "Unstable, trying again\n",
      "Unstable, trying again\n",
      "Unstable, trying again\n",
      "Unstable, trying again\n",
      "Unstable, trying again\n",
      "Unstable, trying again\n",
      "Unstable, trying again\n",
      "Unstable, trying again\n",
      "Unstable, trying again\n",
      "Unstable, trying again\n",
      "Unstable, trying again\n",
      "Unstable, trying again\n",
      "Unstable, trying again\n",
      "Unstable, trying again\n",
      "Unstable, trying again\n",
      "Unstable, trying again\n",
      "Unstable, trying again\n",
      "Unstable, trying again\n",
      "Unstable, trying again\n",
      "Unstable, trying again\n",
      "Unstable, trying again\n",
      "Unstable, trying again\n"
     ]
    },
    {
     "name": "stderr",
     "output_type": "stream",
     "text": [
      "\r\n",
      "8it [00:06,  1.71it/s]"
     ]
    },
    {
     "name": "stdout",
     "output_type": "stream",
     "text": [
      "Unstable, trying again\n",
      "Unstable, trying again\n",
      "Unstable, trying again\n",
      "Unstable, trying again\n",
      "Unstable, trying again\n",
      "Unstable, trying again\n",
      "Unstable, trying again\n",
      "Unstable, trying again\n",
      "Unstable, trying again\n",
      "Unstable, trying again\n",
      "Unstable, trying again\n",
      "Unstable, trying again\n",
      "Unstable, trying again\n",
      "Unstable, trying again\n",
      "Unstable, trying again\n",
      "Unstable, trying again\n",
      "Unstable, trying again\n",
      "Unstable, trying again\n",
      "Unstable, trying again\n",
      "Unstable, trying again\n",
      "Unstable, trying again\n",
      "Unstable, trying again\n",
      "Unstable, trying again\n",
      "Unstable, trying again\n",
      "Unstable, trying again\n",
      "Unstable, trying again\n",
      "Unstable, trying again\n",
      "Unstable, trying again\n",
      "Unstable, trying again\n",
      "Unstable, trying again\n",
      "Unstable, trying again\n",
      "Unstable, trying again\n",
      "Unstable, trying again\n",
      "Unstable, trying again\n",
      "Unstable, trying again\n",
      "Unstable, trying again\n",
      "Unstable, trying again\n",
      "Unstable, trying again\n",
      "Unstable, trying again\n",
      "Unstable, trying again\n",
      "Unstable, trying again\n",
      "Unstable, trying again\n",
      "Unstable, trying again\n",
      "Unstable, trying again\n",
      "Unstable, trying again\n",
      "Unstable, trying again\n",
      "Unstable, trying again\n",
      "Unstable, trying again\n",
      "Unstable, trying again\n",
      "Unstable, trying again\n",
      "Unstable, trying again\n",
      "Unstable, trying again\n",
      "Unstable, trying again\n",
      "Unstable, trying again\n",
      "Unstable, trying again\n",
      "Unstable, trying again\n",
      "Unstable, trying again\n",
      "Unstable, trying again\n",
      "Unstable, trying again\n",
      "Unstable, trying again\n",
      "Unstable, trying again\n",
      "Unstable, trying again\n",
      "Unstable, trying again\n",
      "Unstable, trying again\n",
      "Unstable, trying again\n",
      "Unstable, trying again\n",
      "Unstable, trying again\n",
      "Unstable, trying again\n",
      "Unstable, trying again\n",
      "Unstable, trying again\n",
      "Unstable, trying again\n",
      "Unstable, trying again\n",
      "Unstable, trying again\n",
      "Unstable, trying again\n",
      "Unstable, trying again\n",
      "Unstable, trying again\n",
      "Unstable, trying again\n",
      "Unstable, trying again\n",
      "Unstable, trying again\n",
      "Unstable, trying again\n",
      "Unstable, trying again\n",
      "Unstable, trying again\n",
      "Unstable, trying again\n",
      "Unstable, trying again\n",
      "Unstable, trying again\n",
      "Unstable, trying again\n",
      "Unstable, trying again\n",
      "Unstable, trying again\n",
      "Unstable, trying again\n",
      "Unstable, trying again\n",
      "Unstable, trying again\n",
      "Unstable, trying again\n",
      "Unstable, trying again\n",
      "Unstable, trying again\n",
      "Unstable, trying again\n"
     ]
    },
    {
     "name": "stderr",
     "output_type": "stream",
     "text": [
      "\r\n",
      "9it [00:07,  1.82it/s]"
     ]
    },
    {
     "name": "stdout",
     "output_type": "stream",
     "text": [
      "Unstable, trying again\n",
      "Unstable, trying again\n",
      "Unstable, trying again\n",
      "Unstable, trying again\n",
      "Unstable, trying again\n",
      "Unstable, trying again\n",
      "Unstable, trying again\n",
      "Unstable, trying again\n",
      "Unstable, trying again\n",
      "Unstable, trying again\n",
      "Unstable, trying again\n",
      "Unstable, trying again\n",
      "Unstable, trying again\n",
      "Unstable, trying again\n",
      "Unstable, trying again\n",
      "Unstable, trying again\n",
      "Unstable, trying again\n",
      "Unstable, trying again\n",
      "Unstable, trying again\n",
      "Unstable, trying again\n",
      "Unstable, trying again\n",
      "Unstable, trying again\n",
      "Unstable, trying again\n",
      "Unstable, trying again\n",
      "Unstable, trying again\n",
      "Unstable, trying again\n",
      "Unstable, trying again\n",
      "Unstable, trying again\n",
      "Unstable, trying again\n",
      "Unstable, trying again\n",
      "Unstable, trying again\n",
      "Unstable, trying again\n",
      "Unstable, trying again\n",
      "Unstable, trying again\n",
      "Unstable, trying again\n",
      "Unstable, trying again\n",
      "Unstable, trying again\n",
      "Unstable, trying again\n",
      "Unstable, trying again\n",
      "Unstable, trying again\n",
      "Unstable, trying again\n",
      "Unstable, trying again\n",
      "Unstable, trying again\n",
      "Unstable, trying again\n",
      "Unstable, trying again\n",
      "Unstable, trying again\n",
      "Unstable, trying again\n",
      "Unstable, trying again\n",
      "Unstable, trying again\n",
      "Unstable, trying again\n",
      "Unstable, trying again\n",
      "Unstable, trying again\n",
      "Unstable, trying again\n",
      "Unstable, trying again\n",
      "Unstable, trying again\n",
      "Unstable, trying again\n",
      "Unstable, trying again\n",
      "Unstable, trying again\n",
      "Unstable, trying again\n",
      "Unstable, trying again\n",
      "Unstable, trying again\n",
      "Unstable, trying again\n",
      "Unstable, trying again\n",
      "Unstable, trying again\n",
      "Unstable, trying again\n",
      "Unstable, trying again\n",
      "Unstable, trying again\n",
      "Unstable, trying again\n",
      "Unstable, trying again\n",
      "Unstable, trying again\n",
      "Unstable, trying again\n",
      "Unstable, trying again\n",
      "Unstable, trying again\n",
      "Unstable, trying again\n",
      "Unstable, trying again\n",
      "Unstable, trying again\n",
      "Unstable, trying again\n",
      "Unstable, trying again\n",
      "Unstable, trying again\n",
      "Unstable, trying again\n",
      "Unstable, trying again\n",
      "Unstable, trying again\n",
      "Unstable, trying again\n",
      "Unstable, trying again\n",
      "Unstable, trying again\n",
      "Unstable, trying again\n",
      "Unstable, trying again\n",
      "Unstable, trying again\n",
      "Unstable, trying again\n",
      "Unstable, trying again\n",
      "Unstable, trying again\n",
      "Unstable, trying again\n",
      "Unstable, trying again\n",
      "Unstable, trying again\n",
      "Unstable, trying again\n",
      "Unstable, trying again\n",
      "Unstable, trying again\n",
      "Unstable, trying again\n",
      "Unstable, trying again\n",
      "Unstable, trying again\n",
      "Unstable, trying again\n",
      "Unstable, trying again\n",
      "Unstable, trying again\n",
      "Unstable, trying again\n",
      "Unstable, trying again\n",
      "Unstable, trying again\n",
      "Unstable, trying again\n",
      "Unstable, trying again\n",
      "Unstable, trying again\n",
      "Unstable, trying again\n",
      "Unstable, trying again\n",
      "Unstable, trying again\n",
      "Unstable, trying again\n",
      "Unstable, trying again\n",
      "Unstable, trying again\n",
      "Unstable, trying again\n",
      "Unstable, trying again\n",
      "Unstable, trying again\n",
      "Unstable, trying again\n",
      "Unstable, trying again\n",
      "Unstable, trying again\n",
      "Unstable, trying again\n",
      "Unstable, trying again\n",
      "Unstable, trying again\n",
      "Unstable, trying again\n",
      "Unstable, trying again\n",
      "Unstable, trying again\n",
      "Unstable, trying again\n",
      "Unstable, trying again\n",
      "Unstable, trying again\n",
      "Unstable, trying again\n",
      "Unstable, trying again\n",
      "Unstable, trying again\n",
      "Unstable, trying again\n",
      "Unstable, trying again\n",
      "Unstable, trying again\n",
      "Unstable, trying again\n",
      "Unstable, trying again\n",
      "Unstable, trying again\n",
      "Unstable, trying again\n",
      "Unstable, trying again\n",
      "Unstable, trying again\n",
      "Unstable, trying again\n",
      "Unstable, trying again\n",
      "Unstable, trying again\n",
      "Unstable, trying again\n",
      "Unstable, trying again\n",
      "Unstable, trying again\n",
      "Unstable, trying again\n",
      "Unstable, trying again\n",
      "Unstable, trying again\n",
      "Unstable, trying again\n",
      "Unstable, trying again\n",
      "Unstable, trying again\n",
      "Unstable, trying again\n",
      "Unstable, trying again\n",
      "Unstable, trying again\n",
      "Unstable, trying again\n",
      "Unstable, trying again\n",
      "Unstable, trying again\n",
      "Unstable, trying again\n",
      "Unstable, trying again\n",
      "Unstable, trying again\n",
      "Unstable, trying again\n",
      "Unstable, trying again\n",
      "Unstable, trying again\n",
      "Unstable, trying again\n",
      "Unstable, trying again\n",
      "Unstable, trying again\n",
      "Unstable, trying again\n",
      "Unstable, trying again\n",
      "Unstable, trying again\n",
      "Unstable, trying again\n",
      "Unstable, trying again\n",
      "Unstable, trying again\n",
      "Unstable, trying again\n",
      "Unstable, trying again\n",
      "Unstable, trying again\n",
      "Unstable, trying again\n",
      "Unstable, trying again\n",
      "Unstable, trying again\n",
      "Unstable, trying again\n",
      "Unstable, trying again\n",
      "Unstable, trying again\n",
      "Unstable, trying again\n",
      "Unstable, trying again\n",
      "Unstable, trying again\n",
      "Unstable, trying again\n",
      "Unstable, trying again\n",
      "Unstable, trying again\n",
      "Unstable, trying again\n",
      "Unstable, trying again\n",
      "Unstable, trying again\n",
      "Unstable, trying again\n",
      "Unstable, trying again\n",
      "Unstable, trying again\n",
      "Unstable, trying again\n",
      "Unstable, trying again\n",
      "Unstable, trying again\n",
      "Unstable, trying again\n",
      "Unstable, trying again\n",
      "Unstable, trying again\n",
      "Unstable, trying again\n",
      "Unstable, trying again\n",
      "Unstable, trying again\n",
      "Unstable, trying again\n",
      "Unstable, trying again\n",
      "Unstable, trying again\n",
      "Unstable, trying again\n",
      "Unstable, trying again\n",
      "Unstable, trying again\n",
      "Unstable, trying again\n",
      "Unstable, trying again\n",
      "Unstable, trying again\n",
      "Unstable, trying again\n",
      "Unstable, trying again\n",
      "Unstable, trying again\n",
      "Unstable, trying again\n",
      "Unstable, trying again\n",
      "Unstable, trying again\n",
      "Unstable, trying again\n",
      "Unstable, trying again\n",
      "Unstable, trying again\n",
      "Unstable, trying again\n",
      "Unstable, trying again\n",
      "Unstable, trying again\n",
      "Unstable, trying again\n",
      "Unstable, trying again\n",
      "Unstable, trying again\n",
      "Unstable, trying again\n",
      "Unstable, trying again\n",
      "Unstable, trying again\n",
      "Unstable, trying again\n",
      "Unstable, trying again\n",
      "Unstable, trying again\n",
      "Unstable, trying again\n",
      "Unstable, trying again\n",
      "Unstable, trying again\n",
      "Unstable, trying again\n",
      "Unstable, trying again\n",
      "Unstable, trying again\n",
      "Unstable, trying again\n",
      "Unstable, trying again\n",
      "Unstable, trying again\n",
      "Unstable, trying again\n",
      "Unstable, trying again\n",
      "Unstable, trying again\n",
      "Unstable, trying again\n",
      "Unstable, trying again\n",
      "Unstable, trying again\n",
      "Unstable, trying again\n",
      "Unstable, trying again\n",
      "Unstable, trying again\n",
      "Unstable, trying again\n",
      "Unstable, trying again\n",
      "Unstable, trying again\n",
      "Unstable, trying again\n",
      "Unstable, trying again\n",
      "Unstable, trying again\n",
      "Unstable, trying again\n",
      "Unstable, trying again\n",
      "Unstable, trying again\n",
      "Unstable, trying again\n",
      "Unstable, trying again\n",
      "Unstable, trying again\n",
      "Unstable, trying again\n",
      "Unstable, trying again\n",
      "Unstable, trying again\n",
      "Unstable, trying again\n",
      "Unstable, trying again\n",
      "Unstable, trying again\n",
      "Unstable, trying again\n",
      "Unstable, trying again\n",
      "Unstable, trying again\n",
      "Unstable, trying again\n",
      "Unstable, trying again\n",
      "Unstable, trying again\n",
      "Unstable, trying again\n",
      "Unstable, trying again\n",
      "Unstable, trying again\n",
      "Unstable, trying again\n",
      "Unstable, trying again\n",
      "Unstable, trying again\n",
      "Unstable, trying again\n",
      "Unstable, trying again\n",
      "Unstable, trying again\n",
      "Unstable, trying again\n",
      "Unstable, trying again\n",
      "Unstable, trying again\n",
      "Unstable, trying again\n",
      "Unstable, trying again\n",
      "Unstable, trying again\n",
      "Unstable, trying again\n",
      "Unstable, trying again\n",
      "Unstable, trying again\n",
      "Unstable, trying again\n",
      "Unstable, trying again\n",
      "Unstable, trying again\n",
      "Unstable, trying again\n",
      "Unstable, trying again\n",
      "Unstable, trying again\n",
      "Unstable, trying again\n",
      "Unstable, trying again\n",
      "Unstable, trying again\n",
      "Unstable, trying again\n",
      "Unstable, trying again\n",
      "Unstable, trying again\n",
      "Unstable, trying again\n",
      "Unstable, trying again\n",
      "Unstable, trying again\n",
      "Unstable, trying again\n",
      "Unstable, trying again\n",
      "Unstable, trying again\n",
      "Unstable, trying again\n",
      "Unstable, trying again\n",
      "Unstable, trying again\n",
      "Unstable, trying again\n",
      "Unstable, trying again\n",
      "Unstable, trying again\n",
      "Unstable, trying again\n",
      "Unstable, trying again\n",
      "Unstable, trying again\n",
      "Unstable, trying again\n",
      "Unstable, trying again\n",
      "Unstable, trying again\n",
      "Unstable, trying again\n",
      "Unstable, trying again\n",
      "Unstable, trying again\n",
      "Unstable, trying again\n",
      "Unstable, trying again\n",
      "Unstable, trying again\n",
      "Unstable, trying again\n",
      "Unstable, trying again\n",
      "Unstable, trying again\n",
      "Unstable, trying again\n",
      "Unstable, trying again\n",
      "Unstable, trying again\n",
      "Unstable, trying again\n",
      "Unstable, trying again\n",
      "Unstable, trying again\n",
      "Unstable, trying again\n",
      "Unstable, trying again\n",
      "Unstable, trying again\n",
      "Unstable, trying again\n",
      "Unstable, trying again\n",
      "Unstable, trying again\n",
      "Unstable, trying again\n",
      "Unstable, trying again\n",
      "Unstable, trying again\n",
      "Unstable, trying again\n",
      "Unstable, trying again\n",
      "Unstable, trying again\n",
      "Unstable, trying again\n",
      "Unstable, trying again\n",
      "Unstable, trying again\n",
      "Unstable, trying again\n",
      "Unstable, trying again\n",
      "Unstable, trying again\n",
      "Unstable, trying again\n",
      "Unstable, trying again\n",
      "Unstable, trying again\n",
      "Unstable, trying again\n",
      "Unstable, trying again\n",
      "Unstable, trying again\n",
      "Unstable, trying again\n",
      "Unstable, trying again\n",
      "Unstable, trying again\n",
      "Unstable, trying again\n",
      "Unstable, trying again\n",
      "Unstable, trying again\n",
      "Unstable, trying again\n",
      "Unstable, trying again\n",
      "Unstable, trying again\n",
      "Unstable, trying again\n",
      "Unstable, trying again\n",
      "Unstable, trying again\n",
      "Unstable, trying again\n",
      "Unstable, trying again\n",
      "Unstable, trying again\n",
      "Unstable, trying again\n",
      "Unstable, trying again\n",
      "Unstable, trying again\n",
      "Unstable, trying again\n",
      "Unstable, trying again\n",
      "Unstable, trying again\n",
      "Unstable, trying again\n",
      "Unstable, trying again\n",
      "Unstable, trying again\n",
      "Unstable, trying again\n",
      "Unstable, trying again\n",
      "Unstable, trying again\n",
      "Unstable, trying again\n",
      "Unstable, trying again\n",
      "Unstable, trying again\n",
      "Unstable, trying again\n",
      "Unstable, trying again\n",
      "Unstable, trying again\n",
      "Unstable, trying again\n",
      "Unstable, trying again\n",
      "Unstable, trying again\n",
      "Unstable, trying again\n",
      "Unstable, trying again\n",
      "Unstable, trying again\n",
      "Unstable, trying again\n",
      "Unstable, trying again\n",
      "Unstable, trying again\n",
      "Unstable, trying again\n",
      "Unstable, trying again\n",
      "Unstable, trying again\n",
      "Unstable, trying again\n",
      "Unstable, trying again\n",
      "Unstable, trying again\n",
      "Unstable, trying again\n",
      "Unstable, trying again\n",
      "Unstable, trying again\n",
      "Unstable, trying again\n",
      "Unstable, trying again\n",
      "Unstable, trying again\n",
      "Unstable, trying again\n",
      "Unstable, trying again\n",
      "Unstable, trying again\n",
      "Unstable, trying again\n",
      "Unstable, trying again\n",
      "Unstable, trying again\n",
      "Unstable, trying again\n",
      "Unstable, trying again\n",
      "Unstable, trying again\n",
      "Unstable, trying again\n",
      "Unstable, trying again\n",
      "Unstable, trying again\n",
      "Unstable, trying again\n",
      "Unstable, trying again\n",
      "Unstable, trying again\n",
      "Unstable, trying again\n",
      "Unstable, trying again\n",
      "Unstable, trying again\n",
      "Unstable, trying again\n",
      "Unstable, trying again\n",
      "Unstable, trying again\n",
      "Unstable, trying again\n",
      "Unstable, trying again\n",
      "Unstable, trying again\n",
      "Unstable, trying again\n",
      "Unstable, trying again\n",
      "Unstable, trying again\n",
      "Unstable, trying again\n",
      "Unstable, trying again\n",
      "Unstable, trying again\n",
      "Unstable, trying again\n",
      "Unstable, trying again\n",
      "Unstable, trying again\n",
      "Unstable, trying again\n",
      "Unstable, trying again\n",
      "Unstable, trying again\n",
      "Unstable, trying again\n",
      "Unstable, trying again\n",
      "Unstable, trying again\n",
      "Unstable, trying again\n",
      "Unstable, trying again\n",
      "Unstable, trying again\n",
      "Unstable, trying again\n",
      "Unstable, trying again\n",
      "Unstable, trying again\n",
      "Unstable, trying again\n",
      "Unstable, trying again\n",
      "Unstable, trying again\n",
      "Unstable, trying again\n",
      "Unstable, trying again\n",
      "Unstable, trying again\n",
      "Unstable, trying again\n",
      "Unstable, trying again\n",
      "Unstable, trying again\n",
      "Unstable, trying again\n",
      "Unstable, trying again\n",
      "Unstable, trying again\n",
      "Unstable, trying again\n",
      "Unstable, trying again\n",
      "Unstable, trying again\n",
      "Unstable, trying again\n",
      "Unstable, trying again\n",
      "Unstable, trying again\n",
      "Unstable, trying again\n",
      "Unstable, trying again\n",
      "Unstable, trying again\n",
      "Unstable, trying again\n",
      "Unstable, trying again\n",
      "Unstable, trying again\n",
      "Unstable, trying again\n",
      "Unstable, trying again\n",
      "Unstable, trying again\n",
      "Unstable, trying again\n",
      "Unstable, trying again\n",
      "Unstable, trying again\n",
      "Unstable, trying again\n",
      "Unstable, trying again\n",
      "Unstable, trying again\n",
      "Unstable, trying again\n",
      "Unstable, trying again\n",
      "Unstable, trying again\n",
      "Unstable, trying again\n",
      "Unstable, trying again\n",
      "Unstable, trying again\n",
      "Unstable, trying again\n",
      "Unstable, trying again\n",
      "Unstable, trying again\n",
      "Unstable, trying again\n",
      "Unstable, trying again\n",
      "Unstable, trying again\n",
      "Unstable, trying again\n",
      "Unstable, trying again\n",
      "Unstable, trying again\n",
      "Unstable, trying again\n",
      "Unstable, trying again\n",
      "Unstable, trying again\n",
      "Unstable, trying again\n",
      "Unstable, trying again\n",
      "Unstable, trying again\n",
      "Unstable, trying again\n",
      "Unstable, trying again\n",
      "Unstable, trying again\n",
      "Unstable, trying again\n",
      "Unstable, trying again\n",
      "Unstable, trying again\n",
      "Unstable, trying again\n",
      "Unstable, trying again\n",
      "Unstable, trying again\n",
      "Unstable, trying again\n",
      "Unstable, trying again\n",
      "Unstable, trying again\n",
      "Unstable, trying again\n",
      "Unstable, trying again\n",
      "Unstable, trying again\n",
      "Unstable, trying again\n",
      "Unstable, trying again\n",
      "Unstable, trying again\n",
      "Unstable, trying again\n",
      "Unstable, trying again\n",
      "Unstable, trying again\n",
      "Unstable, trying again\n",
      "Unstable, trying again\n",
      "Unstable, trying again\n",
      "Unstable, trying again\n",
      "Unstable, trying again\n",
      "Unstable, trying again\n",
      "Unstable, trying again\n",
      "Unstable, trying again\n",
      "Unstable, trying again\n",
      "Unstable, trying again\n",
      "Unstable, trying again\n",
      "Unstable, trying again\n",
      "Unstable, trying again\n",
      "Unstable, trying again\n",
      "Unstable, trying again\n",
      "Unstable, trying again\n",
      "Unstable, trying again\n",
      "Unstable, trying again\n",
      "Unstable, trying again\n",
      "Unstable, trying again\n",
      "Unstable, trying again\n",
      "Unstable, trying again\n",
      "Unstable, trying again\n",
      "Unstable, trying again\n",
      "Unstable, trying again\n",
      "Unstable, trying again\n",
      "Unstable, trying again\n",
      "Unstable, trying again\n",
      "Unstable, trying again\n",
      "Unstable, trying again\n",
      "Unstable, trying again\n",
      "Unstable, trying again\n",
      "Unstable, trying again\n",
      "Unstable, trying again\n",
      "Unstable, trying again\n",
      "Unstable, trying again\n",
      "Unstable, trying again\n",
      "Unstable, trying again\n",
      "Unstable, trying again\n",
      "Unstable, trying again\n",
      "Unstable, trying again\n",
      "Unstable, trying again\n",
      "Unstable, trying again\n",
      "Unstable, trying again\n",
      "Unstable, trying again\n",
      "Unstable, trying again\n",
      "Unstable, trying again\n",
      "Unstable, trying again\n",
      "Unstable, trying again\n",
      "Unstable, trying again\n",
      "Unstable, trying again\n",
      "Unstable, trying again\n",
      "Unstable, trying again\n",
      "Unstable, trying again\n",
      "Unstable, trying again\n",
      "Unstable, trying again\n",
      "Unstable, trying again\n",
      "Unstable, trying again\n",
      "Unstable, trying again\n",
      "Unstable, trying again\n",
      "Unstable, trying again\n",
      "Unstable, trying again\n",
      "Unstable, trying again\n",
      "Unstable, trying again\n",
      "Unstable, trying again\n",
      "Unstable, trying again\n",
      "Unstable, trying again\n",
      "Unstable, trying again\n",
      "Unstable, trying again\n",
      "Unstable, trying again\n",
      "Unstable, trying again\n",
      "Unstable, trying again\n",
      "Unstable, trying again\n",
      "Unstable, trying again\n",
      "Unstable, trying again\n",
      "Unstable, trying again\n",
      "Unstable, trying again\n",
      "Unstable, trying again\n",
      "Unstable, trying again\n",
      "Unstable, trying again\n",
      "Unstable, trying again\n",
      "Unstable, trying again\n",
      "Unstable, trying again\n",
      "Unstable, trying again\n",
      "Unstable, trying again\n",
      "Unstable, trying again\n",
      "Unstable, trying again\n",
      "Unstable, trying again\n",
      "Unstable, trying again\n",
      "Unstable, trying again\n",
      "Unstable, trying again\n",
      "Unstable, trying again\n",
      "Unstable, trying again\n",
      "Unstable, trying again\n",
      "Unstable, trying again\n",
      "Unstable, trying again\n",
      "Unstable, trying again\n",
      "Unstable, trying again\n",
      "Unstable, trying again\n",
      "Unstable, trying again\n",
      "Unstable, trying again\n",
      "Unstable, trying again\n",
      "Unstable, trying again\n",
      "Unstable, trying again\n",
      "Unstable, trying again\n",
      "Unstable, trying again\n",
      "Unstable, trying again\n",
      "Unstable, trying again\n",
      "Unstable, trying again\n",
      "Unstable, trying again\n",
      "Unstable, trying again\n",
      "Unstable, trying again\n",
      "Unstable, trying again\n",
      "Unstable, trying again\n",
      "Unstable, trying again\n",
      "Unstable, trying again\n",
      "Unstable, trying again\n",
      "Unstable, trying again\n",
      "Unstable, trying again\n",
      "Unstable, trying again\n",
      "Unstable, trying again\n",
      "Unstable, trying again\n",
      "Unstable, trying again\n",
      "Unstable, trying again\n",
      "Unstable, trying again\n",
      "Unstable, trying again\n",
      "Unstable, trying again\n",
      "Unstable, trying again\n",
      "Unstable, trying again\n",
      "Unstable, trying again\n",
      "Unstable, trying again\n",
      "Unstable, trying again\n",
      "Unstable, trying again\n",
      "Unstable, trying again\n",
      "Unstable, trying again\n",
      "Unstable, trying again\n",
      "Unstable, trying again\n",
      "Unstable, trying again\n",
      "Unstable, trying again\n",
      "Unstable, trying again\n",
      "Unstable, trying again\n",
      "Unstable, trying again\n",
      "Unstable, trying again\n",
      "Unstable, trying again\n",
      "Unstable, trying again\n",
      "Unstable, trying again\n",
      "Unstable, trying again\n",
      "Unstable, trying again\n",
      "Unstable, trying again\n",
      "Unstable, trying again\n",
      "Unstable, trying again\n",
      "Unstable, trying again\n",
      "Unstable, trying again\n",
      "Unstable, trying again\n",
      "Unstable, trying again\n",
      "Unstable, trying again\n",
      "Unstable, trying again\n",
      "Unstable, trying again\n",
      "Unstable, trying again\n",
      "Unstable, trying again\n",
      "Unstable, trying again\n",
      "Unstable, trying again\n",
      "Unstable, trying again\n",
      "Unstable, trying again\n",
      "Unstable, trying again\n",
      "Unstable, trying again\n",
      "Unstable, trying again\n",
      "Unstable, trying again\n",
      "Unstable, trying again\n",
      "Unstable, trying again\n",
      "Unstable, trying again\n",
      "Unstable, trying again\n",
      "Unstable, trying again\n",
      "Unstable, trying again\n",
      "Unstable, trying again\n",
      "Unstable, trying again\n",
      "Unstable, trying again\n",
      "Unstable, trying again\n",
      "Unstable, trying again\n",
      "Unstable, trying again\n",
      "Unstable, trying again\n",
      "Unstable, trying again\n",
      "Unstable, trying again\n",
      "Unstable, trying again\n",
      "Unstable, trying again\n",
      "Unstable, trying again\n",
      "Unstable, trying again\n",
      "Unstable, trying again\n",
      "Unstable, trying again\n",
      "Unstable, trying again\n",
      "Unstable, trying again\n",
      "Unstable, trying again\n",
      "Unstable, trying again\n",
      "Unstable, trying again\n",
      "Unstable, trying again\n",
      "Unstable, trying again\n",
      "Unstable, trying again\n",
      "Unstable, trying again\n",
      "Unstable, trying again\n",
      "Unstable, trying again\n",
      "Unstable, trying again\n",
      "Unstable, trying again\n",
      "Unstable, trying again\n",
      "Unstable, trying again\n",
      "Unstable, trying again\n",
      "Unstable, trying again\n",
      "Unstable, trying again\n",
      "Unstable, trying again\n",
      "Unstable, trying again\n",
      "Unstable, trying again\n",
      "Unstable, trying again\n",
      "Unstable, trying again\n",
      "Unstable, trying again\n",
      "Unstable, trying again\n",
      "Unstable, trying again\n",
      "Unstable, trying again\n",
      "Unstable, trying again\n",
      "Unstable, trying again\n",
      "Unstable, trying again\n",
      "Unstable, trying again\n",
      "Unstable, trying again\n",
      "Unstable, trying again\n",
      "Unstable, trying again\n",
      "Unstable, trying again\n",
      "Unstable, trying again\n",
      "Unstable, trying again\n",
      "Unstable, trying again\n",
      "Unstable, trying again\n",
      "Unstable, trying again\n",
      "Unstable, trying again\n",
      "Unstable, trying again\n",
      "Unstable, trying again\n",
      "Unstable, trying again\n",
      "Unstable, trying again\n",
      "Unstable, trying again\n",
      "Unstable, trying again\n",
      "Unstable, trying again\n",
      "Unstable, trying again\n",
      "Unstable, trying again\n",
      "Unstable, trying again\n",
      "Unstable, trying again\n",
      "Unstable, trying again\n",
      "Unstable, trying again\n",
      "Unstable, trying again\n",
      "Unstable, trying again\n",
      "Unstable, trying again\n",
      "Unstable, trying again\n",
      "Unstable, trying again\n",
      "Unstable, trying again\n",
      "Unstable, trying again\n",
      "Unstable, trying again\n",
      "Unstable, trying again\n",
      "Unstable, trying again\n",
      "Unstable, trying again\n",
      "Unstable, trying again\n",
      "Unstable, trying again\n",
      "Unstable, trying again\n",
      "Unstable, trying again\n",
      "Unstable, trying again\n",
      "Unstable, trying again\n",
      "Unstable, trying again\n",
      "Unstable, trying again\n",
      "Unstable, trying again\n",
      "Unstable, trying again\n",
      "Unstable, trying again\n",
      "Unstable, trying again\n",
      "Unstable, trying again\n",
      "Unstable, trying again\n",
      "Unstable, trying again\n",
      "Unstable, trying again\n",
      "Unstable, trying again\n",
      "Unstable, trying again\n",
      "Unstable, trying again\n",
      "Unstable, trying again\n",
      "Unstable, trying again\n",
      "Unstable, trying again\n",
      "Unstable, trying again\n",
      "Unstable, trying again\n",
      "Unstable, trying again\n",
      "Unstable, trying again\n",
      "Unstable, trying again\n",
      "Unstable, trying again\n",
      "Unstable, trying again\n",
      "Unstable, trying again\n",
      "Unstable, trying again\n",
      "Unstable, trying again\n",
      "Unstable, trying again\n",
      "Unstable, trying again\n",
      "Unstable, trying again\n",
      "Unstable, trying again\n",
      "Unstable, trying again\n",
      "Unstable, trying again\n",
      "Unstable, trying again\n",
      "Unstable, trying again\n",
      "Unstable, trying again\n",
      "Unstable, trying again\n",
      "Unstable, trying again\n",
      "Unstable, trying again\n",
      "Unstable, trying again\n",
      "Unstable, trying again\n",
      "Unstable, trying again\n",
      "Unstable, trying again\n",
      "Unstable, trying again\n",
      "Unstable, trying again\n",
      "Unstable, trying again\n",
      "Unstable, trying again\n",
      "Unstable, trying again\n",
      "Unstable, trying again\n",
      "Unstable, trying again\n",
      "Unstable, trying again\n",
      "Unstable, trying again\n",
      "Unstable, trying again\n",
      "Unstable, trying again\n",
      "Unstable, trying again\n",
      "Unstable, trying again\n",
      "Unstable, trying again\n",
      "Unstable, trying again\n",
      "Unstable, trying again\n",
      "Unstable, trying again\n",
      "Unstable, trying again\n",
      "Unstable, trying again\n",
      "Unstable, trying again\n",
      "Unstable, trying again\n",
      "Unstable, trying again\n",
      "Unstable, trying again\n",
      "Unstable, trying again\n",
      "Unstable, trying again\n",
      "Unstable, trying again\n",
      "Unstable, trying again\n",
      "Unstable, trying again\n",
      "Unstable, trying again\n",
      "Unstable, trying again\n",
      "Unstable, trying again\n",
      "Unstable, trying again\n",
      "Unstable, trying again\n",
      "Unstable, trying again\n",
      "Unstable, trying again\n",
      "Unstable, trying again\n",
      "Unstable, trying again\n",
      "Unstable, trying again\n",
      "Unstable, trying again\n",
      "Unstable, trying again\n",
      "Unstable, trying again\n",
      "Unstable, trying again\n",
      "Unstable, trying again\n",
      "Unstable, trying again\n",
      "Unstable, trying again\n",
      "Unstable, trying again\n",
      "Unstable, trying again\n",
      "Unstable, trying again\n",
      "Unstable, trying again\n",
      "Unstable, trying again\n",
      "Unstable, trying again\n",
      "Unstable, trying again\n",
      "Unstable, trying again\n",
      "Unstable, trying again\n",
      "Unstable, trying again\n",
      "Unstable, trying again\n",
      "Unstable, trying again\n",
      "Unstable, trying again\n",
      "Unstable, trying again\n",
      "Unstable, trying again\n",
      "Unstable, trying again\n",
      "Unstable, trying again\n",
      "Unstable, trying again\n",
      "Unstable, trying again\n",
      "Unstable, trying again\n",
      "Unstable, trying again\n",
      "Unstable, trying again\n",
      "Unstable, trying again\n",
      "Unstable, trying again\n",
      "Unstable, trying again\n",
      "Unstable, trying again\n",
      "Unstable, trying again\n",
      "Unstable, trying again\n",
      "Unstable, trying again\n",
      "Unstable, trying again\n",
      "Unstable, trying again\n",
      "Unstable, trying again\n",
      "Unstable, trying again\n",
      "Unstable, trying again\n",
      "Unstable, trying again\n",
      "Unstable, trying again\n",
      "Unstable, trying again\n",
      "Unstable, trying again\n",
      "Unstable, trying again\n",
      "Unstable, trying again\n",
      "Unstable, trying again\n",
      "Unstable, trying again\n",
      "Unstable, trying again\n",
      "Unstable, trying again\n",
      "Unstable, trying again\n",
      "Unstable, trying again\n",
      "Unstable, trying again\n",
      "Unstable, trying again\n",
      "Unstable, trying again\n",
      "Unstable, trying again\n",
      "Unstable, trying again\n",
      "Unstable, trying again\n",
      "Unstable, trying again\n",
      "Unstable, trying again\n",
      "Unstable, trying again\n",
      "Unstable, trying again\n",
      "Unstable, trying again\n",
      "Unstable, trying again\n",
      "Unstable, trying again\n",
      "Unstable, trying again\n",
      "Unstable, trying again\n",
      "Unstable, trying again\n",
      "Unstable, trying again\n",
      "Unstable, trying again\n",
      "Unstable, trying again\n",
      "Unstable, trying again\n",
      "Unstable, trying again\n",
      "Unstable, trying again\n",
      "Unstable, trying again\n",
      "Unstable, trying again\n",
      "Unstable, trying again\n",
      "Unstable, trying again\n",
      "Unstable, trying again\n",
      "Unstable, trying again\n",
      "Unstable, trying again\n",
      "Unstable, trying again\n",
      "Unstable, trying again\n",
      "Unstable, trying again\n",
      "Unstable, trying again\n",
      "Unstable, trying again\n",
      "Unstable, trying again\n",
      "Unstable, trying again\n",
      "Unstable, trying again\n",
      "Unstable, trying again\n",
      "Unstable, trying again\n",
      "Unstable, trying again\n",
      "Unstable, trying again\n",
      "Unstable, trying again\n",
      "Unstable, trying again\n",
      "Unstable, trying again\n",
      "Unstable, trying again\n",
      "Unstable, trying again\n",
      "Unstable, trying again\n",
      "Unstable, trying again\n",
      "Unstable, trying again\n",
      "Unstable, trying again\n",
      "Unstable, trying again\n",
      "Unstable, trying again\n",
      "Unstable, trying again\n",
      "Unstable, trying again\n",
      "Unstable, trying again\n",
      "Unstable, trying again\n",
      "Unstable, trying again\n",
      "Unstable, trying again\n",
      "Unstable, trying again\n",
      "Unstable, trying again\n",
      "Unstable, trying again\n",
      "Unstable, trying again\n",
      "Unstable, trying again\n",
      "Unstable, trying again\n",
      "Unstable, trying again\n",
      "Unstable, trying again\n",
      "Unstable, trying again\n",
      "Unstable, trying again\n",
      "Unstable, trying again\n",
      "Unstable, trying again\n",
      "Unstable, trying again\n",
      "Unstable, trying again\n",
      "Unstable, trying again\n",
      "Unstable, trying again\n",
      "Unstable, trying again\n",
      "Unstable, trying again\n",
      "Unstable, trying again\n",
      "Unstable, trying again\n",
      "Unstable, trying again\n",
      "Unstable, trying again\n",
      "Unstable, trying again\n",
      "Unstable, trying again\n",
      "Unstable, trying again\n",
      "Unstable, trying again\n",
      "Unstable, trying again\n",
      "Unstable, trying again\n",
      "Unstable, trying again\n",
      "Unstable, trying again\n",
      "Unstable, trying again\n",
      "Unstable, trying again\n",
      "Unstable, trying again\n",
      "Unstable, trying again\n",
      "Unstable, trying again\n",
      "Unstable, trying again\n",
      "Unstable, trying again\n",
      "Unstable, trying again\n",
      "Unstable, trying again\n",
      "Unstable, trying again\n",
      "Unstable, trying again\n",
      "Unstable, trying again\n",
      "Unstable, trying again\n",
      "Unstable, trying again\n",
      "Unstable, trying again\n",
      "Unstable, trying again\n",
      "Unstable, trying again\n",
      "Unstable, trying again\n",
      "Unstable, trying again\n",
      "Unstable, trying again\n",
      "Unstable, trying again\n",
      "Unstable, trying again\n",
      "Unstable, trying again\n",
      "Unstable, trying again\n",
      "Unstable, trying again\n",
      "Unstable, trying again\n",
      "Unstable, trying again\n",
      "Unstable, trying again\n",
      "Unstable, trying again\n",
      "Unstable, trying again\n",
      "Unstable, trying again\n",
      "Unstable, trying again\n",
      "Unstable, trying again\n",
      "Unstable, trying again\n",
      "Unstable, trying again\n",
      "Unstable, trying again\n",
      "Unstable, trying again\n",
      "Unstable, trying again\n",
      "Unstable, trying again\n",
      "Unstable, trying again\n",
      "Unstable, trying again\n",
      "Unstable, trying again\n",
      "Unstable, trying again\n",
      "Unstable, trying again\n",
      "Unstable, trying again\n",
      "Unstable, trying again\n",
      "Unstable, trying again\n",
      "Unstable, trying again\n",
      "Unstable, trying again\n",
      "Unstable, trying again\n",
      "Unstable, trying again\n",
      "Unstable, trying again\n",
      "Unstable, trying again\n",
      "Unstable, trying again\n",
      "Unstable, trying again\n",
      "Unstable, trying again\n",
      "Unstable, trying again\n",
      "Unstable, trying again\n",
      "Unstable, trying again\n",
      "Unstable, trying again\n",
      "Unstable, trying again\n",
      "Unstable, trying again\n",
      "Unstable, trying again\n",
      "Unstable, trying again\n",
      "Unstable, trying again\n",
      "Unstable, trying again\n",
      "Unstable, trying again\n",
      "Unstable, trying again\n",
      "Unstable, trying again\n",
      "Unstable, trying again\n",
      "Unstable, trying again\n",
      "Unstable, trying again\n",
      "Unstable, trying again\n",
      "Unstable, trying again\n",
      "Unstable, trying again\n",
      "Unstable, trying again\n",
      "Unstable, trying again\n",
      "Unstable, trying again\n",
      "Unstable, trying again\n",
      "Unstable, trying again\n",
      "Unstable, trying again\n",
      "Unstable, trying again\n",
      "Unstable, trying again\n",
      "Unstable, trying again\n",
      "Unstable, trying again\n",
      "Unstable, trying again\n",
      "Unstable, trying again\n",
      "Unstable, trying again\n",
      "Unstable, trying again\n",
      "Unstable, trying again\n",
      "Unstable, trying again\n",
      "Unstable, trying again\n",
      "Unstable, trying again\n",
      "Unstable, trying again\n",
      "Unstable, trying again\n",
      "Unstable, trying again\n",
      "Unstable, trying again\n",
      "Unstable, trying again\n",
      "Unstable, trying again\n",
      "Unstable, trying again\n",
      "Unstable, trying again\n",
      "Unstable, trying again\n",
      "Unstable, trying again\n",
      "Unstable, trying again\n",
      "Unstable, trying again\n",
      "Unstable, trying again\n",
      "Unstable, trying again\n",
      "Unstable, trying again\n",
      "Unstable, trying again\n",
      "Unstable, trying again\n",
      "Unstable, trying again\n",
      "Unstable, trying again\n",
      "Unstable, trying again\n",
      "Unstable, trying again\n",
      "Unstable, trying again\n",
      "Unstable, trying again\n",
      "Unstable, trying again\n",
      "Unstable, trying again\n",
      "Unstable, trying again\n",
      "Unstable, trying again\n",
      "Unstable, trying again\n",
      "Unstable, trying again\n",
      "Unstable, trying again\n",
      "Unstable, trying again\n",
      "Unstable, trying again\n",
      "Unstable, trying again\n",
      "Unstable, trying again\n",
      "Unstable, trying again\n",
      "Unstable, trying again\n",
      "Unstable, trying again\n",
      "Unstable, trying again\n",
      "Unstable, trying again\n",
      "Unstable, trying again\n",
      "Unstable, trying again\n",
      "Unstable, trying again\n",
      "Unstable, trying again\n",
      "Unstable, trying again\n",
      "Unstable, trying again\n",
      "Unstable, trying again\n",
      "Unstable, trying again\n",
      "Unstable, trying again\n",
      "Unstable, trying again\n",
      "Unstable, trying again\n",
      "Unstable, trying again\n",
      "Unstable, trying again\n",
      "Unstable, trying again\n",
      "Unstable, trying again\n",
      "Unstable, trying again\n",
      "Unstable, trying again\n",
      "Unstable, trying again\n",
      "Unstable, trying again\n",
      "Unstable, trying again\n",
      "Unstable, trying again\n",
      "Unstable, trying again\n",
      "Unstable, trying again\n",
      "Unstable, trying again\n",
      "Unstable, trying again\n",
      "Unstable, trying again\n",
      "Unstable, trying again\n",
      "Unstable, trying again\n",
      "Unstable, trying again\n",
      "Unstable, trying again\n",
      "Unstable, trying again\n",
      "Unstable, trying again\n",
      "Unstable, trying again\n",
      "Unstable, trying again\n",
      "Unstable, trying again\n",
      "Unstable, trying again\n",
      "Unstable, trying again\n",
      "Unstable, trying again\n",
      "Unstable, trying again\n",
      "Unstable, trying again\n",
      "Unstable, trying again\n",
      "Unstable, trying again\n",
      "Unstable, trying again\n",
      "Unstable, trying again\n",
      "Unstable, trying again\n",
      "Unstable, trying again\n",
      "Unstable, trying again\n",
      "Unstable, trying again\n",
      "Unstable, trying again\n",
      "Unstable, trying again\n",
      "Unstable, trying again\n",
      "Unstable, trying again\n",
      "Unstable, trying again\n",
      "Unstable, trying again\n",
      "Unstable, trying again\n",
      "Unstable, trying again\n",
      "Unstable, trying again\n",
      "Unstable, trying again\n",
      "Unstable, trying again\n",
      "Unstable, trying again\n",
      "Unstable, trying again\n",
      "Unstable, trying again\n",
      "Unstable, trying again\n",
      "Unstable, trying again\n",
      "Unstable, trying again\n",
      "Unstable, trying again\n",
      "Unstable, trying again\n",
      "Unstable, trying again\n",
      "Unstable, trying again\n",
      "Unstable, trying again\n",
      "Unstable, trying again\n",
      "Unstable, trying again\n",
      "Unstable, trying again\n",
      "Unstable, trying again\n",
      "Unstable, trying again\n",
      "Unstable, trying again\n",
      "Unstable, trying again\n",
      "Unstable, trying again\n",
      "Unstable, trying again\n",
      "Unstable, trying again\n",
      "Unstable, trying again\n",
      "Unstable, trying again\n",
      "Unstable, trying again\n",
      "Unstable, trying again\n",
      "Unstable, trying again\n",
      "Unstable, trying again\n",
      "Unstable, trying again\n",
      "Unstable, trying again\n",
      "Unstable, trying again\n",
      "Unstable, trying again\n",
      "Unstable, trying again\n",
      "Unstable, trying again\n",
      "Unstable, trying again\n",
      "Unstable, trying again\n",
      "Unstable, trying again\n",
      "Unstable, trying again\n",
      "Unstable, trying again\n",
      "Unstable, trying again\n",
      "Unstable, trying again\n",
      "Unstable, trying again\n",
      "Unstable, trying again\n",
      "Unstable, trying again\n",
      "Unstable, trying again\n",
      "Unstable, trying again\n",
      "Unstable, trying again\n",
      "Unstable, trying again\n",
      "Unstable, trying again\n",
      "Unstable, trying again\n",
      "Unstable, trying again\n",
      "Unstable, trying again\n",
      "Unstable, trying again\n",
      "Unstable, trying again\n",
      "Unstable, trying again\n",
      "Unstable, trying again\n",
      "Unstable, trying again\n",
      "Unstable, trying again\n",
      "Unstable, trying again\n",
      "Unstable, trying again\n",
      "Unstable, trying again\n",
      "Unstable, trying again\n",
      "Unstable, trying again\n",
      "Unstable, trying again\n",
      "Unstable, trying again\n",
      "Unstable, trying again\n",
      "Unstable, trying again\n",
      "Unstable, trying again\n",
      "Unstable, trying again\n",
      "Unstable, trying again\n",
      "Unstable, trying again\n",
      "Unstable, trying again\n",
      "Unstable, trying again\n",
      "Unstable, trying again\n",
      "Unstable, trying again\n",
      "Unstable, trying again\n",
      "Unstable, trying again\n",
      "Unstable, trying again\n",
      "Unstable, trying again\n",
      "Unstable, trying again\n",
      "Unstable, trying again\n",
      "Unstable, trying again\n",
      "Unstable, trying again\n",
      "Unstable, trying again\n",
      "Unstable, trying again\n",
      "Unstable, trying again\n",
      "Unstable, trying again\n",
      "Unstable, trying again\n",
      "Unstable, trying again\n",
      "Unstable, trying again\n",
      "Unstable, trying again\n",
      "Unstable, trying again\n",
      "Unstable, trying again\n",
      "Unstable, trying again\n",
      "Unstable, trying again\n",
      "Unstable, trying again\n",
      "Unstable, trying again\n",
      "Unstable, trying again\n",
      "Unstable, trying again\n",
      "Unstable, trying again\n",
      "Unstable, trying again\n",
      "Unstable, trying again\n",
      "Unstable, trying again\n",
      "Unstable, trying again\n",
      "Unstable, trying again\n",
      "Unstable, trying again\n",
      "Unstable, trying again\n",
      "Unstable, trying again\n",
      "Unstable, trying again\n",
      "Unstable, trying again\n",
      "Unstable, trying again\n",
      "Unstable, trying again\n",
      "Unstable, trying again\n",
      "Unstable, trying again\n",
      "Unstable, trying again\n",
      "Unstable, trying again\n",
      "Unstable, trying again\n",
      "Unstable, trying again\n",
      "Unstable, trying again\n",
      "Unstable, trying again\n",
      "Unstable, trying again\n",
      "Unstable, trying again\n",
      "Unstable, trying again\n",
      "Unstable, trying again\n",
      "Unstable, trying again\n",
      "Unstable, trying again\n",
      "Unstable, trying again\n",
      "Unstable, trying again\n",
      "Unstable, trying again\n",
      "Unstable, trying again\n",
      "Unstable, trying again\n",
      "Unstable, trying again\n",
      "Unstable, trying again\n",
      "Unstable, trying again\n",
      "Unstable, trying again\n",
      "Unstable, trying again\n",
      "Unstable, trying again\n",
      "Unstable, trying again\n",
      "Unstable, trying again\n",
      "Unstable, trying again\n",
      "Unstable, trying again\n",
      "Unstable, trying again\n",
      "Unstable, trying again\n",
      "Unstable, trying again\n",
      "Unstable, trying again\n",
      "Unstable, trying again\n",
      "Unstable, trying again\n",
      "Unstable, trying again\n",
      "Unstable, trying again\n",
      "Unstable, trying again\n",
      "Unstable, trying again\n",
      "Unstable, trying again\n",
      "Unstable, trying again\n",
      "Unstable, trying again\n",
      "Unstable, trying again\n",
      "Unstable, trying again\n",
      "Unstable, trying again\n",
      "Unstable, trying again\n",
      "Unstable, trying again\n",
      "Unstable, trying again\n",
      "Unstable, trying again\n",
      "Unstable, trying again\n",
      "Unstable, trying again\n",
      "Unstable, trying again\n",
      "Unstable, trying again\n",
      "Unstable, trying again\n",
      "Unstable, trying again\n",
      "Unstable, trying again\n",
      "Unstable, trying again\n",
      "Unstable, trying again\n",
      "Unstable, trying again\n",
      "Unstable, trying again\n",
      "Unstable, trying again\n",
      "Unstable, trying again\n",
      "Unstable, trying again\n",
      "Unstable, trying again\n",
      "Unstable, trying again\n",
      "Unstable, trying again\n",
      "Unstable, trying again\n",
      "Unstable, trying again\n",
      "Unstable, trying again\n",
      "Unstable, trying again\n",
      "Unstable, trying again\n",
      "Unstable, trying again\n",
      "Unstable, trying again\n",
      "Unstable, trying again\n",
      "Unstable, trying again\n",
      "Unstable, trying again\n",
      "Unstable, trying again\n",
      "Unstable, trying again\n",
      "Unstable, trying again\n",
      "Unstable, trying again\n",
      "Unstable, trying again\n",
      "Unstable, trying again\n",
      "Unstable, trying again\n",
      "Unstable, trying again\n",
      "Unstable, trying again\n",
      "Unstable, trying again\n",
      "Unstable, trying again\n",
      "Unstable, trying again\n",
      "Unstable, trying again\n",
      "Unstable, trying again\n",
      "Unstable, trying again\n",
      "Unstable, trying again\n",
      "Unstable, trying again\n",
      "Unstable, trying again\n",
      "Unstable, trying again\n",
      "Unstable, trying again\n",
      "Unstable, trying again\n",
      "Unstable, trying again\n",
      "Unstable, trying again\n",
      "Unstable, trying again\n",
      "Unstable, trying again\n",
      "Unstable, trying again\n",
      "Unstable, trying again\n",
      "Unstable, trying again\n",
      "Unstable, trying again\n",
      "Unstable, trying again\n",
      "Unstable, trying again\n",
      "Unstable, trying again\n",
      "Unstable, trying again\n",
      "Unstable, trying again\n",
      "Unstable, trying again\n",
      "Unstable, trying again\n",
      "Unstable, trying again\n",
      "Unstable, trying again\n",
      "Unstable, trying again\n",
      "Unstable, trying again\n",
      "Unstable, trying again\n",
      "Unstable, trying again\n",
      "Unstable, trying again\n",
      "Unstable, trying again\n",
      "Unstable, trying again\n",
      "Unstable, trying again\n",
      "Unstable, trying again\n",
      "Unstable, trying again\n",
      "Unstable, trying again\n",
      "Unstable, trying again\n",
      "Unstable, trying again\n",
      "Unstable, trying again\n",
      "Unstable, trying again\n",
      "Unstable, trying again\n",
      "Unstable, trying again\n",
      "Unstable, trying again\n",
      "Unstable, trying again\n",
      "Unstable, trying again\n",
      "Unstable, trying again\n",
      "Unstable, trying again\n",
      "Unstable, trying again\n",
      "Unstable, trying again\n",
      "Unstable, trying again\n",
      "Unstable, trying again\n",
      "Unstable, trying again\n",
      "Unstable, trying again\n",
      "Unstable, trying again\n",
      "Unstable, trying again\n",
      "Unstable, trying again\n",
      "Unstable, trying again\n",
      "Unstable, trying again\n",
      "Unstable, trying again\n",
      "Unstable, trying again\n",
      "Unstable, trying again\n",
      "Unstable, trying again\n",
      "Unstable, trying again\n",
      "Unstable, trying again\n",
      "Unstable, trying again\n",
      "Unstable, trying again\n",
      "Unstable, trying again\n",
      "Unstable, trying again\n",
      "Unstable, trying again\n",
      "Unstable, trying again\n",
      "Unstable, trying again\n",
      "Unstable, trying again\n",
      "Unstable, trying again\n",
      "Unstable, trying again\n",
      "Unstable, trying again\n",
      "Unstable, trying again\n",
      "Unstable, trying again\n",
      "Unstable, trying again\n",
      "Unstable, trying again\n",
      "Unstable, trying again\n",
      "Unstable, trying again\n",
      "Unstable, trying again\n",
      "Unstable, trying again\n",
      "Unstable, trying again\n",
      "Unstable, trying again\n",
      "Unstable, trying again\n",
      "Unstable, trying again\n",
      "Unstable, trying again\n",
      "Unstable, trying again\n",
      "Unstable, trying again\n",
      "Unstable, trying again\n",
      "Unstable, trying again\n",
      "Unstable, trying again\n",
      "Unstable, trying again\n",
      "Unstable, trying again\n",
      "Unstable, trying again\n",
      "Unstable, trying again\n",
      "Unstable, trying again\n",
      "Unstable, trying again\n",
      "Unstable, trying again\n",
      "Unstable, trying again\n",
      "Unstable, trying again\n",
      "Unstable, trying again\n",
      "Unstable, trying again\n",
      "Unstable, trying again\n",
      "Unstable, trying again\n",
      "Unstable, trying again\n",
      "Unstable, trying again\n",
      "Unstable, trying again\n",
      "Unstable, trying again\n",
      "Unstable, trying again\n",
      "Unstable, trying again\n",
      "Unstable, trying again\n",
      "Unstable, trying again\n",
      "Unstable, trying again\n",
      "Unstable, trying again\n",
      "Unstable, trying again\n",
      "Unstable, trying again\n",
      "Unstable, trying again\n",
      "Unstable, trying again\n",
      "Unstable, trying again\n",
      "Unstable, trying again\n",
      "Unstable, trying again\n",
      "Unstable, trying again\n",
      "Unstable, trying again\n",
      "Unstable, trying again\n",
      "Unstable, trying again\n",
      "Unstable, trying again\n",
      "Unstable, trying again\n",
      "Unstable, trying again\n",
      "Unstable, trying again\n",
      "Unstable, trying again\n",
      "Unstable, trying again\n",
      "Unstable, trying again\n",
      "Unstable, trying again\n",
      "Unstable, trying again\n",
      "Unstable, trying again\n",
      "Unstable, trying again\n",
      "Unstable, trying again\n",
      "Unstable, trying again\n",
      "Unstable, trying again\n",
      "Unstable, trying again\n",
      "Unstable, trying again\n",
      "Unstable, trying again\n",
      "Unstable, trying again\n",
      "Unstable, trying again\n",
      "Unstable, trying again\n",
      "Unstable, trying again\n",
      "Unstable, trying again\n",
      "Unstable, trying again\n",
      "Unstable, trying again\n",
      "Unstable, trying again\n",
      "Unstable, trying again\n",
      "Unstable, trying again\n",
      "Unstable, trying again\n",
      "Unstable, trying again\n",
      "Unstable, trying again\n",
      "Unstable, trying again\n",
      "Unstable, trying again\n",
      "Unstable, trying again\n",
      "Unstable, trying again\n",
      "Unstable, trying again\n",
      "Unstable, trying again\n",
      "Unstable, trying again\n",
      "Unstable, trying again\n",
      "Unstable, trying again\n",
      "Unstable, trying again\n",
      "Unstable, trying again\n",
      "Unstable, trying again\n",
      "Unstable, trying again\n",
      "Unstable, trying again\n",
      "Unstable, trying again\n",
      "Unstable, trying again\n",
      "Unstable, trying again\n",
      "Unstable, trying again\n",
      "Unstable, trying again\n",
      "Unstable, trying again\n",
      "Unstable, trying again\n",
      "Unstable, trying again\n",
      "Unstable, trying again\n",
      "Unstable, trying again\n",
      "Unstable, trying again\n",
      "Unstable, trying again\n",
      "Unstable, trying again\n",
      "Unstable, trying again\n",
      "Unstable, trying again\n",
      "Unstable, trying again\n",
      "Unstable, trying again\n",
      "Unstable, trying again\n",
      "Unstable, trying again\n",
      "Unstable, trying again\n",
      "Unstable, trying again\n",
      "Unstable, trying again\n",
      "Unstable, trying again\n",
      "Unstable, trying again\n",
      "Unstable, trying again\n",
      "Unstable, trying again\n",
      "Unstable, trying again\n",
      "Unstable, trying again\n",
      "Unstable, trying again\n",
      "Unstable, trying again\n",
      "Unstable, trying again\n",
      "Unstable, trying again\n",
      "Unstable, trying again\n",
      "Unstable, trying again\n",
      "Unstable, trying again\n",
      "Unstable, trying again\n",
      "Unstable, trying again\n",
      "Unstable, trying again\n",
      "Unstable, trying again\n",
      "Unstable, trying again\n",
      "Unstable, trying again\n",
      "Unstable, trying again\n",
      "Unstable, trying again\n",
      "Unstable, trying again\n",
      "Unstable, trying again\n",
      "Unstable, trying again\n",
      "Unstable, trying again\n",
      "Unstable, trying again\n",
      "Unstable, trying again\n",
      "Unstable, trying again\n",
      "Unstable, trying again\n",
      "Unstable, trying again\n",
      "Unstable, trying again\n",
      "Unstable, trying again\n",
      "Unstable, trying again\n",
      "Unstable, trying again\n",
      "Unstable, trying again\n",
      "Unstable, trying again\n",
      "Unstable, trying again\n",
      "Unstable, trying again\n",
      "Unstable, trying again\n",
      "Unstable, trying again\n",
      "Unstable, trying again\n",
      "Unstable, trying again\n",
      "Unstable, trying again\n",
      "Unstable, trying again\n",
      "Unstable, trying again\n",
      "Unstable, trying again\n",
      "Unstable, trying again\n",
      "Unstable, trying again\n",
      "Unstable, trying again\n",
      "Unstable, trying again\n",
      "Unstable, trying again\n",
      "Unstable, trying again\n",
      "Unstable, trying again\n",
      "Unstable, trying again\n",
      "Unstable, trying again\n",
      "Unstable, trying again\n",
      "Unstable, trying again\n",
      "Unstable, trying again\n",
      "Unstable, trying again\n",
      "Unstable, trying again\n",
      "Unstable, trying again\n",
      "Unstable, trying again\n",
      "Unstable, trying again\n",
      "Unstable, trying again\n",
      "Unstable, trying again\n",
      "Unstable, trying again\n",
      "Unstable, trying again\n",
      "Unstable, trying again\n",
      "Unstable, trying again\n",
      "Unstable, trying again\n",
      "Unstable, trying again\n",
      "Unstable, trying again\n",
      "Unstable, trying again\n",
      "Unstable, trying again\n",
      "Unstable, trying again\n",
      "Unstable, trying again\n",
      "Unstable, trying again\n",
      "Unstable, trying again\n",
      "Unstable, trying again\n",
      "Unstable, trying again\n",
      "Unstable, trying again\n",
      "Unstable, trying again\n",
      "Unstable, trying again\n",
      "Unstable, trying again\n",
      "Unstable, trying again\n",
      "Unstable, trying again\n",
      "Unstable, trying again\n",
      "Unstable, trying again\n",
      "Unstable, trying again\n",
      "Unstable, trying again\n",
      "Unstable, trying again\n",
      "Unstable, trying again\n",
      "Unstable, trying again\n",
      "Unstable, trying again\n",
      "Unstable, trying again\n",
      "Unstable, trying again\n",
      "Unstable, trying again\n"
     ]
    },
    {
     "name": "stderr",
     "output_type": "stream",
     "text": [
      "10it [00:07,  1.28it/s]\n"
     ]
    }
   ],
   "source": [
    "directedness = np.linspace(0, 1, 10)\n",
    "ods = 0.2\n",
    "reps = 1\n",
    "spearmanr = np.zeros((directedness.size, reps))\n",
    "for ii, d_ in tqdm(enumerate(directedness)):\n",
    "    for jj in range(reps):\n",
    "        \n",
    "        A = np.diag(np.random.uniform(0.5, 0.75, size=(100,)))\n",
    "        for i in range(A.shape[0] - 1):\n",
    "            p = scipy.stats.bernoulli.rvs(0.5)\n",
    "            if p:\n",
    "                A[i, i + 1] = ods\n",
    "                A[i + 1, i] = d_ * ods\n",
    "            else:\n",
    "                A[i, i + 1] = d_ * ods\n",
    "                A[i + 1, i] = ods\n",
    "                \n",
    "        # Complete the loop\n",
    "        p = scipy.stats.bernoulli.rvs(0.5)\n",
    "        if p:\n",
    "            A[0, -1] = ods\n",
    "            A[-1, 0] = d_ * ods\n",
    "        else:\n",
    "            A[0, -1] = d_ * ods\n",
    "            A[-1, 0] = ods\n",
    "            \n",
    "        while max(np.abs(np.linalg.eigvals(A))) > 0.99:\n",
    "            print('Unstable, trying again')\n",
    "            A = np.diag(np.random.uniform(0.5, 0.9, size=(10,)))\n",
    "            for i in range(A.shape[0] - 1):\n",
    "                \n",
    "                A[i, i + 1] = ods\n",
    "                A[i + 1, i] = d_ * ods\n",
    "\n",
    "                \n",
    "        ssr = SSR(A=A, B=np.eye(A.shape[0]), C=np.eye(A.shape[0]))\n",
    "        eig, U = np.linalg.eig(ssr.cov)\n",
    "        eigorder = np.argsort(np.abs(eig))[::-1]\n",
    "        U = U[:, eigorder]\n",
    "\n",
    "        pca_loadings = calc_loadings(U[:, 0:2])\n",
    "        \n",
    "        dcamodel = DCA(T=3, d=2)\n",
    "        dcamodel.cross_covs = torch.tensor(ssr.autocorrelation(10))\n",
    "        dcamodel.fit_projection(n_init=10) \n",
    "        \n",
    "        dca_loadings = calc_loadings(dcamodel.coef_)\n",
    "        spearmanr[ii, jj] = scipy.stats.spearmanr(pca_loadings, dca_loadings)[0]\n",
    "        "
   ]
  },
  {
   "cell_type": "code",
   "execution_count": 238,
   "id": "a93b27dc",
   "metadata": {},
   "outputs": [
    {
     "data": {
      "text/plain": [
       "[<matplotlib.lines.Line2D at 0x7f1ce5a040d0>]"
      ]
     },
     "execution_count": 238,
     "metadata": {},
     "output_type": "execute_result"
    },
    {
     "data": {
      "image/png": "[encoded data removed]",
      "text/plain": [
       "<Figure size 432x288 with 1 Axes>"
      ]
     },
     "metadata": {
      "needs_background": "light"
     },
     "output_type": "display_data"
    }
   ],
   "source": [
    "plt.plot(np.mean(spearmanr, axis=1))"
   ]
  },
  {
   "cell_type": "code",
   "execution_count": null,
   "id": "7ad8600d",
   "metadata": {},
   "outputs": [],
   "source": [
    "# Feedforward ring doesn't work, but if we randomly reverse the direction of connection, then it does"
   ]
  },
  {
   "cell_type": "code",
   "execution_count": null,
   "id": "30d19df9",
   "metadata": {},
   "outputs": [],
   "source": [
    "# Stick to random networks, progressively make it directred"
   ]
  },
  {
   "cell_type": "code",
   "execution_count": 10,
   "id": "da4bd7a2",
   "metadata": {},
   "outputs": [
    {
     "name": "stderr",
     "output_type": "stream",
     "text": [
      "\r\n",
      "0it [00:00, ?it/s]"
     ]
    },
    {
     "name": "stdout",
     "output_type": "stream",
     "text": [
      "Unstable, trying again\n",
      "Unstable, trying again\n",
      "Unstable, trying again\n",
      "Unstable, trying again\n",
      "Unstable, trying again\n",
      "Unstable, trying again\n",
      "Unstable, trying again\n",
      "Unstable, trying again\n",
      "Unstable, trying again\n",
      "Unstable, trying again\n",
      "Unstable, trying again\n",
      "Unstable, trying again\n",
      "Unstable, trying again\n",
      "Unstable, trying again\n",
      "Unstable, trying again\n",
      "Unstable, trying again\n",
      "Unstable, trying again\n",
      "Unstable, trying again\n",
      "Unstable, trying again\n"
     ]
    },
    {
     "name": "stderr",
     "output_type": "stream",
     "text": [
      "\r\n",
      "1it [00:21, 21.56s/it]"
     ]
    },
    {
     "name": "stdout",
     "output_type": "stream",
     "text": [
      "Unstable, trying again\n",
      "Unstable, trying again\n",
      "Unstable, trying again\n",
      "Unstable, trying again\n",
      "Unstable, trying again\n",
      "Unstable, trying again\n"
     ]
    },
    {
     "name": "stderr",
     "output_type": "stream",
     "text": [
      "\r\n",
      "2it [00:44, 22.13s/it]"
     ]
    },
    {
     "name": "stdout",
     "output_type": "stream",
     "text": [
      "Unstable, trying again\n"
     ]
    },
    {
     "name": "stderr",
     "output_type": "stream",
     "text": [
      "10it [04:39, 27.95s/it]\n"
     ]
    }
   ],
   "source": [
    "directedness = np.linspace(0, 1, 10)[::-1]\n",
    "reps = 100\n",
    "spearmanr = np.zeros((directedness.size, reps, 3))\n",
    "phi = np.zeros((directedness.size, reps, 3))\n",
    "size = 10\n",
    "d = -1.2\n",
    "for ii, d_ in tqdm(enumerate(directedness)):\n",
    "    for jj in range(reps):\n",
    "        \n",
    "        A = np.zeros((size, size))\n",
    "        for i in range(A.shape[0]):\n",
    "            for j in range(i + 1):\n",
    "                a = 1/(2 * np.sqrt(size)) * np.random.normal(0, 1)\n",
    "                if i != j:\n",
    "                    p = scipy.stats.bernoulli.rvs(0.5)\n",
    "                    if p:\n",
    "                        A[i, j] = a\n",
    "                        A[j, i] = d_ * A[i, j]\n",
    "                    else:\n",
    "                        A[j, i] = a\n",
    "                        A[i, j] = d_ * A[j, i]\n",
    "                        \n",
    "                else:\n",
    "                    A[i, i] = a\n",
    "                \n",
    "            \n",
    "#        while max(np.real(np.linalg.eigvals(A))) > 0:\n",
    "        while max(np.abs(np.linalg.eigvals(A))) > 0.99:\n",
    "            print('Unstable, trying again')\n",
    "            A = np.zeros((size, size))\n",
    "            for i in range(A.shape[0]):\n",
    "                for j in range(i + 1):\n",
    "                    a = 1/(2 * np.sqrt(size)) * np.random.normal(0, 1)\n",
    "                    if i != j:\n",
    "                        p = scipy.stats.bernoulli.rvs(0.5)\n",
    "                        if p:\n",
    "                            A[i, j] = a\n",
    "                            A[j, i] = d_ * A[i, j]\n",
    "                        else:\n",
    "                            A[j, i] = a\n",
    "                            A[i, j] = d_ * A[j, i]\n",
    "\n",
    "                    else:\n",
    "                        A[i, i] = a\n",
    "\n",
    "        # Cayley trasnform\n",
    "#        A = (np.eye(A.shape[0]) + A) @ np.linalg.inv(np.eye(A.shape[0]) - A)\n",
    "                \n",
    "        ssr = SSR(A=A, B=np.eye(A.shape[0]), C=np.eye(A.shape[0]))\n",
    "        eig, U = np.linalg.eig(ssr.cov)\n",
    "        eigorder = np.argsort(np.abs(eig))[::-1]\n",
    "        U = U[:, eigorder]\n",
    "        pca_loadings = calc_loadings(U[:, 0:1])\n",
    "        \n",
    "        dcamodel = KCA(T=1, d=1, causal_weights=(1, 0), project_mmse=False)\n",
    "        dcamodel.cross_covs = torch.tensor(ssr.autocorrelation(10))\n",
    "        dcamodel.fit_projection(n_init=10)         \n",
    "            \n",
    "        # Controllabilityategy: While pioneering in the Middle Ages you will found and expand a village, manage the inhabitants, collect resources and produce all the goods you need and use or capitalise by trading them.\n",
    "\n",
    "Features:\n",
    "\n",
    "    Beautiful and realistic open world 3D landscape with state-of-the-art graphics\n",
    "    Full 4 seasons with day/night cycle and realistic weather conditions\n",
    "    Interactive environment with trees to fell, various fruit to pluck, stones to collect, caves to explore and many more\n",
    "    18 different buildings with various levels from hay shacks to full stone mansions\n",
    "    Over 60 pieces of equipment to craft, including weapons, tools, furniture and clothing\n",
    "    Realistic wildlife interaction with plenty of different animals such as wolves, wild boars, deer, rabbits and others\n",
    "    All activities will impact on food, water, health and endurance status\n",
    "    Detailed skill tree for individual character development\n",
    "    Unique events and decisions with direct impact on gameplay\n",
    "    Dynasty reputation system triggering events with the king\n",
    "    Quests, trade and economy, sandbox option, social connections to NPCs and many more\n",
    "\n",
    "System Requirements\n",
    "\n",
    "    Minimum:\n",
    "        OS: Windows 7, 8, 10\n",
    "        Processor: 3 GHz Quad Core Processor\n",
    "        Memory: 8 GB RAM\n",
    "        Graphics: DirectX 11 compatible GPU, 4GB dedicated VRAM (GeForce GTX 970 / Radeon RX 480)\n",
    "        DirectX: Version 11\n",
    "        Network: Broadband Internet connection\n",
    "        Storage: 10 GB available space\n",
    "\n",
    "    Recommended:\n",
    "        OS: Windows 10\n",
    "        Processor: 4 GHz Quad Core Processor\n",
    "        Memory: 16 GB RAM\n",
    "        Graphics: DirectX 11 compatible GPU, 6GB dedicated VRAM (GeForce GTX 1060 / Radeon RX 580)\n",
    "        DirectX: Version 11\n",
    "        Network: Broadband Internet connection\n",
    "        Storage: 10 GB available space\n",
    "\n",
    "Medieval Dynasty ©2021 Render Cube S.A. Published by Toplitz Productions GmbH. Developed by Render Cube. All rights reserved.\n",
    "See all\n",
    "More like this\n",
    "Satisfactory\n",
    "-30%\n",
    "$29.99\n",
    "$20.99\n",
    "Rust\n",
    "-33%\n",
    "$39.99\n",
    "$26.79\n",
    "Project Zomboid\n",
    "-33%\n",
    "$14.99\n",
    "$10.04\n",
    "The Forest\n",
    "-60%\n",
    "$19.99\n",
    "$7.99\n",
    "ICARUS\n",
    "-10%\n",
    "$29.99\n",
    "$26.99\n",
    "Valheim\n",
    "-25%\n",
    "$19.99\n",
    "$14.99\n",
    "ARK: Survival Evolved\n",
    "-67%\n",
    "$29.99\n",
    "$9.89\n",
    "Oxygen Not Included\n",
    "-60%\n",
    "$24.99\n",
    "$9.99\n",
    "Space Engineers\n",
    "-30%\n",
    "$19.99\n",
    "$13.99\n",
    "Going Medieval\n",
    "-10%\n",
    "$24.99\n",
    "$22.49\n",
    "Terraria\n",
    "-50%\n",
    "$9.99\n",
    "$4.99\n",
    "theHunter: Call of the Wild™\n",
    "-76%\n",
    "$19.99\n",
    "$4.79\n",
    "\n",
    "        ssr2 = SSR(A = A.T, B=np.eye(A.shape[0]), C=np.eye(A.shape[0]))\n",
    "        dcamodel2 = KCA(T=1, d=1, causal_weights=(1, 0), project_mmse=False)\n",
    "        dcamodel2.cross_covs = torch.tensor(ssr2.autocorrelation(10))\n",
    "        dcamodel2.fit_projection(n_init=10)         \n",
    "\n",
    "        \n",
    "        dca_loadings = calc_loadings(dcamodel.coef_)\n",
    "        dca_loadings2 = calc_loadings(dcamodel2.coef_)\n",
    "        spearmanr[ii, jj, 0] = scipy.stats.spearmanr(pca_loadings, dca_loadings)[0]\n",
    "        spearmanr[ii, jj, 1] = scipy.stats.spearmanr(pca_loadings, dca_loadings2)[0]\n",
    "        spearmanr[ii, jj, 2] = scipy.stats.spearmanr(dca_loadings, dca_loadings2)[0]\n",
    "        phi[ii, jj, 0] = scipy.linalg.subspace_angles(U[:, 0][:, np.newaxis], dcamodel.coef_)        \n",
    "        phi[ii, jj, 1] = scipy.linalg.subspace_angles(U[:, 0][:, np.newaxis], dcamodel2.coef_)\n",
    "        phi[ii, jj, 2] = scipy.linalg.subspace_angles(dcamodel.coef_, dcamodel2.coef_)"
   ]
  },
  {
   "cell_type": "code",
   "execution_count": 15,
   "id": "0f130d77",
   "metadata": {},
   "outputs": [
    {
     "data": {
      "text/plain": [
       "[<matplotlib.lines.Line2D at 0x7f80cc7c4ad0>]"
      ]
     },
     "execution_count": 15,
     "metadata": {},
     "output_type": "execute_result"
    },
    {
     "data": {
      "image/png": "[encoded data removed]",
      "text/plain": [
       "<Figure size 432x288 with 1 Axes>"
      ]
     },
     "metadata": {
      "needs_background": "light"
     },
     "output_type": "display_data"
    }
   ],
   "source": [
    "plt.plot(np.mean(spearmanr[..., 0], axis=1))\n",
    "plt.plot(np.mean(spearmanr[..., 1], axis=1))\n",
    "plt.plot(np.mean(spearmanr[..., 2], axis=1))\n",
    "#plt.plot(np.mean(phi, axis=1))"
   ]
  },
  {
   "cell_type": "code",
   "execution_count": 18,
   "id": "41f7e99c",
   "metadata": {},
   "outputs": [
    {
     "data": {
      "text/plain": [
       "[<matplotlib.lines.Line2D at 0x7f80cc1c3550>]"
      ]
     },
     "execution_count": 18,
     "metadata": {},
     "output_type": "execute_result"
    },
    {
     "data": {
      "image/png": "[encoded data removed]",
      "text/plain": [
       "<Figure size 432x288 with 1 Axes>"
      ]
     },
     "metadata": {
      "needs_background": "light"
     },
     "output_type": "display_data"
    }
   ],
   "source": [
    "plt.plot(np.mean(phi[..., 0], axis=1))\n",
    "plt.plot(np.mean(phi[..., 1], axis=1))"
   ]
  },
  {
   "cell_type": "code",
   "execution_count": 13,
   "id": "2a70a545",
   "metadata": {},
   "outputs": [],
   "source": [
    "import pickle"
   ]
  },
  {
   "cell_type": "code",
   "execution_count": 14,
   "id": "410e9fd0",
   "metadata": {},
   "outputs": [],
   "source": [
    "with open('nn_example.dat', 'wb') as f:\n",
    "    f.write(pickle.dumps(spearmanr))\n",
    "    f.write(pickle.dumps(phi))"
   ]
  },
  {
   "cell_type": "code",
   "execution_count": null,
   "id": "df65a2c1",
   "metadata": {},
   "outputs": [],
   "source": []
  },
  {
   "cell_type": "code",
   "execution_count": null,
   "id": "cc4ce5d8",
   "metadata": {},
   "outputs": [],
   "source": [
    "# Isn't it the case that loadings can be freely manipulated?"
   ]
  },
  {
   "cell_type": "code",
   "execution_count": 274,
   "id": "f2ca6dcd",
   "metadata": {},
   "outputs": [],
   "source": [
    "# What in the fuck is going on...."
   ]
  },
  {
   "cell_type": "code",
   "execution_count": 153,
   "id": "239176a3",
   "metadata": {},
   "outputs": [
    {
     "name": "stdout",
     "output_type": "stream",
     "text": [
      "Unstable, trying again\n"
     ]
    }
   ],
   "source": [
    "A = np.zeros((size, size))\n",
    "for i in range(A.shape[0]):\n",
    "    for j in range(i + 1):\n",
    "        a = 1/(2 * np.sqrt(size)) * np.random.normal(0, 1)\n",
    "        if i != j:\n",
    "            p = scipy.stats.bernoulli.rvs(0.5)\n",
    "            if p:\n",
    "                A[i, j] = a\n",
    "                A[j, i] = d_ * A[i, j]\n",
    "            else:\n",
    "                A[j, i] = a\n",
    "                A[i, j] = d_ * A[j, i]\n",
    "\n",
    "        else:\n",
    "            A[i, i] = a\n",
    "\n",
    "\n",
    "while max(np.abs(np.linalg.eigvals(A))) > 0.99:\n",
    "    print('Unstable, trying again')\n",
    "    A = np.zeros((size, size))\n",
    "    for i in range(A.shape[0]):\n",
    "        for j in range(i + 1):\n",
    "            a = 1/(2 * np.sqrt(size)) * np.random.normal(0, 1)\n",
    "            if i != j:\n",
    "                p = scipy.stats.bernoulli.rvs(0.5)\n",
    "                if p:\n",
    "                    A[i, j] = a\n",
    "                    A[j, i] = d_ * A[i, j]\n",
    "                else:\n",
    "                    A[j, i] = a\n",
    "                    A[i, j] = d_ * A[j, i]\n",
    "\n",
    "            else:\n",
    "                A[i, i] = a\n",
    "\n",
    "#A = np.diag(np.linalg.eigvals(A))\n",
    "A = np.diag(np.random.uniform(-0.8, 0.9, size=(size,)))\n",
    "eig, U = np.linalg.eig(A)\n",
    "eigorder = np.argsort(np.abs(eig))[::-1]\n",
    "U = U[:, eigorder]\n",
    "ssr = SSR(A = A, B=np.eye(A.shape[0]), C=np.eye(A.shape[0]))"
   ]
  },
  {
   "cell_type": "code",
   "execution_count": 154,
   "id": "2f4eda6f",
   "metadata": {},
   "outputs": [
    {
     "data": {
      "text/plain": [
       "0.896586607484936"
      ]
     },
     "execution_count": 154,
     "metadata": {},
     "output_type": "execute_result"
    }
   ],
   "source": [
    "np.max(eig)"
   ]
  },
  {
   "cell_type": "code",
   "execution_count": 155,
   "id": "13c77137",
   "metadata": {},
   "outputs": [
    {
     "data": {
      "text/plain": [
       "-0.7998091141441617"
      ]
     },
     "execution_count": 155,
     "metadata": {},
     "output_type": "execute_result"
    }
   ],
   "source": [
    "np.min(eig)"
   ]
  },
  {
   "cell_type": "code",
   "execution_count": 156,
   "id": "8e02681d",
   "metadata": {},
   "outputs": [],
   "source": [
    "x = ssr.trajectory(int(1e5), burnoff=True)"
   ]
  },
  {
   "cell_type": "code",
   "execution_count": 157,
   "id": "354a4cc7",
   "metadata": {},
   "outputs": [
    {
     "data": {
      "text/plain": [
       "<dca.dca.DynamicalComponentsAnalysis at 0x7f778c487110>"
      ]
     },
     "execution_count": 157,
     "metadata": {},
     "output_type": "execute_result"
    }
   ],
   "source": [
    "dcamodel = DCA(T=5, d=1)\n",
    "dcamodel.fit(x)"
   ]
  },
  {
   "cell_type": "code",
   "execution_count": 158,
   "id": "ef0accd5",
   "metadata": {},
   "outputs": [
    {
     "data": {
      "text/plain": [
       "array([0.53174084])"
      ]
     },
     "execution_count": 158,
     "metadata": {},
     "output_type": "execute_result"
    }
   ],
   "source": [
    "scipy.linalg.subspace_angles(U[:, 0][:, np.newaxis], dcamodel.coef_)"
   ]
  },
  {
   "cell_type": "code",
   "execution_count": 159,
   "id": "2047779b",
   "metadata": {},
   "outputs": [],
   "source": [
    "ssr1 = SSR(A = A, B=np.eye(A.shape[0]), C=U[:, 0][np.newaxis, :])\n",
    "ssr2 = SSR(A = A, B=np.eye(A.shape[0]), C=dcamodel.coef_.T)"
   ]
  },
  {
   "cell_type": "code",
   "execution_count": 160,
   "id": "c9a6758f",
   "metadata": {},
   "outputs": [
    {
     "data": {
      "text/plain": [
       "0.8144825278791706"
      ]
     },
     "execution_count": 160,
     "metadata": {},
     "output_type": "execute_result"
    }
   ],
   "source": [
    "ssr1.pi(5)"
   ]
  },
  {
   "cell_type": "code",
   "execution_count": 161,
   "id": "129a05c0",
   "metadata": {},
   "outputs": [
    {
     "data": {
      "text/plain": [
       "0.7941897408949865"
      ]
     },
     "execution_count": 161,
     "metadata": {},
     "output_type": "execute_result"
    }
   ],
   "source": [
    "ssr2.pi(5)"
   ]
  },
  {
   "cell_type": "code",
   "execution_count": 131,
   "id": "0ee0854e",
   "metadata": {},
   "outputs": [],
   "source": [
    "# What is very strange is that the T=1 PI is very low...."
   ]
  },
  {
   "cell_type": "code",
   "execution_count": 123,
   "id": "1effb9d1",
   "metadata": {},
   "outputs": [
    {
     "data": {
      "text/plain": [
       "(array([16., 10., 10.,  9., 11., 10.,  9.,  3., 14.,  8.]),\n",
       " array([-0.89817397, -0.80868369, -0.71919341, -0.62970314, -0.54021286,\n",
       "        -0.45072258, -0.36123231, -0.27174203, -0.18225175, -0.09276148,\n",
       "        -0.0032712 ]),\n",
       " <BarContainer object of 10 artists>)"
      ]
     },
     "execution_count": 123,
     "metadata": {},
     "output_type": "execute_result"
    },
    {
     "data": {
      "image/png": "[encoded data removed]",
      "text/plain": [
       "<Figure size 432x288 with 1 Axes>"
      ]
     },
     "metadata": {
      "needs_background": "light"
     },
     "output_type": "display_data"
    }
   ],
   "source": [
    "plt.hist(np.linalg.eigvals(A))"
   ]
  },
  {
   "cell_type": "code",
   "execution_count": 48,
   "id": "558d85cd",
   "metadata": {},
   "outputs": [],
   "source": [
    "# What about single unit?"
   ]
  },
  {
   "cell_type": "code",
   "execution_count": 49,
   "id": "75c05cb3",
   "metadata": {},
   "outputs": [],
   "source": [
    "ssr2.solve_min_phase()\n",
    "ssr2.solve_max_phase()"
   ]
  },
  {
   "cell_type": "code",
   "execution_count": 50,
   "id": "ba643f66",
   "metadata": {},
   "outputs": [
    {
     "data": {
      "text/plain": [
       "(100, 1)"
      ]
     },
     "execution_count": 50,
     "metadata": {},
     "output_type": "execute_result"
    }
   ],
   "source": [
    "ssr2.Bmin.shape"
   ]
  },
  {
   "cell_type": "code",
   "execution_count": 51,
   "id": "bb1fbc12",
   "metadata": {},
   "outputs": [
    {
     "data": {
      "text/plain": [
       "(100, 1)"
      ]
     },
     "execution_count": 51,
     "metadata": {},
     "output_type": "execute_result"
    }
   ],
   "source": [
    "ssr2.Bmax.shape"
   ]
  },
  {
   "cell_type": "code",
   "execution_count": 52,
   "id": "6a5ac4cd",
   "metadata": {},
   "outputs": [
    {
     "data": {
      "text/plain": [
       "array([1.51096504])"
      ]
     },
     "execution_count": 52,
     "metadata": {},
     "output_type": "execute_result"
    }
   ],
   "source": [
    "scipy.linalg.subspace_angles(ssr2.Bmin, ssr2.C.T)"
   ]
  },
  {
   "cell_type": "code",
   "execution_count": 53,
   "id": "b8a2e16a",
   "metadata": {},
   "outputs": [
    {
     "data": {
      "text/plain": [
       "array([1.18099814])"
      ]
     },
     "execution_count": 53,
     "metadata": {},
     "output_type": "execute_result"
    }
   ],
   "source": [
    "scipy.linalg.subspace_angles(ssr2.Bmin, ssr2.Bmax)"
   ]
  },
  {
   "cell_type": "code",
   "execution_count": 61,
   "id": "ca77a91d",
   "metadata": {},
   "outputs": [],
   "source": [
    "ssr.solve_min_phase()"
   ]
  },
  {
   "cell_type": "code",
   "execution_count": 62,
   "id": "e8e508da",
   "metadata": {},
   "outputs": [],
   "source": [
    "ssr.solve_max_phase()"
   ]
  },
  {
   "cell_type": "code",
   "execution_count": 66,
   "id": "a448f340",
   "metadata": {},
   "outputs": [
    {
     "data": {
      "text/plain": [
       "array([1.45080853e+01, 4.05017986e+01, 9.67000322e+00, 3.85678028e+00,\n",
       "       3.62751953e+00, 2.62802964e+00, 2.56795771e+00, 2.19437141e+00,\n",
       "       1.81813767e+00, 1.69002078e+00, 1.68639171e+00, 1.51482636e+00,\n",
       "       1.26247132e+00, 1.14095134e+00, 1.24139450e+00, 1.15758654e+00,\n",
       "       1.11871404e+00, 8.83626900e-01, 8.97974830e-01, 8.41167027e-01,\n",
       "       7.60789440e-01, 7.89900053e-01, 7.01444383e-01, 7.08070057e-01,\n",
       "       6.38062897e-01, 5.59015533e-01, 5.35796493e-01, 4.78159662e-01,\n",
       "       5.86596206e-01, 5.58063643e-01, 5.11842171e-01, 4.38533016e-01,\n",
       "       3.92245563e-01, 3.48341843e-01, 3.37624056e-01, 3.05187397e-01,\n",
       "       2.88944893e-01, 4.42605951e-01, 3.81503982e-01, 3.83553319e-01,\n",
       "       3.56008793e-01, 3.37311235e-01, 2.19672295e-01, 2.03475816e-01,\n",
       "       2.71531934e-01, 2.56647445e-01, 2.39740419e-01, 2.22210410e-01,\n",
       "       1.85686582e-01, 1.78080125e-01, 1.71196525e-01, 1.50068181e-01,\n",
       "       1.70778086e-01, 1.60584846e-01, 1.47751054e-01, 1.33428842e-01,\n",
       "       1.13863514e-01, 1.10077692e-01, 1.30153636e-01, 1.17323112e-01,\n",
       "       1.05025962e-01, 8.78766233e-02, 8.14439749e-02, 6.93178537e-02,\n",
       "       8.35162460e-02, 5.68916147e-02, 4.99801828e-02, 4.82668350e-02,\n",
       "       3.87197778e-02, 3.41119627e-02, 2.81142569e-02, 2.60947089e-02,\n",
       "       7.16285213e-02, 6.39017985e-02, 6.04729091e-02, 5.56822348e-02,\n",
       "       2.05761575e-02, 4.33791105e-02, 4.12658295e-02, 3.41943324e-02,\n",
       "       2.81012841e-02, 2.35592165e-02, 2.12875709e-02, 1.65604050e-02,\n",
       "       1.30319387e-02, 9.85540830e-03, 5.29939138e-03, 5.16485797e-03,\n",
       "       3.07580935e-03, 1.09460882e-02, 6.37113947e-04, 3.23024394e-04,\n",
       "       7.00152041e-03, 5.62844935e-03, 4.91171394e-03, 1.65321355e-07,\n",
       "       3.23497433e-04, 4.93326219e-04, 1.55146908e-03, 2.46630294e-03])"
      ]
     },
     "execution_count": 66,
     "metadata": {},
     "output_type": "execute_result"
    }
   ],
   "source": [
    "np.diag(ssr.Pmin)"
   ]
  },
  {
   "cell_type": "code",
   "execution_count": 67,
   "id": "042d7e55",
   "metadata": {},
   "outputs": [
    {
     "data": {
      "text/plain": [
       "array([15.50808526, 41.50179855, 10.67000322,  4.85678028,  4.62751953,\n",
       "        3.62802964,  3.56795771,  3.19437141,  2.81813767,  2.69002078,\n",
       "        2.68639171,  2.51482636,  2.26247132,  2.14095134,  2.2413945 ,\n",
       "        2.15758654,  2.11871404,  1.8836269 ,  1.89797483,  1.84116703,\n",
       "        1.76078944,  1.78990005,  1.70144438,  1.70807006,  1.6380629 ,\n",
       "        1.55901553,  1.53579649,  1.47815966,  1.58659621,  1.55806364,\n",
       "        1.51184217,  1.43853302,  1.39224556,  1.34834184,  1.33762406,\n",
       "        1.3051874 ,  1.28894489,  1.44260595,  1.38150398,  1.38355332,\n",
       "        1.35600879,  1.33731124,  1.21967229,  1.20347582,  1.27153193,\n",
       "        1.25664744,  1.23974042,  1.22221041,  1.18568658,  1.17808013,\n",
       "        1.17119652,  1.15006818,  1.17077809,  1.16058485,  1.14775105,\n",
       "        1.13342884,  1.11386351,  1.11007769,  1.13015364,  1.11732311,\n",
       "        1.10502596,  1.08787662,  1.08144397,  1.06931785,  1.08351625,\n",
       "        1.05689161,  1.04998018,  1.04826684,  1.03871978,  1.03411196,\n",
       "        1.02811426,  1.02609471,  1.07162852,  1.0639018 ,  1.06047291,\n",
       "        1.05568223,  1.02057616,  1.04337911,  1.04126583,  1.03419433,\n",
       "        1.02810128,  1.02355922,  1.02128757,  1.0165604 ,  1.01303194,\n",
       "        1.00985541,  1.00529939,  1.00516486,  1.00307581,  1.01094609,\n",
       "        1.00063711,  1.00032302,  1.00700152,  1.00562845,  1.00491171,\n",
       "        1.00000017,  1.0003235 ,  1.00049333,  1.00155147,  1.0024663 ])"
      ]
     },
     "execution_count": 67,
     "metadata": {},
     "output_type": "execute_result"
    }
   ],
   "source": [
    "np.diag(ssr.P)"
   ]
  },
  {
   "cell_type": "code",
   "execution_count": 64,
   "id": "fd152362",
   "metadata": {},
   "outputs": [
    {
     "data": {
      "text/plain": [
       "array([[ 6.44824931e-02,  3.00953967e-34,  2.24763107e-34, ...,\n",
       "        -2.81766436e-33,  1.81890302e-33, -5.99550106e-34],\n",
       "       [-8.30036798e-34,  2.40953413e-02, -7.22384451e-16, ...,\n",
       "         8.87478972e-19, -1.25714668e-19,  1.49148276e-18],\n",
       "       [-1.48042940e-34,  7.22759069e-16,  9.37206840e-02, ...,\n",
       "        -8.83963598e-19, -4.96631874e-19,  2.84103368e-20],\n",
       "       ...,\n",
       "       [ 2.76338350e-33, -5.26302811e-19, -2.50808599e-19, ...,\n",
       "         9.99506917e-01, -3.67673288e-17, -7.44413442e-17],\n",
       "       [-1.75871519e-33,  5.84577173e-20,  3.45427229e-19, ...,\n",
       "        -2.48917625e-17,  9.98450934e-01,  2.08555632e-17],\n",
       "       [ 5.75001482e-34, -7.12889270e-19, -1.44972113e-19, ...,\n",
       "         2.30580522e-17,  1.70471683e-16,  9.97539765e-01]])"
      ]
     },
     "execution_count": 64,
     "metadata": {},
     "output_type": "execute_result"
    }
   ],
   "source": [
    "ssr.Pmax"
   ]
  },
  {
   "cell_type": "code",
   "execution_count": 133,
   "id": "a50ede23",
   "metadata": {},
   "outputs": [
    {
     "data": {
      "text/plain": [
       "-0.9607843137254902"
      ]
     },
     "execution_count": 133,
     "metadata": {},
     "output_type": "execute_result"
    }
   ],
   "source": [
    "(2-100)/(2 + 100)"
   ]
  },
  {
   "cell_type": "markdown",
   "id": "20c7c9db",
   "metadata": {},
   "source": [
    "### Phase function of an all pass system"
   ]
  },
  {
   "cell_type": "code",
   "execution_count": 5,
   "id": "f02ba9d2",
   "metadata": {},
   "outputs": [],
   "source": [
    "# First check, is resolvent of an orthogonal matrix unitary"
   ]
  },
  {
   "cell_type": "code",
   "execution_count": 23,
   "id": "d5bb7112",
   "metadata": {},
   "outputs": [],
   "source": [
    "state = np.random.RandomState(1234)"
   ]
  },
  {
   "cell_type": "code",
   "execution_count": 34,
   "id": "0a5d45c5",
   "metadata": {},
   "outputs": [],
   "source": [
    "A = 0.99 * scipy.stats.ortho_group.rvs(10, random_state=1234)"
   ]
  },
  {
   "cell_type": "code",
   "execution_count": 35,
   "id": "02a07e8b",
   "metadata": {},
   "outputs": [],
   "source": [
    "z = np.exp(1j * np.pi/5)"
   ]
  },
  {
   "cell_type": "code",
   "execution_count": 36,
   "id": "0cc57249",
   "metadata": {},
   "outputs": [],
   "source": [
    "R = np.linalg.inv(z * np.eye(A.shape[0]) - A)"
   ]
  },
  {
   "cell_type": "code",
   "execution_count": 37,
   "id": "3ed5df6c",
   "metadata": {},
   "outputs": [],
   "source": [
    "_, S, _ = np.linalg.svd(R)"
   ]
  },
  {
   "cell_type": "code",
   "execution_count": 38,
   "id": "7bbf2dc2",
   "metadata": {},
   "outputs": [
    {
     "data": {
      "text/plain": [
       "array([3.2411711 , 1.66682636, 1.62597037, 0.71171353, 0.62476658,\n",
       "       0.62008211, 0.53598767, 0.52837227, 0.52184082, 0.50251394])"
      ]
     },
     "execution_count": 38,
     "metadata": {},
     "output_type": "execute_result"
    }
   ],
   "source": [
    "S"
   ]
  },
  {
   "cell_type": "code",
   "execution_count": null,
   "id": "1be86fed",
   "metadata": {},
   "outputs": [],
   "source": []
  }
 ],
 "metadata": {
  "kernelspec": {
   "display_name": "Python 3",
   "language": "python",
   "name": "python3"
  },
  "language_info": {
   "codemirror_mode": {
    "name": "ipython",
    "version": 3
   },
   "file_extension": ".py",
   "mimetype": "text/x-python",
   "name": "python",
   "nbconvert_exporter": "python",
   "pygments_lexer": "ipython3",
   "version": "3.7.10"
  }
 },
 "nbformat": 4,
 "nbformat_minor": 5
}
