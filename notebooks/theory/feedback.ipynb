{
 "cells": [
  {
   "cell_type": "code",
   "execution_count": 1,
   "id": "b7e903d8",
   "metadata": {},
   "outputs": [],
   "source": [
    "%load_ext autoreload\n",
    "%autoreload 2"
   ]
  },
  {
   "cell_type": "code",
   "execution_count": 3,
   "id": "0e709721",
   "metadata": {},
   "outputs": [],
   "source": [
    "import numpy as np\n",
    "import scipy \n",
    "from neurosim.models.ssr import StateSpaceRealization as SSR, gen_random_model\n",
    "from dca_research.kca import calc_mmse_from_cross_cov_mats\n",
    "import matplotlib.pyplot as plt"
   ]
  },
  {
   "cell_type": "code",
   "execution_count": 4,
   "id": "3ba30a17",
   "metadata": {},
   "outputs": [],
   "source": [
    "import sys\n",
    "from tqdm import tqdm\n",
    "import torch"
   ]
  },
  {
   "cell_type": "code",
   "execution_count": 5,
   "id": "1ee85809",
   "metadata": {},
   "outputs": [],
   "source": [
    "sys.path.append('../..')\n",
    "from utils import calc_loadings"
   ]
  },
  {
   "cell_type": "markdown",
   "id": "82fcee24",
   "metadata": {},
   "source": [
    "### Goal: Implement formula for gradient of exponential of the Hamiltonian matrix"
   ]
  },
  {
   "cell_type": "code",
   "execution_count": 5,
   "id": "276b7b5e",
   "metadata": {},
   "outputs": [],
   "source": [
    "# First step, verify that the formula in terms of blocks of the matrix exponential matches the solution from scipy\n",
    "# Then, implement in pytorch and compare gradient to explicit formula. \n",
    "# Then, see whether the gradient vanishes for eigenvectors of A"
   ]
  },
  {
   "cell_type": "code",
   "execution_count": 6,
   "id": "7a0f4836",
   "metadata": {},
   "outputs": [],
   "source": [
    "def riccati_solve_torch(A, B, Q, C, P, t):\n",
    "\n",
    "    H = torch.cat([torch.cat([-A.T, torch.chain_matmul(C.t(), torch.inverse(P), C)], dim=1), torch.cat([torch.chain_matmul(B, Q, B.t()), A], dim=1)], dim=0)\n",
    "    Phi = torch.matrix_exp(H * t)\n",
    "\n",
    "    n = A.shape[0]\n",
    "    # Partition\n",
    "    Phi11 = Phi[0:n, 0:n]\n",
    "    Phi12 = Phi[0:n, n:]\n",
    "    Phi21 = Phi[n:, 0:n]\n",
    "    Phi22 = Phi[n:, n:]\n",
    "\n",
    "    Sigma = torch.matmul(Phi21 + Phi22, torch.inverse(Phi11 + Phi12))\n",
    "    return Sigma"
   ]
  },
  {
   "cell_type": "code",
   "execution_count": 96,
   "id": "5e0593ba",
   "metadata": {},
   "outputs": [],
   "source": [
    "A, B, C = gen_random_model(20, 2, 20, True)\n",
    "# P and Q can also be set to the identity for simplicity\n",
    "P = np.eye(C.shape[0])\n",
    "Q = np.eye(B.shape[1])"
   ]
  },
  {
   "cell_type": "code",
   "execution_count": 20,
   "id": "283fdc9c",
   "metadata": {},
   "outputs": [],
   "source": [
    "At = torch.tensor(A)\n",
    "Bt = torch.tensor(B)\n",
    "Ct = torch.tensor(C, requires_grad=True)\n",
    "Pt = torch.tensor(P)\n",
    "Qt = torch.tensor(Q)"
   ]
  },
  {
   "cell_type": "code",
   "execution_count": 21,
   "id": "e9f72511",
   "metadata": {},
   "outputs": [],
   "source": [
    "St = riccati_solve_torch(At, Bt, Qt, Ct, Pt, 20)"
   ]
  },
  {
   "cell_type": "code",
   "execution_count": 16,
   "id": "5c85d75d",
   "metadata": {},
   "outputs": [
    {
     "data": {
      "text/plain": [
       "tensor([ 2.8637e-01+0.0000e+00j,  2.4201e-01+0.0000e+00j,\n",
       "         6.5059e-03+0.0000e+00j,  5.3278e-03+0.0000e+00j,\n",
       "         2.0675e-04+0.0000e+00j,  1.0879e-04+0.0000e+00j,\n",
       "         2.5782e-06+0.0000e+00j,  1.0697e-06+0.0000e+00j,\n",
       "         5.0332e-08+0.0000e+00j,  1.4891e-08+2.4104e-09j,\n",
       "         1.4891e-08-2.4104e-09j, -2.9159e-10+8.4879e-09j,\n",
       "        -2.9159e-10-8.4879e-09j,  5.7782e-09+0.0000e+00j,\n",
       "        -7.1883e-09+0.0000e+00j, -4.6420e-09+3.8113e-09j,\n",
       "        -4.6420e-09-3.8113e-09j,  1.8775e-10+7.8625e-10j,\n",
       "         1.8775e-10-7.8625e-10j, -2.5079e-09+0.0000e+00j],\n",
       "       dtype=torch.complex128)"
      ]
     },
     "execution_count": 16,
     "metadata": {},
     "output_type": "execute_result"
    }
   ],
   "source": [
    "torch.linalg.eigvals(St)"
   ]
  },
  {
   "cell_type": "code",
   "execution_count": 19,
   "id": "5d3bd1d7",
   "metadata": {},
   "outputs": [
    {
     "data": {
      "text/plain": [
       "array([ 2.86374934e-01,  2.42013261e-01,  6.50585532e-03,  5.32780943e-03,\n",
       "        2.06717893e-04,  1.08777074e-04,  2.57029947e-06,  1.06513128e-06,\n",
       "        4.26309777e-08,  1.63997503e-08,  6.18588015e-10,  1.38343146e-10,\n",
       "        2.42175674e-12,  1.08104000e-12,  2.38413897e-14,  6.11796199e-15,\n",
       "        2.93579288e-16, -1.73360130e-16, -5.72109684e-17, -6.74857990e-20])"
      ]
     },
     "execution_count": 19,
     "metadata": {},
     "output_type": "execute_result"
    }
   ],
   "source": [
    "np.linalg.eigvals(scipy.linalg.solve_continuous_are(A.T, C.T, B @ Q @ B.T, P))"
   ]
  },
  {
   "cell_type": "code",
   "execution_count": 22,
   "id": "20dd2067",
   "metadata": {},
   "outputs": [],
   "source": [
    "loss = torch.trace(St)"
   ]
  },
  {
   "cell_type": "code",
   "execution_count": 23,
   "id": "27b6a0e1",
   "metadata": {},
   "outputs": [],
   "source": [
    "loss.backward()"
   ]
  },
  {
   "cell_type": "code",
   "execution_count": 24,
   "id": "9b6a25d6",
   "metadata": {},
   "outputs": [
    {
     "data": {
      "text/plain": [
       "tensor([[  8.4888,  -3.8430,   6.9102, -11.8985,  10.7013, -18.7788, -22.5299,\n",
       "         -28.2243,  19.4963,   8.4663,  -1.1047,  12.4422, -17.5302, -14.5567,\n",
       "         -11.7259,  13.0519, -38.0177, -16.7474,  -0.6369,  10.6166],\n",
       "        [ 18.3191,  10.4250, -17.8094,   2.9947, -15.7714, -23.7243,  -2.8834,\n",
       "         -31.2822, -45.9174,   2.2860,   0.8855,   0.6905,  29.1203, -33.8856,\n",
       "          17.0007,  40.3078,  17.2733, -26.9402,  15.5793,  13.0783]],\n",
       "       dtype=torch.float64)"
      ]
     },
     "execution_count": 24,
     "metadata": {},
     "output_type": "execute_result"
    }
   ],
   "source": [
    "Ct.grad"
   ]
  },
  {
   "cell_type": "code",
   "execution_count": 25,
   "id": "edf9f1c8",
   "metadata": {},
   "outputs": [],
   "source": [
    "# We should first test against the matrix exponential"
   ]
  },
  {
   "cell_type": "code",
   "execution_count": null,
   "id": "4beaad5e",
   "metadata": {},
   "outputs": [],
   "source": [
    "At = torch.tensor(A)\n",
    "Bt = torch.tensor(B)\n",
    "Ct = torch.tensor(C, requires_grad=True)\n",
    "Pt = torch.tensor(P)\n",
    "Qt = torch.tensor(Q)"
   ]
  },
  {
   "cell_type": "code",
   "execution_count": null,
   "id": "af8fc4e3",
   "metadata": {},
   "outputs": [],
   "source": [
    "H = torch.cat([torch.cat([-A.T, torch.chain_matmul(C.t(), torch.inverse(P), C)], dim=1), torch.cat([torch.chain_matmul(B, Q, B.t()), A], dim=1)], dim=0)\n",
    "Phi = torch.matrix_exp(H * t)\n",
    "loss = torch.trace(Phi)"
   ]
  },
  {
   "cell_type": "code",
   "execution_count": null,
   "id": "2f0cd708",
   "metadata": {},
   "outputs": [],
   "source": [
    "# First, need dH/dC, thb\n",
    "# en plug into exponential formula"
   ]
  },
  {
   "cell_type": "code",
   "execution_count": 1,
   "id": "f54d9313",
   "metadata": {},
   "outputs": [],
   "source": [
    "# Are the Riccati solutions inverses of each other as Jockhertee claims?"
   ]
  },
  {
   "cell_type": "code",
   "execution_count": 101,
   "id": "677bf0a3",
   "metadata": {},
   "outputs": [],
   "source": [
    "P1 = scipy.linalg.solve_continuous_are(A.T, C.T, B @ B.T, np.eye(C.shape[0]))\n",
    "P2 = scipy.linalg.solve_continuous_are(A, B, C.T @ C, np.eye(B.shape[1]))"
   ]
  },
  {
   "cell_type": "code",
   "execution_count": 12,
   "id": "a0014072",
   "metadata": {},
   "outputs": [],
   "source": [
    "import pdb"
   ]
  },
  {
   "cell_type": "code",
   "execution_count": 40,
   "id": "7e5856e5",
   "metadata": {},
   "outputs": [],
   "source": [
    "# Solve are using schur decomposition\n",
    "def solve_are(A, B, Q, R, stable=True):\n",
    "\n",
    "\n",
    "    # Hamiltonian matrix\n",
    "    H = np.block([[A, -B @ np.linalg.inv(R) @ B.T], [-Q, -A.T]])\n",
    "    BB = np.eye(H.shape[0])\n",
    "\n",
    "    if stable:\n",
    "        AA, BB, alpha, beta, Q, Z = scipy.linalg.ordqz(H, BB, sort='lhp')\n",
    "    else:\n",
    "        AA, BB, alpha, beta, Q, Z = scipy.linalg.ordqz(H, BB, sort='rhp')\n",
    "\n",
    "    Z = Z[:, 0:A.shape[0]]\n",
    "    Z1 = Z[0:A.shape[0], :]\n",
    "    Z2 = Z[A.shape[0]:, :]\n",
    "\n",
    "    return Z2 @ np.linalg.inv(Z1)\n",
    "    "
   ]
  },
  {
   "cell_type": "code",
   "execution_count": 10,
   "id": "ed347379",
   "metadata": {},
   "outputs": [],
   "source": [
    "def solve_dare(A, B, Q, R, stable=True):\n",
    "\n",
    "    # Matrix pencil\n",
    "    AA = np.block([[A, np.zeros(A.shape)], [-Q, np.eye(A.shape[0])]])\n",
    "    BB = np.block([[np.eye(B.shape[0]), B @ np.linalg.inv(R) @ B.T], [np.zeros(A.shape), A.T]])\n",
    "\n",
    "    if stable:\n",
    "        AA, BB, alpha, beta, Q, Z = scipy.linalg.ordqz(AA, BB, sort='iuc')\n",
    "    else:\n",
    "        AA, BB, alpha, beta, Q, Z = scipy.linalg.ordqz(AA, BB, sort='ouc')\n",
    "\n",
    "    Z = Z[:, 0:A.shape[0]]\n",
    "    Z1 = Z[0:A.shape[0], :]\n",
    "    Z2 = Z[A.shape[0]:, :]\n",
    "\n",
    "    return Z2 @ np.linalg.inv(Z1)\n",
    "\n"
   ]
  },
  {
   "cell_type": "code",
   "execution_count": 12,
   "id": "27791769",
   "metadata": {},
   "outputs": [],
   "source": [
    "# Solve using the matrix sign function. The advantage of this is that one gets all 4 matrices of interest in one go\n",
    "\n",
    "# See: Positive and negative solutions of dual Riccati equations by matrix sign function iteration\n",
    "def sgn(H):\n",
    "    Z = H\n",
    "    for i in range(500):\n",
    "        Z = 1/2 * (Z + np.linalg.inv(Z))\n",
    "    return Z\n",
    "\n",
    "def solve_are_sgn(A, B, C):\n",
    "\n",
    "    # Hamiltonian matrix associated with the LQR problem. The transpose is\n",
    "    # associated with the filtering problem\n",
    "    H = np.block([[A, -B @ B.T], [-C.T @ C, -A.T]])\n",
    "    Z = sgn(H)\n",
    "    Z11 = Z[0:A.shape[0], 0:A.shape[0]]\n",
    "    Z12 = Z[0:A.shape[0], A.shape[0]:]\n",
    "    Z21 = Z[A.shape[0]:, 0:A.shape[0]]\n",
    "    Z22 = Z[A.shape[0]:, A.shape[0]:]\n",
    "\n",
    "    Pp = -1 * scipy.linalg.pinv(np.block([[Z12], [Z22 + np.eye(A.shape[0])]])) @ np.block([[Z11 + np.eye(A.shape[0])], [Z21]])\n",
    "    Pm = -1 * scipy.linalg.pinv(np.block([[Z12], [Z22 - np.eye(A.shape[0])]])) @ np.block([[Z11 - np.eye(A.shape[0])], [Z21]])\n",
    "\n",
    "    # Take the transpose of the Hamiltonian matrix and proceed as before\n",
    "    Z = sgn(H).T\n",
    "    Z11 = Z[0:A.shape[0], 0:A.shape[0]]\n",
    "    Z12 = Z[0:A.shape[0], A.shape[0]:]\n",
    "    Z21 = Z[A.shape[0]:, 0:A.shape[0]]\n",
    "    Z22 = Z[A.shape[0]:, A.shape[0]:]\n",
    "\n",
    "    Qp = -1 * scipy.linalg.pinv(np.block([[Z12], [Z22 + np.eye(A.shape[0])]])) @ np.block([[Z11 + np.eye(A.shape[0])], [Z21]])\n",
    "    Qm = -1 * scipy.linalg.pinv(np.block([[Z12], [Z22 - np.eye(A.shape[0])]])) @ np.block([[Z11 - np.eye(A.shape[0])], [Z21]])\n",
    "\n",
    "    return Pp, Pm, Qp, Qm\n"
   ]
  },
  {
   "cell_type": "code",
   "execution_count": 105,
   "id": "9525faf9",
   "metadata": {},
   "outputs": [],
   "source": [
    "Pp, Pm, Qp, Qm = solve_are_sgn(A, B, C)"
   ]
  },
  {
   "cell_type": "code",
   "execution_count": 107,
   "id": "e39dcb68",
   "metadata": {},
   "outputs": [
    {
     "data": {
      "text/plain": [
       "True"
      ]
     },
     "execution_count": 107,
     "metadata": {},
     "output_type": "execute_result"
    }
   ],
   "source": [
    "np.allclose(P1, Qp)"
   ]
  },
  {
   "cell_type": "code",
   "execution_count": 108,
   "id": "5e9c105b",
   "metadata": {},
   "outputs": [
    {
     "data": {
      "text/plain": [
       "1.5789733726932968e+16"
      ]
     },
     "execution_count": 108,
     "metadata": {},
     "output_type": "execute_result"
    }
   ],
   "source": [
    "np.linalg.cond(Pp)"
   ]
  },
  {
   "cell_type": "code",
   "execution_count": 109,
   "id": "3f34772a",
   "metadata": {},
   "outputs": [
    {
     "data": {
      "text/plain": [
       "2.4137913499767225"
      ]
     },
     "execution_count": 109,
     "metadata": {},
     "output_type": "execute_result"
    }
   ],
   "source": [
    "np.linalg.cond(Pm)"
   ]
  },
  {
   "cell_type": "code",
   "execution_count": 113,
   "id": "af9cf309",
   "metadata": {},
   "outputs": [
    {
     "data": {
      "text/plain": [
       "True"
      ]
     },
     "execution_count": 113,
     "metadata": {},
     "output_type": "execute_result"
    }
   ],
   "source": [
    "np.allclose(np.linalg.inv(Pm), -1 * Qp)"
   ]
  },
  {
   "cell_type": "code",
   "execution_count": 114,
   "id": "85f24e70",
   "metadata": {},
   "outputs": [
    {
     "data": {
      "text/plain": [
       "False"
      ]
     },
     "execution_count": 114,
     "metadata": {},
     "output_type": "execute_result"
    }
   ],
   "source": [
    "np.allclose(np.linalg.inv(Qm), -1 * Pp)"
   ]
  },
  {
   "cell_type": "code",
   "execution_count": 115,
   "id": "1c97eaf4",
   "metadata": {},
   "outputs": [],
   "source": [
    "# One gets the right answer when the condition numbers are reasonable..."
   ]
  },
  {
   "cell_type": "code",
   "execution_count": 6,
   "id": "20326787",
   "metadata": {},
   "outputs": [],
   "source": [
    "# Discrete time testing\n",
    "A, B, C = gen_random_model(20)\n",
    "A = 1/2 * (A + A.T)\n",
    "#A = np.diag(np.random.uniform(0, 1, size=(20,)))"
   ]
  },
  {
   "cell_type": "code",
   "execution_count": 7,
   "id": "fa632aff",
   "metadata": {},
   "outputs": [
    {
     "data": {
      "text/plain": [
       "array([-0.96019059, -0.6924917 , -0.6074098 ,  0.77639008,  0.7313606 ,\n",
       "        0.64905692,  0.57270791,  0.4932683 , -0.44861674, -0.35492999,\n",
       "       -0.32065521, -0.33719855,  0.3667119 ,  0.27059249,  0.18798358,\n",
       "        0.10707903, -0.12402855, -0.07472079,  0.0079528 , -0.02754021])"
      ]
     },
     "execution_count": 7,
     "metadata": {},
     "output_type": "execute_result"
    }
   ],
   "source": [
    "np.linalg.eigvals(A)"
   ]
  },
  {
   "cell_type": "code",
   "execution_count": 8,
   "id": "147a6a89",
   "metadata": {},
   "outputs": [],
   "source": [
    "P1 = scipy.linalg.solve_discrete_are(A, B, C.T @ C, np.eye(B.shape[1]))\n",
    "# Dual solution\n",
    "P2 = scipy.linalg.solve_discrete_are(A.T, C.T, B @ B.T, np.eye(C.shape[0]))"
   ]
  },
  {
   "cell_type": "code",
   "execution_count": 13,
   "id": "c59540cd",
   "metadata": {},
   "outputs": [],
   "source": [
    "Q1 = solve_dare(A, B, C.T @ C, np.eye(B.shape[1]))\n",
    "Q1m = solve_dare(A, B, C.T @ C, np.eye(B.shape[1]), False)\n",
    "\n",
    "Q2 = solve_dare(A.T, C.T, B @ B.T, np.eye(C.shape[0]))\n",
    "Q2m = solve_dare(A.T, C.T, B @ B.T, np.eye(C.shape[0]), False)"
   ]
  },
  {
   "cell_type": "code",
   "execution_count": 244,
   "id": "62ea5089",
   "metadata": {},
   "outputs": [
    {
     "data": {
      "text/plain": [
       "23.96079954242218"
      ]
     },
     "execution_count": 244,
     "metadata": {},
     "output_type": "execute_result"
    }
   ],
   "source": [
    "np.trace(Q1)"
   ]
  },
  {
   "cell_type": "code",
   "execution_count": 15,
   "id": "bc1be8aa",
   "metadata": {},
   "outputs": [
    {
     "data": {
      "text/plain": [
       "array([[-1.42745780e+00, -3.04567103e-02, -7.68949693e-03,\n",
       "         5.80212970e-02, -4.01651083e-02,  1.03878578e-01,\n",
       "         9.34401591e-02,  1.29243807e-04, -3.97534861e-02,\n",
       "        -1.73586496e-02,  4.01350340e-03, -1.39432679e-01,\n",
       "         1.79311585e-01,  5.54353834e-02, -3.74970455e-02,\n",
       "        -3.39647321e-02, -1.04107520e-01,  7.79831441e-02,\n",
       "        -1.94677134e-02, -1.81056539e-01],\n",
       "       [-3.04567103e-02, -1.32778868e+00,  2.39289449e-02,\n",
       "         1.47664498e-01, -5.37147493e-02, -1.04300433e-01,\n",
       "         8.23898424e-02, -4.46758957e-02, -3.18291185e-02,\n",
       "         3.96018785e-02,  1.52111741e-02, -8.67200057e-03,\n",
       "         6.49942986e-02, -8.89126055e-02, -5.09733906e-02,\n",
       "        -4.30826995e-02,  7.78529368e-02,  1.12699715e-01,\n",
       "        -7.04759628e-02,  4.59843115e-02],\n",
       "       [-7.68949693e-03,  2.39289449e-02, -1.30626055e+00,\n",
       "        -7.25909128e-02,  2.84914333e-02,  1.14476327e-01,\n",
       "         7.50409796e-02, -1.77503293e-02, -4.74116922e-02,\n",
       "        -2.69873828e-02,  1.79290611e-03, -6.06867234e-02,\n",
       "        -9.74271130e-02, -1.56711030e-02, -2.75522790e-02,\n",
       "         1.32156278e-01,  1.70520981e-02,  1.01979190e-01,\n",
       "         9.47292174e-02, -1.63017434e-01],\n",
       "       [ 5.80212970e-02,  1.47664498e-01, -7.25909128e-02,\n",
       "        -1.28542143e+00, -4.09887428e-02,  4.36333669e-02,\n",
       "         1.44833737e-02,  1.08895600e-02,  5.49395953e-03,\n",
       "        -8.72806023e-02, -3.16161231e-02,  1.13028883e-02,\n",
       "         4.42226267e-04, -3.80788527e-02,  9.59414283e-02,\n",
       "         1.82647452e-02, -3.96944670e-03, -7.25621385e-02,\n",
       "         1.72347679e-02, -8.38806345e-02],\n",
       "       [-4.01651083e-02, -5.37147493e-02,  2.84914333e-02,\n",
       "        -4.09887428e-02, -1.16550494e+00, -3.53866874e-03,\n",
       "        -4.85107435e-03, -7.89476040e-02, -4.91995060e-02,\n",
       "         2.59045302e-02, -6.48728313e-02,  4.85999091e-02,\n",
       "         1.03745785e-01, -3.62942934e-03,  4.91753735e-02,\n",
       "         6.94401507e-03, -1.49417445e-02,  4.00729445e-02,\n",
       "        -3.55204088e-02,  3.76521590e-03],\n",
       "       [ 1.03878578e-01, -1.04300433e-01,  1.14476327e-01,\n",
       "         4.36333669e-02, -3.53866874e-03, -1.42766703e+00,\n",
       "        -5.84607285e-02, -3.61613048e-03,  9.00750467e-02,\n",
       "        -3.81740324e-02, -1.19208879e-02,  1.61597155e-01,\n",
       "         1.26842657e-01, -3.01119828e-01,  3.34126867e-02,\n",
       "        -1.66469902e-01,  1.69227817e-01,  4.88516275e-02,\n",
       "        -3.92457211e-02,  3.03753618e-01],\n",
       "       [ 9.34401591e-02,  8.23898424e-02,  7.50409796e-02,\n",
       "         1.44833737e-02, -4.85107435e-03, -5.84607285e-02,\n",
       "        -1.39477790e+00,  2.92994377e-03, -6.56174445e-03,\n",
       "        -2.13071486e-02, -1.13820875e-01, -4.00068608e-02,\n",
       "        -1.66670733e-02, -3.26412018e-03,  8.39035580e-02,\n",
       "        -5.83903838e-02, -1.21415938e-01, -7.15887188e-02,\n",
       "         4.86000819e-02,  8.76711042e-02],\n",
       "       [ 1.29243807e-04, -4.46758957e-02, -1.77503293e-02,\n",
       "         1.08895600e-02, -7.89476040e-02, -3.61613048e-03,\n",
       "         2.92994377e-03, -1.22984780e+00, -9.99230564e-02,\n",
       "        -1.00072006e-02,  7.47126401e-02,  4.79550812e-02,\n",
       "        -4.07005685e-02, -3.90602755e-02,  5.06328641e-02,\n",
       "         1.49404757e-02,  6.02816913e-02,  1.20754371e-03,\n",
       "        -1.19492787e-02,  1.40755187e-01],\n",
       "       [-3.97534861e-02, -3.18291185e-02, -4.74116922e-02,\n",
       "         5.49395953e-03, -4.91995060e-02,  9.00750467e-02,\n",
       "        -6.56174445e-03, -9.99230564e-02, -1.16687102e+00,\n",
       "         6.00074093e-02,  1.47920749e-02, -4.37918879e-02,\n",
       "        -3.16643611e-02, -2.05285512e-03,  4.27972294e-02,\n",
       "         3.33800080e-02,  3.70184416e-02, -2.34021757e-02,\n",
       "         5.49868532e-02,  2.65023604e-02],\n",
       "       [-1.73586496e-02,  3.96018785e-02, -2.69873828e-02,\n",
       "        -8.72806023e-02,  2.59045302e-02, -3.81740324e-02,\n",
       "        -2.13071486e-02, -1.00072006e-02,  6.00074093e-02,\n",
       "        -1.29355368e+00,  3.28013127e-02,  7.65739294e-03,\n",
       "         2.17846368e-03, -2.01177810e-01, -2.84961059e-02,\n",
       "        -5.27750049e-02, -1.76605490e-02, -6.02659683e-02,\n",
       "         5.55756708e-03, -3.17391242e-02],\n",
       "       [ 4.01350340e-03,  1.52111741e-02,  1.79290611e-03,\n",
       "        -3.16161231e-02, -6.48728313e-02, -1.19208879e-02,\n",
       "        -1.13820875e-01,  7.47126401e-02,  1.47920749e-02,\n",
       "         3.28013127e-02, -1.24925902e+00,  9.45708481e-03,\n",
       "         9.37452129e-02,  9.68075963e-03,  8.62829918e-02,\n",
       "         2.16935264e-02, -4.64608094e-02,  1.52314024e-02,\n",
       "        -4.69087817e-02, -5.96941253e-02],\n",
       "       [-1.39432679e-01, -8.67200057e-03, -6.06867234e-02,\n",
       "         1.13028883e-02,  4.85999091e-02,  1.61597155e-01,\n",
       "        -4.00068608e-02,  4.79550812e-02, -4.37918879e-02,\n",
       "         7.65739294e-03,  9.45708481e-03, -1.30020955e+00,\n",
       "        -1.11654933e-01,  9.80318431e-02, -1.08841513e-01,\n",
       "         1.80059700e-02, -9.08428114e-02, -2.15338013e-02,\n",
       "         7.80936609e-02, -1.79430498e-01],\n",
       "       [ 1.79311585e-01,  6.49942986e-02, -9.74271130e-02,\n",
       "         4.42226267e-04,  1.03745785e-01,  1.26842657e-01,\n",
       "        -1.66670733e-02, -4.07005685e-02, -3.16643611e-02,\n",
       "         2.17846368e-03,  9.37452129e-02, -1.11654933e-01,\n",
       "        -1.34893958e+00,  6.56753785e-02, -6.02201590e-02,\n",
       "         6.44456739e-02,  2.79641182e-03, -7.57202184e-02,\n",
       "         9.85097012e-02,  5.01846967e-02],\n",
       "       [ 5.54353834e-02, -8.89126055e-02, -1.56711030e-02,\n",
       "        -3.80788527e-02, -3.62942934e-03, -3.01119828e-01,\n",
       "        -3.26412018e-03, -3.90602755e-02, -2.05285512e-03,\n",
       "        -2.01177810e-01,  9.68075963e-03,  9.80318431e-02,\n",
       "         6.56753785e-02, -1.43089343e+00,  2.79686150e-02,\n",
       "        -1.42391238e-01,  1.82128080e-01,  3.38846100e-04,\n",
       "         3.90453616e-02,  2.17378050e-01],\n",
       "       [-3.74970455e-02, -5.09733906e-02, -2.75522790e-02,\n",
       "         9.59414283e-02,  4.91753735e-02,  3.34126867e-02,\n",
       "         8.39035580e-02,  5.06328641e-02,  4.27972294e-02,\n",
       "        -2.84961059e-02,  8.62829918e-02, -1.08841513e-01,\n",
       "        -6.02201590e-02,  2.79686150e-02, -1.23169406e+00,\n",
       "         5.52283805e-02, -2.86229807e-02,  1.03076819e-02,\n",
       "         2.30140141e-02, -1.00463089e-01],\n",
       "       [-3.39647321e-02, -4.30826995e-02,  1.32156278e-01,\n",
       "         1.82647452e-02,  6.94401507e-03, -1.66469902e-01,\n",
       "        -5.83903838e-02,  1.49404757e-02,  3.33800080e-02,\n",
       "        -5.27750049e-02,  2.16935264e-02,  1.80059700e-02,\n",
       "         6.44456739e-02, -1.42391238e-01,  5.52283805e-02,\n",
       "        -1.18481396e+00,  5.30073569e-02, -2.13373734e-02,\n",
       "         6.95118629e-03,  1.69874468e-01],\n",
       "       [-1.04107520e-01,  7.78529368e-02,  1.70520981e-02,\n",
       "        -3.96944670e-03, -1.49417445e-02,  1.69227817e-01,\n",
       "        -1.21415938e-01,  6.02816913e-02,  3.70184416e-02,\n",
       "        -1.76605490e-02, -4.64608094e-02, -9.08428114e-02,\n",
       "         2.79641182e-03,  1.82128080e-01, -2.86229807e-02,\n",
       "         5.30073569e-02, -1.32507330e+00, -3.30364791e-02,\n",
       "        -2.52848453e-02, -1.51589731e-01],\n",
       "       [ 7.79831441e-02,  1.12699715e-01,  1.01979190e-01,\n",
       "        -7.25621385e-02,  4.00729445e-02,  4.88516275e-02,\n",
       "        -7.15887188e-02,  1.20754371e-03, -2.34021757e-02,\n",
       "        -6.02659683e-02,  1.52314024e-02, -2.15338013e-02,\n",
       "        -7.57202184e-02,  3.38846100e-04,  1.03076819e-02,\n",
       "        -2.13373734e-02, -3.30364791e-02, -1.22321161e+00,\n",
       "         2.63558432e-02,  7.62325775e-02],\n",
       "       [-1.94677134e-02, -7.04759628e-02,  9.47292174e-02,\n",
       "         1.72347679e-02, -3.55204088e-02, -3.92457211e-02,\n",
       "         4.86000819e-02, -1.19492787e-02,  5.49868532e-02,\n",
       "         5.55756708e-03, -4.69087817e-02,  7.80936609e-02,\n",
       "         9.85097012e-02,  3.90453616e-02,  2.30140141e-02,\n",
       "         6.95118629e-03, -2.52848453e-02,  2.63558432e-02,\n",
       "        -1.19930046e+00, -2.76585596e-02],\n",
       "       [-1.81056539e-01,  4.59843115e-02, -1.63017434e-01,\n",
       "        -8.38806345e-02,  3.76521590e-03,  3.03753618e-01,\n",
       "         8.76711042e-02,  1.40755187e-01,  2.65023604e-02,\n",
       "        -3.17391242e-02, -5.96941253e-02, -1.79430498e-01,\n",
       "         5.01846967e-02,  2.17378050e-01, -1.00463089e-01,\n",
       "         1.69874468e-01, -1.51589731e-01,  7.62325775e-02,\n",
       "        -2.76585596e-02, -1.53560721e+00]])"
      ]
     },
     "execution_count": 15,
     "metadata": {},
     "output_type": "execute_result"
    }
   ],
   "source": [
    "Q1 @ np.linalg.inv(Q1m)"
   ]
  },
  {
   "cell_type": "code",
   "execution_count": 246,
   "id": "eb9e94ba",
   "metadata": {},
   "outputs": [
    {
     "data": {
      "text/plain": [
       "-23.96079954242218"
      ]
     },
     "execution_count": 246,
     "metadata": {},
     "output_type": "execute_result"
    }
   ],
   "source": [
    "np.trace(np.linalg.inv(Q1m))"
   ]
  },
  {
   "cell_type": "code",
   "execution_count": 16,
   "id": "5da6016a",
   "metadata": {},
   "outputs": [
    {
     "data": {
      "text/plain": [
       "True"
      ]
     },
     "execution_count": 16,
     "metadata": {},
     "output_type": "execute_result"
    }
   ],
   "source": [
    "np.allclose(np.linalg.inv(Q1m), -1*P2)"
   ]
  },
  {
   "cell_type": "code",
   "execution_count": 319,
   "id": "9125f0b0",
   "metadata": {},
   "outputs": [],
   "source": [
    "A, B, C = gen_random_model(20)"
   ]
  },
  {
   "cell_type": "code",
   "execution_count": 320,
   "id": "1236e5c5",
   "metadata": {},
   "outputs": [],
   "source": [
    "ssr = SSR(A, B, C)"
   ]
  },
  {
   "cell_type": "code",
   "execution_count": 330,
   "id": "81f7eabe",
   "metadata": {},
   "outputs": [],
   "source": [
    "ccm = ssr.autocorrelation(5)"
   ]
  },
  {
   "cell_type": "code",
   "execution_count": 322,
   "id": "e13c5d82",
   "metadata": {},
   "outputs": [],
   "source": [
    "from dca.cov_util import calc_cov_from_cross_cov_mats"
   ]
  },
  {
   "cell_type": "code",
   "execution_count": 335,
   "id": "f7d5c1ca",
   "metadata": {},
   "outputs": [
    {
     "data": {
      "text/plain": [
       "tensor(20.)"
      ]
     },
     "execution_count": 335,
     "metadata": {},
     "output_type": "execute_result"
    }
   ],
   "source": [
    "calc_mmse_from_cross_cov_mats(torch.tensor(ccm).float(), proj=torch.eye(ccm.shape[1]).float())"
   ]
  },
  {
   "cell_type": "code",
   "execution_count": 336,
   "id": "a7fd5aae",
   "metadata": {},
   "outputs": [],
   "source": [
    "ssr.solve_min_phase()"
   ]
  },
  {
   "cell_type": "code",
   "execution_count": 290,
   "id": "e76baa05",
   "metadata": {},
   "outputs": [],
   "source": [
    "X = np.block([[covf.numpy(), covpf.numpy().T], [covpf.numpy(), covp.numpy()]])"
   ]
  },
  {
   "cell_type": "code",
   "execution_count": 276,
   "id": "a603b91d",
   "metadata": {},
   "outputs": [
    {
     "data": {
      "text/plain": [
       "array([2.32110202, 1.58520366])"
      ]
     },
     "execution_count": 276,
     "metadata": {},
     "output_type": "execute_result"
    }
   ],
   "source": [
    "np.linalg.eigvals(covf.numpy())"
   ]
  },
  {
   "cell_type": "code",
   "execution_count": 277,
   "id": "7eb186f4",
   "metadata": {},
   "outputs": [
    {
     "data": {
      "text/plain": [
       "array([4.7620994 , 4.73554397, 3.95362946, 3.90252817, 3.21494589,\n",
       "       3.16970859, 2.69407875, 2.64382498, 1.85947067, 2.39583849,\n",
       "       2.34771529, 2.32758591, 2.32135343, 2.06495108, 2.2485509 ,\n",
       "       2.20993624, 2.14318295, 2.1417027 , 1.72135523, 1.50840663,\n",
       "       1.3169601 , 1.16886422, 1.14774686, 1.14580719, 1.12512732,\n",
       "       1.13924207, 1.13645881, 1.13444905, 1.09242932, 1.08197266,\n",
       "       1.05989906, 1.0527829 , 1.03637703, 1.03723791, 1.04083439,\n",
       "       1.04137276, 1.04781372, 1.04802378])"
      ]
     },
     "execution_count": 277,
     "metadata": {},
     "output_type": "execute_result"
    }
   ],
   "source": [
    "np.linalg.eigvals(covp.numpy())"
   ]
  },
  {
   "cell_type": "code",
   "execution_count": 279,
   "id": "552767f5",
   "metadata": {},
   "outputs": [
    {
     "data": {
      "text/plain": [
       "tensor(-1.8538, dtype=torch.float64)"
      ]
     },
     "execution_count": 279,
     "metadata": {},
     "output_type": "execute_result"
    }
   ],
   "source": [
    "torch.trace(covf - torch.chain_matmul(covpf.t(), torch.inverse(covp), covpf))"
   ]
  },
  {
   "cell_type": "code",
   "execution_count": 287,
   "id": "8e0628d9",
   "metadata": {},
   "outputs": [
    {
     "data": {
      "text/plain": [
       "4.5949488271275865"
      ]
     },
     "execution_count": 287,
     "metadata": {},
     "output_type": "execute_result"
    }
   ],
   "source": [
    "np.linalg.cond(covp.numpy())"
   ]
  },
  {
   "cell_type": "code",
   "execution_count": 286,
   "id": "d9058629",
   "metadata": {},
   "outputs": [
    {
     "data": {
      "text/plain": [
       "tensor([[ 3.0336, -0.5099],\n",
       "        [-0.5099,  2.7265]], dtype=torch.float64)"
      ]
     },
     "execution_count": 286,
     "metadata": {},
     "output_type": "execute_result"
    }
   ],
   "source": [
    "covpf.t() @ torch.inverse(covp) @ covpf"
   ]
  },
  {
   "cell_type": "code",
   "execution_count": 281,
   "id": "0b6256e5",
   "metadata": {},
   "outputs": [
    {
     "data": {
      "text/plain": [
       "tensor(-1.8538, dtype=torch.float64)"
      ]
     },
     "execution_count": 281,
     "metadata": {},
     "output_type": "execute_result"
    }
   ],
   "source": [
    "torch.trace(covf - covpf.t() @ torch.inverse(covp) @ covpf)"
   ]
  },
  {
   "cell_type": "code",
   "execution_count": 284,
   "id": "5324e87b",
   "metadata": {},
   "outputs": [
    {
     "data": {
      "text/plain": [
       "-1.8537728993631153"
      ]
     },
     "execution_count": 284,
     "metadata": {},
     "output_type": "execute_result"
    }
   ],
   "source": [
    "np.trace(covf.numpy() - covpf.numpy().T @ np.linalg.inv(covp.numpy()) @ covpf.numpy())"
   ]
  },
  {
   "cell_type": "code",
   "execution_count": 299,
   "id": "5b72775e",
   "metadata": {},
   "outputs": [],
   "source": [
    "# Does forward Riccati equation converge to MMSE\n",
    "ccm = ssr.autocorrelation(20)\n",
    "cov = calc_cov_from_cross_cov_mats(ccm)"
   ]
  },
  {
   "cell_type": "code",
   "execution_count": 311,
   "id": "9b0b7ba0",
   "metadata": {},
   "outputs": [
    {
     "data": {
      "text/plain": [
       "(20, 2, 2)"
      ]
     },
     "execution_count": 311,
     "metadata": {},
     "output_type": "execute_result"
    }
   ],
   "source": [
    "np.concatenate([c[np.newaxis, :] for c in ccm]).shape"
   ]
  },
  {
   "cell_type": "code",
   "execution_count": 304,
   "id": "c54ca01f",
   "metadata": {},
   "outputs": [],
   "source": [
    "# MMSE forward\n",
    "def mmse_forward(ccm, proj=None):\n",
    "\n",
    "    if proj is not None:\n",
    "        ccm_proj\n",
    "\n",
    "    T = ccm.shape[0] - 1\n",
    "    N = ccm.shape[-1]\n",
    "    cov = calc_cov_from_cross_cov_mats(ccm)\n",
    "    cov_proj = calc_cov_from_cross_cov_mats(np.concatenate([(proj.T @ c @ proj)[np.newaxis, :] for c in ccm])\n",
    "\n",
    "    covf = cov[-N:, -N:]\n",
    "    covp = cov[:T*N, :T*N]\n",
    "    covpf = cov[:T*N, -N:]\n",
    "    covfp = cov[-N:, :T*N]\n",
    "\n",
    "    return covf - covfp @ np.linalg.inv(covp) @ covpf\n",
    "\n",
    "\n",
    "def mmse_reverse(ccm):\n",
    "    pass    "
   ]
  },
  {
   "cell_type": "code",
   "execution_count": 305,
   "id": "28e154c1",
   "metadata": {},
   "outputs": [
    {
     "data": {
      "text/plain": [
       "array([[ 1.88057021, -0.38751228],\n",
       "       [-0.38751228,  1.63696645]])"
      ]
     },
     "execution_count": 305,
     "metadata": {},
     "output_type": "execute_result"
    }
   ],
   "source": [
    "mmse_forward(ccm)"
   ]
  },
  {
   "cell_type": "code",
   "execution_count": 307,
   "id": "2674a599",
   "metadata": {},
   "outputs": [],
   "source": [
    "ssr.solve_min_phase()"
   ]
  },
  {
   "cell_type": "code",
   "execution_count": 17,
   "id": "991a31ed",
   "metadata": {},
   "outputs": [],
   "source": [
    "# Does the antistabilizing solution to the Riccati equation coincide with the solution of the Riccati equation obtained from a backwards\n",
    "# Markovian realization of the process?\n",
    "\n",
    "# One immediate consequence of the Kailath formula is that the forward and reverse time Kalman filter parameters should coincide."
   ]
  },
  {
   "cell_type": "code",
   "execution_count": 157,
   "id": "44ea51f7",
   "metadata": {},
   "outputs": [],
   "source": [
    "A, B, C = gen_random_model(20, 10, cont=True)\n",
    "# B = C.T"
   ]
  },
  {
   "cell_type": "code",
   "execution_count": 158,
   "id": "ca652c64",
   "metadata": {},
   "outputs": [],
   "source": [
    "Pi = scipy.linalg.solve_continuous_lyapunov(A, -B @ B.T)"
   ]
  },
  {
   "cell_type": "code",
   "execution_count": 159,
   "id": "a0499a4c",
   "metadata": {},
   "outputs": [],
   "source": [
    "Pp, Pm, Qp, Qm = solve_are_sgn(A, B, C)"
   ]
  },
  {
   "cell_type": "code",
   "execution_count": 160,
   "id": "68118dfc",
   "metadata": {},
   "outputs": [
    {
     "data": {
      "text/plain": [
       "True"
      ]
     },
     "execution_count": 160,
     "metadata": {},
     "output_type": "execute_result"
    }
   ],
   "source": [
    "np.allclose(Qm, -1*np.linalg.inv(Pp))"
   ]
  },
  {
   "cell_type": "code",
   "execution_count": 161,
   "id": "d007be9b",
   "metadata": {},
   "outputs": [
    {
     "data": {
      "text/plain": [
       "2.213196988879976"
      ]
     },
     "execution_count": 161,
     "metadata": {},
     "output_type": "execute_result"
    }
   ],
   "source": [
    "np.linalg.cond(Pm)"
   ]
  },
  {
   "cell_type": "code",
   "execution_count": 162,
   "id": "40c4afa4",
   "metadata": {},
   "outputs": [
    {
     "data": {
      "text/plain": [
       "False"
      ]
     },
     "execution_count": 162,
     "metadata": {},
     "output_type": "execute_result"
    }
   ],
   "source": [
    "np.allclose(-A, -A - B @ B.T @ np.linalg.inv(Pi))"
   ]
  },
  {
   "cell_type": "code",
   "execution_count": 171,
   "id": "f7a3c658",
   "metadata": {},
   "outputs": [],
   "source": [
    "Q1 = solve_are(A.T, C.T, B @ B.T, np.eye(C.shape[0]), stable=True)"
   ]
  },
  {
   "cell_type": "code",
   "execution_count": 176,
   "id": "90f504d0",
   "metadata": {},
   "outputs": [],
   "source": [
    "Q2 = solve_are((-A - B @ B.T @ np.linalg.inv(Pi)).T, C.T, B @ B.T, np.eye(C.shape[0]), stable=True)"
   ]
  },
  {
   "cell_type": "code",
   "execution_count": 172,
   "id": "3e2c5006",
   "metadata": {},
   "outputs": [
    {
     "data": {
      "text/plain": [
       "array([0.37810058, 0.36822253, 0.33790802, 0.32270506, 0.300653  ,\n",
       "       0.29239621, 0.1708391 , 0.28015369, 0.27312249, 0.17790005,\n",
       "       0.18521241, 0.19358801, 0.20305031, 0.25809415, 0.21077485,\n",
       "       0.2451703 , 0.23787772, 0.23383626, 0.22500763, 0.22561057])"
      ]
     },
     "execution_count": 172,
     "metadata": {},
     "output_type": "execute_result"
    }
   ],
   "source": [
    "np.linalg.eigvals(Q1)"
   ]
  },
  {
   "cell_type": "code",
   "execution_count": 177,
   "id": "98d24fc3",
   "metadata": {},
   "outputs": [
    {
     "data": {
      "text/plain": [
       "array([0.37678043, 0.36530915, 0.33857327, 0.32329659, 0.17082345,\n",
       "       0.30140423, 0.17730941, 0.29075257, 0.28078575, 0.27382403,\n",
       "       0.18554753, 0.1930167 , 0.20329504, 0.25765317, 0.21120329,\n",
       "       0.24535055, 0.23822446, 0.23321985, 0.22534598, 0.22686252])"
      ]
     },
     "execution_count": 177,
     "metadata": {},
     "output_type": "execute_result"
    }
   ],
   "source": [
    "np.linalg.eigvals(Q2)"
   ]
  },
  {
   "cell_type": "code",
   "execution_count": 180,
   "id": "1b84a33f",
   "metadata": {},
   "outputs": [
    {
     "data": {
      "text/plain": [
       "array([3.07868345e-01, 2.99673619e-01, 2.62684288e-01, 2.59082437e-01,\n",
       "       2.30970964e-01, 2.26881340e-01, 2.17022759e-01, 1.84176358e-01,\n",
       "       2.00077744e-01, 1.96047785e-01, 9.06777542e-03, 6.29964175e-03,\n",
       "       5.00721777e-03, 4.29488689e-03, 2.75048337e-03, 1.66799693e-03,\n",
       "       8.47813473e-04, 4.25302854e-05, 1.04944233e-04, 2.07173131e-04])"
      ]
     },
     "execution_count": 180,
     "metadata": {},
     "output_type": "execute_result"
    }
   ],
   "source": [
    "np.linalg.eigvals(Pp)b"
   ]
  },
  {
   "cell_type": "code",
   "execution_count": 181,
   "id": "0f8be26a",
   "metadata": {},
   "outputs": [],
   "source": [
    "# Conclusion is that we need to normalize the reverse time parameterization to obtain the adjoint state system\n",
    "# Numerically verify 2 things:\n",
    "# (1) The acausal Kalman filter Riccati solution coincides with the empirical MMSE\n",
    "# (2) The acausal filtering problem for the adjoint state coincides with the solution of the forward time regulator riccati equation"
   ]
  },
  {
   "cell_type": "code",
   "execution_count": 182,
   "id": "63998c57",
   "metadata": {},
   "outputs": [],
   "source": [
    "# First task: Does discrete time MMSE converge to continuous time riccati solution as we make the timestep increasingly smaller?"
   ]
  },
  {
   "cell_type": "code",
   "execution_count": 183,
   "id": "2e445354",
   "metadata": {},
   "outputs": [],
   "source": [
    "# Back up: Does our implementation of mmse_from_cross_cov_mats work in the discrete time case?"
   ]
  },
  {
   "cell_type": "code",
   "execution_count": 215,
   "id": "64876fbd",
   "metadata": {},
   "outputs": [],
   "source": [
    "from dca_research.cov_util import calc_mmse_from_cross_cov_mats"
   ]
  },
  {
   "cell_type": "code",
   "execution_count": 192,
   "id": "668dfbfe",
   "metadata": {},
   "outputs": [],
   "source": [
    "A, B, C = gen_random_model(20)"
   ]
  },
  {
   "cell_type": "code",
   "execution_count": 198,
   "id": "8edcc0ef",
   "metadata": {},
   "outputs": [],
   "source": [
    "ssr = SSR(A, B, C)\n",
    "ssr.solve_min_phase()\n",
    "ccm = ssr.autocorrelation(10)"
   ]
  },
  {
   "cell_type": "code",
   "execution_count": 194,
   "id": "99ecd7b1",
   "metadata": {},
   "outputs": [
    {
     "data": {
      "text/plain": [
       "tensor(20.0000, dtype=torch.float64)"
      ]
     },
     "execution_count": 194,
     "metadata": {},
     "output_type": "execute_result"
    }
   ],
   "source": [
    "calc_mmse_from_cross_cov_mats(torch.tensor(ccm))"
   ]
  },
  {
   "cell_type": "code",
   "execution_count": 199,
   "id": "ad8af79e",
   "metadata": {},
   "outputs": [
    {
     "data": {
      "text/plain": [
       "20.000000000000007"
      ]
     },
     "execution_count": 199,
     "metadata": {},
     "output_type": "execute_result"
    }
   ],
   "source": [
    "np.trace(ssr.P - ssr.Pmin)"
   ]
  },
  {
   "cell_type": "code",
   "execution_count": 200,
   "id": "df66f980",
   "metadata": {},
   "outputs": [],
   "source": [
    "# Now do projected version\n",
    "A, B, C = gen_random_model(20, 2)"
   ]
  },
  {
   "cell_type": "code",
   "execution_count": 210,
   "id": "2b829ddc",
   "metadata": {},
   "outputs": [],
   "source": [
    "ssr = SSR(A, B, C)\n",
    "ssr_ambient = SSR(A, B, C=np.eye(A.shape[0]))\n",
    "ssr.solve_min_phase()\n",
    "ccm = ssr_ambient.autocorrelation(10)"
   ]
  },
  {
   "cell_type": "code",
   "execution_count": 211,
   "id": "0c00ae0f",
   "metadata": {},
   "outputs": [
    {
     "name": "stdout",
     "output_type": "stream",
     "text": [
      "> \u001b[0;32m/home/akumar/nse/DCA_research/dca_research/kca.py\u001b[0m(46)\u001b[0;36mcalc_mmse_from_cross_cov_mats\u001b[0;34m()\u001b[0m\n",
      "\u001b[0;32m     44 \u001b[0;31m        \u001b[0mcovf\u001b[0m \u001b[0;34m=\u001b[0m \u001b[0mcross_cov_mats\u001b[0m\u001b[0;34m[\u001b[0m\u001b[0;36m0\u001b[0m\u001b[0;34m]\u001b[0m\u001b[0;34m\u001b[0m\u001b[0;34m\u001b[0m\u001b[0m\n",
      "\u001b[0m\u001b[0;32m     45 \u001b[0;31m        \u001b[0mpdb\u001b[0m\u001b[0;34m.\u001b[0m\u001b[0mset_trace\u001b[0m\u001b[0;34m(\u001b[0m\u001b[0;34m)\u001b[0m\u001b[0;34m\u001b[0m\u001b[0;34m\u001b[0m\u001b[0m\n",
      "\u001b[0m\u001b[0;32m---> 46 \u001b[0;31m        \u001b[0mcovpf\u001b[0m \u001b[0;34m=\u001b[0m \u001b[0mtorch\u001b[0m\u001b[0;34m.\u001b[0m\u001b[0mcat\u001b[0m\u001b[0;34m(\u001b[0m\u001b[0mccm_proj2\u001b[0m\u001b[0;34m)\u001b[0m\u001b[0;34m\u001b[0m\u001b[0;34m\u001b[0m\u001b[0m\n",
      "\u001b[0m\u001b[0;32m     47 \u001b[0;31m\u001b[0;34m\u001b[0m\u001b[0m\n",
      "\u001b[0m\u001b[0;32m     48 \u001b[0;31m    \u001b[0;32melse\u001b[0m\u001b[0;34m:\u001b[0m\u001b[0;34m\u001b[0m\u001b[0;34m\u001b[0m\u001b[0m\n",
      "\u001b[0m\n"
     ]
    },
    {
     "data": {
      "text/plain": [
       "tensor(34.3742, dtype=torch.float64)"
      ]
     },
     "execution_count": 211,
     "metadata": {},
     "output_type": "execute_result"
    }
   ],
   "source": [
    "calc_mmse_from_cross_cov_mats(torch.tensor(ccm), proj=torch.tensor(C.T))"
   ]
  },
  {
   "cell_type": "code",
   "execution_count": 212,
   "id": "34c63142",
   "metadata": {},
   "outputs": [
    {
     "data": {
      "text/plain": [
       "34.373397726939075"
      ]
     },
     "execution_count": 212,
     "metadata": {},
     "output_type": "execute_result"
    }
   ],
   "source": [
    "np.trace((ssr.P - ssr.Pmin))"
   ]
  },
  {
   "cell_type": "code",
   "execution_count": 216,
   "id": "aedd8f27",
   "metadata": {},
   "outputs": [],
   "source": [
    "# Next task: Does the (discrete time) acausal Riccati equation induced by the backwards model coincide with the empirical mmse?\n",
    "A, B, C = gen_random_model(20)\n",
    "# Construct acausal parameters:\n",
    "ssr_fwd = SSR(A, B, C)\n",
    "Ar = ssr_fwd.P @ A @ np.linalg.inv(ssr_fwd.P)\n",
    "Br = ssr_fwd.P - Ar @ ssr_fwd.P @ Ar.T\n",
    "\n",
    "# Projection\n",
    "V = scipy.stats.ortho_group.rvs(20)[:, 0:2].T\n",
    "\n",
    "ssr_bkwd_ambient = SSR(Ar, Br, C)\n",
    "ccm = ssr_bkwd_ambient.autocorrelation(10)\n",
    "ssr_bkwd = SSR(Ar, Br, V)\n",
    "ssr_bkwd.solve_min_phase()"
   ]
  },
  {
   "cell_type": "code",
   "execution_count": 217,
   "id": "86fc5c86",
   "metadata": {},
   "outputs": [
    {
     "data": {
      "text/plain": [
       "tensor(133.7017, dtype=torch.float64)"
      ]
     },
     "execution_count": 217,
     "metadata": {},
     "output_type": "execute_result"
    }
   ],
   "source": [
    "calc_mmse_from_cross_cov_mats(torch.tensor(ccm), proj=torch.tensor(V.T))"
   ]
  },
  {
   "cell_type": "code",
   "execution_count": 218,
   "id": "04084f2f",
   "metadata": {},
   "outputs": [
    {
     "data": {
      "text/plain": [
       "133.70133716047124"
      ]
     },
     "execution_count": 218,
     "metadata": {},
     "output_type": "execute_result"
    }
   ],
   "source": [
    "np.trace(ssr_bkwd.P - ssr_bkwd.Pmin)"
   ]
  },
  {
   "cell_type": "code",
   "execution_count": 219,
   "id": "13e6ee08",
   "metadata": {},
   "outputs": [
    {
     "ename": "ValueError",
     "evalue": "matmul: Input operand 1 does not have enough dimensions (has 0, gufunc core with signature (n?,k),(k,m?)->(n?,m?) requires 1)",
     "output_type": "error",
     "traceback": [
      "\u001b[0;31m---------------------------------------------------------------------------\u001b[0m",
      "\u001b[0;31mValueError\u001b[0m                                Traceback (most recent call last)",
      "\u001b[0;32m/tmp/ipykernel_31512/1369704258.py\u001b[0m in \u001b[0;36m<module>\u001b[0;34m\u001b[0m\n\u001b[1;32m     12\u001b[0m \u001b[0;32mfor\u001b[0m \u001b[0mi\u001b[0m\u001b[0;34m,\u001b[0m \u001b[0mdt\u001b[0m \u001b[0;32min\u001b[0m \u001b[0menumerate\u001b[0m\u001b[0;34m(\u001b[0m\u001b[0mdeltat\u001b[0m\u001b[0;34m)\u001b[0m\u001b[0;34m:\u001b[0m\u001b[0;34m\u001b[0m\u001b[0;34m\u001b[0m\u001b[0m\n\u001b[1;32m     13\u001b[0m     \u001b[0;32mfor\u001b[0m \u001b[0mj\u001b[0m\u001b[0;34m,\u001b[0m \u001b[0mn\u001b[0m \u001b[0;32min\u001b[0m \u001b[0menumerate\u001b[0m\u001b[0;34m(\u001b[0m\u001b[0mnt\u001b[0m\u001b[0;34m)\u001b[0m\u001b[0;34m:\u001b[0m\u001b[0;34m\u001b[0m\u001b[0;34m\u001b[0m\u001b[0m\n\u001b[0;32m---> 14\u001b[0;31m         \u001b[0mccm\u001b[0m \u001b[0;34m=\u001b[0m \u001b[0mnp\u001b[0m\u001b[0;34m.\u001b[0m\u001b[0marray\u001b[0m\u001b[0;34m(\u001b[0m\u001b[0;34m[\u001b[0m\u001b[0mscipy\u001b[0m\u001b[0;34m.\u001b[0m\u001b[0mlinalg\u001b[0m\u001b[0;34m.\u001b[0m\u001b[0mexpm\u001b[0m\u001b[0;34m(\u001b[0m\u001b[0mA\u001b[0m \u001b[0;34m@\u001b[0m \u001b[0mj\u001b[0m \u001b[0;34m*\u001b[0m \u001b[0mdt\u001b[0m\u001b[0;34m)\u001b[0m \u001b[0;34m@\u001b[0m \u001b[0mPcont\u001b[0m \u001b[0;32mfor\u001b[0m \u001b[0mj\u001b[0m \u001b[0;32min\u001b[0m \u001b[0mrange\u001b[0m\u001b[0;34m(\u001b[0m\u001b[0mn\u001b[0m\u001b[0;34m)\u001b[0m\u001b[0;34m]\u001b[0m\u001b[0;34m)\u001b[0m\u001b[0;34m\u001b[0m\u001b[0;34m\u001b[0m\u001b[0m\n\u001b[0m\u001b[1;32m     15\u001b[0m         \u001b[0mm1\u001b[0m \u001b[0;34m=\u001b[0m \u001b[0mcalc_mmse_from_cross_cov_mats\u001b[0m\u001b[0;34m(\u001b[0m\u001b[0mtorch\u001b[0m\u001b[0;34m.\u001b[0m\u001b[0mtensor\u001b[0m\u001b[0;34m(\u001b[0m\u001b[0mccm\u001b[0m\u001b[0;34m)\u001b[0m\u001b[0;34m,\u001b[0m \u001b[0mproj\u001b[0m\u001b[0;34m=\u001b[0m\u001b[0mtorch\u001b[0m\u001b[0;34m.\u001b[0m\u001b[0mtensor\u001b[0m\u001b[0;34m(\u001b[0m\u001b[0mV\u001b[0m\u001b[0;34m.\u001b[0m\u001b[0mT\u001b[0m\u001b[0;34m)\u001b[0m\u001b[0;34m)\u001b[0m\u001b[0;34m\u001b[0m\u001b[0;34m\u001b[0m\u001b[0m\n\u001b[1;32m     16\u001b[0m         \u001b[0mdiff\u001b[0m\u001b[0;34m[\u001b[0m\u001b[0mi\u001b[0m\u001b[0;34m,\u001b[0m \u001b[0mj\u001b[0m\u001b[0;34m]\u001b[0m \u001b[0;34m=\u001b[0m \u001b[0mnp\u001b[0m\u001b[0;34m.\u001b[0m\u001b[0mtrace\u001b[0m\u001b[0;34m(\u001b[0m\u001b[0mQ\u001b[0m \u001b[0;34m-\u001b[0m \u001b[0mm1\u001b[0m\u001b[0;34m)\u001b[0m\u001b[0;34m\u001b[0m\u001b[0;34m\u001b[0m\u001b[0m\n",
      "\u001b[0;32m/tmp/ipykernel_31512/1369704258.py\u001b[0m in \u001b[0;36m<listcomp>\u001b[0;34m(.0)\u001b[0m\n\u001b[1;32m     12\u001b[0m \u001b[0;32mfor\u001b[0m \u001b[0mi\u001b[0m\u001b[0;34m,\u001b[0m \u001b[0mdt\u001b[0m \u001b[0;32min\u001b[0m \u001b[0menumerate\u001b[0m\u001b[0;34m(\u001b[0m\u001b[0mdeltat\u001b[0m\u001b[0;34m)\u001b[0m\u001b[0;34m:\u001b[0m\u001b[0;34m\u001b[0m\u001b[0;34m\u001b[0m\u001b[0m\n\u001b[1;32m     13\u001b[0m     \u001b[0;32mfor\u001b[0m \u001b[0mj\u001b[0m\u001b[0;34m,\u001b[0m \u001b[0mn\u001b[0m \u001b[0;32min\u001b[0m \u001b[0menumerate\u001b[0m\u001b[0;34m(\u001b[0m\u001b[0mnt\u001b[0m\u001b[0;34m)\u001b[0m\u001b[0;34m:\u001b[0m\u001b[0;34m\u001b[0m\u001b[0;34m\u001b[0m\u001b[0m\n\u001b[0;32m---> 14\u001b[0;31m         \u001b[0mccm\u001b[0m \u001b[0;34m=\u001b[0m \u001b[0mnp\u001b[0m\u001b[0;34m.\u001b[0m\u001b[0marray\u001b[0m\u001b[0;34m(\u001b[0m\u001b[0;34m[\u001b[0m\u001b[0mscipy\u001b[0m\u001b[0;34m.\u001b[0m\u001b[0mlinalg\u001b[0m\u001b[0;34m.\u001b[0m\u001b[0mexpm\u001b[0m\u001b[0;34m(\u001b[0m\u001b[0mA\u001b[0m \u001b[0;34m@\u001b[0m \u001b[0mj\u001b[0m \u001b[0;34m*\u001b[0m \u001b[0mdt\u001b[0m\u001b[0;34m)\u001b[0m \u001b[0;34m@\u001b[0m \u001b[0mPcont\u001b[0m \u001b[0;32mfor\u001b[0m \u001b[0mj\u001b[0m \u001b[0;32min\u001b[0m \u001b[0mrange\u001b[0m\u001b[0;34m(\u001b[0m\u001b[0mn\u001b[0m\u001b[0;34m)\u001b[0m\u001b[0;34m]\u001b[0m\u001b[0;34m)\u001b[0m\u001b[0;34m\u001b[0m\u001b[0;34m\u001b[0m\u001b[0m\n\u001b[0m\u001b[1;32m     15\u001b[0m         \u001b[0mm1\u001b[0m \u001b[0;34m=\u001b[0m \u001b[0mcalc_mmse_from_cross_cov_mats\u001b[0m\u001b[0;34m(\u001b[0m\u001b[0mtorch\u001b[0m\u001b[0;34m.\u001b[0m\u001b[0mtensor\u001b[0m\u001b[0;34m(\u001b[0m\u001b[0mccm\u001b[0m\u001b[0;34m)\u001b[0m\u001b[0;34m,\u001b[0m \u001b[0mproj\u001b[0m\u001b[0;34m=\u001b[0m\u001b[0mtorch\u001b[0m\u001b[0;34m.\u001b[0m\u001b[0mtensor\u001b[0m\u001b[0;34m(\u001b[0m\u001b[0mV\u001b[0m\u001b[0;34m.\u001b[0m\u001b[0mT\u001b[0m\u001b[0;34m)\u001b[0m\u001b[0;34m)\u001b[0m\u001b[0;34m\u001b[0m\u001b[0;34m\u001b[0m\u001b[0m\n\u001b[1;32m     16\u001b[0m         \u001b[0mdiff\u001b[0m\u001b[0;34m[\u001b[0m\u001b[0mi\u001b[0m\u001b[0;34m,\u001b[0m \u001b[0mj\u001b[0m\u001b[0;34m]\u001b[0m \u001b[0;34m=\u001b[0m \u001b[0mnp\u001b[0m\u001b[0;34m.\u001b[0m\u001b[0mtrace\u001b[0m\u001b[0;34m(\u001b[0m\u001b[0mQ\u001b[0m \u001b[0;34m-\u001b[0m \u001b[0mm1\u001b[0m\u001b[0;34m)\u001b[0m\u001b[0;34m\u001b[0m\u001b[0;34m\u001b[0m\u001b[0m\n",
      "\u001b[0;31mValueError\u001b[0m: matmul: Input operand 1 does not have enough dimensions (has 0, gufunc core with signature (n?,k),(k,m?)->(n?,m?) requires 1)"
     ]
    }
   ],
   "source": [
    "# Next: Does discrete time MMSE converge to the solution of the continuous time Riccati equation as we let delta t -> 0?\n",
    "deltat = np.logspace(-3, 0, 10)[::-1]\n",
    "nt = np.array([10, 25, 50, 100])\n",
    "diff = np.zeros((deltat.size, nt.size))\n",
    "\n",
    "A, B, C = gen_random_model(20, cont=True)\n",
    "Pcont = scipy.linalg.solve_continuous_lyapunov(A, -B @ B.T)\n",
    "V = scipy.stats.ortho_group.rvs(20)[:, 0:2].T\n",
    "\n",
    "Q = scipy.linalg.solve_continuous_are(A.T, V.T, B @ B.T, np.eye(V.shape[0]))\n",
    "\n",
    "for i, dt in enumerate(deltat):\n",
    "    for j, n in enumerate(nt):        \n",
    "        ccm = np.array([scipy.linalg.expm(A * j * dt) @ Pcont for j in range(n)]) \n",
    "        m1 = calc_mmse_from_cross_cov_mats(torch.tensor(ccm), proj=torch.tensor(V.T))\n",
    "        diff[i, j] = np.trace(Q - m1)"
   ]
  },
  {
   "cell_type": "code",
   "execution_count": null,
   "id": "94317b21",
   "metadata": {},
   "outputs": [],
   "source": [
    "# Then, code up the modification to LQGCA in which we normalize by the state variance"
   ]
  }
 ],
 "metadata": {
  "kernelspec": {
   "display_name": "Python 3.7.10 ('dyn')",
   "language": "python",
   "name": "python3"
  },
  "language_info": {
   "codemirror_mode": {
    "name": "ipython",
    "version": 3
   },
   "file_extension": ".py",
   "mimetype": "text/x-python",
   "name": "python",
   "nbconvert_exporter": "python",
   "pygments_lexer": "ipython3",
   "version": "3.7.10"
  },
  "vscode": {
   "interpreter": {
    "hash": "c52494c424e88c3f855a8aeb34b231af4706f7aa247f66fb47c890a5ab8814ab"
   }
  }
 },
 "nbformat": 4,
 "nbformat_minor": 5
}
