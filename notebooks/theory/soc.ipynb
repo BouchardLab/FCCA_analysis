{
 "cells": [
  {
   "cell_type": "code",
   "execution_count": 1,
   "metadata": {},
   "outputs": [],
   "source": [
    "%load_ext autoreload\n",
    "%autoreload 2"
   ]
  },
  {
   "cell_type": "code",
   "execution_count": 2,
   "metadata": {},
   "outputs": [
    {
     "name": "stderr",
     "output_type": "stream",
     "text": [
      "/home/akumar/anaconda3/envs/ncontrol/lib/python3.9/site-packages/tqdm/auto.py:22: TqdmWarning: IProgress not found. Please update jupyter and ipywidgets. See https://ipywidgets.readthedocs.io/en/stable/user_install.html\n",
      "  from .autonotebook import tqdm as notebook_tqdm\n"
     ]
    }
   ],
   "source": [
    "import numpy as np\n",
    "import scipy\n",
    "import matplotlib.pyplot as plt\n",
    "import sys\n",
    "import sdeint\n",
    "import torch\n",
    "from neurosim.models.ssr import StateSpaceRealization as SSR\n",
    "from dca_research.lqg import LQGComponentsAnalysis as LQGCA\n",
    "from tqdm import tqdm"
   ]
  },
  {
   "cell_type": "code",
   "execution_count": 3,
   "metadata": {},
   "outputs": [],
   "source": [
    "sys.path.append('/home/akumar/nse/neural_control')"
   ]
  },
  {
   "cell_type": "code",
   "execution_count": 4,
   "metadata": {},
   "outputs": [],
   "source": [
    "from soc import stabilize"
   ]
  },
  {
   "cell_type": "code",
   "execution_count": 5,
   "metadata": {},
   "outputs": [],
   "source": [
    "def gen_init_W(M, p, gamma, R):\n",
    "\n",
    "    Ainit = np.zeros((2 * M, 2 * M))\n",
    "\n",
    "    w = R/np.sqrt(p * (1 - p) * (1 + gamma**2)/2)\n",
    "\n",
    "    # Excitatory\n",
    "    for j in range(M):\n",
    "        for k in range(2 * M):\n",
    "            if np.random.binomial(1, p):\n",
    "                Ainit[j, k] = w/np.sqrt(2 * M)\n",
    "\n",
    "\n",
    "    # Inhibitory\n",
    "    for j in range(M):\n",
    "        for k in range(2 * M):\n",
    "            if np.random.binomial(1,p):\n",
    "                Ainit[j + M, k] = -gamma * w/np.sqrt(2 * M)\n",
    "\n",
    "    # Setting diagonals to 0 initially\n",
    "    np.fill_diagonal(Ainit, -1)\n",
    "\n",
    "    # Symmetrize within the E/I blocks\n",
    "    \n",
    "    # Ainit[0:M, 0:M] = (1/(2 - asymm)) * (Ainit[0:M, 0:M] + (1 - asymm) * Ainit[0:M, 0:M].T)\n",
    "    # Ainit[M:2*M, M:2*M] = (1/(2 - asymm)) * (Ainit[M:2*M, M:2*M] + (1 - asymm) * Ainit[M:2*M, M:2*M].T)\n",
    "\n",
    "    return Ainit"
   ]
  },
  {
   "cell_type": "code",
   "execution_count": 6,
   "metadata": {},
   "outputs": [],
   "source": [
    "def gen_activity(tau, W, activ_func, sigma, T, h):\n",
    "\n",
    "    # f\n",
    "    def f_(x, t):\n",
    "        1/tau * (-1 * np.eye(W.shape[0]) @ x + W @ activ_func(x))\n",
    "\n",
    "    # G: linear i.i.d noise with sigma\n",
    "    def g_(x, t):\n",
    "        return sigma * np.diag(W.shape[0])\n",
    "\n",
    "    # Generate random initial condition and then integrate over the desired time period\n",
    "    tspace = np.linspace(0, T, int(T/h))\n",
    "    \n",
    "    x0 = np.random.normal(size=(W.shape[0],))\n",
    "\n",
    "    return  sdeint.itoSRI2(f_, g_, x0, tspace)    "
   ]
  },
  {
   "cell_type": "code",
   "execution_count": 7,
   "metadata": {},
   "outputs": [
    {
     "name": "stderr",
     "output_type": "stream",
     "text": [
      "0it [00:00, ?it/s]/tmp/ipykernel_30721/3556570322.py:57: UserWarning: Creating a tensor from a list of numpy.ndarrays is extremely slow. Please consider converting the list to a single numpy.ndarray with numpy.array() before converting to a tensor. (Triggered internally at  /opt/conda/conda-bld/pytorch_1659484775609/work/torch/csrc/utils/tensor_new.cpp:204.)\n",
      "  cross_covs_rev = torch.tensor(cross_covs_rev)\n",
      "7it [00:58,  8.39s/it]\n",
      "7it [00:56,  8.12s/it]\n",
      "7it [00:53,  7.70s/it]\n",
      "7it [00:58,  8.39s/it]\n",
      "7it [00:51,  7.30s/it]\n",
      "7it [00:51,  7.41s/it]\n",
      "7it [00:55,  7.97s/it]\n",
      "7it [00:54,  7.73s/it]\n",
      "7it [00:54,  7.76s/it]\n",
      "7it [00:59,  8.45s/it]\n",
      "7it [00:50,  7.28s/it]\n",
      "7it [00:53,  7.62s/it]\n",
      "7it [00:58,  8.37s/it]\n",
      "7it [00:51,  7.35s/it]\n",
      "7it [00:55,  7.86s/it]\n",
      "7it [00:55,  7.87s/it]\n",
      "7it [00:52,  7.45s/it]\n",
      "7it [00:49,  7.06s/it]\n",
      "7it [00:50,  7.21s/it]\n",
      "7it [00:47,  6.75s/it]\n",
      "7it [00:48,  6.97s/it]\n",
      "7it [00:50,  7.27s/it]\n",
      "7it [00:47,  6.78s/it]\n",
      "7it [00:48,  6.93s/it]\n",
      "7it [00:53,  7.67s/it]\n",
      "7it [00:48,  6.89s/it]\n",
      "7it [00:46,  6.58s/it]\n",
      "7it [00:59,  8.51s/it]\n",
      "7it [00:46,  6.71s/it]\n",
      "7it [00:48,  7.00s/it]\n"
     ]
    }
   ],
   "source": [
    "# In order to illustrate the desired effect, we vary along several parameters. (1) is the degree to which connections within and between blocks are asymmetric.\n",
    "# (2) gamma, R\n",
    "# \n",
    "\n",
    "reps = 10\n",
    "inner_reps = 50\n",
    "M = 100\n",
    "p = 0.5\n",
    "gamma = np.array([1, 2, 3])\n",
    "R = np.array([0.75, 0.9, 1.1, 1.5, 2, 5, 10])\n",
    "dt = 1\n",
    "\n",
    "phi = np.zeros((reps, gamma.size, R.size, inner_reps))\n",
    "scores = np.zeros((reps, gamma.size, R.size, inner_reps))\n",
    "\n",
    "nn = np.zeros((reps, gamma.size, R.size, 2))\n",
    "\n",
    "for rep in range(reps):\n",
    "    for i, g in enumerate(gamma):\n",
    "        for j, r in tqdm(enumerate(R)):\n",
    "            A = gen_init_W(M, p, g, r)\n",
    "            eig = np.linalg.eigvals(A)\n",
    "            if np.max(np.real(eig)) >= 0:\n",
    "                A = stabilize(A)\n",
    "                eig = np.linalg.eigvals(A)\n",
    "\n",
    "            assert(np.max(np.real(eig)) < 0)\n",
    "\n",
    "            # Generate data using this model; both linear and nonlinear activation functions\n",
    "            \n",
    "            # In the linear case, we can calculate the autocorrelation matrices exactly, so might as well do that for now.\n",
    "            \n",
    "            # Stability optimize the spectral radius\n",
    "\n",
    "            # # Use a Tustin discretization of the state space parameter\n",
    "            B = np.eye(A.shape[0])\n",
    "            C = np.eye(A.shape[0])\n",
    "\n",
    "\n",
    "            sigma = 2/dt\n",
    "            Ad = (sigma * np.eye(A.shape[0]) + A) @ np.linalg.inv(sigma * np.eye(A.shape[0]) - A)\n",
    "            #Bd = np.sqrt(2 * sigma) * np.linalg.inv(sigma * np.eye(A.shape[0]) - A) @ B\n",
    "            #Cd = np.sqrt(2 * sigma) * C @ np.linalg.inv(sigma * np.eye(A.shape[0]) - A)\n",
    "            assert(np.max(np.abs(np.linalg.eigvals(Ad))) < 1)\n",
    "            Bd = B\n",
    "            Cd = C\n",
    "\n",
    "            nn[rep, i, j, 0] = np.linalg.norm(A @ A.T - A.T @ A)\n",
    "            nn[rep, i, j, 1] = np.linalg.norm(Ad @ Ad.T - Ad.T @ Ad)\n",
    "\n",
    "            d = 6\n",
    "            ssr = SSR(A=Ad, B=Bd, C=Cd)\n",
    "            cross_covs = ssr.autocorrelation(10)\n",
    "            cross_covs_rev = [np.linalg.inv(cross_covs[0]) @ c.T @ np.linalg.inv(cross_covs[0]) for c in cross_covs]\n",
    "\n",
    "            cross_covs = torch.tensor(cross_covs)\n",
    "            cross_covs_rev = torch.tensor(cross_covs_rev)\n",
    "\n",
    "            e, Upca = np.linalg.eig(cross_covs[0])\n",
    "            eigorder = np.argsort(e)[::-1]\n",
    "            Upca = Upca[:, eigorder][:, 0:d]\n",
    "\n",
    "            lqgmodel = LQGCA(d=d, T=1)\n",
    "            lqgmodel.cross_covs = cross_covs\n",
    "            lqgmodel.cross_covs_rev = cross_covs_rev\n",
    "\n",
    "            for k in range(inner_reps):\n",
    "                coef_, score = lqgmodel._fit_projection()\n",
    "                phi[rep, i, j, k] = np.mean(scipy.linalg.subspace_angles(Upca, coef_))\n",
    "                scores[rep, i, j, k] = score            \n",
    "            "
   ]
  },
  {
   "cell_type": "code",
   "execution_count": null,
   "metadata": {},
   "outputs": [],
   "source": [
    "plt.plot()"
   ]
  },
  {
   "cell_type": "code",
   "execution_count": 10,
   "metadata": {},
   "outputs": [
    {
     "data": {
      "text/plain": [
       "(10, 3, 7, 50)"
      ]
     },
     "execution_count": 10,
     "metadata": {},
     "output_type": "execute_result"
    }
   ],
   "source": [
    "phi.shape"
   ]
  },
  {
   "cell_type": "code",
   "execution_count": 26,
   "metadata": {},
   "outputs": [
    {
     "data": {
      "text/plain": [
       "[<matplotlib.lines.Line2D at 0x7f5238382190>]"
      ]
     },
     "execution_count": 26,
     "metadata": {},
     "output_type": "execute_result"
    },
    {
     "data": {
      "image/png": "[encoded data removed]",
      "text/plain": [
       "<Figure size 640x480 with 1 Axes>"
      ]
     },
     "metadata": {},
     "output_type": "display_data"
    }
   ],
   "source": [
    "plt.plot(np.mean(nn[..., 0], axis=0)[0, :])"
   ]
  },
  {
   "cell_type": "code",
   "execution_count": 11,
   "metadata": {},
   "outputs": [
    {
     "data": {
      "text/plain": [
       "[<matplotlib.lines.Line2D at 0x7f2716f5e6a0>]"
      ]
     },
     "execution_count": 11,
     "metadata": {},
     "output_type": "execute_result"
    },
    {
     "data": {
      "image/png": "[encoded data removed]",
      "text/plain": [
       "<Figure size 640x480 with 1 Axes>"
      ]
     },
     "metadata": {},
     "output_type": "display_data"
    }
   ],
   "source": [
    "plt.plot(np.mean(np.mean(phi, axis=0), axis=-1)[0, :])"
   ]
  },
  {
   "cell_type": "code",
   "execution_count": null,
   "metadata": {},
   "outputs": [],
   "source": [
    "# Might be something here if we play with the parameters a bit more"
   ]
  },
  {
   "cell_type": "code",
   "execution_count": null,
   "metadata": {},
   "outputs": [],
   "source": [
    "# In a subsequent analysis, we then look at rotational dynamics found in each of the subspaces. This will then feed into an analysis of the one timestep problem and a more\n",
    "# intuitive analysis of why one expects rotational dynamics to be feedback controllable"
   ]
  },
  {
   "cell_type": "code",
   "execution_count": null,
   "metadata": {},
   "outputs": [],
   "source": [
    "# What about rank of the input?"
   ]
  },
  {
   "cell_type": "code",
   "execution_count": null,
   "metadata": {},
   "outputs": [],
   "source": [
    "# (1) Verify that the W generation protocol adopted gives rise to the expected spectral radius\n",
    "\n",
    "# (2) When simulating, figure out how to do time discretization. Key is to have time symmetric autocorrelation matrices in the case of interest"
   ]
  },
  {
   "cell_type": "code",
   "execution_count": 16,
   "metadata": {},
   "outputs": [
    {
     "data": {
      "text/plain": [
       "<matplotlib.collections.PathCollection at 0x7efecdfbec40>"
      ]
     },
     "execution_count": 16,
     "metadata": {},
     "output_type": "execute_result"
    },
    {
     "data": {
      "image/png": "[encoded data removed]",
      "text/plain": [
       "<Figure size 640x480 with 1 Axes>"
      ]
     },
     "metadata": {},
     "output_type": "display_data"
    }
   ],
   "source": [
    "A = gen_init_W(100, 0.25, 3, 10)\n",
    "plt.scatter(np.real(np.linalg.eigvals(A)), np.imag(np.linalg.eigvals(A)))"
   ]
  },
  {
   "cell_type": "code",
   "execution_count": 4,
   "metadata": {},
   "outputs": [
    {
     "ename": "NameError",
     "evalue": "name 'stabilize' is not defined",
     "output_type": "error",
     "traceback": [
      "\u001b[0;31m---------------------------------------------------------------------------\u001b[0m",
      "\u001b[0;31mNameError\u001b[0m                                 Traceback (most recent call last)",
      "\u001b[1;32m/home/akumar/nse/neural_control/notebooks/theory/soc.ipynb Cell 14\u001b[0m in \u001b[0;36m<cell line: 1>\u001b[0;34m()\u001b[0m\n\u001b[0;32m----> <a href='vscode-notebook-cell:/home/akumar/nse/neural_control/notebooks/theory/soc.ipynb#X24sZmlsZQ%3D%3D?line=0'>1</a>\u001b[0m A \u001b[39m=\u001b[39m stabilize(A) \n\u001b[1;32m      <a href='vscode-notebook-cell:/home/akumar/nse/neural_control/notebooks/theory/soc.ipynb#X24sZmlsZQ%3D%3D?line=1'>2</a>\u001b[0m plt\u001b[39m.\u001b[39mscatter(np\u001b[39m.\u001b[39mreal(np\u001b[39m.\u001b[39mlinalg\u001b[39m.\u001b[39meigvals(A)), np\u001b[39m.\u001b[39mimag(np\u001b[39m.\u001b[39mlinalg\u001b[39m.\u001b[39meigvals(A)))\n",
      "\u001b[0;31mNameError\u001b[0m: name 'stabilize' is not defined"
     ]
    }
   ],
   "source": [
    "A = stabilize(A) \n",
    "plt.scatter(np.real(np.linalg.eigvals(A)), np.imag(np.linalg.eigvals(A)))"
   ]
  },
  {
   "cell_type": "code",
   "execution_count": 144,
   "metadata": {},
   "outputs": [],
   "source": [
    "# How severe is the discretization problem with respect to the non-normality claims?\n",
    "A = np.random.normal(scale=1/(1.5 * np.sqrt(10)), size=(10, 10))\n",
    "A = 0.5 * (A + A.T) - np.eye(A.shape[0])\n",
    "while np.max(np.real(np.linalg.eigvals(A))) > 0:\n",
    "    A = np.random.normal(scale=1/(1.5 * np.sqrt(10)), size=(10, 10))\n",
    "    A = 0.5 * (A + A.T) - np.eye(A.shape[0])\n",
    "\n",
    "#A = stabilize(A)\n",
    "B = np.eye(A.shape[0])\n",
    "C = np.eye(A.shape[0])\n",
    "\n",
    "dt = 1\n",
    "# Tustin discretize\n",
    "sigma = 2/dt\n",
    "Ad = (sigma * np.eye(A.shape[0]) + A) @ np.linalg.inv(sigma * np.eye(A.shape[0]) - A)\n",
    "Bd = np.sqrt(2 * sigma) * np.linalg.inv(sigma * np.eye(A.shape[0]) - A) @ B\n",
    "Cd = np.sqrt(2 * sigma) * C @ np.linalg.inv(sigma * np.eye(A.shape[0]) - A)"
   ]
  },
  {
   "cell_type": "code",
   "execution_count": 145,
   "metadata": {},
   "outputs": [
    {
     "data": {
      "text/plain": [
       "array([0.8758167 , 0.61483363, 0.02296373, 0.50880824, 0.10222382,\n",
       "       0.43284599, 0.35667948, 0.16636726, 0.25146301, 0.26569014])"
      ]
     },
     "execution_count": 145,
     "metadata": {},
     "output_type": "execute_result"
    }
   ],
   "source": [
    "np.linalg.eigvals(Ad)"
   ]
  },
  {
   "cell_type": "code",
   "execution_count": 142,
   "metadata": {},
   "outputs": [],
   "source": [
    "d = 6\n",
    "ssr = SSR(A=Ad, B=Bd, C=Cd)\n",
    "cross_covs = ssr.autocorrelation(10)\n",
    "cross_covs_rev = [np.linalg.inv(cross_covs[0]) @ c.T @ np.linalg.inv(cross_covs[0]) for c in cross_covs]\n",
    "\n",
    "cross_covs = torch.tensor(cross_covs)\n",
    "cross_covs_rev = torch.tensor(cross_covs_rev)\n",
    "\n",
    "e, Upca = np.linalg.eig(cross_covs[0])\n",
    "eigorder = np.argsort(e)[::-1]\n",
    "Upca = Upca[:, eigorder][:, 0:d]\n",
    "\n",
    "lqgmodel = LQGCA(d=d, T=1)\n",
    "lqgmodel.cross_covs = cross_covs\n",
    "lqgmodel.cross_covs_rev = cross_covs_rev\n",
    "\n",
    "phi = []\n",
    "scores = []\n",
    "for i in range(100):\n",
    "    coef_, score = lqgmodel._fit_projection()\n",
    "    phi.append(np.mean(scipy.linalg.subspace_angles(Upca, coef_)))\n",
    "    scores.append(score)"
   ]
  },
  {
   "cell_type": "code",
   "execution_count": 143,
   "metadata": {},
   "outputs": [
    {
     "data": {
      "text/plain": [
       "array([0.00369152, 0.00375665, 0.00422811, 0.00602423, 0.00610925,\n",
       "       0.00614598, 0.00646488, 0.00693507, 0.00735465, 0.00822473,\n",
       "       0.00834027, 0.00857763, 0.00861104, 0.00903502, 0.00940427,\n",
       "       0.00970082, 0.00976552, 0.00992444, 0.0099688 , 0.01007543,\n",
       "       0.01017326, 0.0111505 , 0.01171114, 0.01181653, 0.01219143,\n",
       "       0.01232985, 0.01240321, 0.01246302, 0.01271347, 0.01299296,\n",
       "       0.01312021, 0.01320564, 0.01339136, 0.01352165, 0.01352497,\n",
       "       0.01356033, 0.01369982, 0.01381611, 0.01382207, 0.01389021,\n",
       "       0.01400796, 0.01419104, 0.01423332, 0.0145417 , 0.01471101,\n",
       "       0.01474157, 0.01482237, 0.01484685, 0.0148496 , 0.01510197,\n",
       "       0.01532755, 0.01566885, 0.01567199, 0.01608435, 0.01622068,\n",
       "       0.01653638, 0.01671572, 0.016829  , 0.0169323 , 0.01708045,\n",
       "       0.01719832, 0.0172286 , 0.01724337, 0.01739957, 0.01743339,\n",
       "       0.01754293, 0.017838  , 0.01790736, 0.01793402, 0.01803847,\n",
       "       0.01809878, 0.01833916, 0.0185149 , 0.01852682, 0.01865278,\n",
       "       0.01894105, 0.01900419, 0.01911068, 0.0191368 , 0.01919215,\n",
       "       0.01925768, 0.01952762, 0.0195386 , 0.01980947, 0.01988966,\n",
       "       0.01993254, 0.02017378, 0.02062346, 0.02067286, 0.02146644,\n",
       "       0.02188454, 0.02227471, 0.02287211, 0.02312601, 0.02434175,\n",
       "       0.02508371, 0.02553425, 0.02571056, 0.02831542, 0.02974414])"
      ]
     },
     "execution_count": 143,
     "metadata": {},
     "output_type": "execute_result"
    }
   ],
   "source": [
    "np.unique(phi)"
   ]
  },
  {
   "cell_type": "code",
   "execution_count": 134,
   "metadata": {},
   "outputs": [
    {
     "data": {
      "text/plain": [
       "array([-8.44357431, -8.44357492, -8.44357548, -8.44357502, -8.44357509,\n",
       "       -8.44357484, -8.44357583, -8.44357529, -8.4435752 , -8.4435765 ,\n",
       "       -8.44357728, -8.44357853, -8.44357797, -8.44358003, -8.44357904,\n",
       "       -8.44357767, -8.44357873, -8.44357955, -8.44357885, -8.44357996,\n",
       "       -8.44358038, -8.44358109, -8.4435814 , -8.44358575, -8.44358883,\n",
       "       -8.44358488, -8.44359106, -8.44358715, -8.44358421, -8.44358946,\n",
       "       -8.44359085, -8.44358429, -8.44358605, -8.44358663, -8.44359116,\n",
       "       -8.44358711, -8.44359405, -8.44358597, -8.44358924, -8.44358796,\n",
       "       -8.4435926 , -8.44360372, -8.4435924 , -8.44359138, -8.44359925,\n",
       "       -8.44359335, -8.44359323, -8.44359411, -8.4435958 , -8.44360078,\n",
       "       -8.44360525, -8.44360457, -8.44360471, -8.4436104 , -8.44360162,\n",
       "       -8.44360051, -8.44361274, -8.44361767, -8.44361071, -8.4436156 ,\n",
       "       -8.44360725, -8.44361525, -8.44361251, -8.44362543, -8.44362109,\n",
       "       -8.44361603, -8.44361471, -8.4436258 , -8.44361823, -8.44362167,\n",
       "       -8.44363649, -8.44362602, -8.44363007, -8.44362502, -8.44364471,\n",
       "       -8.4436291 , -8.44363593, -8.4436251 , -8.44362542, -8.44366088,\n",
       "       -8.44366501, -8.44365793, -8.44366468, -8.44365476, -8.44365304,\n",
       "       -8.44366979, -8.44365606, -8.44367188, -8.44369468, -8.4437079 ,\n",
       "       -8.44382044, -8.44369862, -8.44372432, -8.44374271, -8.44370608,\n",
       "       -8.44369352, -8.44372954, -8.44373448, -8.44377446, -8.44374903])"
      ]
     },
     "execution_count": 134,
     "metadata": {},
     "output_type": "execute_result"
    }
   ],
   "source": [
    "np.array(scores)[np.argsort(phi)]"
   ]
  },
  {
   "cell_type": "code",
   "execution_count": 117,
   "metadata": {},
   "outputs": [
    {
     "name": "stdout",
     "output_type": "stream",
     "text": [
      "(0.024891620377403757, tensor(-52.2224, dtype=torch.float64))\n"
     ]
    }
   ],
   "source": []
  },
  {
   "cell_type": "code",
   "execution_count": null,
   "metadata": {},
   "outputs": [],
   "source": []
  }
 ],
 "metadata": {
  "kernelspec": {
   "display_name": "Python 3.9.13 ('ncontrol')",
   "language": "python",
   "name": "python3"
  },
  "language_info": {
   "codemirror_mode": {
    "name": "ipython",
    "version": 3
   },
   "file_extension": ".py",
   "mimetype": "text/x-python",
   "name": "python",
   "nbconvert_exporter": "python",
   "pygments_lexer": "ipython3",
   "version": "3.9.13"
  },
  "orig_nbformat": 4,
  "vscode": {
   "interpreter": {
    "hash": "dc5b051b27ecb234d606e4819a89eae546370af4d9423bbd6e2863fa2f880f9a"
   }
  }
 },
 "nbformat": 4,
 "nbformat_minor": 2
}
